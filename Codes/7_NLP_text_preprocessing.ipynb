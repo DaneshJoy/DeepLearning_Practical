{
  "nbformat": 4,
  "nbformat_minor": 0,
  "metadata": {
    "colab": {
      "provenance": []
    },
    "kernelspec": {
      "name": "python3",
      "display_name": "Python 3"
    },
    "language_info": {
      "name": "python"
    }
  },
  "cells": [
    {
      "cell_type": "code",
      "source": [
        "import numpy as np\n",
        "from keras.layers import TextVectorization"
      ],
      "metadata": {
        "id": "okdjsBkcj1Z1"
      },
      "execution_count": 11,
      "outputs": []
    },
    {
      "cell_type": "markdown",
      "source": [
        "## Creating a sample dataset"
      ],
      "metadata": {
        "id": "L01HG4Dzm1fE"
      }
    },
    {
      "cell_type": "code",
      "execution_count": 1,
      "metadata": {
        "id": "pwvA3quZioc6"
      },
      "outputs": [],
      "source": [
        "text = \"I like my brother. Go Home!. Do you like my brother?\""
      ]
    },
    {
      "cell_type": "code",
      "source": [
        "sentences = text.split('.')\n",
        "sentences"
      ],
      "metadata": {
        "colab": {
          "base_uri": "https://localhost:8080/"
        },
        "id": "JoCkjzWqjIIC",
        "outputId": "4cdec3d3-ed30-4656-d413-97db21384486"
      },
      "execution_count": 17,
      "outputs": [
        {
          "output_type": "execute_result",
          "data": {
            "text/plain": [
              "['I like my brother', ' Go Home!', ' Do you like my brother?']"
            ]
          },
          "metadata": {},
          "execution_count": 17
        }
      ]
    },
    {
      "cell_type": "markdown",
      "source": [
        "## Adapting a TextVectorization layer"
      ],
      "metadata": {
        "id": "iHUow3J1mr-C"
      }
    },
    {
      "cell_type": "code",
      "source": [
        "text_vectorizer = TextVectorization()\n",
        "text_vectorizer.adapt(sentences)"
      ],
      "metadata": {
        "id": "XJ8ocdazjR0B"
      },
      "execution_count": 24,
      "outputs": []
    },
    {
      "cell_type": "code",
      "source": [
        "print(text_vectorizer.get_vocabulary())"
      ],
      "metadata": {
        "colab": {
          "base_uri": "https://localhost:8080/"
        },
        "id": "da4LidNOji23",
        "outputId": "3e0ca1e1-07a5-4787-89f4-74fa72ea5ebc"
      },
      "execution_count": 25,
      "outputs": [
        {
          "output_type": "stream",
          "name": "stdout",
          "text": [
            "['', '[UNK]', np.str_('my'), np.str_('like'), np.str_('brother'), np.str_('you'), np.str_('i'), np.str_('home'), np.str_('go'), np.str_('do')]\n"
          ]
        }
      ]
    },
    {
      "cell_type": "code",
      "source": [
        "for i, word in enumerate(text_vectorizer.get_vocabulary()):\n",
        "    print(f'{i}: {word}')"
      ],
      "metadata": {
        "colab": {
          "base_uri": "https://localhost:8080/"
        },
        "id": "u94qw-S_nGCj",
        "outputId": "98027555-7c96-49df-cd52-4a60ee19dbf8"
      },
      "execution_count": 26,
      "outputs": [
        {
          "output_type": "stream",
          "name": "stdout",
          "text": [
            "0: \n",
            "1: [UNK]\n",
            "2: my\n",
            "3: like\n",
            "4: brother\n",
            "5: you\n",
            "6: i\n",
            "7: home\n",
            "8: go\n",
            "9: do\n"
          ]
        }
      ]
    },
    {
      "cell_type": "markdown",
      "source": [
        "## Using the TextVectorization layer"
      ],
      "metadata": {
        "id": "sHV_BHzimxDa"
      }
    },
    {
      "cell_type": "code",
      "source": [
        "encoded_sequences = text_vectorizer(sentences)\n",
        "print(encoded_sequences)"
      ],
      "metadata": {
        "colab": {
          "base_uri": "https://localhost:8080/"
        },
        "id": "xkYrn8sjmROD",
        "outputId": "fbc4afb1-4e95-4bd8-e384-b8614a31fe5d"
      },
      "execution_count": 27,
      "outputs": [
        {
          "output_type": "stream",
          "name": "stdout",
          "text": [
            "tf.Tensor(\n",
            "[[6 3 2 4 0]\n",
            " [8 7 0 0 0]\n",
            " [9 5 3 2 4]], shape=(3, 5), dtype=int64)\n"
          ]
        }
      ]
    },
    {
      "cell_type": "code",
      "source": [
        "print(type(encoded_sequences))"
      ],
      "metadata": {
        "colab": {
          "base_uri": "https://localhost:8080/"
        },
        "id": "uqPI5q6anBkZ",
        "outputId": "a44f1d09-c4d8-4b4f-b0ed-dac9284b4d12"
      },
      "execution_count": 28,
      "outputs": [
        {
          "output_type": "stream",
          "name": "stdout",
          "text": [
            "<class 'tensorflow.python.framework.ops.EagerTensor'>\n"
          ]
        }
      ]
    },
    {
      "cell_type": "code",
      "source": [
        "encoded_sequences.numpy()"
      ],
      "metadata": {
        "colab": {
          "base_uri": "https://localhost:8080/"
        },
        "id": "uUNbsKnfnVSy",
        "outputId": "f16667fc-68db-4904-f2b9-bcbc17f1e789"
      },
      "execution_count": 29,
      "outputs": [
        {
          "output_type": "execute_result",
          "data": {
            "text/plain": [
              "array([[6, 3, 2, 4, 0],\n",
              "       [8, 7, 0, 0, 0],\n",
              "       [9, 5, 3, 2, 4]])"
            ]
          },
          "metadata": {},
          "execution_count": 29
        }
      ]
    },
    {
      "cell_type": "markdown",
      "source": [
        "## Test on a new input"
      ],
      "metadata": {
        "id": "N_-kmmIxnuxN"
      }
    },
    {
      "cell_type": "code",
      "source": [
        "test_sentences = ['I like my sister']"
      ],
      "metadata": {
        "id": "vvEeLcshnX5J"
      },
      "execution_count": 30,
      "outputs": []
    },
    {
      "cell_type": "code",
      "source": [
        "test_sequence = text_vectorizer(test_sentences)\n",
        "print(test_sequence)"
      ],
      "metadata": {
        "colab": {
          "base_uri": "https://localhost:8080/"
        },
        "id": "6C5dQJbvn0j2",
        "outputId": "05ee1244-9b79-4efc-842c-5faad2719532"
      },
      "execution_count": 31,
      "outputs": [
        {
          "output_type": "stream",
          "name": "stdout",
          "text": [
            "tf.Tensor([[6 3 2 1]], shape=(1, 4), dtype=int64)\n"
          ]
        }
      ]
    },
    {
      "cell_type": "code",
      "source": [],
      "metadata": {
        "id": "2nKXKBoioFUT"
      },
      "execution_count": null,
      "outputs": []
    }
  ]
}