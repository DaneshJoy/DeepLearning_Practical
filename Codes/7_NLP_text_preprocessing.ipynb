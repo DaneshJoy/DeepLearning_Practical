{
  "nbformat": 4,
  "nbformat_minor": 0,
  "metadata": {
    "colab": {
      "provenance": []
    },
    "kernelspec": {
      "name": "python3",
      "display_name": "Python 3"
    },
    "language_info": {
      "name": "python"
    }
  },
  "cells": [
    {
      "cell_type": "markdown",
      "source": [
        "# NLP Text Pre-processing"
      ],
      "metadata": {
        "id": "PFlilaRff971"
      }
    },
    {
      "cell_type": "code",
      "source": [
        "import numpy as np\n",
        "from tensorflow.keras.preprocessing.text import Tokenizer\n",
        "from tensorflow.keras.preprocessing.sequence import pad_sequences\n",
        "from tensorflow.keras.layers import TextVectorization"
      ],
      "metadata": {
        "id": "z4qhVeOnr2XA"
      },
      "execution_count": null,
      "outputs": []
    },
    {
      "cell_type": "code",
      "source": [
        "text = \"I like my brother. Go home!. Do you like my brother?\""
      ],
      "metadata": {
        "id": "ILXNMC64rLnT"
      },
      "execution_count": null,
      "outputs": []
    },
    {
      "cell_type": "code",
      "source": [
        "sentences = text.split('. ')\n",
        "print(sentences)"
      ],
      "metadata": {
        "colab": {
          "base_uri": "https://localhost:8080/"
        },
        "id": "fv5oysqOrl_K",
        "outputId": "05bb3096-2aa9-4dfe-8417-6b35cd918cc0"
      },
      "execution_count": null,
      "outputs": [
        {
          "output_type": "stream",
          "name": "stdout",
          "text": [
            "['I like my brother', 'Go home!', 'Do you like my brother?']\n"
          ]
        }
      ]
    },
    {
      "cell_type": "markdown",
      "source": [
        "## Method 1"
      ],
      "metadata": {
        "id": "nYELNNnvrrC6"
      }
    },
    {
      "cell_type": "markdown",
      "source": [
        "### 1- Tokenization + Indexing"
      ],
      "metadata": {
        "id": "hvB7_csWrs-y"
      }
    },
    {
      "cell_type": "code",
      "source": [
        "tokenizer = Tokenizer(num_words=100, oov_token='<OOV>')\n",
        "tokenizer.fit_on_texts(sentences)\n",
        "\n",
        "print(tokenizer.word_index)"
      ],
      "metadata": {
        "colab": {
          "base_uri": "https://localhost:8080/"
        },
        "id": "YhcPerVXryPS",
        "outputId": "08acfe87-d175-4a2e-b3c6-17416fd5b63b"
      },
      "execution_count": null,
      "outputs": [
        {
          "output_type": "stream",
          "name": "stdout",
          "text": [
            "{'<OOV>': 1, 'like': 2, 'my': 3, 'brother': 4, 'i': 5, 'go': 6, 'home': 7, 'do': 8, 'you': 9}\n"
          ]
        }
      ]
    },
    {
      "cell_type": "markdown",
      "source": [
        "### 2- Sequencing"
      ],
      "metadata": {
        "id": "dQ4N4pv-tEM2"
      }
    },
    {
      "cell_type": "code",
      "source": [
        "sequences = tokenizer.texts_to_sequences(sentences)\n",
        "print(sequences)"
      ],
      "metadata": {
        "colab": {
          "base_uri": "https://localhost:8080/"
        },
        "id": "98ZfXcdRtGbe",
        "outputId": "76eea52e-3983-4f30-e47c-0b83276196ce"
      },
      "execution_count": null,
      "outputs": [
        {
          "output_type": "stream",
          "name": "stdout",
          "text": [
            "[[5, 2, 3, 4], [6, 7], [8, 9, 2, 3, 4]]\n"
          ]
        }
      ]
    },
    {
      "cell_type": "code",
      "source": [
        "new_sentence = [\"I like my sister\"]\n",
        "new_sequence = tokenizer.texts_to_sequences(new_sentence)\n",
        "print(new_sequence)"
      ],
      "metadata": {
        "colab": {
          "base_uri": "https://localhost:8080/"
        },
        "id": "zymI6aektYdt",
        "outputId": "d99f8ea6-a465-4bb6-ea25-a4fe462a4256"
      },
      "execution_count": null,
      "outputs": [
        {
          "output_type": "stream",
          "name": "stdout",
          "text": [
            "[[5, 2, 3, 1]]\n"
          ]
        }
      ]
    },
    {
      "cell_type": "markdown",
      "source": [
        "### 3- Padding"
      ],
      "metadata": {
        "id": "xdvVGRYMt45f"
      }
    },
    {
      "cell_type": "code",
      "source": [
        "padded_sequences = pad_sequences(sequences, padding='post', maxlen=10)\n",
        "print(padded_sequences)\n",
        "print(type(padded_sequences))"
      ],
      "metadata": {
        "colab": {
          "base_uri": "https://localhost:8080/"
        },
        "id": "NKAnUMhmt6oU",
        "outputId": "d9e236d2-c064-46ba-f0fd-7044a5c04519"
      },
      "execution_count": null,
      "outputs": [
        {
          "output_type": "stream",
          "name": "stdout",
          "text": [
            "[[5 2 3 4 0 0 0 0 0 0]\n",
            " [6 7 0 0 0 0 0 0 0 0]\n",
            " [8 9 2 3 4 0 0 0 0 0]]\n",
            "<class 'numpy.ndarray'>\n"
          ]
        }
      ]
    },
    {
      "cell_type": "markdown",
      "source": [
        "## Method 2"
      ],
      "metadata": {
        "id": "ujAoLe1tvypb"
      }
    },
    {
      "cell_type": "markdown",
      "source": [
        "### Using TextVectorization Layer"
      ],
      "metadata": {
        "id": "WCRy2On9v1t0"
      }
    },
    {
      "cell_type": "code",
      "source": [
        "text_vectorization = TextVectorization()\n",
        "text_vectorization.adapt(sentences)\n",
        "\n",
        "print(text_vectorization.get_vocabulary())"
      ],
      "metadata": {
        "colab": {
          "base_uri": "https://localhost:8080/"
        },
        "id": "Wm_Kz_Uzv5ED",
        "outputId": "3fae8f9f-0f23-4562-b3de-a2dc62998d81"
      },
      "execution_count": null,
      "outputs": [
        {
          "output_type": "stream",
          "name": "stdout",
          "text": [
            "['', '[UNK]', 'my', 'like', 'brother', 'you', 'i', 'home', 'go', 'do']\n"
          ]
        }
      ]
    },
    {
      "cell_type": "code",
      "source": [
        "encoded_sequences = text_vectorization(sentences)\n",
        "print(encoded_sequences)\n",
        "print(type(encoded_sequences))"
      ],
      "metadata": {
        "colab": {
          "base_uri": "https://localhost:8080/"
        },
        "id": "k0WlGCizw017",
        "outputId": "14de6e0a-7109-4c20-db31-acfc308d937f"
      },
      "execution_count": null,
      "outputs": [
        {
          "output_type": "stream",
          "name": "stdout",
          "text": [
            "tf.Tensor(\n",
            "[[6 3 2 4 0]\n",
            " [8 7 0 0 0]\n",
            " [9 5 3 2 4]], shape=(3, 5), dtype=int64)\n",
            "<class 'tensorflow.python.framework.ops.EagerTensor'>\n"
          ]
        }
      ]
    }
  ]
}