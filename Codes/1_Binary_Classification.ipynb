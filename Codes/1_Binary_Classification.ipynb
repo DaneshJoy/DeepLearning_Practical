{
  "nbformat": 4,
  "nbformat_minor": 0,
  "metadata": {
    "colab": {
      "name": "1_Binary_Classification.ipynb",
      "provenance": [],
      "collapsed_sections": []
    },
    "kernelspec": {
      "name": "python3",
      "display_name": "Python 3"
    },
    "language_info": {
      "name": "python"
    }
  },
  "cells": [
    {
      "cell_type": "code",
      "source": [
        "from tensorflow.keras.datasets import imdb"
      ],
      "metadata": {
        "id": "HApJhY1uhlJY"
      },
      "execution_count": null,
      "outputs": []
    },
    {
      "cell_type": "markdown",
      "source": [
        "## Data Preparation"
      ],
      "metadata": {
        "id": "Ti9wZi5mv7pr"
      }
    },
    {
      "cell_type": "markdown",
      "source": [
        "### Load Data"
      ],
      "metadata": {
        "id": "0Q9Lsn6qv_Bz"
      }
    },
    {
      "cell_type": "code",
      "source": [
        "(train_data, train_labels), (test_data, test_labels) = imdb.load_data(num_words=10000)"
      ],
      "metadata": {
        "id": "IxjTcQSluHYS"
      },
      "execution_count": null,
      "outputs": []
    },
    {
      "cell_type": "markdown",
      "source": [
        "### Pre-processing"
      ],
      "metadata": {
        "id": "reZEpGWvwCFK"
      }
    },
    {
      "cell_type": "code",
      "source": [
        "import numpy as np\n",
        "\n",
        "def vectorize_sequences(sequences, dimension=10000):\n",
        "    results = np.zeros((len(sequences), dimension), dtype='int')\n",
        "    for i, sequence in enumerate(sequences):\n",
        "        for j in sequence:\n",
        "            results[i, j] = 1.\n",
        "    return results"
      ],
      "metadata": {
        "id": "6a34GnOXvND9"
      },
      "execution_count": null,
      "outputs": []
    },
    {
      "cell_type": "code",
      "source": [
        "x_train = vectorize_sequences(train_data)\n",
        "x_test = vectorize_sequences(test_data)"
      ],
      "metadata": {
        "id": "Ou1MGCjDvO_7"
      },
      "execution_count": null,
      "outputs": []
    },
    {
      "cell_type": "code",
      "source": [
        "y_train = np.asarray(train_labels).astype(\"float32\")\n",
        "y_test = np.asarray(test_labels).astype(\"float32\")"
      ],
      "metadata": {
        "id": "8yXXS6ecv1IJ"
      },
      "execution_count": null,
      "outputs": []
    },
    {
      "cell_type": "markdown",
      "source": [
        "## Model Design"
      ],
      "metadata": {
        "id": "VUxNv3OzwI57"
      }
    },
    {
      "cell_type": "code",
      "source": [
        "from tensorflow import keras\n",
        "from tensorflow.keras import layers\n",
        "\n",
        "model = keras.Sequential(\n",
        "    [\n",
        "     layers.Dense(units=16, activation='relu', input_shape=(10000,)),\n",
        "     layers.Dense(units=16, activation='relu'),\n",
        "     layers.Dense(units=1, activation='sigmoid')\n",
        "    ]\n",
        ")"
      ],
      "metadata": {
        "id": "xB1fKG-rwLN3"
      },
      "execution_count": null,
      "outputs": []
    },
    {
      "cell_type": "code",
      "source": [
        "model.summary()"
      ],
      "metadata": {
        "id": "E0JoX5pr1O6B",
        "outputId": "452fd9c9-2a9b-4cbd-f064-b41212792cf8",
        "colab": {
          "base_uri": "https://localhost:8080/"
        }
      },
      "execution_count": null,
      "outputs": [
        {
          "output_type": "stream",
          "name": "stdout",
          "text": [
            "Model: \"sequential_5\"\n",
            "_________________________________________________________________\n",
            " Layer (type)                Output Shape              Param #   \n",
            "=================================================================\n",
            " dense_16 (Dense)            (None, 16)                160016    \n",
            "                                                                 \n",
            " dense_17 (Dense)            (None, 16)                272       \n",
            "                                                                 \n",
            " dense_18 (Dense)            (None, 1)                 17        \n",
            "                                                                 \n",
            "=================================================================\n",
            "Total params: 160,305\n",
            "Trainable params: 160,305\n",
            "Non-trainable params: 0\n",
            "_________________________________________________________________\n"
          ]
        }
      ]
    },
    {
      "cell_type": "markdown",
      "source": [
        "## Training"
      ],
      "metadata": {
        "id": "ZrRChuqj3due"
      }
    },
    {
      "cell_type": "markdown",
      "source": [
        "### Train Parameters"
      ],
      "metadata": {
        "id": "jIWYVOs53iyo"
      }
    },
    {
      "cell_type": "code",
      "source": [
        "from tensorflow.keras import optimizers, losses\n",
        "\n",
        "model.compile(optimizer=optimizers.SGD(),\n",
        "              loss=losses.binary_crossentropy,\n",
        "              metrics=[\"accuracy\"])"
      ],
      "metadata": {
        "id": "ykb8Hggy30lH"
      },
      "execution_count": null,
      "outputs": []
    },
    {
      "cell_type": "code",
      "source": [
        "x_val = x_train[:10000]\n",
        "partial_x_train = x_train[10000:]\n",
        "y_val = y_train[:10000]\n",
        "partial_y_train = y_train[10000:]"
      ],
      "metadata": {
        "id": "4fpLSJbw8Il3"
      },
      "execution_count": null,
      "outputs": []
    },
    {
      "cell_type": "markdown",
      "source": [
        "### Train Loop"
      ],
      "metadata": {
        "id": "OS_gH0f27kOc"
      }
    },
    {
      "cell_type": "code",
      "source": [
        "history = model.fit(x=partial_x_train, y=partial_y_train,\n",
        "                    batch_size=512,\n",
        "                    epochs=40,\n",
        "                    validation_data=(x_val, y_val)\n",
        "                    )"
      ],
      "metadata": {
        "id": "dqkmqvPa7mLm",
        "outputId": "c0ddd984-e210-4e5f-956b-28763ffa1672",
        "colab": {
          "base_uri": "https://localhost:8080/"
        }
      },
      "execution_count": null,
      "outputs": [
        {
          "output_type": "stream",
          "name": "stdout",
          "text": [
            "Epoch 1/40\n",
            "30/30 [==============================] - 3s 68ms/step - loss: 0.6916 - accuracy: 0.5258 - val_loss: 0.6873 - val_accuracy: 0.5652\n",
            "Epoch 2/40\n",
            "30/30 [==============================] - 2s 57ms/step - loss: 0.6838 - accuracy: 0.5847 - val_loss: 0.6779 - val_accuracy: 0.6163\n",
            "Epoch 3/40\n",
            "30/30 [==============================] - 2s 58ms/step - loss: 0.6716 - accuracy: 0.6395 - val_loss: 0.6629 - val_accuracy: 0.6770\n",
            "Epoch 4/40\n",
            "30/30 [==============================] - 2s 58ms/step - loss: 0.6548 - accuracy: 0.6945 - val_loss: 0.6458 - val_accuracy: 0.7139\n",
            "Epoch 5/40\n",
            "30/30 [==============================] - 2s 57ms/step - loss: 0.6366 - accuracy: 0.7293 - val_loss: 0.6279 - val_accuracy: 0.7460\n",
            "Epoch 6/40\n",
            "30/30 [==============================] - 2s 57ms/step - loss: 0.6184 - accuracy: 0.7545 - val_loss: 0.6106 - val_accuracy: 0.7652\n",
            "Epoch 7/40\n",
            "30/30 [==============================] - 2s 58ms/step - loss: 0.6004 - accuracy: 0.7733 - val_loss: 0.5933 - val_accuracy: 0.7813\n",
            "Epoch 8/40\n",
            "30/30 [==============================] - 2s 58ms/step - loss: 0.5825 - accuracy: 0.7872 - val_loss: 0.5760 - val_accuracy: 0.7882\n",
            "Epoch 9/40\n",
            "30/30 [==============================] - 2s 58ms/step - loss: 0.5645 - accuracy: 0.7957 - val_loss: 0.5589 - val_accuracy: 0.7977\n",
            "Epoch 10/40\n",
            "30/30 [==============================] - 2s 66ms/step - loss: 0.5468 - accuracy: 0.8026 - val_loss: 0.5419 - val_accuracy: 0.8016\n",
            "Epoch 11/40\n",
            "30/30 [==============================] - 2s 57ms/step - loss: 0.5293 - accuracy: 0.8095 - val_loss: 0.5252 - val_accuracy: 0.8064\n",
            "Epoch 12/40\n",
            "30/30 [==============================] - 2s 58ms/step - loss: 0.5120 - accuracy: 0.8143 - val_loss: 0.5093 - val_accuracy: 0.8113\n",
            "Epoch 13/40\n",
            "30/30 [==============================] - 2s 59ms/step - loss: 0.4954 - accuracy: 0.8192 - val_loss: 0.4938 - val_accuracy: 0.8150\n",
            "Epoch 14/40\n",
            "30/30 [==============================] - 2s 58ms/step - loss: 0.4796 - accuracy: 0.8255 - val_loss: 0.4790 - val_accuracy: 0.8207\n",
            "Epoch 15/40\n",
            "30/30 [==============================] - 2s 57ms/step - loss: 0.4645 - accuracy: 0.8298 - val_loss: 0.4658 - val_accuracy: 0.8236\n",
            "Epoch 16/40\n",
            "30/30 [==============================] - 2s 57ms/step - loss: 0.4502 - accuracy: 0.8337 - val_loss: 0.4525 - val_accuracy: 0.8270\n",
            "Epoch 17/40\n",
            "30/30 [==============================] - 2s 58ms/step - loss: 0.4368 - accuracy: 0.8385 - val_loss: 0.4406 - val_accuracy: 0.8301\n",
            "Epoch 18/40\n",
            "30/30 [==============================] - 2s 58ms/step - loss: 0.4242 - accuracy: 0.8435 - val_loss: 0.4290 - val_accuracy: 0.8323\n",
            "Epoch 19/40\n",
            "30/30 [==============================] - 2s 58ms/step - loss: 0.4122 - accuracy: 0.8475 - val_loss: 0.4183 - val_accuracy: 0.8358\n",
            "Epoch 20/40\n",
            "30/30 [==============================] - 2s 59ms/step - loss: 0.4013 - accuracy: 0.8505 - val_loss: 0.4087 - val_accuracy: 0.8376\n",
            "Epoch 21/40\n",
            "30/30 [==============================] - 2s 58ms/step - loss: 0.3906 - accuracy: 0.8529 - val_loss: 0.4001 - val_accuracy: 0.8419\n",
            "Epoch 22/40\n",
            "30/30 [==============================] - 2s 58ms/step - loss: 0.3812 - accuracy: 0.8561 - val_loss: 0.3946 - val_accuracy: 0.8404\n",
            "Epoch 23/40\n",
            "30/30 [==============================] - 2s 58ms/step - loss: 0.3726 - accuracy: 0.8583 - val_loss: 0.3849 - val_accuracy: 0.8463\n",
            "Epoch 24/40\n",
            "30/30 [==============================] - 2s 57ms/step - loss: 0.3642 - accuracy: 0.8605 - val_loss: 0.3789 - val_accuracy: 0.8483\n",
            "Epoch 25/40\n",
            "30/30 [==============================] - 2s 57ms/step - loss: 0.3566 - accuracy: 0.8638 - val_loss: 0.3741 - val_accuracy: 0.8490\n",
            "Epoch 26/40\n",
            "30/30 [==============================] - 2s 58ms/step - loss: 0.3497 - accuracy: 0.8645 - val_loss: 0.3667 - val_accuracy: 0.8510\n",
            "Epoch 27/40\n",
            "30/30 [==============================] - 2s 72ms/step - loss: 0.3429 - accuracy: 0.8677 - val_loss: 0.3614 - val_accuracy: 0.8536\n",
            "Epoch 28/40\n",
            "30/30 [==============================] - 3s 91ms/step - loss: 0.3369 - accuracy: 0.8695 - val_loss: 0.3568 - val_accuracy: 0.8552\n",
            "Epoch 29/40\n",
            "30/30 [==============================] - 2s 57ms/step - loss: 0.3310 - accuracy: 0.8711 - val_loss: 0.3525 - val_accuracy: 0.8567\n",
            "Epoch 30/40\n",
            "30/30 [==============================] - 2s 58ms/step - loss: 0.3253 - accuracy: 0.8731 - val_loss: 0.3488 - val_accuracy: 0.8569\n",
            "Epoch 31/40\n",
            "30/30 [==============================] - 2s 58ms/step - loss: 0.3199 - accuracy: 0.8759 - val_loss: 0.3477 - val_accuracy: 0.8557\n",
            "Epoch 32/40\n",
            "30/30 [==============================] - 2s 57ms/step - loss: 0.3153 - accuracy: 0.8771 - val_loss: 0.3417 - val_accuracy: 0.8606\n",
            "Epoch 33/40\n",
            "30/30 [==============================] - 2s 58ms/step - loss: 0.3105 - accuracy: 0.8785 - val_loss: 0.3385 - val_accuracy: 0.8623\n",
            "Epoch 34/40\n",
            "30/30 [==============================] - 2s 59ms/step - loss: 0.3058 - accuracy: 0.8821 - val_loss: 0.3364 - val_accuracy: 0.8608\n",
            "Epoch 35/40\n",
            "30/30 [==============================] - 2s 58ms/step - loss: 0.3015 - accuracy: 0.8826 - val_loss: 0.3337 - val_accuracy: 0.8631\n",
            "Epoch 36/40\n",
            "30/30 [==============================] - 2s 58ms/step - loss: 0.2975 - accuracy: 0.8841 - val_loss: 0.3305 - val_accuracy: 0.8654\n",
            "Epoch 37/40\n",
            "30/30 [==============================] - 2s 58ms/step - loss: 0.2933 - accuracy: 0.8855 - val_loss: 0.3279 - val_accuracy: 0.8655\n",
            "Epoch 38/40\n",
            "30/30 [==============================] - 2s 58ms/step - loss: 0.2895 - accuracy: 0.8867 - val_loss: 0.3258 - val_accuracy: 0.8662\n",
            "Epoch 39/40\n",
            "30/30 [==============================] - 2s 58ms/step - loss: 0.2858 - accuracy: 0.8889 - val_loss: 0.3236 - val_accuracy: 0.8657\n",
            "Epoch 40/40\n",
            "30/30 [==============================] - 2s 59ms/step - loss: 0.2822 - accuracy: 0.8905 - val_loss: 0.3216 - val_accuracy: 0.8671\n"
          ]
        }
      ]
    },
    {
      "cell_type": "markdown",
      "source": [
        "## Evaluation"
      ],
      "metadata": {
        "id": "8muHOMhB-oSb"
      }
    },
    {
      "cell_type": "code",
      "source": [
        "import matplotlib.pyplot as plt\n",
        "\n",
        "plt.figure()\n",
        "plt.plot(history.history['loss'], label='Train Loss')\n",
        "plt.plot(history.history['val_loss'], label='Validation Loss')\n",
        "plt.legend()"
      ],
      "metadata": {
        "id": "c0-9NrRi-tf8",
        "outputId": "4c83cd1e-31eb-4c18-9f27-afa3e1476424",
        "colab": {
          "base_uri": "https://localhost:8080/",
          "height": 282
        }
      },
      "execution_count": null,
      "outputs": [
        {
          "output_type": "execute_result",
          "data": {
            "text/plain": [
              "<matplotlib.legend.Legend at 0x7f5c8a40d810>"
            ]
          },
          "metadata": {},
          "execution_count": 61
        },
        {
          "output_type": "display_data",
          "data": {
            "text/plain": [
              "<Figure size 432x288 with 1 Axes>"
            ],
            "image/png": "[encoded data removed]"
          },
          "metadata": {
            "needs_background": "light"
          }
        }
      ]
    },
    {
      "cell_type": "code",
      "source": [
        "plt.figure()\n",
        "plt.plot(history.history['accuracy'])\n",
        "plt.plot(history.history['val_accuracy'])"
      ],
      "metadata": {
        "id": "5eEGAah0_ZuW",
        "outputId": "97dd367c-907b-4bb4-cc2d-0a057570305c",
        "colab": {
          "base_uri": "https://localhost:8080/",
          "height": 282
        }
      },
      "execution_count": null,
      "outputs": [
        {
          "output_type": "execute_result",
          "data": {
            "text/plain": [
              "[<matplotlib.lines.Line2D at 0x7f5c8a6365d0>]"
            ]
          },
          "metadata": {},
          "execution_count": 62
        },
        {
          "output_type": "display_data",
          "data": {
            "text/plain": [
              "<Figure size 432x288 with 1 Axes>"
            ],
            "image/png": "[encoded data removed]"
          },
          "metadata": {
            "needs_background": "light"
          }
        }
      ]
    },
    {
      "cell_type": "code",
      "source": [
        "results = model.evaluate(x_test, y_test)"
      ],
      "metadata": {
        "id": "z0enWIZGACp2",
        "outputId": "c9bd23ba-b129-4c76-e6ef-ee5aee801ec6",
        "colab": {
          "base_uri": "https://localhost:8080/"
        }
      },
      "execution_count": null,
      "outputs": [
        {
          "output_type": "stream",
          "name": "stdout",
          "text": [
            "782/782 [==============================] - 3s 3ms/step - loss: 0.3279 - accuracy: 0.8647\n"
          ]
        }
      ]
    },
    {
      "cell_type": "code",
      "source": [
        "preds = model.predict(x_test)"
      ],
      "metadata": {
        "id": "pQb40O9aAeU-"
      },
      "execution_count": null,
      "outputs": []
    },
    {
      "cell_type": "code",
      "source": [
        "print(f'Prediction: {preds[0]}')\n",
        "print(f'True Label: {y_test[0]}')"
      ],
      "metadata": {
        "id": "gEokfb9AHLPc",
        "outputId": "4e5926f1-07b3-4245-a9f6-211392d7bb2a",
        "colab": {
          "base_uri": "https://localhost:8080/"
        }
      },
      "execution_count": null,
      "outputs": [
        {
          "output_type": "stream",
          "name": "stdout",
          "text": [
            "Prediction: [0.36911786]\n",
            "True Label: 0.0\n"
          ]
        }
      ]
    }
  ]
}