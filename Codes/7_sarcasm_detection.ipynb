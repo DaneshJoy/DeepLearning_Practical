{
  "cells": [
    {
      "cell_type": "markdown",
      "source": [
        "# Sarcasm Detection: Deep NLP Models"
      ],
      "metadata": {
        "id": "KnJ6frHbOMKN"
      }
    },
    {
      "cell_type": "markdown",
      "source": [
        "## Download Dataset"
      ],
      "metadata": {
        "id": "6gQo0O9zOIz3"
      }
    },
    {
      "cell_type": "code",
      "execution_count": 1,
      "metadata": {
        "colab": {
          "base_uri": "https://localhost:8080/"
        },
        "id": "SAFLsA4Q6_Ot",
        "outputId": "2fa3683e-129c-46b3-a97c-542af203987d"
      },
      "outputs": [
        {
          "output_type": "stream",
          "name": "stdout",
          "text": [
            "--2022-09-07 18:32:14--  https://storage.googleapis.com/laurencemoroney-blog.appspot.com/sarcasm.json\n",
            "Resolving storage.googleapis.com (storage.googleapis.com)... 142.250.4.128, 74.125.24.128, 172.217.194.128, ...\n",
            "Connecting to storage.googleapis.com (storage.googleapis.com)|142.250.4.128|:443... connected.\n",
            "HTTP request sent, awaiting response... 200 OK\n",
            "Length: 5643545 (5.4M) [application/json]\n",
            "Saving to: ‘/tmp/sarcasm.json’\n",
            "\n",
            "/tmp/sarcasm.json   100%[===================>]   5.38M  --.-KB/s    in 0.03s   \n",
            "\n",
            "2022-09-07 18:32:15 (202 MB/s) - ‘/tmp/sarcasm.json’ saved [5643545/5643545]\n",
            "\n"
          ]
        }
      ],
      "source": [
        "# Download Dataset\n",
        "\n",
        "!wget --no-check-certificate https://storage.googleapis.com/laurencemoroney-blog.appspot.com/sarcasm.json -O /tmp/sarcasm.json"
      ]
    },
    {
      "cell_type": "markdown",
      "metadata": {
        "id": "KKSNg1-v-vVM"
      },
      "source": [
        "## Read Dataset"
      ]
    },
    {
      "cell_type": "code",
      "execution_count": 2,
      "metadata": {
        "id": "EzyIIrxK9AJw"
      },
      "outputs": [],
      "source": [
        "import pandas as pd\n",
        "\n",
        "\n",
        "# Read dataset\n",
        "df = pd.read_json(\"/tmp/sarcasm.json\")"
      ]
    },
    {
      "cell_type": "code",
      "execution_count": 5,
      "metadata": {
        "colab": {
          "base_uri": "https://localhost:8080/"
        },
        "id": "9HZmcnjw95_N",
        "outputId": "9f9731e6-2e79-4bd8-bb7a-9a8ad70e64e9"
      },
      "outputs": [
        {
          "output_type": "stream",
          "name": "stdout",
          "text": [
            "Index(['article_link', 'headline', 'is_sarcastic'], dtype='object')\n",
            "------------------------------\n",
            "0    14985\n",
            "1    11724\n",
            "Name: is_sarcastic, dtype: int64\n"
          ]
        }
      ],
      "source": [
        "# Check column titles\n",
        "print(df.columns)\n",
        "print('-'*30)\n",
        "# Check number of samples for each class\n",
        "print(df['is_sarcastic'].value_counts())"
      ]
    },
    {
      "cell_type": "markdown",
      "metadata": {
        "id": "dY_5vZ6z-zTs"
      },
      "source": [
        "## Create input lists"
      ]
    },
    {
      "cell_type": "code",
      "execution_count": 8,
      "metadata": {
        "colab": {
          "base_uri": "https://localhost:8080/"
        },
        "id": "3As9fQZZ-_id",
        "outputId": "cdfafbbb-fffe-4f1f-eff7-d5a37aa749b3"
      },
      "outputs": [
        {
          "output_type": "stream",
          "name": "stdout",
          "text": [
            "Total number of samples: 26709\n"
          ]
        }
      ],
      "source": [
        "# Convert columns to lists\n",
        "sentences = df['headline'].to_list()\n",
        "labels = df['is_sarcastic'].to_list()\n",
        "\n",
        "print('Total number of samples:', len(sentences))"
      ]
    },
    {
      "cell_type": "markdown",
      "metadata": {
        "id": "F-X_wDfY_xhi"
      },
      "source": [
        "## Preprocessing"
      ]
    },
    {
      "cell_type": "code",
      "execution_count": 31,
      "metadata": {
        "id": "h8iFux5sy1Nn"
      },
      "outputs": [],
      "source": [
        "vocab_size = 13200\n",
        "embedding_dim = 50\n",
        "max_len = 50"
      ]
    },
    {
      "cell_type": "code",
      "execution_count": 33,
      "metadata": {
        "colab": {
          "base_uri": "https://localhost:8080/"
        },
        "id": "cUIR4470_wL7",
        "outputId": "5ce10962-5831-464f-fac0-dec329805e0a"
      },
      "outputs": [
        {
          "output_type": "stream",
          "name": "stderr",
          "text": [
            "[nltk_data] Downloading package stopwords to /root/nltk_data...\n",
            "[nltk_data]   Package stopwords is already up-to-date!\n"
          ]
        },
        {
          "output_type": "stream",
          "name": "stdout",
          "text": [
            "Number of words = 25565\n",
            "Train data shape: (20000, 50)\n",
            "Validation data shape: (6709, 50)\n"
          ]
        }
      ],
      "source": [
        "from tensorflow.keras.preprocessing.text import Tokenizer\n",
        "from tensorflow.keras.preprocessing.sequence import pad_sequences\n",
        "import nltk\n",
        "from nltk.corpus import stopwords\n",
        "\n",
        "\n",
        "nltk.download('stopwords')\n",
        "sw = stopwords.words('english')\n",
        "\n",
        "for i in range(len(sentences)):\n",
        "    words = sentences[i].split()\n",
        "    # List Comprehension\n",
        "    words2 = [w for w in words if w not in sw]\n",
        "    sentences[i] = ' '.join(words2)\n",
        "\n",
        "# Split data into train/valid\n",
        "TRAIN_SIZE = 20000\n",
        "train_sentences = sentences[0:TRAIN_SIZE]\n",
        "valid_sentences = sentences[TRAIN_SIZE:]\n",
        "\n",
        "train_labels = labels[0:TRAIN_SIZE]\n",
        "valid_labels = labels[TRAIN_SIZE:]\n",
        "\n",
        "# Tokenization\n",
        "tokenizer = Tokenizer(oov_token='<oov>', num_words=vocab_size)\n",
        "tokenizer.fit_on_texts(train_sentences)\n",
        "\n",
        "word_index = tokenizer.word_index\n",
        "# print(word_index)\n",
        "print('Number of words =', len(word_index))\n",
        "\n",
        "# Sequencing\n",
        "train_sequences = tokenizer.texts_to_sequences(train_sentences)\n",
        "valid_sequences = tokenizer.texts_to_sequences(valid_sentences)\n",
        "# print(train_sequences[0])\n",
        "\n",
        "# Padding\n",
        "train_padded = pad_sequences(train_sequences, padding='post', maxlen=max_len)\n",
        "valid_padded = pad_sequences(valid_sequences, padding='post', maxlen=max_len)\n",
        "print('Train data shape:', train_padded.shape)\n",
        "print('Validation data shape:', valid_padded.shape)\n",
        "\n",
        "# Need this block to get it to work with TensorFlow 2.x\n",
        "train_padded = np.array(train_padded)\n",
        "valid_padded = np.array(valid_padded)\n",
        "train_labels = np.array(train_labels)\n",
        "valid_labels = np.array(valid_labels)"
      ]
    },
    {
      "cell_type": "markdown",
      "metadata": {
        "id": "8YUV0v9PFSAu"
      },
      "source": [
        "## Create and Train Model"
      ]
    },
    {
      "cell_type": "markdown",
      "metadata": {
        "id": "EKHkhDv3FWHV"
      },
      "source": [
        "### Create some test models"
      ]
    },
    {
      "cell_type": "code",
      "execution_count": 40,
      "metadata": {
        "id": "_IjM0pM-yCeA"
      },
      "outputs": [],
      "source": [
        "from tensorflow.keras import Sequential\n",
        "from tensorflow.keras import layers"
      ]
    },
    {
      "cell_type": "code",
      "execution_count": 14,
      "metadata": {
        "colab": {
          "base_uri": "https://localhost:8080/"
        },
        "id": "y8kknDG5FYWe",
        "outputId": "3001341e-ec10-4b87-8d84-0c06b94145e1"
      },
      "outputs": [
        {
          "output_type": "stream",
          "name": "stdout",
          "text": [
            "Model: \"sequential\"\n",
            "_________________________________________________________________\n",
            " Layer (type)                Output Shape              Param #   \n",
            "=================================================================\n",
            " dense (Dense)               (None, 100)               3100      \n",
            "                                                                 \n",
            " dense_1 (Dense)             (None, 32)                3232      \n",
            "                                                                 \n",
            " dense_2 (Dense)             (None, 1)                 33        \n",
            "                                                                 \n",
            "=================================================================\n",
            "Total params: 6,365\n",
            "Trainable params: 6,365\n",
            "Non-trainable params: 0\n",
            "_________________________________________________________________\n"
          ]
        }
      ],
      "source": [
        "# Simple MLP model\n",
        "model1 = Sequential([\n",
        "                    layers.Dense(100, activation='relu',\n",
        "                                 input_shape=[train_padded.shape[1],]),\n",
        "                    layers.Dense(32, activation='relu'),\n",
        "                    layers.Dense(1, activation='sigmoid')\n",
        "])\n",
        "\n",
        "model1.summary()"
      ]
    },
    {
      "cell_type": "code",
      "execution_count": 34,
      "metadata": {
        "colab": {
          "base_uri": "https://localhost:8080/"
        },
        "id": "XZOmo0HdyALb",
        "outputId": "80661d6e-b292-45c9-b19c-b7f326ad2425"
      },
      "outputs": [
        {
          "output_type": "stream",
          "name": "stdout",
          "text": [
            "Model: \"sequential_5\"\n",
            "_________________________________________________________________\n",
            " Layer (type)                Output Shape              Param #   \n",
            "=================================================================\n",
            " embedding_4 (Embedding)     (None, 50, 50)            660000    \n",
            "                                                                 \n",
            " global_average_pooling1d_2   (None, 50)               0         \n",
            " (GlobalAveragePooling1D)                                        \n",
            "                                                                 \n",
            " dense_15 (Dense)            (None, 32)                1632      \n",
            "                                                                 \n",
            " dense_16 (Dense)            (None, 8)                 264       \n",
            "                                                                 \n",
            " dense_17 (Dense)            (None, 1)                 9         \n",
            "                                                                 \n",
            "=================================================================\n",
            "Total params: 661,905\n",
            "Trainable params: 661,905\n",
            "Non-trainable params: 0\n",
            "_________________________________________________________________\n"
          ]
        }
      ],
      "source": [
        "# Adding Embedding layer\n",
        "model2 = Sequential([\n",
        "                     layers.Embedding(input_dim=vocab_size,\n",
        "                                      output_dim=embedding_dim,\n",
        "                                      input_length=max_len),\n",
        "                     layers.GlobalAveragePooling1D(),\n",
        "                     layers.Dense(32, activation='relu'),\n",
        "                     layers.Dense(8, activation='relu'),\n",
        "                     layers.Dense(1, activation='sigmoid')                  \n",
        "])\n",
        "\n",
        "model2.summary()\n"
      ]
    },
    {
      "cell_type": "code",
      "execution_count": 35,
      "metadata": {
        "colab": {
          "base_uri": "https://localhost:8080/"
        },
        "id": "5yHxxssC5n1D",
        "outputId": "886235d6-1f0c-4398-c8f9-b2f68b7d3261"
      },
      "outputs": [
        {
          "output_type": "stream",
          "name": "stdout",
          "text": [
            "Model: \"sequential_6\"\n",
            "_________________________________________________________________\n",
            " Layer (type)                Output Shape              Param #   \n",
            "=================================================================\n",
            " embedding_5 (Embedding)     (None, 50, 50)            660000    \n",
            "                                                                 \n",
            " conv1d_1 (Conv1D)           (None, 50, 8)             2008      \n",
            "                                                                 \n",
            " global_average_pooling1d_3   (None, 8)                0         \n",
            " (GlobalAveragePooling1D)                                        \n",
            "                                                                 \n",
            " dense_18 (Dense)            (None, 32)                288       \n",
            "                                                                 \n",
            " dense_19 (Dense)            (None, 8)                 264       \n",
            "                                                                 \n",
            " dense_20 (Dense)            (None, 1)                 9         \n",
            "                                                                 \n",
            "=================================================================\n",
            "Total params: 662,569\n",
            "Trainable params: 662,569\n",
            "Non-trainable params: 0\n",
            "_________________________________________________________________\n"
          ]
        }
      ],
      "source": [
        "# Adding Conv1D layer\n",
        "model3 = Sequential([\n",
        "                     layers.Embedding(input_dim=vocab_size,\n",
        "                                      output_dim=embedding_dim,\n",
        "                                      input_length=max_len),\n",
        "                     layers.Conv1D(8, 5, activation='relu', padding='same'),\n",
        "                     layers.GlobalAveragePooling1D(),\n",
        "                     layers.Dense(32, activation='relu'),\n",
        "                     layers.Dense(8, activation='relu'),\n",
        "                     layers.Dense(1, activation='sigmoid')                  \n",
        "])\n",
        "\n",
        "model3.summary()"
      ]
    },
    {
      "cell_type": "code",
      "execution_count": 36,
      "metadata": {
        "colab": {
          "base_uri": "https://localhost:8080/"
        },
        "id": "IWy3DAWD82Eo",
        "outputId": "d9213d06-f5e0-4a22-de38-28822d1b9ca5"
      },
      "outputs": [
        {
          "output_type": "stream",
          "name": "stdout",
          "text": [
            "Model: \"sequential_7\"\n",
            "_________________________________________________________________\n",
            " Layer (type)                Output Shape              Param #   \n",
            "=================================================================\n",
            " embedding_6 (Embedding)     (None, 50, 50)            660000    \n",
            "                                                                 \n",
            " lstm_1 (LSTM)               (None, 16)                4288      \n",
            "                                                                 \n",
            " dense_21 (Dense)            (None, 32)                544       \n",
            "                                                                 \n",
            " dense_22 (Dense)            (None, 8)                 264       \n",
            "                                                                 \n",
            " dense_23 (Dense)            (None, 1)                 9         \n",
            "                                                                 \n",
            "=================================================================\n",
            "Total params: 665,105\n",
            "Trainable params: 665,105\n",
            "Non-trainable params: 0\n",
            "_________________________________________________________________\n"
          ]
        }
      ],
      "source": [
        "# Using LSTM layer\n",
        "model4 = Sequential([\n",
        "                     layers.Embedding(input_dim=vocab_size,\n",
        "                                      output_dim=embedding_dim,\n",
        "                                      input_length=max_len),\n",
        "                     layers.LSTM(16),\n",
        "                     layers.Dense(32, activation='relu'),\n",
        "                     layers.Dense(8, activation='relu'),\n",
        "                     layers.Dense(1, activation='sigmoid')                  \n",
        "])\n",
        "\n",
        "model4.summary()"
      ]
    },
    {
      "cell_type": "code",
      "execution_count": 37,
      "metadata": {
        "colab": {
          "base_uri": "https://localhost:8080/"
        },
        "id": "uom0KA_zDFtV",
        "outputId": "e9325573-e51f-4967-c1a7-ba9893609a33"
      },
      "outputs": [
        {
          "output_type": "stream",
          "name": "stdout",
          "text": [
            "Model: \"sequential_8\"\n",
            "_________________________________________________________________\n",
            " Layer (type)                Output Shape              Param #   \n",
            "=================================================================\n",
            " embedding_7 (Embedding)     (None, 50, 50)            660000    \n",
            "                                                                 \n",
            " bidirectional_1 (Bidirectio  (None, 32)               6528      \n",
            " nal)                                                            \n",
            "                                                                 \n",
            " dense_24 (Dense)            (None, 32)                1056      \n",
            "                                                                 \n",
            " dense_25 (Dense)            (None, 8)                 264       \n",
            "                                                                 \n",
            " dense_26 (Dense)            (None, 1)                 9         \n",
            "                                                                 \n",
            "=================================================================\n",
            "Total params: 667,857\n",
            "Trainable params: 667,857\n",
            "Non-trainable params: 0\n",
            "_________________________________________________________________\n"
          ]
        }
      ],
      "source": [
        "# Using Bidirectional GRU layer\n",
        "model5 = Sequential([\n",
        "                     layers.Embedding(input_dim=vocab_size,\n",
        "                                      output_dim=embedding_dim,\n",
        "                                      input_length=max_len),\n",
        "                     layers.Bidirectional(layers.GRU(16)),\n",
        "                     layers.Dense(32, activation='relu'),\n",
        "                     layers.Dense(8, activation='relu'),\n",
        "                     layers.Dense(1, activation='sigmoid')                  \n",
        "])\n",
        "\n",
        "model5.summary()"
      ]
    },
    {
      "cell_type": "markdown",
      "source": [
        "-----\n",
        "### Final Model"
      ],
      "metadata": {
        "id": "4cdxG8gfX2HN"
      }
    },
    {
      "cell_type": "markdown",
      "source": [
        "#### Get pre-trained embedding (GloVe)"
      ],
      "metadata": {
        "id": "omPQXYQwT-Cb"
      }
    },
    {
      "cell_type": "code",
      "source": [
        "!wget https://downloads.cs.stanford.edu/nlp/data/glove.6B.zip"
      ],
      "metadata": {
        "id": "VZSHjP0PQi2q"
      },
      "execution_count": null,
      "outputs": []
    },
    {
      "cell_type": "code",
      "source": [
        "!unzip -q glove.6B.zip -d /tmp/glove"
      ],
      "metadata": {
        "id": "GzBKwRUaTyDZ"
      },
      "execution_count": 23,
      "outputs": []
    },
    {
      "cell_type": "code",
      "source": [
        "import numpy as np\n",
        "\n",
        "glove_embeddings = dict()\n",
        "f = open('/tmp/glove/glove.6B.50d.txt')\n",
        "for line in f:\n",
        "    values = line.split()\n",
        "    word = values[0]\n",
        "    coefs = np.asarray(values[1:], dtype='float32')\n",
        "    glove_embeddings[word] = coefs\n",
        "f.close()\n",
        "print(f'Loaded {len(glove_embeddings)} word vectors.')\n",
        "print('Embedding dimension:', len(coefs))\n",
        "\n",
        "embedding_matrix = np.zeros((vocab_size, embedding_dim))\n",
        "for word, index in tokenizer.word_index.items():\n",
        "    if index > vocab_size - 1:\n",
        "        break\n",
        "    else:\n",
        "        embedding_vector = glove_embeddings.get(word)\n",
        "        if embedding_vector is not None:\n",
        "            embedding_matrix[index] = embedding_vector"
      ],
      "metadata": {
        "colab": {
          "base_uri": "https://localhost:8080/"
        },
        "id": "EAmkYtioUI8a",
        "outputId": "49e3cd6f-2e77-4e7f-8ac8-73c460d0d44e"
      },
      "execution_count": 38,
      "outputs": [
        {
          "output_type": "stream",
          "name": "stdout",
          "text": [
            "Loaded 400000 word vectors.\n",
            "Embedding dimension: 50\n"
          ]
        }
      ]
    },
    {
      "cell_type": "markdown",
      "source": [
        "####  Using pre-trained embedding + stack of Bidirectional LSTM layers"
      ],
      "metadata": {
        "id": "-TsVy5qqX_GE"
      }
    },
    {
      "cell_type": "code",
      "source": [
        "model6 = Sequential([\n",
        "    layers.Embedding(vocab_size, embedding_dim, weights=[embedding_matrix],\n",
        "                     trainable=False),\n",
        "    layers.Bidirectional(layers.LSTM(embedding_dim, return_sequences=True)),\n",
        "    layers.Bidirectional(layers.LSTM(embedding_dim)),\n",
        "    layers.Dense(24, activation='relu'),\n",
        "    layers.Dense(1, activation='sigmoid')\n",
        "])\n",
        "\n",
        "model6.summary()"
      ],
      "metadata": {
        "colab": {
          "base_uri": "https://localhost:8080/"
        },
        "id": "3Rn5sn4NVrHl",
        "outputId": "4bdbed63-e599-4824-b025-683656fc56bf"
      },
      "execution_count": 41,
      "outputs": [
        {
          "output_type": "stream",
          "name": "stdout",
          "text": [
            "Model: \"sequential_9\"\n",
            "_________________________________________________________________\n",
            " Layer (type)                Output Shape              Param #   \n",
            "=================================================================\n",
            " embedding_8 (Embedding)     (None, None, 50)          660000    \n",
            "                                                                 \n",
            " bidirectional_2 (Bidirectio  (None, None, 100)        40400     \n",
            " nal)                                                            \n",
            "                                                                 \n",
            " bidirectional_3 (Bidirectio  (None, 100)              60400     \n",
            " nal)                                                            \n",
            "                                                                 \n",
            " dense_27 (Dense)            (None, 24)                2424      \n",
            "                                                                 \n",
            " dense_28 (Dense)            (None, 1)                 25        \n",
            "                                                                 \n",
            "=================================================================\n",
            "Total params: 763,249\n",
            "Trainable params: 103,249\n",
            "Non-trainable params: 660,000\n",
            "_________________________________________________________________\n"
          ]
        }
      ]
    },
    {
      "cell_type": "code",
      "execution_count": 42,
      "metadata": {
        "id": "oxuXifqU4DNx"
      },
      "outputs": [],
      "source": [
        "# Select your desired model\n",
        "model = model6"
      ]
    },
    {
      "cell_type": "code",
      "execution_count": 45,
      "metadata": {
        "colab": {
          "base_uri": "https://localhost:8080/"
        },
        "id": "wIJg9g-XImeg",
        "outputId": "9197c294-5426-4ff5-a24b-4f8ad6130845"
      },
      "outputs": [
        {
          "output_type": "stream",
          "name": "stdout",
          "text": [
            "Epoch 1/50\n",
            "625/625 [==============================] - 16s 19ms/step - loss: 0.6860 - accuracy: 0.5621 - val_loss: 0.6785 - val_accuracy: 0.5871\n",
            "Epoch 2/50\n",
            "625/625 [==============================] - 9s 15ms/step - loss: 0.6686 - accuracy: 0.6061 - val_loss: 0.6601 - val_accuracy: 0.6363\n",
            "Epoch 3/50\n",
            "625/625 [==============================] - 9s 15ms/step - loss: 0.6433 - accuracy: 0.6538 - val_loss: 0.6343 - val_accuracy: 0.6615\n",
            "Epoch 4/50\n",
            "625/625 [==============================] - 11s 17ms/step - loss: 0.6136 - accuracy: 0.6747 - val_loss: 0.6149 - val_accuracy: 0.6719\n",
            "Epoch 5/50\n",
            "625/625 [==============================] - 10s 16ms/step - loss: 0.5967 - accuracy: 0.6842 - val_loss: 0.6054 - val_accuracy: 0.6766\n",
            "Epoch 6/50\n",
            "625/625 [==============================] - 9s 15ms/step - loss: 0.5873 - accuracy: 0.6891 - val_loss: 0.5984 - val_accuracy: 0.6821\n",
            "Epoch 7/50\n",
            "625/625 [==============================] - 9s 15ms/step - loss: 0.5804 - accuracy: 0.6963 - val_loss: 0.5937 - val_accuracy: 0.6848\n",
            "Epoch 8/50\n",
            "625/625 [==============================] - 9s 15ms/step - loss: 0.5749 - accuracy: 0.7011 - val_loss: 0.5886 - val_accuracy: 0.6895\n",
            "Epoch 9/50\n",
            "625/625 [==============================] - 9s 15ms/step - loss: 0.5703 - accuracy: 0.7064 - val_loss: 0.5850 - val_accuracy: 0.6909\n",
            "Epoch 10/50\n",
            "625/625 [==============================] - 13s 21ms/step - loss: 0.5663 - accuracy: 0.7089 - val_loss: 0.5811 - val_accuracy: 0.6931\n",
            "Epoch 11/50\n",
            "625/625 [==============================] - 15s 25ms/step - loss: 0.5626 - accuracy: 0.7121 - val_loss: 0.5780 - val_accuracy: 0.6983\n",
            "Epoch 12/50\n",
            "625/625 [==============================] - 10s 16ms/step - loss: 0.5595 - accuracy: 0.7150 - val_loss: 0.5753 - val_accuracy: 0.6998\n",
            "Epoch 13/50\n",
            "625/625 [==============================] - 9s 15ms/step - loss: 0.5566 - accuracy: 0.7182 - val_loss: 0.5734 - val_accuracy: 0.7046\n",
            "Epoch 14/50\n",
            "625/625 [==============================] - 9s 15ms/step - loss: 0.5537 - accuracy: 0.7205 - val_loss: 0.5708 - val_accuracy: 0.7064\n",
            "Epoch 15/50\n",
            "625/625 [==============================] - 9s 15ms/step - loss: 0.5510 - accuracy: 0.7243 - val_loss: 0.5680 - val_accuracy: 0.7093\n",
            "Epoch 16/50\n",
            "625/625 [==============================] - 9s 15ms/step - loss: 0.5484 - accuracy: 0.7251 - val_loss: 0.5657 - val_accuracy: 0.7119\n",
            "Epoch 17/50\n",
            "625/625 [==============================] - 9s 15ms/step - loss: 0.5459 - accuracy: 0.7279 - val_loss: 0.5645 - val_accuracy: 0.7134\n",
            "Epoch 18/50\n",
            "625/625 [==============================] - 9s 15ms/step - loss: 0.5435 - accuracy: 0.7285 - val_loss: 0.5615 - val_accuracy: 0.7122\n",
            "Epoch 19/50\n",
            "625/625 [==============================] - 9s 15ms/step - loss: 0.5409 - accuracy: 0.7307 - val_loss: 0.5595 - val_accuracy: 0.7137\n",
            "Epoch 20/50\n",
            "625/625 [==============================] - 9s 15ms/step - loss: 0.5386 - accuracy: 0.7316 - val_loss: 0.5576 - val_accuracy: 0.7158\n",
            "Epoch 21/50\n",
            "625/625 [==============================] - 9s 15ms/step - loss: 0.5360 - accuracy: 0.7337 - val_loss: 0.5558 - val_accuracy: 0.7171\n",
            "Epoch 22/50\n",
            "625/625 [==============================] - 10s 16ms/step - loss: 0.5338 - accuracy: 0.7359 - val_loss: 0.5539 - val_accuracy: 0.7177\n",
            "Epoch 23/50\n",
            "625/625 [==============================] - 10s 17ms/step - loss: 0.5314 - accuracy: 0.7372 - val_loss: 0.5519 - val_accuracy: 0.7186\n",
            "Epoch 24/50\n",
            "625/625 [==============================] - 11s 18ms/step - loss: 0.5292 - accuracy: 0.7390 - val_loss: 0.5499 - val_accuracy: 0.7187\n",
            "Epoch 25/50\n",
            "625/625 [==============================] - 11s 18ms/step - loss: 0.5268 - accuracy: 0.7405 - val_loss: 0.5507 - val_accuracy: 0.7208\n",
            "Epoch 26/50\n",
            "625/625 [==============================] - 9s 15ms/step - loss: 0.5244 - accuracy: 0.7423 - val_loss: 0.5466 - val_accuracy: 0.7234\n",
            "Epoch 27/50\n",
            "625/625 [==============================] - 9s 15ms/step - loss: 0.5220 - accuracy: 0.7444 - val_loss: 0.5456 - val_accuracy: 0.7232\n",
            "Epoch 28/50\n",
            "625/625 [==============================] - 9s 15ms/step - loss: 0.5200 - accuracy: 0.7455 - val_loss: 0.5425 - val_accuracy: 0.7248\n",
            "Epoch 29/50\n",
            "625/625 [==============================] - 9s 15ms/step - loss: 0.5177 - accuracy: 0.7462 - val_loss: 0.5408 - val_accuracy: 0.7248\n",
            "Epoch 30/50\n",
            "625/625 [==============================] - 9s 15ms/step - loss: 0.5155 - accuracy: 0.7484 - val_loss: 0.5393 - val_accuracy: 0.7266\n",
            "Epoch 31/50\n",
            "625/625 [==============================] - 9s 15ms/step - loss: 0.5131 - accuracy: 0.7511 - val_loss: 0.5372 - val_accuracy: 0.7275\n",
            "Epoch 32/50\n",
            "625/625 [==============================] - 9s 15ms/step - loss: 0.5106 - accuracy: 0.7504 - val_loss: 0.5383 - val_accuracy: 0.7287\n",
            "Epoch 33/50\n",
            "625/625 [==============================] - 9s 15ms/step - loss: 0.5084 - accuracy: 0.7540 - val_loss: 0.5340 - val_accuracy: 0.7305\n",
            "Epoch 34/50\n",
            "625/625 [==============================] - 9s 15ms/step - loss: 0.5060 - accuracy: 0.7536 - val_loss: 0.5329 - val_accuracy: 0.7302\n",
            "Epoch 35/50\n",
            "625/625 [==============================] - 9s 15ms/step - loss: 0.5039 - accuracy: 0.7569 - val_loss: 0.5313 - val_accuracy: 0.7329\n",
            "Epoch 36/50\n",
            "625/625 [==============================] - 10s 16ms/step - loss: 0.5016 - accuracy: 0.7569 - val_loss: 0.5294 - val_accuracy: 0.7333\n",
            "Epoch 37/50\n",
            "625/625 [==============================] - 10s 16ms/step - loss: 0.4993 - accuracy: 0.7587 - val_loss: 0.5279 - val_accuracy: 0.7348\n",
            "Epoch 38/50\n",
            "625/625 [==============================] - 10s 17ms/step - loss: 0.4974 - accuracy: 0.7588 - val_loss: 0.5277 - val_accuracy: 0.7338\n",
            "Epoch 39/50\n",
            "625/625 [==============================] - 10s 15ms/step - loss: 0.4949 - accuracy: 0.7606 - val_loss: 0.5246 - val_accuracy: 0.7356\n",
            "Epoch 40/50\n",
            "625/625 [==============================] - 9s 15ms/step - loss: 0.4930 - accuracy: 0.7610 - val_loss: 0.5260 - val_accuracy: 0.7345\n",
            "Epoch 41/50\n",
            "625/625 [==============================] - 9s 15ms/step - loss: 0.4905 - accuracy: 0.7625 - val_loss: 0.5230 - val_accuracy: 0.7377\n",
            "Epoch 42/50\n",
            "625/625 [==============================] - 11s 18ms/step - loss: 0.4888 - accuracy: 0.7637 - val_loss: 0.5213 - val_accuracy: 0.7356\n",
            "Epoch 43/50\n",
            "625/625 [==============================] - 9s 15ms/step - loss: 0.4865 - accuracy: 0.7671 - val_loss: 0.5220 - val_accuracy: 0.7354\n",
            "Epoch 44/50\n",
            "625/625 [==============================] - 13s 21ms/step - loss: 0.4847 - accuracy: 0.7661 - val_loss: 0.5184 - val_accuracy: 0.7366\n",
            "Epoch 45/50\n",
            "625/625 [==============================] - 10s 17ms/step - loss: 0.4830 - accuracy: 0.7677 - val_loss: 0.5168 - val_accuracy: 0.7377\n",
            "Epoch 46/50\n",
            "625/625 [==============================] - 10s 15ms/step - loss: 0.4808 - accuracy: 0.7692 - val_loss: 0.5184 - val_accuracy: 0.7377\n",
            "Epoch 47/50\n",
            "625/625 [==============================] - 10s 15ms/step - loss: 0.4794 - accuracy: 0.7697 - val_loss: 0.5153 - val_accuracy: 0.7384\n",
            "Epoch 48/50\n",
            "625/625 [==============================] - 9s 15ms/step - loss: 0.4773 - accuracy: 0.7714 - val_loss: 0.5169 - val_accuracy: 0.7415\n",
            "Epoch 49/50\n",
            "625/625 [==============================] - 9s 15ms/step - loss: 0.4758 - accuracy: 0.7720 - val_loss: 0.5134 - val_accuracy: 0.7398\n",
            "Epoch 50/50\n",
            "625/625 [==============================] - 10s 16ms/step - loss: 0.4740 - accuracy: 0.7731 - val_loss: 0.5181 - val_accuracy: 0.7401\n"
          ]
        }
      ],
      "source": [
        "import numpy as np\n",
        "from tensorflow.keras import losses, optimizers\n",
        "\n",
        "adam = optimizers.Adam(learning_rate=0.00001, amsgrad=False)\n",
        "model.compile(optimizer=adam, loss=losses.binary_crossentropy,\n",
        "              metrics=['accuracy'])\n",
        "\n",
        "history = model.fit(x=train_padded, y=train_labels,\n",
        "                    epochs=50,\n",
        "                    validation_data=(valid_padded, valid_labels))"
      ]
    },
    {
      "cell_type": "code",
      "execution_count": 46,
      "metadata": {
        "colab": {
          "base_uri": "https://localhost:8080/",
          "height": 541
        },
        "id": "YWTkrH35qDt-",
        "outputId": "ea59cd65-1573-46fb-e35e-904d78039b64"
      },
      "outputs": [
        {
          "output_type": "display_data",
          "data": {
            "text/plain": [
              "<Figure size 432x288 with 1 Axes>"
            ],
            "image/png": "[encoded data removed]"
          },
          "metadata": {
            "needs_background": "light"
          }
        },
        {
          "output_type": "display_data",
          "data": {
            "text/plain": [
              "<Figure size 432x288 with 1 Axes>"
            ],
            "image/png": "[encoded data removed]"
          },
          "metadata": {
            "needs_background": "light"
          }
        }
      ],
      "source": [
        "import matplotlib.pyplot as plt\n",
        "\n",
        "fig, ax = plt.subplots(1, 1)\n",
        "ax.plot(history.history['loss'], label='Train Loss')\n",
        "ax.plot(history.history['val_loss'], label='Validation Loss')\n",
        "ax.set_xlabel('Epochs')\n",
        "plt.legend()\n",
        "plt.show()\n",
        "\n",
        "fig, ax = plt.subplots(1, 1)\n",
        "ax.plot(history.history['accuracy'], label='Train Accuracy')\n",
        "ax.plot(history.history['val_accuracy'], label='Validation Accuracy')\n",
        "ax.set_xlabel('Epochs')\n",
        "plt.legend()\n",
        "plt.show()"
      ]
    },
    {
      "cell_type": "markdown",
      "source": [
        "## Test our model"
      ],
      "metadata": {
        "id": "7GIvXrw0Y0Hs"
      }
    },
    {
      "cell_type": "code",
      "source": [
        "test_sentences = [\"It Was, For, Uh, Medical Reasons, Says Doctor To Boris Johnson, Explaining Why They Had To Give Him Haircut\",\n",
        "                  \"It's a beautiful sunny day\",\n",
        "                  \"game of thrones season finale showing this sunday night\"]\n",
        "\n",
        "sequences = tokenizer.texts_to_sequences(test_sentences)\n",
        "#print(sequences)\n",
        "padded = pad_sequences(sequences, maxlen=max_len, padding='post')\n",
        "#print(padded)\n",
        "\n",
        "predictions = model.predict(padded)\n",
        "\n",
        "#print(predictions[:, max_length-1])\n",
        "print(predictions)"
      ],
      "metadata": {
        "colab": {
          "base_uri": "https://localhost:8080/"
        },
        "id": "QAK7mrlNY6Lc",
        "outputId": "de4adc83-640e-4536-895a-978cdbd6cc87"
      },
      "execution_count": 52,
      "outputs": [
        {
          "output_type": "stream",
          "name": "stdout",
          "text": [
            "[[0.94373167]\n",
            " [0.5813857 ]\n",
            " [0.10161672]]\n"
          ]
        }
      ]
    },
    {
      "cell_type": "markdown",
      "source": [
        "## Save embedding vectors to visualize in TensorFlow Projector"
      ],
      "metadata": {
        "id": "Lb7duS9kYdyL"
      }
    },
    {
      "cell_type": "code",
      "source": [
        "import io\n",
        "\n",
        "reverse_word_index = dict([(value, key) for (key, value) in word_index.items()])\n",
        "e = model.layers[0]\n",
        "weights = e.get_weights()[0]\n",
        "\n",
        "out_v = io.open('vecs.tsv', 'w', encoding='utf-8')\n",
        "out_m = io.open('meta.tsv', 'w', encoding='utf-8')\n",
        "for word_num in range(1, vocab_size):\n",
        "  word = reverse_word_index[word_num]\n",
        "  embeddings = weights[word_num]\n",
        "  out_m.write(word + \"\\n\")\n",
        "  out_v.write('\\t'.join([str(x) for x in embeddings]) + \"\\n\")\n",
        "out_v.close()\n",
        "out_m.close()\n",
        "\n",
        "try:\n",
        "  from google.colab import files\n",
        "except ImportError:\n",
        "  pass\n",
        "else:\n",
        "  files.download('vecs.tsv')\n",
        "  files.download('meta.tsv')"
      ],
      "metadata": {
        "colab": {
          "base_uri": "https://localhost:8080/",
          "height": 17
        },
        "id": "rZeEKdROYldU",
        "outputId": "88303e85-5a6b-4e1e-ad25-4b410db52650"
      },
      "execution_count": 53,
      "outputs": [
        {
          "output_type": "display_data",
          "data": {
            "text/plain": [
              "<IPython.core.display.Javascript object>"
            ],
            "application/javascript": [
              "\n",
              "    async function download(id, filename, size) {\n",
              "      if (!google.colab.kernel.accessAllowed) {\n",
              "        return;\n",
              "      }\n",
              "      const div = document.createElement('div');\n",
              "      const label = document.createElement('label');\n",
              "      label.textContent = `Downloading \"${filename}\": `;\n",
              "      div.appendChild(label);\n",
              "      const progress = document.createElement('progress');\n",
              "      progress.max = size;\n",
              "      div.appendChild(progress);\n",
              "      document.body.appendChild(div);\n",
              "\n",
              "      const buffers = [];\n",
              "      let downloaded = 0;\n",
              "\n",
              "      const channel = await google.colab.kernel.comms.open(id);\n",
              "      // Send a message to notify the kernel that we're ready.\n",
              "      channel.send({})\n",
              "\n",
              "      for await (const message of channel.messages) {\n",
              "        // Send a message to notify the kernel that we're ready.\n",
              "        channel.send({})\n",
              "        if (message.buffers) {\n",
              "          for (const buffer of message.buffers) {\n",
              "            buffers.push(buffer);\n",
              "            downloaded += buffer.byteLength;\n",
              "            progress.value = downloaded;\n",
              "          }\n",
              "        }\n",
              "      }\n",
              "      const blob = new Blob(buffers, {type: 'application/binary'});\n",
              "      const a = document.createElement('a');\n",
              "      a.href = window.URL.createObjectURL(blob);\n",
              "      a.download = filename;\n",
              "      div.appendChild(a);\n",
              "      a.click();\n",
              "      div.remove();\n",
              "    }\n",
              "  "
            ]
          },
          "metadata": {}
        },
        {
          "output_type": "display_data",
          "data": {
            "text/plain": [
              "<IPython.core.display.Javascript object>"
            ],
            "application/javascript": [
              "download(\"download_64428897-e237-4af4-86a4-135a309df87d\", \"vecs.tsv\", 5278649)"
            ]
          },
          "metadata": {}
        },
        {
          "output_type": "display_data",
          "data": {
            "text/plain": [
              "<IPython.core.display.Javascript object>"
            ],
            "application/javascript": [
              "\n",
              "    async function download(id, filename, size) {\n",
              "      if (!google.colab.kernel.accessAllowed) {\n",
              "        return;\n",
              "      }\n",
              "      const div = document.createElement('div');\n",
              "      const label = document.createElement('label');\n",
              "      label.textContent = `Downloading \"${filename}\": `;\n",
              "      div.appendChild(label);\n",
              "      const progress = document.createElement('progress');\n",
              "      progress.max = size;\n",
              "      div.appendChild(progress);\n",
              "      document.body.appendChild(div);\n",
              "\n",
              "      const buffers = [];\n",
              "      let downloaded = 0;\n",
              "\n",
              "      const channel = await google.colab.kernel.comms.open(id);\n",
              "      // Send a message to notify the kernel that we're ready.\n",
              "      channel.send({})\n",
              "\n",
              "      for await (const message of channel.messages) {\n",
              "        // Send a message to notify the kernel that we're ready.\n",
              "        channel.send({})\n",
              "        if (message.buffers) {\n",
              "          for (const buffer of message.buffers) {\n",
              "            buffers.push(buffer);\n",
              "            downloaded += buffer.byteLength;\n",
              "            progress.value = downloaded;\n",
              "          }\n",
              "        }\n",
              "      }\n",
              "      const blob = new Blob(buffers, {type: 'application/binary'});\n",
              "      const a = document.createElement('a');\n",
              "      a.href = window.URL.createObjectURL(blob);\n",
              "      a.download = filename;\n",
              "      div.appendChild(a);\n",
              "      a.click();\n",
              "      div.remove();\n",
              "    }\n",
              "  "
            ]
          },
          "metadata": {}
        },
        {
          "output_type": "display_data",
          "data": {
            "text/plain": [
              "<IPython.core.display.Javascript object>"
            ],
            "application/javascript": [
              "download(\"download_1998c51d-302e-42f9-a544-df41a22cbc5b\", \"meta.tsv\", 102548)"
            ]
          },
          "metadata": {}
        }
      ]
    }
  ],
  "metadata": {
    "accelerator": "GPU",
    "colab": {
      "collapsed_sections": [],
      "provenance": []
    },
    "kernelspec": {
      "display_name": "Python 3",
      "name": "python3"
    },
    "language_info": {
      "name": "python"
    }
  },
  "nbformat": 4,
  "nbformat_minor": 0
}