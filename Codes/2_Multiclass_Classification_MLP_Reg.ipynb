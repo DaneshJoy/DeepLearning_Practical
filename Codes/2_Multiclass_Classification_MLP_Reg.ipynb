{
  "nbformat": 4,
  "nbformat_minor": 0,
  "metadata": {
    "colab": {
      "name": "2_Multiclass_Classification.ipynb",
      "provenance": [],
      "collapsed_sections": []
    },
    "kernelspec": {
      "name": "python3",
      "display_name": "Python 3"
    },
    "language_info": {
      "name": "python"
    }
  },
  "cells": [
    {
      "cell_type": "code",
      "execution_count": 20,
      "metadata": {
        "id": "citxPKUBNGXG"
      },
      "outputs": [],
      "source": [
        "from tensorflow.keras import Sequential, layers\n",
        "from tensorflow.keras import regularizers\n",
        "from tensorflow.keras.datasets import fashion_mnist"
      ]
    },
    {
      "cell_type": "markdown",
      "source": [
        "## Data Preparation"
      ],
      "metadata": {
        "id": "4oFXkWt4NZqQ"
      }
    },
    {
      "cell_type": "code",
      "source": [
        "%%capture\n",
        "(train_data, train_labels), (test_data, test_labels) = fashion_mnist.load_data()"
      ],
      "metadata": {
        "id": "PFHU7FX2Nbmz"
      },
      "execution_count": 3,
      "outputs": []
    },
    {
      "cell_type": "code",
      "source": [
        "import matplotlib.pyplot as plt\n",
        "\n",
        "fig, axes = plt.subplots(1, 10, figsize=(20, 2))\n",
        "for i, ax in enumerate(axes):\n",
        "    ax.imshow(train_data[i], cmap='gray')\n",
        "    ax.set_axis_off()\n",
        "    ax.set_title(train_labels[i])"
      ],
      "metadata": {
        "colab": {
          "base_uri": "https://localhost:8080/",
          "height": 141
        },
        "id": "l3X6zbtfODXJ",
        "outputId": "2a7262f6-b328-4f17-c0a3-0263a9da788c"
      },
      "execution_count": 4,
      "outputs": [
        {
          "output_type": "display_data",
          "data": {
            "text/plain": [
              "<Figure size 1440x144 with 10 Axes>"
            ],
            "image/png": "[encoded data removed]"
          },
          "metadata": {
            "needs_background": "light"
          }
        }
      ]
    },
    {
      "cell_type": "code",
      "source": [
        "# Normalization\n",
        "train_data = train_data / 255.0\n",
        "test_data = test_data / 255.0"
      ],
      "metadata": {
        "id": "-ABGDBo-PP1t"
      },
      "execution_count": 5,
      "outputs": []
    },
    {
      "cell_type": "code",
      "source": [
        "train_data_v = train_data.reshape(len(train_data), 784)\n",
        "test_data_v = test_data.reshape(len(test_data), 784)"
      ],
      "metadata": {
        "id": "d0zfqGT-Xx9J"
      },
      "execution_count": 6,
      "outputs": []
    },
    {
      "cell_type": "code",
      "source": [
        "train_data_v.shape"
      ],
      "metadata": {
        "colab": {
          "base_uri": "https://localhost:8080/"
        },
        "id": "sgle00zCYhaR",
        "outputId": "faca73a1-2d39-4dcd-867f-07094b59d491"
      },
      "execution_count": null,
      "outputs": [
        {
          "output_type": "execute_result",
          "data": {
            "text/plain": [
              "(60000, 784)"
            ]
          },
          "metadata": {},
          "execution_count": 6
        }
      ]
    },
    {
      "cell_type": "markdown",
      "source": [
        "## Model Design"
      ],
      "metadata": {
        "id": "myHqnXInNb_V"
      }
    },
    {
      "cell_type": "code",
      "source": [
        "model = Sequential(\n",
        "    [\n",
        "     layers.Input(shape=(784,)),\n",
        "     layers.Dense(128, activation='relu', kernel_regularizer=regularizers.L1L2(l1=1e-5, l2=1e-4)),\n",
        "     layers.Dropout(0.25),  # Only applies in training phase\n",
        "     layers.Dense(10, activation='softmax')\n",
        "    ]\n",
        ")\n",
        "\n",
        "model.summary()"
      ],
      "metadata": {
        "colab": {
          "base_uri": "https://localhost:8080/"
        },
        "id": "03xD7VEmNdzk",
        "outputId": "1590918f-1f6c-4a23-9496-a292aa69e212"
      },
      "execution_count": 21,
      "outputs": [
        {
          "output_type": "stream",
          "name": "stdout",
          "text": [
            "Model: \"sequential_2\"\n",
            "_________________________________________________________________\n",
            " Layer (type)                Output Shape              Param #   \n",
            "=================================================================\n",
            " dense_4 (Dense)             (None, 128)               100480    \n",
            "                                                                 \n",
            " dropout_2 (Dropout)         (None, 128)               0         \n",
            "                                                                 \n",
            " dense_5 (Dense)             (None, 10)                1290      \n",
            "                                                                 \n",
            "=================================================================\n",
            "Total params: 101,770\n",
            "Trainable params: 101,770\n",
            "Non-trainable params: 0\n",
            "_________________________________________________________________\n"
          ]
        }
      ]
    },
    {
      "cell_type": "markdown",
      "source": [
        "## Training"
      ],
      "metadata": {
        "id": "Qj5wHoUYNeON"
      }
    },
    {
      "cell_type": "code",
      "source": [
        "from tensorflow.keras import losses, optimizers\n",
        "\n",
        "model.compile(loss=losses.sparse_categorical_crossentropy,\n",
        "              optimizer=optimizers.Adam(learning_rate=0.01),\n",
        "              metrics=['accuracy'])"
      ],
      "metadata": {
        "id": "DjA3Pad0NfsG"
      },
      "execution_count": 22,
      "outputs": []
    },
    {
      "cell_type": "markdown",
      "source": [
        "## Callbacks"
      ],
      "metadata": {
        "id": "tS07agdtLD8d"
      }
    },
    {
      "cell_type": "code",
      "source": [
        "from tensorflow.keras import callbacks\n",
        "\n",
        "checkpoint = callbacks.ModelCheckpoint('model_checkpoint.keras',\n",
        "                                       monitor='val_loss',\n",
        "                                       save_best_only=True)\n",
        "logger = callbacks.CSVLogger('log.csv')\n",
        "\n",
        "callbacks = [checkpoint, logger]"
      ],
      "metadata": {
        "id": "USpeuf4TLDjN"
      },
      "execution_count": 23,
      "outputs": []
    },
    {
      "cell_type": "code",
      "source": [
        "history = model.fit(train_data_v, train_labels,\n",
        "                    epochs=50,\n",
        "                    batch_size=128,\n",
        "                    validation_split=0.2,\n",
        "                    callbacks=callbacks)\n"
      ],
      "metadata": {
        "id": "T_wj1jLlT_tb",
        "colab": {
          "base_uri": "https://localhost:8080/"
        },
        "outputId": "b7ab94be-83cb-41c0-af1c-c06c34982828"
      },
      "execution_count": 24,
      "outputs": [
        {
          "output_type": "stream",
          "name": "stdout",
          "text": [
            "Epoch 1/50\n",
            "375/375 [==============================] - 3s 7ms/step - loss: 1.6777 - accuracy: 0.6844 - val_loss: 1.3026 - val_accuracy: 0.7290\n",
            "Epoch 2/50\n",
            "375/375 [==============================] - 3s 7ms/step - loss: 1.3645 - accuracy: 0.6990 - val_loss: 1.1589 - val_accuracy: 0.7654\n",
            "Epoch 3/50\n",
            "375/375 [==============================] - 3s 7ms/step - loss: 1.3478 - accuracy: 0.6963 - val_loss: 1.2737 - val_accuracy: 0.7467\n",
            "Epoch 4/50\n",
            "375/375 [==============================] - 3s 7ms/step - loss: 1.3512 - accuracy: 0.6928 - val_loss: 1.1090 - val_accuracy: 0.7761\n",
            "Epoch 5/50\n",
            "375/375 [==============================] - 2s 7ms/step - loss: 1.3356 - accuracy: 0.6963 - val_loss: 1.1129 - val_accuracy: 0.7623\n",
            "Epoch 6/50\n",
            "375/375 [==============================] - 3s 7ms/step - loss: 1.2766 - accuracy: 0.6959 - val_loss: 1.1010 - val_accuracy: 0.7645\n",
            "Epoch 7/50\n",
            "375/375 [==============================] - 3s 7ms/step - loss: 1.3134 - accuracy: 0.6875 - val_loss: 1.2503 - val_accuracy: 0.7442\n",
            "Epoch 8/50\n",
            "375/375 [==============================] - 3s 7ms/step - loss: 1.2961 - accuracy: 0.6861 - val_loss: 1.2289 - val_accuracy: 0.7595\n",
            "Epoch 9/50\n",
            "375/375 [==============================] - 3s 7ms/step - loss: 1.2972 - accuracy: 0.6867 - val_loss: 1.1950 - val_accuracy: 0.7611\n",
            "Epoch 10/50\n",
            "375/375 [==============================] - 3s 7ms/step - loss: 1.2631 - accuracy: 0.6954 - val_loss: 1.0966 - val_accuracy: 0.7547\n",
            "Epoch 11/50\n",
            "375/375 [==============================] - 3s 7ms/step - loss: 1.2947 - accuracy: 0.6877 - val_loss: 1.0492 - val_accuracy: 0.7856\n",
            "Epoch 12/50\n",
            "375/375 [==============================] - 2s 7ms/step - loss: 1.2812 - accuracy: 0.6896 - val_loss: 1.2129 - val_accuracy: 0.7262\n",
            "Epoch 13/50\n",
            "375/375 [==============================] - 2s 6ms/step - loss: 1.2784 - accuracy: 0.6859 - val_loss: 1.1775 - val_accuracy: 0.7406\n",
            "Epoch 14/50\n",
            "375/375 [==============================] - 2s 7ms/step - loss: 1.2740 - accuracy: 0.6881 - val_loss: 1.0968 - val_accuracy: 0.7483\n",
            "Epoch 15/50\n",
            "375/375 [==============================] - 3s 7ms/step - loss: 1.2758 - accuracy: 0.6891 - val_loss: 1.0691 - val_accuracy: 0.7774\n",
            "Epoch 16/50\n",
            "375/375 [==============================] - 3s 7ms/step - loss: 1.3060 - accuracy: 0.6827 - val_loss: 1.2576 - val_accuracy: 0.7602\n",
            "Epoch 17/50\n",
            "375/375 [==============================] - 2s 6ms/step - loss: 1.3079 - accuracy: 0.6840 - val_loss: 1.0519 - val_accuracy: 0.7747\n",
            "Epoch 18/50\n",
            "375/375 [==============================] - 2s 7ms/step - loss: 1.2590 - accuracy: 0.6923 - val_loss: 1.0350 - val_accuracy: 0.7806\n",
            "Epoch 19/50\n",
            "375/375 [==============================] - 3s 7ms/step - loss: 1.2944 - accuracy: 0.6820 - val_loss: 1.1137 - val_accuracy: 0.7524\n",
            "Epoch 20/50\n",
            "375/375 [==============================] - 2s 7ms/step - loss: 1.2810 - accuracy: 0.6923 - val_loss: 1.0986 - val_accuracy: 0.7473\n",
            "Epoch 21/50\n",
            "375/375 [==============================] - 2s 7ms/step - loss: 1.3025 - accuracy: 0.6846 - val_loss: 1.1461 - val_accuracy: 0.7428\n",
            "Epoch 22/50\n",
            "375/375 [==============================] - 3s 7ms/step - loss: 1.2941 - accuracy: 0.6836 - val_loss: 1.2032 - val_accuracy: 0.7294\n",
            "Epoch 23/50\n",
            "375/375 [==============================] - 3s 7ms/step - loss: 1.3026 - accuracy: 0.6778 - val_loss: 1.1639 - val_accuracy: 0.7573\n",
            "Epoch 24/50\n",
            "375/375 [==============================] - 2s 6ms/step - loss: 1.2811 - accuracy: 0.6863 - val_loss: 1.1076 - val_accuracy: 0.7697\n",
            "Epoch 25/50\n",
            "375/375 [==============================] - 3s 7ms/step - loss: 1.2737 - accuracy: 0.6922 - val_loss: 1.1644 - val_accuracy: 0.7388\n",
            "Epoch 26/50\n",
            "375/375 [==============================] - 2s 6ms/step - loss: 1.2948 - accuracy: 0.6877 - val_loss: 1.1207 - val_accuracy: 0.7395\n",
            "Epoch 27/50\n",
            "375/375 [==============================] - 3s 7ms/step - loss: 1.2681 - accuracy: 0.6919 - val_loss: 1.1683 - val_accuracy: 0.7464\n",
            "Epoch 28/50\n",
            "375/375 [==============================] - 3s 7ms/step - loss: 1.2562 - accuracy: 0.6972 - val_loss: 1.2359 - val_accuracy: 0.7179\n",
            "Epoch 29/50\n",
            "375/375 [==============================] - 2s 7ms/step - loss: 1.3329 - accuracy: 0.6669 - val_loss: 1.0775 - val_accuracy: 0.7632\n",
            "Epoch 30/50\n",
            "375/375 [==============================] - 2s 6ms/step - loss: 1.2955 - accuracy: 0.6831 - val_loss: 1.1242 - val_accuracy: 0.7630\n",
            "Epoch 31/50\n",
            "375/375 [==============================] - 2s 7ms/step - loss: 1.3284 - accuracy: 0.6859 - val_loss: 1.1601 - val_accuracy: 0.7430\n",
            "Epoch 32/50\n",
            "375/375 [==============================] - 2s 6ms/step - loss: 1.2985 - accuracy: 0.6703 - val_loss: 1.0444 - val_accuracy: 0.7720\n",
            "Epoch 33/50\n",
            "375/375 [==============================] - 3s 7ms/step - loss: 1.2806 - accuracy: 0.6802 - val_loss: 1.1618 - val_accuracy: 0.7594\n",
            "Epoch 34/50\n",
            "375/375 [==============================] - 3s 7ms/step - loss: 1.2845 - accuracy: 0.6763 - val_loss: 1.1978 - val_accuracy: 0.7385\n",
            "Epoch 35/50\n",
            "375/375 [==============================] - 3s 7ms/step - loss: 1.2631 - accuracy: 0.6848 - val_loss: 1.1792 - val_accuracy: 0.7591\n",
            "Epoch 36/50\n",
            "375/375 [==============================] - 3s 7ms/step - loss: 1.3391 - accuracy: 0.6693 - val_loss: 1.1363 - val_accuracy: 0.7586\n",
            "Epoch 37/50\n",
            "375/375 [==============================] - 3s 7ms/step - loss: 1.2701 - accuracy: 0.6819 - val_loss: 1.1251 - val_accuracy: 0.7573\n",
            "Epoch 38/50\n",
            "375/375 [==============================] - 2s 7ms/step - loss: 1.2634 - accuracy: 0.6831 - val_loss: 1.0823 - val_accuracy: 0.7671\n",
            "Epoch 39/50\n",
            "375/375 [==============================] - 3s 7ms/step - loss: 1.2879 - accuracy: 0.6778 - val_loss: 1.1332 - val_accuracy: 0.7533\n",
            "Epoch 40/50\n",
            "375/375 [==============================] - 3s 7ms/step - loss: 1.3072 - accuracy: 0.6768 - val_loss: 1.1180 - val_accuracy: 0.7665\n",
            "Epoch 41/50\n",
            "375/375 [==============================] - 2s 6ms/step - loss: 1.2774 - accuracy: 0.6808 - val_loss: 1.1255 - val_accuracy: 0.7577\n",
            "Epoch 42/50\n",
            "375/375 [==============================] - 2s 6ms/step - loss: 1.2808 - accuracy: 0.6810 - val_loss: 1.1308 - val_accuracy: 0.7469\n",
            "Epoch 43/50\n",
            "375/375 [==============================] - 2s 6ms/step - loss: 1.3151 - accuracy: 0.6669 - val_loss: 1.1140 - val_accuracy: 0.7614\n",
            "Epoch 44/50\n",
            "375/375 [==============================] - 2s 7ms/step - loss: 1.2770 - accuracy: 0.6795 - val_loss: 1.1265 - val_accuracy: 0.7520\n",
            "Epoch 45/50\n",
            "375/375 [==============================] - 4s 11ms/step - loss: 1.3112 - accuracy: 0.6731 - val_loss: 1.1094 - val_accuracy: 0.7534\n",
            "Epoch 46/50\n",
            "375/375 [==============================] - 3s 8ms/step - loss: 1.2858 - accuracy: 0.6798 - val_loss: 1.1089 - val_accuracy: 0.7577\n",
            "Epoch 47/50\n",
            "375/375 [==============================] - 3s 7ms/step - loss: 1.2859 - accuracy: 0.6815 - val_loss: 1.1091 - val_accuracy: 0.7523\n",
            "Epoch 48/50\n",
            "375/375 [==============================] - 2s 6ms/step - loss: 1.2484 - accuracy: 0.6904 - val_loss: 0.9806 - val_accuracy: 0.7796\n",
            "Epoch 49/50\n",
            "375/375 [==============================] - 2s 7ms/step - loss: 1.2484 - accuracy: 0.6860 - val_loss: 1.0730 - val_accuracy: 0.7648\n",
            "Epoch 50/50\n",
            "375/375 [==============================] - 2s 6ms/step - loss: 1.3014 - accuracy: 0.6717 - val_loss: 1.0633 - val_accuracy: 0.7724\n"
          ]
        }
      ]
    },
    {
      "cell_type": "code",
      "source": [
        "model.save('model.keras')"
      ],
      "metadata": {
        "id": "LLnJPrAcJ9Tc"
      },
      "execution_count": 28,
      "outputs": []
    },
    {
      "cell_type": "code",
      "source": [
        "from tensorflow.keras.models import load_model\n",
        "\n",
        "model2 = load_model('model.keras')"
      ],
      "metadata": {
        "id": "AYHJuuCfKNEC"
      },
      "execution_count": 29,
      "outputs": []
    },
    {
      "cell_type": "markdown",
      "source": [
        "## Evaluation"
      ],
      "metadata": {
        "id": "jwdh_yBwNgJd"
      }
    },
    {
      "cell_type": "code",
      "source": [
        "plt.plot(history.history['loss'][1:], label='Train Loss')\n",
        "plt.plot(history.history['val_loss'][1:], label='Valid Loss')\n",
        "plt.legend()"
      ],
      "metadata": {
        "colab": {
          "base_uri": "https://localhost:8080/",
          "height": 282
        },
        "id": "DSbXJtC6NhpG",
        "outputId": "98c04a74-a109-4d87-aa64-2bddfda0f409"
      },
      "execution_count": 25,
      "outputs": [
        {
          "output_type": "execute_result",
          "data": {
            "text/plain": [
              "<matplotlib.legend.Legend at 0x7f36b25d36d0>"
            ]
          },
          "metadata": {},
          "execution_count": 25
        },
        {
          "output_type": "display_data",
          "data": {
            "text/plain": [
              "<Figure size 432x288 with 1 Axes>"
            ],
            "image/png": "[encoded data removed]"
          },
          "metadata": {
            "needs_background": "light"
          }
        }
      ]
    },
    {
      "cell_type": "code",
      "source": [
        "plt.plot(history.history['accuracy'][1:], label='Train accuracy')\n",
        "plt.plot(history.history['val_accuracy'][1:], label='Valid accuracy')\n",
        "plt.legend()"
      ],
      "metadata": {
        "colab": {
          "base_uri": "https://localhost:8080/",
          "height": 282
        },
        "id": "ekIdslfaVJZq",
        "outputId": "c23c1ae1-d4f6-4135-daff-51df2ddb26f4"
      },
      "execution_count": 26,
      "outputs": [
        {
          "output_type": "execute_result",
          "data": {
            "text/plain": [
              "<matplotlib.legend.Legend at 0x7f36afeaccd0>"
            ]
          },
          "metadata": {},
          "execution_count": 26
        },
        {
          "output_type": "display_data",
          "data": {
            "text/plain": [
              "<Figure size 432x288 with 1 Axes>"
            ],
            "image/png": "[encoded data removed]"
          },
          "metadata": {
            "needs_background": "light"
          }
        }
      ]
    },
    {
      "cell_type": "code",
      "source": [
        "model2.evaluate(test_data_v, test_labels)"
      ],
      "metadata": {
        "colab": {
          "base_uri": "https://localhost:8080/"
        },
        "id": "X3OD0aQCVX_K",
        "outputId": "c643df95-f3ac-4ac6-b835-5a5f40da9b38"
      },
      "execution_count": 30,
      "outputs": [
        {
          "output_type": "stream",
          "name": "stdout",
          "text": [
            "313/313 [==============================] - 1s 2ms/step - loss: 1.0895 - accuracy: 0.7577\n"
          ]
        },
        {
          "output_type": "execute_result",
          "data": {
            "text/plain": [
              "[1.0894922018051147, 0.7577000260353088]"
            ]
          },
          "metadata": {},
          "execution_count": 30
        }
      ]
    },
    {
      "cell_type": "code",
      "source": [
        "preds = model.predict(test_data_v)"
      ],
      "metadata": {
        "id": "hHygVL3MVpS_"
      },
      "execution_count": null,
      "outputs": []
    },
    {
      "cell_type": "code",
      "source": [
        "class_names = {0: 'T-shirt/top',\n",
        "               1: 'Trouser',\n",
        "               2: 'Pullover',\n",
        "               3: 'Dress',\n",
        "               4: 'Coat',\n",
        "               5: 'Sandal',\n",
        "               6: 'Shirt',\n",
        "               7: 'Sneaker'}"
      ],
      "metadata": {
        "id": "oqSg8z7prmJ7"
      },
      "execution_count": null,
      "outputs": []
    },
    {
      "cell_type": "code",
      "source": [
        "import numpy as np\n",
        "\n",
        "img_id = 40\n",
        "print(f'Predicted label: {class_names[np.argmax(preds[img_id])]}')\n",
        "print(f'True label: {class_names[test_labels[img_id]]}')\n",
        "\n",
        "plt.imshow(test_data[img_id], cmap='gray')\n",
        "plt.axis('off')"
      ],
      "metadata": {
        "colab": {
          "base_uri": "https://localhost:8080/",
          "height": 300
        },
        "id": "MeyCvnU4VwVS",
        "outputId": "bc570948-856d-4f5e-9640-1831536f6697"
      },
      "execution_count": null,
      "outputs": [
        {
          "output_type": "stream",
          "name": "stdout",
          "text": [
            "Predicted label: T-shirt/top\n",
            "True label: Shirt\n"
          ]
        },
        {
          "output_type": "execute_result",
          "data": {
            "text/plain": [
              "(-0.5, 27.5, 27.5, -0.5)"
            ]
          },
          "metadata": {},
          "execution_count": 36
        },
        {
          "output_type": "display_data",
          "data": {
            "text/plain": [
              "<Figure size 432x288 with 1 Axes>"
            ],
            "image/png": "[encoded data removed]"
          },
          "metadata": {
            "needs_background": "light"
          }
        }
      ]
    }
  ]
}