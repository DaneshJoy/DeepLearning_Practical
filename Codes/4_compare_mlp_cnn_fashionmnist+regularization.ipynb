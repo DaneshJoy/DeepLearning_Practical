{
  "cells": [
    {
      "attachments": {},
      "cell_type": "markdown",
      "metadata": {
        "id": "UA7ZsNDTglbW"
      },
      "source": [
        "# Compare MLP and CNN in FashionMNIST dataset"
      ]
    },
    {
      "cell_type": "code",
      "execution_count": 1,
      "metadata": {
        "id": "nYb_q3WlbRcg"
      },
      "outputs": [],
      "source": [
        "from tensorflow.keras import datasets\n",
        "from tensorflow.keras import layers, Model\n",
        "from tensorflow.keras import Input\n",
        "from tensorflow.keras import optimizers\n",
        "from tensorflow.keras import regularizers\n",
        "import matplotlib.pyplot as plt"
      ]
    },
    {
      "cell_type": "code",
      "execution_count": 2,
      "metadata": {
        "id": "AKjscKsNb9q3"
      },
      "outputs": [],
      "source": [
        "%%capture\n",
        "(train_images, train_labels), (test_images, test_labels) = datasets.fashion_mnist.load_data()"
      ]
    },
    {
      "cell_type": "code",
      "execution_count": 3,
      "metadata": {
        "colab": {
          "base_uri": "https://localhost:8080/"
        },
        "id": "nSqN_PNlcaPY",
        "outputId": "201c26eb-33d7-4dad-a310-be679302d428"
      },
      "outputs": [
        {
          "data": {
            "text/plain": [
              "(60000, 28, 28)"
            ]
          },
          "execution_count": 3,
          "metadata": {},
          "output_type": "execute_result"
        }
      ],
      "source": [
        "train_images.shape"
      ]
    },
    {
      "attachments": {},
      "cell_type": "markdown",
      "metadata": {
        "id": "5PtKfcZAcA-A"
      },
      "source": [
        "## FashionMNIST with MLP"
      ]
    },
    {
      "attachments": {},
      "cell_type": "markdown",
      "metadata": {
        "id": "NRH9VZrUb-G2"
      },
      "source": [
        "### Prepare Data "
      ]
    },
    {
      "cell_type": "code",
      "execution_count": 4,
      "metadata": {
        "id": "m0OAFe-ZcV53"
      },
      "outputs": [],
      "source": [
        "X_train1 = train_images.reshape(60000, 28*28)\n",
        "X_test1 = test_images.reshape(10000, 28*28)\n",
        "X_train1 = X_train1.astype('float32') / 255.\n",
        "X_test1 = X_test1.astype('float32') / 255."
      ]
    },
    {
      "cell_type": "code",
      "execution_count": 5,
      "metadata": {
        "colab": {
          "base_uri": "https://localhost:8080/",
          "height": 117
        },
        "id": "45HYHvTFcsrt",
        "outputId": "2da95020-edd6-4926-b8aa-24b0342bfe32"
      },
      "outputs": [
        {
          "data": {
            "image/png": "[encoded data removed]",
            "text/plain": [
              "<Figure size 1440x144 with 10 Axes>"
            ]
          },
          "metadata": {
            "needs_background": "light"
          },
          "output_type": "display_data"
        }
      ],
      "source": [
        "class_names = {0: 'T-shirt/top',\n",
        "               1: 'Trouser',\n",
        "               2: 'Pullover',\n",
        "               3: 'Dress',\n",
        "               4: 'Coat',\n",
        "               5: 'Sandal',\n",
        "               6: 'Shirt',\n",
        "               7: 'Sneaker',\n",
        "               8: 'Bag',\n",
        "               9: 'Ankle boot'}\n",
        "\n",
        "fig, axes = plt.subplots(1, 10, figsize=(20,2))\n",
        "for i in range(len(axes)):\n",
        "  axes[i].imshow(train_images[i], cmap='gray')\n",
        "  axes[i].set_axis_off()\n",
        "  axes[i].set_title(class_names[train_labels[i]])"
      ]
    },
    {
      "attachments": {},
      "cell_type": "markdown",
      "metadata": {
        "id": "COoNX7eeemXX"
      },
      "source": [
        "### MLP Model"
      ]
    },
    {
      "cell_type": "code",
      "execution_count": 24,
      "metadata": {
        "colab": {
          "base_uri": "https://localhost:8080/"
        },
        "id": "6obBXoPBeoJb",
        "outputId": "f15ecde3-75e0-4e0a-e65d-94654930d301"
      },
      "outputs": [
        {
          "name": "stdout",
          "output_type": "stream",
          "text": [
            "Model: \"model_5\"\n",
            "_________________________________________________________________\n",
            " Layer (type)                Output Shape              Param #   \n",
            "=================================================================\n",
            " input_6 (InputLayer)        [(None, 784)]             0         \n",
            "                                                                 \n",
            " dense_16 (Dense)            (None, 64)                50240     \n",
            "                                                                 \n",
            " dropout_11 (Dropout)        (None, 64)                0         \n",
            "                                                                 \n",
            " dense_17 (Dense)            (None, 32)                2080      \n",
            "                                                                 \n",
            " dropout_12 (Dropout)        (None, 32)                0         \n",
            "                                                                 \n",
            " dense_18 (Dense)            (None, 16)                528       \n",
            "                                                                 \n",
            " dropout_13 (Dropout)        (None, 16)                0         \n",
            "                                                                 \n",
            " dense_19 (Dense)            (None, 10)                170       \n",
            "                                                                 \n",
            "=================================================================\n",
            "Total params: 53,018\n",
            "Trainable params: 53,018\n",
            "Non-trainable params: 0\n",
            "_________________________________________________________________\n"
          ]
        }
      ],
      "source": [
        "inp = Input(shape=(784,))\n",
        "x = layers.Dense(64, activation='relu', kernel_regularizer=regularizers.L2(0.002))(inp)\n",
        "x = layers.Dropout(0.2)(x)\n",
        "x = layers.Dense(32, activation='relu', kernel_regularizer=regularizers.L2(0.002))(x)\n",
        "x = layers.Dropout(0.2)(x)\n",
        "x = layers.Dense(16, activation='relu')(x)\n",
        "x = layers.Dropout(0.2)(x)\n",
        "out = layers.Dense(10, activation='softmax')(x)\n",
        "\n",
        "model_mlp = Model(inputs=inp, outputs=out)\n",
        "model_mlp.summary()"
      ]
    },
    {
      "attachments": {},
      "cell_type": "markdown",
      "metadata": {
        "id": "Qx4FZeKzfdfM"
      },
      "source": [
        "### Train MLP model"
      ]
    },
    {
      "cell_type": "code",
      "execution_count": 25,
      "metadata": {
        "colab": {
          "base_uri": "https://localhost:8080/"
        },
        "id": "kjuUVuKoffVV",
        "outputId": "83503be5-40e5-4daf-b8cf-ffd30149730b"
      },
      "outputs": [
        {
          "name": "stdout",
          "output_type": "stream",
          "text": [
            "Epoch 1/50\n",
            "118/118 [==============================] - 2s 10ms/step - loss: 4.3339 - val_loss: 1.6894\n",
            "Epoch 2/50\n",
            "118/118 [==============================] - 1s 9ms/step - loss: 1.8458 - val_loss: 1.6397\n",
            "Epoch 3/50\n",
            "118/118 [==============================] - 1s 8ms/step - loss: 1.7473 - val_loss: 1.4739\n",
            "Epoch 4/50\n",
            "118/118 [==============================] - 1s 9ms/step - loss: 1.7432 - val_loss: 1.5143\n",
            "Epoch 5/50\n",
            "118/118 [==============================] - 1s 9ms/step - loss: 1.7288 - val_loss: 1.4557\n",
            "Epoch 6/50\n",
            "118/118 [==============================] - 1s 8ms/step - loss: 1.7595 - val_loss: 1.5511\n",
            "Epoch 7/50\n",
            "118/118 [==============================] - 1s 8ms/step - loss: 1.6697 - val_loss: 1.4819\n",
            "Epoch 8/50\n",
            "118/118 [==============================] - 1s 9ms/step - loss: 1.6543 - val_loss: 1.4366\n",
            "Epoch 9/50\n",
            "118/118 [==============================] - 1s 8ms/step - loss: 1.6879 - val_loss: 1.4132\n",
            "Epoch 10/50\n",
            "118/118 [==============================] - 1s 9ms/step - loss: 1.6150 - val_loss: 1.6389\n",
            "Epoch 11/50\n",
            "118/118 [==============================] - 1s 8ms/step - loss: 1.8487 - val_loss: 1.4903\n",
            "Epoch 12/50\n",
            "118/118 [==============================] - 1s 8ms/step - loss: 1.7609 - val_loss: 1.6382\n",
            "Epoch 13/50\n",
            "118/118 [==============================] - 1s 8ms/step - loss: 1.6917 - val_loss: 1.3657\n",
            "Epoch 14/50\n",
            "118/118 [==============================] - 1s 8ms/step - loss: 1.6496 - val_loss: 1.4637\n",
            "Epoch 15/50\n",
            "118/118 [==============================] - 1s 8ms/step - loss: 1.6352 - val_loss: 1.7313\n",
            "Epoch 16/50\n",
            "118/118 [==============================] - 1s 8ms/step - loss: 1.7111 - val_loss: 1.3780\n",
            "Epoch 17/50\n",
            "118/118 [==============================] - 1s 9ms/step - loss: 1.6290 - val_loss: 1.4467\n",
            "Epoch 18/50\n",
            "118/118 [==============================] - 1s 8ms/step - loss: 1.6208 - val_loss: 1.3971\n",
            "Epoch 19/50\n",
            "118/118 [==============================] - 1s 9ms/step - loss: 1.7425 - val_loss: 1.6443\n",
            "Epoch 20/50\n",
            "118/118 [==============================] - 1s 8ms/step - loss: 1.6305 - val_loss: 1.4431\n",
            "Epoch 21/50\n",
            "118/118 [==============================] - 1s 9ms/step - loss: 1.5975 - val_loss: 1.3317\n",
            "Epoch 22/50\n",
            "118/118 [==============================] - 1s 8ms/step - loss: 1.6233 - val_loss: 1.3470\n",
            "Epoch 23/50\n",
            "118/118 [==============================] - 1s 8ms/step - loss: 1.6502 - val_loss: 1.5607\n",
            "Epoch 24/50\n",
            "118/118 [==============================] - 1s 9ms/step - loss: 1.8043 - val_loss: 1.5127\n",
            "Epoch 25/50\n",
            "118/118 [==============================] - 1s 8ms/step - loss: 1.8410 - val_loss: 1.7542\n",
            "Epoch 26/50\n",
            "118/118 [==============================] - 1s 8ms/step - loss: 1.6753 - val_loss: 1.3168\n",
            "Epoch 27/50\n",
            "118/118 [==============================] - 1s 8ms/step - loss: 1.6169 - val_loss: 1.3944\n",
            "Epoch 28/50\n",
            "118/118 [==============================] - 1s 8ms/step - loss: 1.6126 - val_loss: 1.4071\n",
            "Epoch 29/50\n",
            "118/118 [==============================] - 1s 9ms/step - loss: 1.6676 - val_loss: 1.4352\n",
            "Epoch 30/50\n",
            "118/118 [==============================] - 1s 8ms/step - loss: 1.6419 - val_loss: 1.4508\n",
            "Epoch 31/50\n",
            "118/118 [==============================] - 1s 8ms/step - loss: 1.5820 - val_loss: 1.4532\n",
            "Epoch 32/50\n",
            "118/118 [==============================] - 1s 8ms/step - loss: 1.6036 - val_loss: 1.3872\n",
            "Epoch 33/50\n",
            "118/118 [==============================] - 1s 8ms/step - loss: 1.5896 - val_loss: 1.3609\n",
            "Epoch 34/50\n",
            "118/118 [==============================] - 1s 9ms/step - loss: 1.6307 - val_loss: 1.4055\n",
            "Epoch 35/50\n",
            "118/118 [==============================] - 1s 9ms/step - loss: 1.7358 - val_loss: 1.6193\n",
            "Epoch 36/50\n",
            "118/118 [==============================] - 1s 9ms/step - loss: 1.6476 - val_loss: 1.3851\n",
            "Epoch 37/50\n",
            "118/118 [==============================] - 1s 8ms/step - loss: 1.6341 - val_loss: 1.5404\n",
            "Epoch 38/50\n",
            "118/118 [==============================] - 1s 8ms/step - loss: 1.6649 - val_loss: 1.4574\n",
            "Epoch 39/50\n",
            "118/118 [==============================] - 1s 8ms/step - loss: 1.6664 - val_loss: 1.3124\n",
            "Epoch 40/50\n",
            "118/118 [==============================] - 1s 9ms/step - loss: 1.6262 - val_loss: 1.5639\n",
            "Epoch 41/50\n",
            "118/118 [==============================] - 1s 8ms/step - loss: 1.6610 - val_loss: 1.5370\n",
            "Epoch 42/50\n",
            "118/118 [==============================] - 1s 9ms/step - loss: 1.8037 - val_loss: 1.3711\n",
            "Epoch 43/50\n",
            "118/118 [==============================] - 1s 9ms/step - loss: 1.6198 - val_loss: 1.6051\n",
            "Epoch 44/50\n",
            "118/118 [==============================] - 1s 8ms/step - loss: 1.6564 - val_loss: 1.4399\n",
            "Epoch 45/50\n",
            "118/118 [==============================] - 1s 9ms/step - loss: 1.6527 - val_loss: 1.3949\n",
            "Epoch 46/50\n",
            "118/118 [==============================] - 1s 9ms/step - loss: 1.6260 - val_loss: 1.5669\n",
            "Epoch 47/50\n",
            "118/118 [==============================] - 1s 8ms/step - loss: 1.6593 - val_loss: 1.3535\n",
            "Epoch 48/50\n",
            "118/118 [==============================] - 1s 9ms/step - loss: 1.6600 - val_loss: 1.6055\n",
            "Epoch 49/50\n",
            "118/118 [==============================] - 1s 8ms/step - loss: 1.6270 - val_loss: 1.3344\n",
            "Epoch 50/50\n",
            "118/118 [==============================] - 1s 9ms/step - loss: 1.6424 - val_loss: 1.4438\n"
          ]
        }
      ],
      "source": [
        "model_mlp.compile(optimizer=optimizers.Adam(learning_rate=0.005),\n",
        "                  loss='sparse_categorical_crossentropy')\n",
        "history1 = model_mlp.fit(X_train1, train_labels,\n",
        "                         epochs=50, batch_size=512,\n",
        "                         validation_data=(X_test1, test_labels))"
      ]
    },
    {
      "attachments": {},
      "cell_type": "markdown",
      "metadata": {
        "id": "l2CTuXKtgRBg"
      },
      "source": [
        "### Evaluation of MLP model"
      ]
    },
    {
      "cell_type": "code",
      "execution_count": 26,
      "metadata": {
        "colab": {
          "base_uri": "https://localhost:8080/",
          "height": 283
        },
        "id": "KYCh1FuzgQpL",
        "outputId": "c364c3e6-a503-4ac5-d7b3-5374391ac58f"
      },
      "outputs": [
        {
          "data": {
            "text/plain": [
              "<matplotlib.legend.Legend at 0x7f23c00e2f40>"
            ]
          },
          "execution_count": 26,
          "metadata": {},
          "output_type": "execute_result"
        },
        {
          "data": {
            "image/png": "[encoded data removed]",
            "text/plain": [
              "<Figure size 432x288 with 1 Axes>"
            ]
          },
          "metadata": {
            "needs_background": "light"
          },
          "output_type": "display_data"
        }
      ],
      "source": [
        "plt.plot(history1.history['loss'][1:], label='Train Loss')\n",
        "plt.plot(history1.history['val_loss'][1:], label='Valid Loss')\n",
        "plt.legend()"
      ]
    },
    {
      "attachments": {},
      "cell_type": "markdown",
      "metadata": {
        "id": "OdwZ76sTggac"
      },
      "source": [
        "----------"
      ]
    },
    {
      "attachments": {},
      "cell_type": "markdown",
      "metadata": {
        "id": "VVCvl6ZZghTO"
      },
      "source": [
        "## FashionMNIST with CNN"
      ]
    },
    {
      "attachments": {},
      "cell_type": "markdown",
      "metadata": {
        "id": "jz0Fz6LuhIP7"
      },
      "source": [
        "### Data Preparation"
      ]
    },
    {
      "cell_type": "code",
      "execution_count": 4,
      "metadata": {
        "colab": {
          "base_uri": "https://localhost:8080/"
        },
        "id": "rb_UPwScgwoy",
        "outputId": "1d0c1052-f040-4d4a-b38f-eb7a517fb176"
      },
      "outputs": [
        {
          "data": {
            "text/plain": [
              "(60000, 28, 28)"
            ]
          },
          "execution_count": 4,
          "metadata": {},
          "output_type": "execute_result"
        }
      ],
      "source": [
        "X_train2 = train_images.astype('float32') / 255.\n",
        "X_test2 = test_images.astype('float32') / 255.\n",
        "X_train2.shape"
      ]
    },
    {
      "attachments": {},
      "cell_type": "markdown",
      "metadata": {
        "id": "LTpbaeBohKXh"
      },
      "source": [
        "### Model Design"
      ]
    },
    {
      "cell_type": "code",
      "execution_count": 10,
      "metadata": {
        "colab": {
          "base_uri": "https://localhost:8080/"
        },
        "id": "xXnwiRuGhMAq",
        "outputId": "07ca4984-3f0a-4eff-9c1c-6c95a72f0cc5"
      },
      "outputs": [
        {
          "name": "stdout",
          "output_type": "stream",
          "text": [
            "Model: \"model_1\"\n",
            "_________________________________________________________________\n",
            " Layer (type)                Output Shape              Param #   \n",
            "=================================================================\n",
            " input_3 (InputLayer)        [(None, 28, 28, 1)]       0         \n",
            "                                                                 \n",
            " conv2d_4 (Conv2D)           (None, 28, 28, 16)        160       \n",
            "                                                                 \n",
            " batch_normalization_4 (Batc  (None, 28, 28, 16)       64        \n",
            " hNormalization)                                                 \n",
            "                                                                 \n",
            " activation_4 (Activation)   (None, 28, 28, 16)        0         \n",
            "                                                                 \n",
            " max_pooling2d_4 (MaxPooling  (None, 14, 14, 16)       0         \n",
            " 2D)                                                             \n",
            "                                                                 \n",
            " conv2d_5 (Conv2D)           (None, 14, 14, 9)         1305      \n",
            "                                                                 \n",
            " batch_normalization_5 (Batc  (None, 14, 14, 9)        36        \n",
            " hNormalization)                                                 \n",
            "                                                                 \n",
            " activation_5 (Activation)   (None, 14, 14, 9)         0         \n",
            "                                                                 \n",
            " max_pooling2d_5 (MaxPooling  (None, 7, 7, 9)          0         \n",
            " 2D)                                                             \n",
            "                                                                 \n",
            " flatten_2 (Flatten)         (None, 441)               0         \n",
            "                                                                 \n",
            " dense_4 (Dense)             (None, 64)                28288     \n",
            "                                                                 \n",
            " dropout_1 (Dropout)         (None, 64)                0         \n",
            "                                                                 \n",
            " dense_5 (Dense)             (None, 10)                650       \n",
            "                                                                 \n",
            "=================================================================\n",
            "Total params: 30,503\n",
            "Trainable params: 30,453\n",
            "Non-trainable params: 50\n",
            "_________________________________________________________________\n"
          ]
        }
      ],
      "source": [
        "inp = Input(shape=(28, 28, 1))\n",
        "x = layers.Conv2D(16, 3, padding='same')(inp)\n",
        "x = layers.BatchNormalization()(x)\n",
        "x = layers.Activation('relu')(x)\n",
        "x = layers.MaxPool2D()(x)\n",
        "x = layers.Conv2D(9, 3, padding='same')(x)\n",
        "x = layers.BatchNormalization()(x)\n",
        "x = layers.Activation('relu')(x)\n",
        "x = layers.MaxPool2D()(x)\n",
        "x = layers.Flatten()(x)\n",
        "x = layers.Dense(64, activation='relu')(x)\n",
        "x = layers.Dropout(0.2)(x)\n",
        "out = layers.Dense(10, activation='softmax')(x)\n",
        "\n",
        "model_cnn = Model(inputs=inp, outputs=out)\n",
        "model_cnn.summary()"
      ]
    },
    {
      "attachments": {},
      "cell_type": "markdown",
      "metadata": {
        "id": "FfdyNMQWjpx9"
      },
      "source": [
        "### Train CNN model"
      ]
    },
    {
      "cell_type": "code",
      "execution_count": 11,
      "metadata": {
        "colab": {
          "base_uri": "https://localhost:8080/"
        },
        "id": "O6aHMq6kj4X3",
        "outputId": "998d04d8-916e-4603-d41e-83157fd19d37"
      },
      "outputs": [
        {
          "name": "stdout",
          "output_type": "stream",
          "text": [
            "Epoch 1/50\n",
            "118/118 [==============================] - 2s 10ms/step - loss: 0.8530 - val_loss: 1.8835\n",
            "Epoch 2/50\n",
            "118/118 [==============================] - 1s 8ms/step - loss: 0.4642 - val_loss: 1.3482\n",
            "Epoch 3/50\n",
            "118/118 [==============================] - 1s 9ms/step - loss: 0.3954 - val_loss: 0.7007\n",
            "Epoch 4/50\n",
            "118/118 [==============================] - 1s 8ms/step - loss: 0.3564 - val_loss: 0.4302\n",
            "Epoch 5/50\n",
            "118/118 [==============================] - 1s 8ms/step - loss: 0.3341 - val_loss: 0.3553\n",
            "Epoch 6/50\n",
            "118/118 [==============================] - 1s 8ms/step - loss: 0.3172 - val_loss: 0.3261\n",
            "Epoch 7/50\n",
            "118/118 [==============================] - 1s 9ms/step - loss: 0.3008 - val_loss: 0.3222\n",
            "Epoch 8/50\n",
            "118/118 [==============================] - 1s 8ms/step - loss: 0.2913 - val_loss: 0.3380\n",
            "Epoch 9/50\n",
            "118/118 [==============================] - 1s 8ms/step - loss: 0.2803 - val_loss: 0.2966\n",
            "Epoch 10/50\n",
            "118/118 [==============================] - 1s 8ms/step - loss: 0.2726 - val_loss: 0.3030\n",
            "Epoch 11/50\n",
            "118/118 [==============================] - 1s 8ms/step - loss: 0.2648 - val_loss: 0.2891\n",
            "Epoch 12/50\n",
            "118/118 [==============================] - 1s 9ms/step - loss: 0.2593 - val_loss: 0.2850\n",
            "Epoch 13/50\n",
            "118/118 [==============================] - 1s 8ms/step - loss: 0.2521 - val_loss: 0.2814\n",
            "Epoch 14/50\n",
            "118/118 [==============================] - 1s 9ms/step - loss: 0.2460 - val_loss: 0.2811\n",
            "Epoch 15/50\n",
            "118/118 [==============================] - 1s 8ms/step - loss: 0.2444 - val_loss: 0.2953\n",
            "Epoch 16/50\n",
            "118/118 [==============================] - 1s 8ms/step - loss: 0.2411 - val_loss: 0.2813\n",
            "Epoch 17/50\n",
            "118/118 [==============================] - 1s 9ms/step - loss: 0.2331 - val_loss: 0.2910\n",
            "Epoch 18/50\n",
            "118/118 [==============================] - 1s 9ms/step - loss: 0.2310 - val_loss: 0.2814\n",
            "Epoch 19/50\n",
            "118/118 [==============================] - 1s 8ms/step - loss: 0.2265 - val_loss: 0.2790\n",
            "Epoch 20/50\n",
            "118/118 [==============================] - 1s 9ms/step - loss: 0.2208 - val_loss: 0.2896\n",
            "Epoch 21/50\n",
            "118/118 [==============================] - 1s 8ms/step - loss: 0.2160 - val_loss: 0.2835\n",
            "Epoch 22/50\n",
            "118/118 [==============================] - 1s 9ms/step - loss: 0.2141 - val_loss: 0.2945\n",
            "Epoch 23/50\n",
            "118/118 [==============================] - 1s 8ms/step - loss: 0.2112 - val_loss: 0.2880\n",
            "Epoch 24/50\n",
            "118/118 [==============================] - 1s 9ms/step - loss: 0.2087 - val_loss: 0.2690\n",
            "Epoch 25/50\n",
            "118/118 [==============================] - 1s 8ms/step - loss: 0.2074 - val_loss: 0.2851\n",
            "Epoch 26/50\n",
            "118/118 [==============================] - 1s 9ms/step - loss: 0.2027 - val_loss: 0.2760\n",
            "Epoch 27/50\n",
            "118/118 [==============================] - 1s 8ms/step - loss: 0.1977 - val_loss: 0.2759\n",
            "Epoch 28/50\n",
            "118/118 [==============================] - 1s 8ms/step - loss: 0.1975 - val_loss: 0.2687\n",
            "Epoch 29/50\n",
            "118/118 [==============================] - 1s 8ms/step - loss: 0.1943 - val_loss: 0.2931\n",
            "Epoch 30/50\n",
            "118/118 [==============================] - 1s 8ms/step - loss: 0.1933 - val_loss: 0.2924\n",
            "Epoch 31/50\n",
            "118/118 [==============================] - 1s 8ms/step - loss: 0.1903 - val_loss: 0.2762\n",
            "Epoch 32/50\n",
            "118/118 [==============================] - 1s 8ms/step - loss: 0.1885 - val_loss: 0.2665\n",
            "Epoch 33/50\n",
            "118/118 [==============================] - 1s 8ms/step - loss: 0.1833 - val_loss: 0.2994\n",
            "Epoch 34/50\n",
            "118/118 [==============================] - 1s 8ms/step - loss: 0.1856 - val_loss: 0.2717\n",
            "Epoch 35/50\n",
            "118/118 [==============================] - 1s 8ms/step - loss: 0.1802 - val_loss: 0.2756\n",
            "Epoch 36/50\n",
            "118/118 [==============================] - 1s 8ms/step - loss: 0.1766 - val_loss: 0.2778\n",
            "Epoch 37/50\n",
            "118/118 [==============================] - 1s 9ms/step - loss: 0.1761 - val_loss: 0.2959\n",
            "Epoch 38/50\n",
            "118/118 [==============================] - 1s 8ms/step - loss: 0.1753 - val_loss: 0.2906\n",
            "Epoch 39/50\n",
            "118/118 [==============================] - 1s 8ms/step - loss: 0.1710 - val_loss: 0.2754\n",
            "Epoch 40/50\n",
            "118/118 [==============================] - 1s 8ms/step - loss: 0.1689 - val_loss: 0.2848\n",
            "Epoch 41/50\n",
            "118/118 [==============================] - 1s 9ms/step - loss: 0.1671 - val_loss: 0.2779\n",
            "Epoch 42/50\n",
            "118/118 [==============================] - 1s 8ms/step - loss: 0.1657 - val_loss: 0.2956\n",
            "Epoch 43/50\n",
            "118/118 [==============================] - 1s 8ms/step - loss: 0.1674 - val_loss: 0.2734\n",
            "Epoch 44/50\n",
            "118/118 [==============================] - 1s 8ms/step - loss: 0.1629 - val_loss: 0.3076\n",
            "Epoch 45/50\n",
            "118/118 [==============================] - 1s 9ms/step - loss: 0.1594 - val_loss: 0.3160\n",
            "Epoch 46/50\n",
            "118/118 [==============================] - 1s 9ms/step - loss: 0.1596 - val_loss: 0.2955\n",
            "Epoch 47/50\n",
            "118/118 [==============================] - 1s 8ms/step - loss: 0.1547 - val_loss: 0.2813\n",
            "Epoch 48/50\n",
            "118/118 [==============================] - 1s 9ms/step - loss: 0.1559 - val_loss: 0.3270\n",
            "Epoch 49/50\n",
            "118/118 [==============================] - 1s 9ms/step - loss: 0.1524 - val_loss: 0.2936\n",
            "Epoch 50/50\n",
            "118/118 [==============================] - 1s 8ms/step - loss: 0.1534 - val_loss: 0.2916\n"
          ]
        }
      ],
      "source": [
        "model_cnn.compile(optimizer='adam', loss='sparse_categorical_crossentropy')\n",
        "history2 = model_cnn.fit(X_train2, train_labels,\n",
        "                         epochs=50, batch_size=512,\n",
        "                         validation_data=(X_test2, test_labels))"
      ]
    },
    {
      "attachments": {},
      "cell_type": "markdown",
      "metadata": {
        "id": "MtkL_AlFlU9l"
      },
      "source": [
        "### Evaluation of CNN model"
      ]
    },
    {
      "cell_type": "code",
      "execution_count": 12,
      "metadata": {
        "colab": {
          "base_uri": "https://localhost:8080/",
          "height": 283
        },
        "id": "4MVj3DEElaak",
        "outputId": "cd6ee642-9d08-41b5-de58-6d71e76146a9"
      },
      "outputs": [
        {
          "data": {
            "text/plain": [
              "<matplotlib.legend.Legend at 0x7fd9ac3a9ca0>"
            ]
          },
          "execution_count": 12,
          "metadata": {},
          "output_type": "execute_result"
        },
        {
          "data": {
            "image/png": "[encoded data removed]",
            "text/plain": [
              "<Figure size 432x288 with 1 Axes>"
            ]
          },
          "metadata": {
            "needs_background": "light"
          },
          "output_type": "display_data"
        }
      ],
      "source": [
        "plt.plot(history2.history['loss'], label='Train Loss')\n",
        "plt.plot(history2.history['val_loss'], label='Valid Loss')\n",
        "plt.legend()"
      ]
    },
    {
      "attachments": {},
      "cell_type": "markdown",
      "metadata": {
        "id": "d21zZP8snuUy"
      },
      "source": [
        "## Prediction"
      ]
    },
    {
      "cell_type": "code",
      "execution_count": null,
      "metadata": {
        "colab": {
          "base_uri": "https://localhost:8080/"
        },
        "id": "BMFSeEZDnwg1",
        "outputId": "a6c376a3-131f-4092-8373-e47d69a1b019"
      },
      "outputs": [
        {
          "name": "stdout",
          "output_type": "stream",
          "text": [
            "313/313 [==============================] - 0s 1ms/step\n",
            "313/313 [==============================] - 1s 2ms/step\n"
          ]
        }
      ],
      "source": [
        "pred_mlp = model_mlp.predict(X_test1)\n",
        "pred_cnn = model_cnn.predict(X_test2)"
      ]
    },
    {
      "cell_type": "code",
      "execution_count": null,
      "metadata": {
        "colab": {
          "base_uri": "https://localhost:8080/",
          "height": 133
        },
        "id": "Jdx4do-loCmW",
        "outputId": "189b5ccb-6a47-4c43-cb1c-7f8e09385960"
      },
      "outputs": [
        {
          "data": {
            "image/png": "[encoded data removed]",
            "text/plain": [
              "<Figure size 1800x144 with 7 Axes>"
            ]
          },
          "metadata": {
            "needs_background": "light"
          },
          "output_type": "display_data"
        }
      ],
      "source": [
        "import numpy as np\n",
        "\n",
        "fig, axes = plt.subplots(1, 7, figsize=(25,2))\n",
        "for i in range(len(axes)):\n",
        "  axes[i].imshow(test_images[i], cmap='gray')\n",
        "  axes[i].set_axis_off()\n",
        "\n",
        "  title = f'True: {test_labels[i]} | P_mlp: {np.argmax(pred_mlp[i])} | P_cnn: {np.argmax(pred_cnn[i])}'\n",
        "  axes[i].set_title(title)"
      ]
    }
  ],
  "metadata": {
    "accelerator": "GPU",
    "colab": {
      "provenance": []
    },
    "gpuClass": "standard",
    "kernelspec": {
      "display_name": "Python 3",
      "name": "python3"
    },
    "language_info": {
      "name": "python"
    }
  },
  "nbformat": 4,
  "nbformat_minor": 0
}
