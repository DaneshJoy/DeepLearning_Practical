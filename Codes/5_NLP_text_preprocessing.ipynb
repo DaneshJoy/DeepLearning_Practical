{
  "cells": [
    {
      "cell_type": "markdown",
      "metadata": {},
      "source": [
        "# Text Pre-Processing for NLP"
      ]
    },
    {
      "cell_type": "code",
      "execution_count": 25,
      "metadata": {
        "id": "HuKvLwUTJ3aj"
      },
      "outputs": [],
      "source": [
        "import numpy as np\n",
        "from tensorflow.keras.preprocessing.text import Tokenizer\n",
        "from tensorflow.keras.preprocessing.sequence import pad_sequences"
      ]
    },
    {
      "cell_type": "code",
      "execution_count": 1,
      "metadata": {
        "id": "brbeE0PiBma4"
      },
      "outputs": [],
      "source": [
        "text = \"I like my brother. Go home!. Do you like my brother?\""
      ]
    },
    {
      "cell_type": "markdown",
      "metadata": {
        "id": "-ZdVaDXVJDVi"
      },
      "source": [
        "## 1- Manual Method"
      ]
    },
    {
      "cell_type": "markdown",
      "metadata": {
        "id": "NQV2jqHXJHfM"
      },
      "source": [
        "### 1-1- Standardization"
      ]
    },
    {
      "cell_type": "code",
      "execution_count": 2,
      "metadata": {
        "colab": {
          "base_uri": "https://localhost:8080/"
        },
        "id": "q4hJs94BJK4V",
        "outputId": "72dfb981-441f-4827-c770-c5d7908d2ff3"
      },
      "outputs": [
        {
          "name": "stdout",
          "output_type": "stream",
          "text": [
            "['i like my brother', 'go home!', 'do you like my brother?']\n"
          ]
        }
      ],
      "source": [
        "text_standard = text.lower()\n",
        "sentences = text_standard.split('. ')\n",
        "print(sentences)"
      ]
    },
    {
      "cell_type": "markdown",
      "metadata": {
        "id": "SY_V66UmJthd"
      },
      "source": [
        "### 1-2- Tokenization + Indexing"
      ]
    },
    {
      "cell_type": "code",
      "execution_count": 22,
      "metadata": {
        "colab": {
          "base_uri": "https://localhost:8080/"
        },
        "id": "i8g97OCyKEYV",
        "outputId": "5a47ea34-ee07-4f77-d21b-b21cdf1d7ed1"
      },
      "outputs": [
        {
          "name": "stdout",
          "output_type": "stream",
          "text": [
            "{'<OOV>': 1, 'like': 2, 'my': 3, 'brother': 4, 'i': 5, 'go': 6, 'home': 7, 'do': 8, 'you': 9}\n",
            "{1: '<OOV>', 2: 'like', 3: 'my', 4: 'brother', 5: 'i', 6: 'go', 7: 'home', 8: 'do', 9: 'you'}\n"
          ]
        }
      ],
      "source": [
        "tokenizer = Tokenizer(num_words=100, oov_token=\"<OOV>\")\n",
        "tokenizer.fit_on_texts(sentences)\n",
        "\n",
        "print(tokenizer.word_index)\n",
        "\n",
        "word_index_inverse = dict([(v, k) for k, v in tokenizer.word_index.items()])\n",
        "print(word_index_inverse)"
      ]
    },
    {
      "cell_type": "markdown",
      "metadata": {
        "id": "ORdCnRZhKrr6"
      },
      "source": [
        "### 1-3- Sequencing"
      ]
    },
    {
      "cell_type": "code",
      "execution_count": 16,
      "metadata": {
        "colab": {
          "base_uri": "https://localhost:8080/"
        },
        "id": "1-tkSFDtKvDD",
        "outputId": "b6ef4169-7843-4f56-a3bf-bf938769f603"
      },
      "outputs": [
        {
          "name": "stdout",
          "output_type": "stream",
          "text": [
            "[[5, 2, 3, 4], [6, 7], [8, 9, 2, 3, 4]]\n"
          ]
        }
      ],
      "source": [
        "sequences = tokenizer.texts_to_sequences(sentences)\n",
        "print(sequences)"
      ]
    },
    {
      "cell_type": "code",
      "execution_count": 35,
      "metadata": {
        "colab": {
          "base_uri": "https://localhost:8080/"
        },
        "id": "E79rGApPWtLv",
        "outputId": "ee78c9b5-de7a-4c35-f770-e46530221952"
      },
      "outputs": [
        {
          "name": "stdout",
          "output_type": "stream",
          "text": [
            "[4, 2, 5]\n"
          ]
        }
      ],
      "source": [
        "lenghts = [len(s) for s in sequences]\n",
        "print(lenghts)"
      ]
    },
    {
      "cell_type": "markdown",
      "metadata": {
        "id": "luxCq-yWL_fO"
      },
      "source": [
        "#### 1-3-1- Out-of-Vocabulary Words"
      ]
    },
    {
      "cell_type": "code",
      "execution_count": 18,
      "metadata": {
        "colab": {
          "base_uri": "https://localhost:8080/"
        },
        "id": "xdTYs7H-MG2n",
        "outputId": "2111744d-376d-432a-a8d0-c13b8fc958a4"
      },
      "outputs": [
        {
          "name": "stdout",
          "output_type": "stream",
          "text": [
            "[[5, 2, 3, 1]]\n",
            "['i like my <OOV>']\n"
          ]
        }
      ],
      "source": [
        "new_sentence = [\"I like my sister\"]\n",
        "new_sequence = tokenizer.texts_to_sequences(new_sentence)\n",
        "print(new_sequence)\n",
        "\n",
        "print(tokenizer.sequences_to_texts(new_sequence))"
      ]
    },
    {
      "cell_type": "markdown",
      "metadata": {
        "id": "3Fkq6zKrOSRa"
      },
      "source": [
        "### 1-4- Padding"
      ]
    },
    {
      "cell_type": "code",
      "execution_count": 36,
      "metadata": {
        "colab": {
          "base_uri": "https://localhost:8080/"
        },
        "id": "JQyr3MO8OV2x",
        "outputId": "a6ce0007-c19b-4126-e284-9d51121a794d"
      },
      "outputs": [
        {
          "name": "stdout",
          "output_type": "stream",
          "text": [
            "[[5 2 3 4 0]\n",
            " [6 7 0 0 0]\n",
            " [8 9 2 3 4]]\n"
          ]
        }
      ],
      "source": [
        "padded_sequences = pad_sequences(sequences, padding='post', maxlen=max(lenghts))\n",
        "\n",
        "\n",
        "input_data = np.array(padded_sequences, dtype=\"int32\")\n",
        "print(input_data)"
      ]
    },
    {
      "cell_type": "markdown",
      "metadata": {
        "id": "uyVsp2geVIgs"
      },
      "source": [
        "## 2- Using TextVectorization Layer"
      ]
    },
    {
      "cell_type": "code",
      "execution_count": 28,
      "metadata": {
        "id": "aWvWX4MyVMUv"
      },
      "outputs": [],
      "source": [
        "from tensorflow.keras.layers import TextVectorization"
      ]
    },
    {
      "cell_type": "code",
      "execution_count": 29,
      "metadata": {
        "colab": {
          "base_uri": "https://localhost:8080/"
        },
        "id": "AKiA7KqrVXGB",
        "outputId": "adc83767-0d8c-4809-e50f-f1466c9902a2"
      },
      "outputs": [
        {
          "name": "stdout",
          "output_type": "stream",
          "text": [
            "['I like my brother', 'Go home!', 'Do you like my brother?']\n"
          ]
        }
      ],
      "source": [
        "sentences = text.split('. ')\n",
        "print(sentences)"
      ]
    },
    {
      "cell_type": "code",
      "execution_count": 30,
      "metadata": {
        "id": "vG3rQMkBViIT"
      },
      "outputs": [],
      "source": [
        "text_vectorization = TextVectorization()\n",
        "text_vectorization.adapt(sentences)"
      ]
    },
    {
      "cell_type": "code",
      "execution_count": 33,
      "metadata": {
        "colab": {
          "base_uri": "https://localhost:8080/"
        },
        "id": "ukzfNY_pVyS0",
        "outputId": "3e04002d-e5c5-4977-af6f-ba453141e08f"
      },
      "outputs": [
        {
          "name": "stdout",
          "output_type": "stream",
          "text": [
            "['', '[UNK]', 'my', 'like', 'brother', 'you', 'i', 'home', 'go', 'do']\n",
            "{0: '', 1: '[UNK]', 2: 'my', 3: 'like', 4: 'brother', 5: 'you', 6: 'i', 7: 'home', 8: 'go', 9: 'do'}\n"
          ]
        }
      ],
      "source": [
        "vocab = text_vectorization.get_vocabulary()\n",
        "print(vocab)\n",
        "\n",
        "vocab_inverse = dict(enumerate(vocab))\n",
        "print(vocab_inverse)"
      ]
    },
    {
      "cell_type": "code",
      "execution_count": 34,
      "metadata": {
        "colab": {
          "base_uri": "https://localhost:8080/"
        },
        "id": "2whLjjpJWXom",
        "outputId": "5f51dfd2-4c66-4ea5-8f5c-5a9b5aa4bf92"
      },
      "outputs": [
        {
          "name": "stdout",
          "output_type": "stream",
          "text": [
            "tf.Tensor(\n",
            "[[6 3 2 4 0]\n",
            " [8 7 0 0 0]\n",
            " [9 5 3 2 4]], shape=(3, 5), dtype=int64)\n"
          ]
        }
      ],
      "source": [
        "encoded_sentences = text_vectorization(sentences)\n",
        "print(encoded_sentences)"
      ]
    }
  ],
  "metadata": {
    "colab": {
      "collapsed_sections": [],
      "name": "text_preprocessing.ipynb",
      "provenance": []
    },
    "kernelspec": {
      "display_name": "Python 3",
      "name": "python3"
    },
    "language_info": {
      "name": "python"
    }
  },
  "nbformat": 4,
  "nbformat_minor": 0
}
