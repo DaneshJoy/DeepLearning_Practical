{
  "nbformat": 4,
  "nbformat_minor": 0,
  "metadata": {
    "colab": {
      "name": "3_Multiclass_Classification_CNN.ipynb",
      "provenance": [],
      "collapsed_sections": []
    },
    "kernelspec": {
      "name": "python3",
      "display_name": "Python 3"
    },
    "language_info": {
      "name": "python"
    },
    "accelerator": "GPU",
    "gpuClass": "standard"
  },
  "cells": [
    {
      "cell_type": "code",
      "execution_count": 6,
      "metadata": {
        "id": "wPCUfCTzKedw"
      },
      "outputs": [],
      "source": [
        "from tensorflow.keras.datasets import fashion_mnist\n",
        "from tensorflow.keras import layers, Model"
      ]
    },
    {
      "cell_type": "code",
      "source": [
        "%%capture\n",
        "(training_images, training_labels), (test_images, test_labels) = fashion_mnist.load_data()"
      ],
      "metadata": {
        "id": "4pYbhx8TLZYz"
      },
      "execution_count": 3,
      "outputs": []
    },
    {
      "cell_type": "code",
      "source": [
        "training_images = training_images.reshape(60000, 28, 28, 1)\n",
        "training_images = training_images / 255.0\n",
        "test_images = test_images.reshape(10000, 28, 28, 1)\n",
        "test_images = test_images / 255.0"
      ],
      "metadata": {
        "id": "TzBw72HlLuSr"
      },
      "execution_count": 34,
      "outputs": []
    },
    {
      "cell_type": "code",
      "source": [
        "input = layers.Input(shape=(28, 28, 1))\n",
        "conv1 = layers.Conv2D(64, (3, 3), activation='relu')(input)\n",
        "pool1 = layers.MaxPool2D()(conv1)\n",
        "conv2 = layers.Conv2D(64, (3, 3), activation='relu')(pool1)\n",
        "pool2 = layers.MaxPool2D()(conv2)\n",
        "x = layers.Flatten()(pool2)\n",
        "dense1 = layers.Dense(128, activation='relu')(x)\n",
        "dense2 = layers.Dense(10, activation='softmax')(dense1)\n",
        "\n",
        "model = Model(inputs=[input], outputs=[dense2])\n",
        "model.compile(optimizer='adam',\n",
        "              loss='sparse_categorical_crossentropy',\n",
        "              metrics=['accuracy'])\n",
        "model.summary()\n",
        "\n"
      ],
      "metadata": {
        "colab": {
          "base_uri": "https://localhost:8080/"
        },
        "id": "Tu52ji8IL05a",
        "outputId": "5829a7a3-c249-45f2-b36e-0a9c6ea04a0c"
      },
      "execution_count": 39,
      "outputs": [
        {
          "output_type": "stream",
          "name": "stdout",
          "text": [
            "Model: \"model_11\"\n",
            "_________________________________________________________________\n",
            " Layer (type)                Output Shape              Param #   \n",
            "=================================================================\n",
            " input_13 (InputLayer)       [(None, 28, 28, 1)]       0         \n",
            "                                                                 \n",
            " conv2d_23 (Conv2D)          (None, 26, 26, 64)        640       \n",
            "                                                                 \n",
            " max_pooling2d_22 (MaxPoolin  (None, 13, 13, 64)       0         \n",
            " g2D)                                                            \n",
            "                                                                 \n",
            " conv2d_24 (Conv2D)          (None, 11, 11, 64)        36928     \n",
            "                                                                 \n",
            " max_pooling2d_23 (MaxPoolin  (None, 5, 5, 64)         0         \n",
            " g2D)                                                            \n",
            "                                                                 \n",
            " flatten_11 (Flatten)        (None, 1600)              0         \n",
            "                                                                 \n",
            " dense_22 (Dense)            (None, 128)               204928    \n",
            "                                                                 \n",
            " dense_23 (Dense)            (None, 10)                1290      \n",
            "                                                                 \n",
            "=================================================================\n",
            "Total params: 243,786\n",
            "Trainable params: 243,786\n",
            "Non-trainable params: 0\n",
            "_________________________________________________________________\n"
          ]
        }
      ]
    },
    {
      "cell_type": "code",
      "source": [
        "from tensorflow.keras import callbacks\n",
        "\n",
        "checkpoint = callbacks.ModelCheckpoint('model_checkpoint.keras',\n",
        "                                       monitor='val_loss',\n",
        "                                       save_best_only=True)\n",
        "logger = callbacks.CSVLogger('log.csv')\n",
        "\n",
        "callbacks = [checkpoint, logger]"
      ],
      "metadata": {
        "id": "Yx-s16pfPn7t"
      },
      "execution_count": 40,
      "outputs": []
    },
    {
      "cell_type": "code",
      "source": [
        "history = model.fit(training_images, training_labels,\n",
        "                    epochs=50,\n",
        "                    batch_size=128,\n",
        "                    validation_split=0.2,\n",
        "                    callbacks=callbacks)"
      ],
      "metadata": {
        "colab": {
          "base_uri": "https://localhost:8080/"
        },
        "id": "6QccND5sPwl9",
        "outputId": "799e2e07-c07c-4818-d1e9-d90a11b18f38"
      },
      "execution_count": 41,
      "outputs": [
        {
          "output_type": "stream",
          "name": "stdout",
          "text": [
            "Epoch 1/50\n",
            "375/375 [==============================] - 3s 7ms/step - loss: 1.1747 - accuracy: 0.5771 - val_loss: 0.7616 - val_accuracy: 0.6964\n",
            "Epoch 2/50\n",
            "375/375 [==============================] - 2s 7ms/step - loss: 0.7269 - accuracy: 0.7262 - val_loss: 0.6858 - val_accuracy: 0.7222\n",
            "Epoch 3/50\n",
            "375/375 [==============================] - 2s 6ms/step - loss: 0.6679 - accuracy: 0.7476 - val_loss: 0.6355 - val_accuracy: 0.7614\n",
            "Epoch 4/50\n",
            "375/375 [==============================] - 2s 6ms/step - loss: 0.6201 - accuracy: 0.7670 - val_loss: 0.6125 - val_accuracy: 0.7694\n",
            "Epoch 5/50\n",
            "375/375 [==============================] - 2s 7ms/step - loss: 0.5829 - accuracy: 0.7810 - val_loss: 0.5714 - val_accuracy: 0.7904\n",
            "Epoch 6/50\n",
            "375/375 [==============================] - 2s 7ms/step - loss: 0.5489 - accuracy: 0.7957 - val_loss: 0.5291 - val_accuracy: 0.8006\n",
            "Epoch 7/50\n",
            "375/375 [==============================] - 2s 6ms/step - loss: 0.5215 - accuracy: 0.8057 - val_loss: 0.5197 - val_accuracy: 0.8084\n",
            "Epoch 8/50\n",
            "375/375 [==============================] - 2s 6ms/step - loss: 0.5002 - accuracy: 0.8148 - val_loss: 0.4919 - val_accuracy: 0.8177\n",
            "Epoch 9/50\n",
            "375/375 [==============================] - 2s 7ms/step - loss: 0.4832 - accuracy: 0.8194 - val_loss: 0.4726 - val_accuracy: 0.8232\n",
            "Epoch 10/50\n",
            "375/375 [==============================] - 2s 6ms/step - loss: 0.4713 - accuracy: 0.8245 - val_loss: 0.4672 - val_accuracy: 0.8297\n",
            "Epoch 11/50\n",
            "375/375 [==============================] - 2s 6ms/step - loss: 0.4548 - accuracy: 0.8313 - val_loss: 0.4581 - val_accuracy: 0.8295\n",
            "Epoch 12/50\n",
            "375/375 [==============================] - 2s 6ms/step - loss: 0.4430 - accuracy: 0.8369 - val_loss: 0.4502 - val_accuracy: 0.8367\n",
            "Epoch 13/50\n",
            "375/375 [==============================] - 2s 7ms/step - loss: 0.4311 - accuracy: 0.8425 - val_loss: 0.4432 - val_accuracy: 0.8384\n",
            "Epoch 14/50\n",
            "375/375 [==============================] - 2s 7ms/step - loss: 0.4206 - accuracy: 0.8455 - val_loss: 0.4259 - val_accuracy: 0.8461\n",
            "Epoch 15/50\n",
            "375/375 [==============================] - 2s 6ms/step - loss: 0.4092 - accuracy: 0.8494 - val_loss: 0.4286 - val_accuracy: 0.8473\n",
            "Epoch 16/50\n",
            "375/375 [==============================] - 2s 7ms/step - loss: 0.4033 - accuracy: 0.8521 - val_loss: 0.4054 - val_accuracy: 0.8543\n",
            "Epoch 17/50\n",
            "375/375 [==============================] - 2s 6ms/step - loss: 0.3943 - accuracy: 0.8569 - val_loss: 0.3973 - val_accuracy: 0.8563\n",
            "Epoch 18/50\n",
            "375/375 [==============================] - 2s 6ms/step - loss: 0.3841 - accuracy: 0.8605 - val_loss: 0.3942 - val_accuracy: 0.8555\n",
            "Epoch 19/50\n",
            "375/375 [==============================] - 2s 6ms/step - loss: 0.3760 - accuracy: 0.8618 - val_loss: 0.3844 - val_accuracy: 0.8568\n",
            "Epoch 20/50\n",
            "375/375 [==============================] - 2s 6ms/step - loss: 0.3665 - accuracy: 0.8660 - val_loss: 0.3845 - val_accuracy: 0.8582\n",
            "Epoch 21/50\n",
            "375/375 [==============================] - 2s 7ms/step - loss: 0.3607 - accuracy: 0.8685 - val_loss: 0.3783 - val_accuracy: 0.8640\n",
            "Epoch 22/50\n",
            "375/375 [==============================] - 2s 7ms/step - loss: 0.3526 - accuracy: 0.8721 - val_loss: 0.3761 - val_accuracy: 0.8624\n",
            "Epoch 23/50\n",
            "375/375 [==============================] - 3s 8ms/step - loss: 0.3463 - accuracy: 0.8723 - val_loss: 0.3613 - val_accuracy: 0.8718\n",
            "Epoch 24/50\n",
            "375/375 [==============================] - 2s 6ms/step - loss: 0.3384 - accuracy: 0.8759 - val_loss: 0.3585 - val_accuracy: 0.8702\n",
            "Epoch 25/50\n",
            "375/375 [==============================] - 2s 6ms/step - loss: 0.3323 - accuracy: 0.8785 - val_loss: 0.3614 - val_accuracy: 0.8687\n",
            "Epoch 26/50\n",
            "375/375 [==============================] - 2s 6ms/step - loss: 0.3260 - accuracy: 0.8781 - val_loss: 0.3644 - val_accuracy: 0.8673\n",
            "Epoch 27/50\n",
            "375/375 [==============================] - 2s 6ms/step - loss: 0.3209 - accuracy: 0.8817 - val_loss: 0.3518 - val_accuracy: 0.8729\n",
            "Epoch 28/50\n",
            "375/375 [==============================] - 2s 6ms/step - loss: 0.3158 - accuracy: 0.8847 - val_loss: 0.3398 - val_accuracy: 0.8753\n",
            "Epoch 29/50\n",
            "375/375 [==============================] - 2s 6ms/step - loss: 0.3101 - accuracy: 0.8861 - val_loss: 0.3425 - val_accuracy: 0.8744\n",
            "Epoch 30/50\n",
            "375/375 [==============================] - 2s 6ms/step - loss: 0.3050 - accuracy: 0.8871 - val_loss: 0.3500 - val_accuracy: 0.8742\n",
            "Epoch 31/50\n",
            "375/375 [==============================] - 2s 6ms/step - loss: 0.3014 - accuracy: 0.8885 - val_loss: 0.3350 - val_accuracy: 0.8795\n",
            "Epoch 32/50\n",
            "375/375 [==============================] - 2s 7ms/step - loss: 0.2953 - accuracy: 0.8926 - val_loss: 0.3334 - val_accuracy: 0.8794\n",
            "Epoch 33/50\n",
            "375/375 [==============================] - 2s 6ms/step - loss: 0.2925 - accuracy: 0.8929 - val_loss: 0.3331 - val_accuracy: 0.8797\n",
            "Epoch 34/50\n",
            "375/375 [==============================] - 2s 6ms/step - loss: 0.2876 - accuracy: 0.8936 - val_loss: 0.3281 - val_accuracy: 0.8838\n",
            "Epoch 35/50\n",
            "375/375 [==============================] - 2s 7ms/step - loss: 0.2851 - accuracy: 0.8947 - val_loss: 0.3294 - val_accuracy: 0.8770\n",
            "Epoch 36/50\n",
            "375/375 [==============================] - 2s 6ms/step - loss: 0.2810 - accuracy: 0.8942 - val_loss: 0.3246 - val_accuracy: 0.8807\n",
            "Epoch 37/50\n",
            "375/375 [==============================] - 2s 6ms/step - loss: 0.2790 - accuracy: 0.8956 - val_loss: 0.3217 - val_accuracy: 0.8823\n",
            "Epoch 38/50\n",
            "375/375 [==============================] - 2s 6ms/step - loss: 0.2723 - accuracy: 0.9004 - val_loss: 0.3222 - val_accuracy: 0.8810\n",
            "Epoch 39/50\n",
            "375/375 [==============================] - 2s 6ms/step - loss: 0.2686 - accuracy: 0.9005 - val_loss: 0.3237 - val_accuracy: 0.8830\n",
            "Epoch 40/50\n",
            "375/375 [==============================] - 2s 6ms/step - loss: 0.2660 - accuracy: 0.9023 - val_loss: 0.3224 - val_accuracy: 0.8844\n",
            "Epoch 41/50\n",
            "375/375 [==============================] - 2s 6ms/step - loss: 0.2634 - accuracy: 0.9031 - val_loss: 0.3153 - val_accuracy: 0.8873\n",
            "Epoch 42/50\n",
            "375/375 [==============================] - 2s 6ms/step - loss: 0.2596 - accuracy: 0.9043 - val_loss: 0.3154 - val_accuracy: 0.8837\n",
            "Epoch 43/50\n",
            "375/375 [==============================] - 3s 8ms/step - loss: 0.2565 - accuracy: 0.9061 - val_loss: 0.3195 - val_accuracy: 0.8815\n",
            "Epoch 44/50\n",
            "375/375 [==============================] - 3s 7ms/step - loss: 0.2548 - accuracy: 0.9054 - val_loss: 0.3062 - val_accuracy: 0.8878\n",
            "Epoch 45/50\n",
            "375/375 [==============================] - 2s 6ms/step - loss: 0.2491 - accuracy: 0.9087 - val_loss: 0.3039 - val_accuracy: 0.8904\n",
            "Epoch 46/50\n",
            "375/375 [==============================] - 2s 6ms/step - loss: 0.2475 - accuracy: 0.9085 - val_loss: 0.3053 - val_accuracy: 0.8883\n",
            "Epoch 47/50\n",
            "375/375 [==============================] - 2s 6ms/step - loss: 0.2453 - accuracy: 0.9077 - val_loss: 0.3092 - val_accuracy: 0.8888\n",
            "Epoch 48/50\n",
            "375/375 [==============================] - 2s 6ms/step - loss: 0.2452 - accuracy: 0.9082 - val_loss: 0.3136 - val_accuracy: 0.8873\n",
            "Epoch 49/50\n",
            "375/375 [==============================] - 2s 7ms/step - loss: 0.2389 - accuracy: 0.9120 - val_loss: 0.3020 - val_accuracy: 0.8926\n",
            "Epoch 50/50\n",
            "375/375 [==============================] - 2s 6ms/step - loss: 0.2373 - accuracy: 0.9130 - val_loss: 0.3144 - val_accuracy: 0.8886\n"
          ]
        }
      ]
    },
    {
      "cell_type": "code",
      "source": [
        "import matplotlib.pyplot as plt\n",
        "\n",
        "plt.plot(history.history['loss'][1:], label='Train Loss')\n",
        "plt.plot(history.history['val_loss'][1:], label='Valid Loss')\n",
        "plt.legend()"
      ],
      "metadata": {
        "colab": {
          "base_uri": "https://localhost:8080/",
          "height": 282
        },
        "id": "EUQqvtPHQ_yx",
        "outputId": "5dc6c60f-b2ca-40ed-94f6-4b2d91b1949c"
      },
      "execution_count": 42,
      "outputs": [
        {
          "output_type": "execute_result",
          "data": {
            "text/plain": [
              "<matplotlib.legend.Legend at 0x7f15da5aed10>"
            ]
          },
          "metadata": {},
          "execution_count": 42
        },
        {
          "output_type": "display_data",
          "data": {
            "text/plain": [
              "<Figure size 432x288 with 1 Axes>"
            ],
            "image/png": "[encoded data removed]"
          },
          "metadata": {
            "needs_background": "light"
          }
        }
      ]
    },
    {
      "cell_type": "code",
      "source": [
        "plt.plot(history.history['accuracy'][1:], label='Train accuracy')\n",
        "plt.plot(history.history['val_accuracy'][1:], label='Valid accuracy')\n",
        "plt.legend()"
      ],
      "metadata": {
        "colab": {
          "base_uri": "https://localhost:8080/",
          "height": 282
        },
        "id": "AeCe-JZhRTNA",
        "outputId": "bf9471aa-7e6d-4ec7-a18b-e2f627afa6e4"
      },
      "execution_count": 43,
      "outputs": [
        {
          "output_type": "execute_result",
          "data": {
            "text/plain": [
              "<matplotlib.legend.Legend at 0x7f15da55c850>"
            ]
          },
          "metadata": {},
          "execution_count": 43
        },
        {
          "output_type": "display_data",
          "data": {
            "text/plain": [
              "<Figure size 432x288 with 1 Axes>"
            ],
            "image/png": "[encoded data removed]"
          },
          "metadata": {
            "needs_background": "light"
          }
        }
      ]
    },
    {
      "cell_type": "code",
      "source": [
        "model.evaluate(test_images, test_labels)"
      ],
      "metadata": {
        "colab": {
          "base_uri": "https://localhost:8080/"
        },
        "id": "eB8GjSUsToNz",
        "outputId": "b95a2b7e-1817-48d1-f48b-c01caf10dacb"
      },
      "execution_count": 44,
      "outputs": [
        {
          "output_type": "stream",
          "name": "stdout",
          "text": [
            "313/313 [==============================] - 1s 3ms/step - loss: 0.3199 - accuracy: 0.8885\n"
          ]
        },
        {
          "output_type": "execute_result",
          "data": {
            "text/plain": [
              "[0.31992703676223755, 0.8884999752044678]"
            ]
          },
          "metadata": {},
          "execution_count": 44
        }
      ]
    }
  ]
}