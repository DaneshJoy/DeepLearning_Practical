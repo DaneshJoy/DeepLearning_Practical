{
  "nbformat": 4,
  "nbformat_minor": 0,
  "metadata": {
    "colab": {
      "provenance": []
    },
    "kernelspec": {
      "name": "python3",
      "display_name": "Python 3"
    },
    "language_info": {
      "name": "python"
    }
  },
  "cells": [
    {
      "cell_type": "markdown",
      "source": [
        "# Regression on California housing dataset\n",
        "using keras functional API"
      ],
      "metadata": {
        "id": "kJWDIaXmrlNA"
      }
    },
    {
      "cell_type": "code",
      "execution_count": null,
      "metadata": {
        "id": "4Me1-eu_rf-N"
      },
      "outputs": [],
      "source": [
        "import numpy as np\n",
        "import matplotlib.pyplot as plt\n",
        "from keras import datasets\n",
        "from keras import Model, layers\n",
        "from keras.utils import plot_model"
      ]
    },
    {
      "cell_type": "markdown",
      "source": [
        "## Load data"
      ],
      "metadata": {
        "id": "wdNYCx8zxVWz"
      }
    },
    {
      "cell_type": "code",
      "source": [
        "(x_train, y_train), (x_test, y_test) = datasets.california_housing.load_data(version='small')"
      ],
      "metadata": {
        "id": "i1_fHw96xWYI",
        "colab": {
          "base_uri": "https://localhost:8080/"
        },
        "outputId": "674c3952-a8a6-4d81-8869-442d52ac3c3a"
      },
      "execution_count": null,
      "outputs": [
        {
          "output_type": "stream",
          "name": "stdout",
          "text": [
            "Downloading data from https://storage.googleapis.com/tensorflow/tf-keras-datasets/california_housing.npz\n",
            "\u001b[1m743530/743530\u001b[0m \u001b[32m━━━━━━━━━━━━━━━━━━━━\u001b[0m\u001b[37m\u001b[0m \u001b[1m0s\u001b[0m 0us/step\n"
          ]
        }
      ]
    },
    {
      "cell_type": "code",
      "source": [
        "print(f'Train data shape: {x_train.shape}')\n",
        "print(f'Test data shape: {x_test.shape}')"
      ],
      "metadata": {
        "colab": {
          "base_uri": "https://localhost:8080/"
        },
        "id": "kPZ6fdsdxkj1",
        "outputId": "2bdcda2a-bf6b-4b7a-e248-1c98f09d82fd"
      },
      "execution_count": null,
      "outputs": [
        {
          "output_type": "stream",
          "name": "stdout",
          "text": [
            "Train data shape: (480, 8)\n",
            "Test data shape: (120, 8)\n"
          ]
        }
      ]
    },
    {
      "cell_type": "markdown",
      "source": [
        "## Pre-processing"
      ],
      "metadata": {
        "id": "2lFRXeF4x3cx"
      }
    },
    {
      "cell_type": "code",
      "source": [
        "# Normalization\n",
        "mean = x_train.mean(axis=0)\n",
        "std = x_train.std(axis=0)\n",
        "\n",
        "x_train -= mean\n",
        "x_train /= std\n",
        "\n",
        "x_test -= mean\n",
        "x_test /= std"
      ],
      "metadata": {
        "id": "IbM0YyDBx4zP"
      },
      "execution_count": null,
      "outputs": []
    },
    {
      "cell_type": "code",
      "source": [
        "x_train.shape"
      ],
      "metadata": {
        "colab": {
          "base_uri": "https://localhost:8080/"
        },
        "id": "TC6lXC_rsLkQ",
        "outputId": "7f7781a4-36d7-4c35-fa38-84d8e47fbf8e"
      },
      "execution_count": null,
      "outputs": [
        {
          "output_type": "execute_result",
          "data": {
            "text/plain": [
              "(480, 8)"
            ]
          },
          "metadata": {},
          "execution_count": 5
        }
      ]
    },
    {
      "cell_type": "markdown",
      "source": [
        "### Split the dataset in two feature groups"
      ],
      "metadata": {
        "id": "3R2NrGKcsDsK"
      }
    },
    {
      "cell_type": "code",
      "source": [
        "x_train_1 = x_train[:, :3]\n",
        "x_train_2 = x_train[:, 3:]"
      ],
      "metadata": {
        "colab": {
          "base_uri": "https://localhost:8080/"
        },
        "id": "sL0TSbbmsDUa",
        "outputId": "6b451e8c-760a-43cc-f547-3e0399ba0f4f"
      },
      "execution_count": null,
      "outputs": [
        {
          "output_type": "execute_result",
          "data": {
            "text/plain": [
              "(480, 5)"
            ]
          },
          "metadata": {},
          "execution_count": 7
        }
      ]
    },
    {
      "cell_type": "markdown",
      "source": [
        "## Model Design"
      ],
      "metadata": {
        "id": "7A8m3P1gstLk"
      }
    },
    {
      "cell_type": "markdown",
      "source": [
        "### Two inputs / Two outputs"
      ],
      "metadata": {
        "id": "CPUJsPITxndY"
      }
    },
    {
      "cell_type": "code",
      "source": [
        "inp1 = layers.Input(shape=(3,))\n",
        "inp2 = layers.Input(shape=(5,))\n",
        "\n",
        "L1 = layers.Dense(32, activation='relu', name='L1')(inp2)\n",
        "L2 = layers.Dense(32, activation='relu', name='L2')(L1)\n",
        "\n",
        "concat = layers.Concatenate()([inp1, L2])\n",
        "\n",
        "L3 = layers.Dense(16, activation='relu', name='L3')(concat)\n",
        "L4 = layers.Dense(8, activation='relu', name='L4')(L3)\n",
        "\n",
        "out = layers.Dense(1)(L4)\n",
        "\n",
        "model = Model(inputs=[inp1, inp2], outputs=out)\n",
        "\n",
        "model.summary()"
      ],
      "metadata": {
        "colab": {
          "base_uri": "https://localhost:8080/",
          "height": 433
        },
        "id": "lTh2AVg4spw1",
        "outputId": "0e84de6d-c459-4828-be10-e10bc23613a2"
      },
      "execution_count": null,
      "outputs": [
        {
          "output_type": "display_data",
          "data": {
            "text/plain": [
              "\u001b[1mModel: \"functional_1\"\u001b[0m\n"
            ],
            "text/html": [
              "<pre style=\"white-space:pre;overflow-x:auto;line-height:normal;font-family:Menlo,'DejaVu Sans Mono',consolas,'Courier New',monospace\"><span style=\"font-weight: bold\">Model: \"functional_1\"</span>\n",
              "</pre>\n"
            ]
          },
          "metadata": {}
        },
        {
          "output_type": "display_data",
          "data": {
            "text/plain": [
              "┏━━━━━━━━━━━━━━━━━━━━━━━━━━━┳━━━━━━━━━━━━━━━━━━━━━━━━┳━━━━━━━━━━━━━━━━┳━━━━━━━━━━━━━━━━━━━━━━━━┓\n",
              "┃\u001b[1m \u001b[0m\u001b[1mLayer (type)             \u001b[0m\u001b[1m \u001b[0m┃\u001b[1m \u001b[0m\u001b[1mOutput Shape          \u001b[0m\u001b[1m \u001b[0m┃\u001b[1m \u001b[0m\u001b[1m       Param #\u001b[0m\u001b[1m \u001b[0m┃\u001b[1m \u001b[0m\u001b[1mConnected to          \u001b[0m\u001b[1m \u001b[0m┃\n",
              "┡━━━━━━━━━━━━━━━━━━━━━━━━━━━╇━━━━━━━━━━━━━━━━━━━━━━━━╇━━━━━━━━━━━━━━━━╇━━━━━━━━━━━━━━━━━━━━━━━━┩\n",
              "│ input_layer_3             │ (\u001b[38;5;45mNone\u001b[0m, \u001b[38;5;34m5\u001b[0m)              │              \u001b[38;5;34m0\u001b[0m │ -                      │\n",
              "│ (\u001b[38;5;33mInputLayer\u001b[0m)              │                        │                │                        │\n",
              "├───────────────────────────┼────────────────────────┼────────────────┼────────────────────────┤\n",
              "│ L1 (\u001b[38;5;33mDense\u001b[0m)                │ (\u001b[38;5;45mNone\u001b[0m, \u001b[38;5;34m32\u001b[0m)             │            \u001b[38;5;34m192\u001b[0m │ input_layer_3[\u001b[38;5;34m0\u001b[0m][\u001b[38;5;34m0\u001b[0m]    │\n",
              "├───────────────────────────┼────────────────────────┼────────────────┼────────────────────────┤\n",
              "│ input_layer_2             │ (\u001b[38;5;45mNone\u001b[0m, \u001b[38;5;34m3\u001b[0m)              │              \u001b[38;5;34m0\u001b[0m │ -                      │\n",
              "│ (\u001b[38;5;33mInputLayer\u001b[0m)              │                        │                │                        │\n",
              "├───────────────────────────┼────────────────────────┼────────────────┼────────────────────────┤\n",
              "│ L2 (\u001b[38;5;33mDense\u001b[0m)                │ (\u001b[38;5;45mNone\u001b[0m, \u001b[38;5;34m32\u001b[0m)             │          \u001b[38;5;34m1,056\u001b[0m │ L1[\u001b[38;5;34m0\u001b[0m][\u001b[38;5;34m0\u001b[0m]               │\n",
              "├───────────────────────────┼────────────────────────┼────────────────┼────────────────────────┤\n",
              "│ concatenate_1             │ (\u001b[38;5;45mNone\u001b[0m, \u001b[38;5;34m35\u001b[0m)             │              \u001b[38;5;34m0\u001b[0m │ input_layer_2[\u001b[38;5;34m0\u001b[0m][\u001b[38;5;34m0\u001b[0m],   │\n",
              "│ (\u001b[38;5;33mConcatenate\u001b[0m)             │                        │                │ L2[\u001b[38;5;34m0\u001b[0m][\u001b[38;5;34m0\u001b[0m]               │\n",
              "├───────────────────────────┼────────────────────────┼────────────────┼────────────────────────┤\n",
              "│ L3 (\u001b[38;5;33mDense\u001b[0m)                │ (\u001b[38;5;45mNone\u001b[0m, \u001b[38;5;34m16\u001b[0m)             │            \u001b[38;5;34m576\u001b[0m │ concatenate_1[\u001b[38;5;34m0\u001b[0m][\u001b[38;5;34m0\u001b[0m]    │\n",
              "├───────────────────────────┼────────────────────────┼────────────────┼────────────────────────┤\n",
              "│ L4 (\u001b[38;5;33mDense\u001b[0m)                │ (\u001b[38;5;45mNone\u001b[0m, \u001b[38;5;34m8\u001b[0m)              │            \u001b[38;5;34m136\u001b[0m │ L3[\u001b[38;5;34m0\u001b[0m][\u001b[38;5;34m0\u001b[0m]               │\n",
              "├───────────────────────────┼────────────────────────┼────────────────┼────────────────────────┤\n",
              "│ dense_5 (\u001b[38;5;33mDense\u001b[0m)           │ (\u001b[38;5;45mNone\u001b[0m, \u001b[38;5;34m1\u001b[0m)              │              \u001b[38;5;34m9\u001b[0m │ L4[\u001b[38;5;34m0\u001b[0m][\u001b[38;5;34m0\u001b[0m]               │\n",
              "└───────────────────────────┴────────────────────────┴────────────────┴────────────────────────┘\n"
            ],
            "text/html": [
              "<pre style=\"white-space:pre;overflow-x:auto;line-height:normal;font-family:Menlo,'DejaVu Sans Mono',consolas,'Courier New',monospace\">┏━━━━━━━━━━━━━━━━━━━━━━━━━━━┳━━━━━━━━━━━━━━━━━━━━━━━━┳━━━━━━━━━━━━━━━━┳━━━━━━━━━━━━━━━━━━━━━━━━┓\n",
              "┃<span style=\"font-weight: bold\"> Layer (type)              </span>┃<span style=\"font-weight: bold\"> Output Shape           </span>┃<span style=\"font-weight: bold\">        Param # </span>┃<span style=\"font-weight: bold\"> Connected to           </span>┃\n",
              "┡━━━━━━━━━━━━━━━━━━━━━━━━━━━╇━━━━━━━━━━━━━━━━━━━━━━━━╇━━━━━━━━━━━━━━━━╇━━━━━━━━━━━━━━━━━━━━━━━━┩\n",
              "│ input_layer_3             │ (<span style=\"color: #00d7ff; text-decoration-color: #00d7ff\">None</span>, <span style=\"color: #00af00; text-decoration-color: #00af00\">5</span>)              │              <span style=\"color: #00af00; text-decoration-color: #00af00\">0</span> │ -                      │\n",
              "│ (<span style=\"color: #0087ff; text-decoration-color: #0087ff\">InputLayer</span>)              │                        │                │                        │\n",
              "├───────────────────────────┼────────────────────────┼────────────────┼────────────────────────┤\n",
              "│ L1 (<span style=\"color: #0087ff; text-decoration-color: #0087ff\">Dense</span>)                │ (<span style=\"color: #00d7ff; text-decoration-color: #00d7ff\">None</span>, <span style=\"color: #00af00; text-decoration-color: #00af00\">32</span>)             │            <span style=\"color: #00af00; text-decoration-color: #00af00\">192</span> │ input_layer_3[<span style=\"color: #00af00; text-decoration-color: #00af00\">0</span>][<span style=\"color: #00af00; text-decoration-color: #00af00\">0</span>]    │\n",
              "├───────────────────────────┼────────────────────────┼────────────────┼────────────────────────┤\n",
              "│ input_layer_2             │ (<span style=\"color: #00d7ff; text-decoration-color: #00d7ff\">None</span>, <span style=\"color: #00af00; text-decoration-color: #00af00\">3</span>)              │              <span style=\"color: #00af00; text-decoration-color: #00af00\">0</span> │ -                      │\n",
              "│ (<span style=\"color: #0087ff; text-decoration-color: #0087ff\">InputLayer</span>)              │                        │                │                        │\n",
              "├───────────────────────────┼────────────────────────┼────────────────┼────────────────────────┤\n",
              "│ L2 (<span style=\"color: #0087ff; text-decoration-color: #0087ff\">Dense</span>)                │ (<span style=\"color: #00d7ff; text-decoration-color: #00d7ff\">None</span>, <span style=\"color: #00af00; text-decoration-color: #00af00\">32</span>)             │          <span style=\"color: #00af00; text-decoration-color: #00af00\">1,056</span> │ L1[<span style=\"color: #00af00; text-decoration-color: #00af00\">0</span>][<span style=\"color: #00af00; text-decoration-color: #00af00\">0</span>]               │\n",
              "├───────────────────────────┼────────────────────────┼────────────────┼────────────────────────┤\n",
              "│ concatenate_1             │ (<span style=\"color: #00d7ff; text-decoration-color: #00d7ff\">None</span>, <span style=\"color: #00af00; text-decoration-color: #00af00\">35</span>)             │              <span style=\"color: #00af00; text-decoration-color: #00af00\">0</span> │ input_layer_2[<span style=\"color: #00af00; text-decoration-color: #00af00\">0</span>][<span style=\"color: #00af00; text-decoration-color: #00af00\">0</span>],   │\n",
              "│ (<span style=\"color: #0087ff; text-decoration-color: #0087ff\">Concatenate</span>)             │                        │                │ L2[<span style=\"color: #00af00; text-decoration-color: #00af00\">0</span>][<span style=\"color: #00af00; text-decoration-color: #00af00\">0</span>]               │\n",
              "├───────────────────────────┼────────────────────────┼────────────────┼────────────────────────┤\n",
              "│ L3 (<span style=\"color: #0087ff; text-decoration-color: #0087ff\">Dense</span>)                │ (<span style=\"color: #00d7ff; text-decoration-color: #00d7ff\">None</span>, <span style=\"color: #00af00; text-decoration-color: #00af00\">16</span>)             │            <span style=\"color: #00af00; text-decoration-color: #00af00\">576</span> │ concatenate_1[<span style=\"color: #00af00; text-decoration-color: #00af00\">0</span>][<span style=\"color: #00af00; text-decoration-color: #00af00\">0</span>]    │\n",
              "├───────────────────────────┼────────────────────────┼────────────────┼────────────────────────┤\n",
              "│ L4 (<span style=\"color: #0087ff; text-decoration-color: #0087ff\">Dense</span>)                │ (<span style=\"color: #00d7ff; text-decoration-color: #00d7ff\">None</span>, <span style=\"color: #00af00; text-decoration-color: #00af00\">8</span>)              │            <span style=\"color: #00af00; text-decoration-color: #00af00\">136</span> │ L3[<span style=\"color: #00af00; text-decoration-color: #00af00\">0</span>][<span style=\"color: #00af00; text-decoration-color: #00af00\">0</span>]               │\n",
              "├───────────────────────────┼────────────────────────┼────────────────┼────────────────────────┤\n",
              "│ dense_5 (<span style=\"color: #0087ff; text-decoration-color: #0087ff\">Dense</span>)           │ (<span style=\"color: #00d7ff; text-decoration-color: #00d7ff\">None</span>, <span style=\"color: #00af00; text-decoration-color: #00af00\">1</span>)              │              <span style=\"color: #00af00; text-decoration-color: #00af00\">9</span> │ L4[<span style=\"color: #00af00; text-decoration-color: #00af00\">0</span>][<span style=\"color: #00af00; text-decoration-color: #00af00\">0</span>]               │\n",
              "└───────────────────────────┴────────────────────────┴────────────────┴────────────────────────┘\n",
              "</pre>\n"
            ]
          },
          "metadata": {}
        },
        {
          "output_type": "display_data",
          "data": {
            "text/plain": [
              "\u001b[1m Total params: \u001b[0m\u001b[38;5;34m1,969\u001b[0m (7.69 KB)\n"
            ],
            "text/html": [
              "<pre style=\"white-space:pre;overflow-x:auto;line-height:normal;font-family:Menlo,'DejaVu Sans Mono',consolas,'Courier New',monospace\"><span style=\"font-weight: bold\"> Total params: </span><span style=\"color: #00af00; text-decoration-color: #00af00\">1,969</span> (7.69 KB)\n",
              "</pre>\n"
            ]
          },
          "metadata": {}
        },
        {
          "output_type": "display_data",
          "data": {
            "text/plain": [
              "\u001b[1m Trainable params: \u001b[0m\u001b[38;5;34m1,969\u001b[0m (7.69 KB)\n"
            ],
            "text/html": [
              "<pre style=\"white-space:pre;overflow-x:auto;line-height:normal;font-family:Menlo,'DejaVu Sans Mono',consolas,'Courier New',monospace\"><span style=\"font-weight: bold\"> Trainable params: </span><span style=\"color: #00af00; text-decoration-color: #00af00\">1,969</span> (7.69 KB)\n",
              "</pre>\n"
            ]
          },
          "metadata": {}
        },
        {
          "output_type": "display_data",
          "data": {
            "text/plain": [
              "\u001b[1m Non-trainable params: \u001b[0m\u001b[38;5;34m0\u001b[0m (0.00 B)\n"
            ],
            "text/html": [
              "<pre style=\"white-space:pre;overflow-x:auto;line-height:normal;font-family:Menlo,'DejaVu Sans Mono',consolas,'Courier New',monospace\"><span style=\"font-weight: bold\"> Non-trainable params: </span><span style=\"color: #00af00; text-decoration-color: #00af00\">0</span> (0.00 B)\n",
              "</pre>\n"
            ]
          },
          "metadata": {}
        }
      ]
    },
    {
      "cell_type": "code",
      "source": [
        "inp1 = layers.Input(shape=(3,))\n",
        "inp2 = layers.Input(shape=(5,))\n",
        "\n",
        "L1 = layers.Dense(32, activation='relu', name='L1')(inp2)\n",
        "L2 = layers.Dense(32, activation='relu', name='L2')(L1)\n",
        "\n",
        "concat = layers.Concatenate()([inp1, L2])\n",
        "\n",
        "L3 = layers.Dense(16, activation='relu', name='L3')(concat)\n",
        "L4 = layers.Dense(8, activation='relu', name='L4')(L3)\n",
        "\n",
        "out = layers.Dense(1)(L4)\n",
        "\n",
        "model = Model(inputs=[inp1, inp2], outputs=out)"
      ],
      "metadata": {
        "id": "-h9dyUW86hOr"
      },
      "execution_count": null,
      "outputs": []
    },
    {
      "cell_type": "code",
      "source": [
        "inp1 = layers.Input(shape=(3,))\n",
        "inp2 = layers.Input(shape=(5,))\n",
        "\n",
        "L1 = layers.Dense(32, activation='relu', name='L1')(inp2)\n",
        "L2 = layers.Dense(32, activation='relu', name='L2')(L1)\n",
        "\n",
        "concat = layers.Concatenate()([inp1, L2])\n",
        "\n",
        "L3 = layers.Dense(16, activation='relu', name='L3')(concat)\n",
        "L4 = layers.Dense(8, activation='relu', name='L4')(L3)\n",
        "\n",
        "out = layers.Dense(1)(L4)\n",
        "\n",
        "model = Model(inputs=[inp1, inp2], outputs=out)\n",
        "\n",
        "model.summary()"
      ],
      "metadata": {
        "colab": {
          "base_uri": "https://localhost:8080/",
          "height": 433
        },
        "outputId": "0e84de6d-c459-4828-be10-e10bc23613a2",
        "id": "8MshholK6mDg"
      },
      "execution_count": null,
      "outputs": [
        {
          "output_type": "display_data",
          "data": {
            "text/plain": [
              "\u001b[1mModel: \"functional_1\"\u001b[0m\n"
            ],
            "text/html": [
              "<pre style=\"white-space:pre;overflow-x:auto;line-height:normal;font-family:Menlo,'DejaVu Sans Mono',consolas,'Courier New',monospace\"><span style=\"font-weight: bold\">Model: \"functional_1\"</span>\n",
              "</pre>\n"
            ]
          },
          "metadata": {}
        },
        {
          "output_type": "display_data",
          "data": {
            "text/plain": [
              "┏━━━━━━━━━━━━━━━━━━━━━━━━━━━┳━━━━━━━━━━━━━━━━━━━━━━━━┳━━━━━━━━━━━━━━━━┳━━━━━━━━━━━━━━━━━━━━━━━━┓\n",
              "┃\u001b[1m \u001b[0m\u001b[1mLayer (type)             \u001b[0m\u001b[1m \u001b[0m┃\u001b[1m \u001b[0m\u001b[1mOutput Shape          \u001b[0m\u001b[1m \u001b[0m┃\u001b[1m \u001b[0m\u001b[1m       Param #\u001b[0m\u001b[1m \u001b[0m┃\u001b[1m \u001b[0m\u001b[1mConnected to          \u001b[0m\u001b[1m \u001b[0m┃\n",
              "┡━━━━━━━━━━━━━━━━━━━━━━━━━━━╇━━━━━━━━━━━━━━━━━━━━━━━━╇━━━━━━━━━━━━━━━━╇━━━━━━━━━━━━━━━━━━━━━━━━┩\n",
              "│ input_layer_3             │ (\u001b[38;5;45mNone\u001b[0m, \u001b[38;5;34m5\u001b[0m)              │              \u001b[38;5;34m0\u001b[0m │ -                      │\n",
              "│ (\u001b[38;5;33mInputLayer\u001b[0m)              │                        │                │                        │\n",
              "├───────────────────────────┼────────────────────────┼────────────────┼────────────────────────┤\n",
              "│ L1 (\u001b[38;5;33mDense\u001b[0m)                │ (\u001b[38;5;45mNone\u001b[0m, \u001b[38;5;34m32\u001b[0m)             │            \u001b[38;5;34m192\u001b[0m │ input_layer_3[\u001b[38;5;34m0\u001b[0m][\u001b[38;5;34m0\u001b[0m]    │\n",
              "├───────────────────────────┼────────────────────────┼────────────────┼────────────────────────┤\n",
              "│ input_layer_2             │ (\u001b[38;5;45mNone\u001b[0m, \u001b[38;5;34m3\u001b[0m)              │              \u001b[38;5;34m0\u001b[0m │ -                      │\n",
              "│ (\u001b[38;5;33mInputLayer\u001b[0m)              │                        │                │                        │\n",
              "├───────────────────────────┼────────────────────────┼────────────────┼────────────────────────┤\n",
              "│ L2 (\u001b[38;5;33mDense\u001b[0m)                │ (\u001b[38;5;45mNone\u001b[0m, \u001b[38;5;34m32\u001b[0m)             │          \u001b[38;5;34m1,056\u001b[0m │ L1[\u001b[38;5;34m0\u001b[0m][\u001b[38;5;34m0\u001b[0m]               │\n",
              "├───────────────────────────┼────────────────────────┼────────────────┼────────────────────────┤\n",
              "│ concatenate_1             │ (\u001b[38;5;45mNone\u001b[0m, \u001b[38;5;34m35\u001b[0m)             │              \u001b[38;5;34m0\u001b[0m │ input_layer_2[\u001b[38;5;34m0\u001b[0m][\u001b[38;5;34m0\u001b[0m],   │\n",
              "│ (\u001b[38;5;33mConcatenate\u001b[0m)             │                        │                │ L2[\u001b[38;5;34m0\u001b[0m][\u001b[38;5;34m0\u001b[0m]               │\n",
              "├───────────────────────────┼────────────────────────┼────────────────┼────────────────────────┤\n",
              "│ L3 (\u001b[38;5;33mDense\u001b[0m)                │ (\u001b[38;5;45mNone\u001b[0m, \u001b[38;5;34m16\u001b[0m)             │            \u001b[38;5;34m576\u001b[0m │ concatenate_1[\u001b[38;5;34m0\u001b[0m][\u001b[38;5;34m0\u001b[0m]    │\n",
              "├───────────────────────────┼────────────────────────┼────────────────┼────────────────────────┤\n",
              "│ L4 (\u001b[38;5;33mDense\u001b[0m)                │ (\u001b[38;5;45mNone\u001b[0m, \u001b[38;5;34m8\u001b[0m)              │            \u001b[38;5;34m136\u001b[0m │ L3[\u001b[38;5;34m0\u001b[0m][\u001b[38;5;34m0\u001b[0m]               │\n",
              "├───────────────────────────┼────────────────────────┼────────────────┼────────────────────────┤\n",
              "│ dense_5 (\u001b[38;5;33mDense\u001b[0m)           │ (\u001b[38;5;45mNone\u001b[0m, \u001b[38;5;34m1\u001b[0m)              │              \u001b[38;5;34m9\u001b[0m │ L4[\u001b[38;5;34m0\u001b[0m][\u001b[38;5;34m0\u001b[0m]               │\n",
              "└───────────────────────────┴────────────────────────┴────────────────┴────────────────────────┘\n"
            ],
            "text/html": [
              "<pre style=\"white-space:pre;overflow-x:auto;line-height:normal;font-family:Menlo,'DejaVu Sans Mono',consolas,'Courier New',monospace\">┏━━━━━━━━━━━━━━━━━━━━━━━━━━━┳━━━━━━━━━━━━━━━━━━━━━━━━┳━━━━━━━━━━━━━━━━┳━━━━━━━━━━━━━━━━━━━━━━━━┓\n",
              "┃<span style=\"font-weight: bold\"> Layer (type)              </span>┃<span style=\"font-weight: bold\"> Output Shape           </span>┃<span style=\"font-weight: bold\">        Param # </span>┃<span style=\"font-weight: bold\"> Connected to           </span>┃\n",
              "┡━━━━━━━━━━━━━━━━━━━━━━━━━━━╇━━━━━━━━━━━━━━━━━━━━━━━━╇━━━━━━━━━━━━━━━━╇━━━━━━━━━━━━━━━━━━━━━━━━┩\n",
              "│ input_layer_3             │ (<span style=\"color: #00d7ff; text-decoration-color: #00d7ff\">None</span>, <span style=\"color: #00af00; text-decoration-color: #00af00\">5</span>)              │              <span style=\"color: #00af00; text-decoration-color: #00af00\">0</span> │ -                      │\n",
              "│ (<span style=\"color: #0087ff; text-decoration-color: #0087ff\">InputLayer</span>)              │                        │                │                        │\n",
              "├───────────────────────────┼────────────────────────┼────────────────┼────────────────────────┤\n",
              "│ L1 (<span style=\"color: #0087ff; text-decoration-color: #0087ff\">Dense</span>)                │ (<span style=\"color: #00d7ff; text-decoration-color: #00d7ff\">None</span>, <span style=\"color: #00af00; text-decoration-color: #00af00\">32</span>)             │            <span style=\"color: #00af00; text-decoration-color: #00af00\">192</span> │ input_layer_3[<span style=\"color: #00af00; text-decoration-color: #00af00\">0</span>][<span style=\"color: #00af00; text-decoration-color: #00af00\">0</span>]    │\n",
              "├───────────────────────────┼────────────────────────┼────────────────┼────────────────────────┤\n",
              "│ input_layer_2             │ (<span style=\"color: #00d7ff; text-decoration-color: #00d7ff\">None</span>, <span style=\"color: #00af00; text-decoration-color: #00af00\">3</span>)              │              <span style=\"color: #00af00; text-decoration-color: #00af00\">0</span> │ -                      │\n",
              "│ (<span style=\"color: #0087ff; text-decoration-color: #0087ff\">InputLayer</span>)              │                        │                │                        │\n",
              "├───────────────────────────┼────────────────────────┼────────────────┼────────────────────────┤\n",
              "│ L2 (<span style=\"color: #0087ff; text-decoration-color: #0087ff\">Dense</span>)                │ (<span style=\"color: #00d7ff; text-decoration-color: #00d7ff\">None</span>, <span style=\"color: #00af00; text-decoration-color: #00af00\">32</span>)             │          <span style=\"color: #00af00; text-decoration-color: #00af00\">1,056</span> │ L1[<span style=\"color: #00af00; text-decoration-color: #00af00\">0</span>][<span style=\"color: #00af00; text-decoration-color: #00af00\">0</span>]               │\n",
              "├───────────────────────────┼────────────────────────┼────────────────┼────────────────────────┤\n",
              "│ concatenate_1             │ (<span style=\"color: #00d7ff; text-decoration-color: #00d7ff\">None</span>, <span style=\"color: #00af00; text-decoration-color: #00af00\">35</span>)             │              <span style=\"color: #00af00; text-decoration-color: #00af00\">0</span> │ input_layer_2[<span style=\"color: #00af00; text-decoration-color: #00af00\">0</span>][<span style=\"color: #00af00; text-decoration-color: #00af00\">0</span>],   │\n",
              "│ (<span style=\"color: #0087ff; text-decoration-color: #0087ff\">Concatenate</span>)             │                        │                │ L2[<span style=\"color: #00af00; text-decoration-color: #00af00\">0</span>][<span style=\"color: #00af00; text-decoration-color: #00af00\">0</span>]               │\n",
              "├───────────────────────────┼────────────────────────┼────────────────┼────────────────────────┤\n",
              "│ L3 (<span style=\"color: #0087ff; text-decoration-color: #0087ff\">Dense</span>)                │ (<span style=\"color: #00d7ff; text-decoration-color: #00d7ff\">None</span>, <span style=\"color: #00af00; text-decoration-color: #00af00\">16</span>)             │            <span style=\"color: #00af00; text-decoration-color: #00af00\">576</span> │ concatenate_1[<span style=\"color: #00af00; text-decoration-color: #00af00\">0</span>][<span style=\"color: #00af00; text-decoration-color: #00af00\">0</span>]    │\n",
              "├───────────────────────────┼────────────────────────┼────────────────┼────────────────────────┤\n",
              "│ L4 (<span style=\"color: #0087ff; text-decoration-color: #0087ff\">Dense</span>)                │ (<span style=\"color: #00d7ff; text-decoration-color: #00d7ff\">None</span>, <span style=\"color: #00af00; text-decoration-color: #00af00\">8</span>)              │            <span style=\"color: #00af00; text-decoration-color: #00af00\">136</span> │ L3[<span style=\"color: #00af00; text-decoration-color: #00af00\">0</span>][<span style=\"color: #00af00; text-decoration-color: #00af00\">0</span>]               │\n",
              "├───────────────────────────┼────────────────────────┼────────────────┼────────────────────────┤\n",
              "│ dense_5 (<span style=\"color: #0087ff; text-decoration-color: #0087ff\">Dense</span>)           │ (<span style=\"color: #00d7ff; text-decoration-color: #00d7ff\">None</span>, <span style=\"color: #00af00; text-decoration-color: #00af00\">1</span>)              │              <span style=\"color: #00af00; text-decoration-color: #00af00\">9</span> │ L4[<span style=\"color: #00af00; text-decoration-color: #00af00\">0</span>][<span style=\"color: #00af00; text-decoration-color: #00af00\">0</span>]               │\n",
              "└───────────────────────────┴────────────────────────┴────────────────┴────────────────────────┘\n",
              "</pre>\n"
            ]
          },
          "metadata": {}
        },
        {
          "output_type": "display_data",
          "data": {
            "text/plain": [
              "\u001b[1m Total params: \u001b[0m\u001b[38;5;34m1,969\u001b[0m (7.69 KB)\n"
            ],
            "text/html": [
              "<pre style=\"white-space:pre;overflow-x:auto;line-height:normal;font-family:Menlo,'DejaVu Sans Mono',consolas,'Courier New',monospace\"><span style=\"font-weight: bold\"> Total params: </span><span style=\"color: #00af00; text-decoration-color: #00af00\">1,969</span> (7.69 KB)\n",
              "</pre>\n"
            ]
          },
          "metadata": {}
        },
        {
          "output_type": "display_data",
          "data": {
            "text/plain": [
              "\u001b[1m Trainable params: \u001b[0m\u001b[38;5;34m1,969\u001b[0m (7.69 KB)\n"
            ],
            "text/html": [
              "<pre style=\"white-space:pre;overflow-x:auto;line-height:normal;font-family:Menlo,'DejaVu Sans Mono',consolas,'Courier New',monospace\"><span style=\"font-weight: bold\"> Trainable params: </span><span style=\"color: #00af00; text-decoration-color: #00af00\">1,969</span> (7.69 KB)\n",
              "</pre>\n"
            ]
          },
          "metadata": {}
        },
        {
          "output_type": "display_data",
          "data": {
            "text/plain": [
              "\u001b[1m Non-trainable params: \u001b[0m\u001b[38;5;34m0\u001b[0m (0.00 B)\n"
            ],
            "text/html": [
              "<pre style=\"white-space:pre;overflow-x:auto;line-height:normal;font-family:Menlo,'DejaVu Sans Mono',consolas,'Courier New',monospace\"><span style=\"font-weight: bold\"> Non-trainable params: </span><span style=\"color: #00af00; text-decoration-color: #00af00\">0</span> (0.00 B)\n",
              "</pre>\n"
            ]
          },
          "metadata": {}
        }
      ]
    },
    {
      "cell_type": "code",
      "source": [
        "model.save('model.h5')"
      ],
      "metadata": {
        "colab": {
          "base_uri": "https://localhost:8080/"
        },
        "id": "B7wxOsI2ukxG",
        "outputId": "692f002f-c20f-42de-c837-b6efee644f7d"
      },
      "execution_count": null,
      "outputs": [
        {
          "output_type": "stream",
          "name": "stderr",
          "text": [
            "WARNING:absl:You are saving your model as an HDF5 file via `model.save()` or `keras.saving.save_model(model)`. This file format is considered legacy. We recommend using instead the native Keras format, e.g. `model.save('my_model.keras')` or `keras.saving.save_model(model, 'my_model.keras')`. \n"
          ]
        }
      ]
    },
    {
      "cell_type": "code",
      "source": [
        "%%capture\n",
        "plot_model(model, 'model.png', show_shapes=True, show_layer_names=True)"
      ],
      "metadata": {
        "id": "PrMVPkPmvCwg"
      },
      "execution_count": null,
      "outputs": []
    },
    {
      "cell_type": "markdown",
      "source": [
        "## Training"
      ],
      "metadata": {
        "id": "UJ7LZgjsvwPA"
      }
    },
    {
      "cell_type": "code",
      "source": [
        "model.compile(optimizer=\"adam\", loss=\"mse\", metrics=[\"mae\"])"
      ],
      "metadata": {
        "id": "vrWvkVEKvxkB"
      },
      "execution_count": null,
      "outputs": []
    },
    {
      "cell_type": "code",
      "source": [
        "history = model.fit(x=[x_train_1, x_train_2], y=y_train,\n",
        "                    epochs=200, batch_size=16,\n",
        "                    validation_split=0.1)"
      ],
      "metadata": {
        "colab": {
          "base_uri": "https://localhost:8080/"
        },
        "id": "AMKmDaWFv5EM",
        "outputId": "5c1fccf1-6e9a-4bc8-ce06-0c7d78c70109"
      },
      "execution_count": null,
      "outputs": [
        {
          "output_type": "stream",
          "name": "stdout",
          "text": [
            "Epoch 1/200\n",
            "\u001b[1m27/27\u001b[0m \u001b[32m━━━━━━━━━━━━━━━━━━━━\u001b[0m\u001b[37m\u001b[0m \u001b[1m2s\u001b[0m 13ms/step - loss: 51946950656.0000 - mae: 204730.0938 - val_loss: 49728794624.0000 - val_mae: 198329.1094\n",
            "Epoch 2/200\n",
            "\u001b[1m27/27\u001b[0m \u001b[32m━━━━━━━━━━━━━━━━━━━━\u001b[0m\u001b[37m\u001b[0m \u001b[1m0s\u001b[0m 5ms/step - loss: 56484659200.0000 - mae: 213473.5469 - val_loss: 49728507904.0000 - val_mae: 198328.3906\n",
            "Epoch 3/200\n",
            "\u001b[1m27/27\u001b[0m \u001b[32m━━━━━━━━━━━━━━━━━━━━\u001b[0m\u001b[37m\u001b[0m \u001b[1m1s\u001b[0m 25ms/step - loss: 52179140608.0000 - mae: 204869.9062 - val_loss: 49727295488.0000 - val_mae: 198325.5781\n",
            "Epoch 4/200\n",
            "\u001b[1m27/27\u001b[0m \u001b[32m━━━━━━━━━━━━━━━━━━━━\u001b[0m\u001b[37m\u001b[0m \u001b[1m1s\u001b[0m 14ms/step - loss: 54139080704.0000 - mae: 207963.2656 - val_loss: 49722945536.0000 - val_mae: 198315.5000\n",
            "Epoch 5/200\n",
            "\u001b[1m27/27\u001b[0m \u001b[32m━━━━━━━━━━━━━━━━━━━━\u001b[0m\u001b[37m\u001b[0m \u001b[1m0s\u001b[0m 11ms/step - loss: 54130667520.0000 - mae: 209661.4375 - val_loss: 49708511232.0000 - val_mae: 198282.5000\n",
            "Epoch 6/200\n",
            "\u001b[1m27/27\u001b[0m \u001b[32m━━━━━━━━━━━━━━━━━━━━\u001b[0m\u001b[37m\u001b[0m \u001b[1m0s\u001b[0m 5ms/step - loss: 53045821440.0000 - mae: 206113.4219 - val_loss: 49669001216.0000 - val_mae: 198192.8281\n",
            "Epoch 7/200\n",
            "\u001b[1m27/27\u001b[0m \u001b[32m━━━━━━━━━━━━━━━━━━━━\u001b[0m\u001b[37m\u001b[0m \u001b[1m0s\u001b[0m 5ms/step - loss: 49876615168.0000 - mae: 200148.2500 - val_loss: 49578393600.0000 - val_mae: 197987.9531\n",
            "Epoch 8/200\n",
            "\u001b[1m27/27\u001b[0m \u001b[32m━━━━━━━━━━━━━━━━━━━━\u001b[0m\u001b[37m\u001b[0m \u001b[1m0s\u001b[0m 5ms/step - loss: 52719161344.0000 - mae: 204062.8750 - val_loss: 49389817856.0000 - val_mae: 197562.7031\n",
            "Epoch 9/200\n",
            "\u001b[1m27/27\u001b[0m \u001b[32m━━━━━━━━━━━━━━━━━━━━\u001b[0m\u001b[37m\u001b[0m \u001b[1m0s\u001b[0m 5ms/step - loss: 55649427456.0000 - mae: 210842.4219 - val_loss: 49053470720.0000 - val_mae: 196803.8594\n",
            "Epoch 10/200\n",
            "\u001b[1m27/27\u001b[0m \u001b[32m━━━━━━━━━━━━━━━━━━━━\u001b[0m\u001b[37m\u001b[0m \u001b[1m0s\u001b[0m 5ms/step - loss: 54486585344.0000 - mae: 209633.4062 - val_loss: 48467980288.0000 - val_mae: 195481.1094\n",
            "Epoch 11/200\n",
            "\u001b[1m27/27\u001b[0m \u001b[32m━━━━━━━━━━━━━━━━━━━━\u001b[0m\u001b[37m\u001b[0m \u001b[1m0s\u001b[0m 7ms/step - loss: 52200538112.0000 - mae: 205466.2656 - val_loss: 47545667584.0000 - val_mae: 193383.0469\n",
            "Epoch 12/200\n",
            "\u001b[1m27/27\u001b[0m \u001b[32m━━━━━━━━━━━━━━━━━━━━\u001b[0m\u001b[37m\u001b[0m \u001b[1m0s\u001b[0m 5ms/step - loss: 47213367296.0000 - mae: 193869.1250 - val_loss: 46176038912.0000 - val_mae: 190218.7500\n",
            "Epoch 13/200\n",
            "\u001b[1m27/27\u001b[0m \u001b[32m━━━━━━━━━━━━━━━━━━━━\u001b[0m\u001b[37m\u001b[0m \u001b[1m0s\u001b[0m 5ms/step - loss: 58444881920.0000 - mae: 215749.6719 - val_loss: 44200644608.0000 - val_mae: 185583.5156\n",
            "Epoch 14/200\n",
            "\u001b[1m27/27\u001b[0m \u001b[32m━━━━━━━━━━━━━━━━━━━━\u001b[0m\u001b[37m\u001b[0m \u001b[1m0s\u001b[0m 5ms/step - loss: 47481004032.0000 - mae: 194819.3438 - val_loss: 41609428992.0000 - val_mae: 179275.3125\n",
            "Epoch 15/200\n",
            "\u001b[1m27/27\u001b[0m \u001b[32m━━━━━━━━━━━━━━━━━━━━\u001b[0m\u001b[37m\u001b[0m \u001b[1m0s\u001b[0m 4ms/step - loss: 45174124544.0000 - mae: 185960.5781 - val_loss: 38217748480.0000 - val_mae: 170640.9844\n",
            "Epoch 16/200\n",
            "\u001b[1m27/27\u001b[0m \u001b[32m━━━━━━━━━━━━━━━━━━━━\u001b[0m\u001b[37m\u001b[0m \u001b[1m0s\u001b[0m 8ms/step - loss: 42308370432.0000 - mae: 178277.1406 - val_loss: 34028689408.0000 - val_mae: 159267.9688\n",
            "Epoch 17/200\n",
            "\u001b[1m27/27\u001b[0m \u001b[32m━━━━━━━━━━━━━━━━━━━━\u001b[0m\u001b[37m\u001b[0m \u001b[1m0s\u001b[0m 9ms/step - loss: 38791917568.0000 - mae: 170811.2969 - val_loss: 29373620224.0000 - val_mae: 145461.4375\n",
            "Epoch 18/200\n",
            "\u001b[1m27/27\u001b[0m \u001b[32m━━━━━━━━━━━━━━━━━━━━\u001b[0m\u001b[37m\u001b[0m \u001b[1m0s\u001b[0m 7ms/step - loss: 30667075584.0000 - mae: 149965.4844 - val_loss: 24560039936.0000 - val_mae: 129351.4141\n",
            "Epoch 19/200\n",
            "\u001b[1m27/27\u001b[0m \u001b[32m━━━━━━━━━━━━━━━━━━━━\u001b[0m\u001b[37m\u001b[0m \u001b[1m0s\u001b[0m 9ms/step - loss: 28282470400.0000 - mae: 139205.1094 - val_loss: 19664775168.0000 - val_mae: 113439.3750\n",
            "Epoch 20/200\n",
            "\u001b[1m27/27\u001b[0m \u001b[32m━━━━━━━━━━━━━━━━━━━━\u001b[0m\u001b[37m\u001b[0m \u001b[1m0s\u001b[0m 8ms/step - loss: 24433786880.0000 - mae: 126229.4844 - val_loss: 15565320192.0000 - val_mae: 98532.2109\n",
            "Epoch 21/200\n",
            "\u001b[1m27/27\u001b[0m \u001b[32m━━━━━━━━━━━━━━━━━━━━\u001b[0m\u001b[37m\u001b[0m \u001b[1m0s\u001b[0m 10ms/step - loss: 20690425856.0000 - mae: 117354.1562 - val_loss: 12433703936.0000 - val_mae: 84672.0938\n",
            "Epoch 22/200\n",
            "\u001b[1m27/27\u001b[0m \u001b[32m━━━━━━━━━━━━━━━━━━━━\u001b[0m\u001b[37m\u001b[0m \u001b[1m0s\u001b[0m 11ms/step - loss: 18261198848.0000 - mae: 106769.2656 - val_loss: 10591722496.0000 - val_mae: 77238.2188\n",
            "Epoch 23/200\n",
            "\u001b[1m27/27\u001b[0m \u001b[32m━━━━━━━━━━━━━━━━━━━━\u001b[0m\u001b[37m\u001b[0m \u001b[1m0s\u001b[0m 11ms/step - loss: 15412875264.0000 - mae: 100287.5781 - val_loss: 9289212928.0000 - val_mae: 71593.4688\n",
            "Epoch 24/200\n",
            "\u001b[1m27/27\u001b[0m \u001b[32m━━━━━━━━━━━━━━━━━━━━\u001b[0m\u001b[37m\u001b[0m \u001b[1m0s\u001b[0m 7ms/step - loss: 13272249344.0000 - mae: 91700.3594 - val_loss: 8517485056.0000 - val_mae: 69261.1797\n",
            "Epoch 25/200\n",
            "\u001b[1m27/27\u001b[0m \u001b[32m━━━━━━━━━━━━━━━━━━━━\u001b[0m\u001b[37m\u001b[0m \u001b[1m0s\u001b[0m 6ms/step - loss: 12095656960.0000 - mae: 88081.3594 - val_loss: 8024640000.0000 - val_mae: 67423.9531\n",
            "Epoch 26/200\n",
            "\u001b[1m27/27\u001b[0m \u001b[32m━━━━━━━━━━━━━━━━━━━━\u001b[0m\u001b[37m\u001b[0m \u001b[1m0s\u001b[0m 5ms/step - loss: 10443177984.0000 - mae: 81944.7344 - val_loss: 7573151744.0000 - val_mae: 65657.1250\n",
            "Epoch 27/200\n",
            "\u001b[1m27/27\u001b[0m \u001b[32m━━━━━━━━━━━━━━━━━━━━\u001b[0m\u001b[37m\u001b[0m \u001b[1m0s\u001b[0m 5ms/step - loss: 11808203776.0000 - mae: 86088.7266 - val_loss: 7240187392.0000 - val_mae: 63612.6055\n",
            "Epoch 28/200\n",
            "\u001b[1m27/27\u001b[0m \u001b[32m━━━━━━━━━━━━━━━━━━━━\u001b[0m\u001b[37m\u001b[0m \u001b[1m0s\u001b[0m 5ms/step - loss: 13932569600.0000 - mae: 88798.0781 - val_loss: 6946631168.0000 - val_mae: 61637.8555\n",
            "Epoch 29/200\n",
            "\u001b[1m27/27\u001b[0m \u001b[32m━━━━━━━━━━━━━━━━━━━━\u001b[0m\u001b[37m\u001b[0m \u001b[1m0s\u001b[0m 7ms/step - loss: 9321370624.0000 - mae: 75848.4922 - val_loss: 6646194688.0000 - val_mae: 59705.7617\n",
            "Epoch 30/200\n",
            "\u001b[1m27/27\u001b[0m \u001b[32m━━━━━━━━━━━━━━━━━━━━\u001b[0m\u001b[37m\u001b[0m \u001b[1m0s\u001b[0m 5ms/step - loss: 9195621376.0000 - mae: 74534.2500 - val_loss: 6390695424.0000 - val_mae: 57875.1875\n",
            "Epoch 31/200\n",
            "\u001b[1m27/27\u001b[0m \u001b[32m━━━━━━━━━━━━━━━━━━━━\u001b[0m\u001b[37m\u001b[0m \u001b[1m0s\u001b[0m 5ms/step - loss: 7753300480.0000 - mae: 69163.7109 - val_loss: 6157385216.0000 - val_mae: 56279.7070\n",
            "Epoch 32/200\n",
            "\u001b[1m27/27\u001b[0m \u001b[32m━━━━━━━━━━━━━━━━━━━━\u001b[0m\u001b[37m\u001b[0m \u001b[1m0s\u001b[0m 5ms/step - loss: 10249043968.0000 - mae: 74740.7188 - val_loss: 5936111616.0000 - val_mae: 54276.4883\n",
            "Epoch 33/200\n",
            "\u001b[1m27/27\u001b[0m \u001b[32m━━━━━━━━━━━━━━━━━━━━\u001b[0m\u001b[37m\u001b[0m \u001b[1m0s\u001b[0m 5ms/step - loss: 8528779264.0000 - mae: 69788.1484 - val_loss: 5750211072.0000 - val_mae: 52965.8398\n",
            "Epoch 34/200\n",
            "\u001b[1m27/27\u001b[0m \u001b[32m━━━━━━━━━━━━━━━━━━━━\u001b[0m\u001b[37m\u001b[0m \u001b[1m0s\u001b[0m 5ms/step - loss: 10268811264.0000 - mae: 74750.0391 - val_loss: 5572271616.0000 - val_mae: 51237.7305\n",
            "Epoch 35/200\n",
            "\u001b[1m27/27\u001b[0m \u001b[32m━━━━━━━━━━━━━━━━━━━━\u001b[0m\u001b[37m\u001b[0m \u001b[1m0s\u001b[0m 6ms/step - loss: 8512027648.0000 - mae: 66491.7891 - val_loss: 5413528064.0000 - val_mae: 50093.7070\n",
            "Epoch 36/200\n",
            "\u001b[1m27/27\u001b[0m \u001b[32m━━━━━━━━━━━━━━━━━━━━\u001b[0m\u001b[37m\u001b[0m \u001b[1m0s\u001b[0m 5ms/step - loss: 7549715968.0000 - mae: 66011.4375 - val_loss: 5253384704.0000 - val_mae: 49503.1406\n",
            "Epoch 37/200\n",
            "\u001b[1m27/27\u001b[0m \u001b[32m━━━━━━━━━━━━━━━━━━━━\u001b[0m\u001b[37m\u001b[0m \u001b[1m0s\u001b[0m 5ms/step - loss: 7890632192.0000 - mae: 63057.6641 - val_loss: 5119487488.0000 - val_mae: 48281.0781\n",
            "Epoch 38/200\n",
            "\u001b[1m27/27\u001b[0m \u001b[32m━━━━━━━━━━━━━━━━━━━━\u001b[0m\u001b[37m\u001b[0m \u001b[1m0s\u001b[0m 5ms/step - loss: 8038652416.0000 - mae: 62122.5625 - val_loss: 4981548544.0000 - val_mae: 47706.4531\n",
            "Epoch 39/200\n",
            "\u001b[1m27/27\u001b[0m \u001b[32m━━━━━━━━━━━━━━━━━━━━\u001b[0m\u001b[37m\u001b[0m \u001b[1m0s\u001b[0m 6ms/step - loss: 6162328064.0000 - mae: 58940.4062 - val_loss: 4865314304.0000 - val_mae: 46729.6133\n",
            "Epoch 40/200\n",
            "\u001b[1m27/27\u001b[0m \u001b[32m━━━━━━━━━━━━━━━━━━━━\u001b[0m\u001b[37m\u001b[0m \u001b[1m0s\u001b[0m 6ms/step - loss: 5769862656.0000 - mae: 58475.6328 - val_loss: 4756135936.0000 - val_mae: 46400.7695\n",
            "Epoch 41/200\n",
            "\u001b[1m27/27\u001b[0m \u001b[32m━━━━━━━━━━━━━━━━━━━━\u001b[0m\u001b[37m\u001b[0m \u001b[1m0s\u001b[0m 7ms/step - loss: 6302380032.0000 - mae: 57396.2188 - val_loss: 4638107136.0000 - val_mae: 45465.3320\n",
            "Epoch 42/200\n",
            "\u001b[1m27/27\u001b[0m \u001b[32m━━━━━━━━━━━━━━━━━━━━\u001b[0m\u001b[37m\u001b[0m \u001b[1m0s\u001b[0m 6ms/step - loss: 6292372480.0000 - mae: 56418.3945 - val_loss: 4546149888.0000 - val_mae: 44507.6875\n",
            "Epoch 43/200\n",
            "\u001b[1m27/27\u001b[0m \u001b[32m━━━━━━━━━━━━━━━━━━━━\u001b[0m\u001b[37m\u001b[0m \u001b[1m0s\u001b[0m 6ms/step - loss: 6857902592.0000 - mae: 58489.1094 - val_loss: 4451266560.0000 - val_mae: 44111.6680\n",
            "Epoch 44/200\n",
            "\u001b[1m27/27\u001b[0m \u001b[32m━━━━━━━━━━━━━━━━━━━━\u001b[0m\u001b[37m\u001b[0m \u001b[1m0s\u001b[0m 5ms/step - loss: 6276624384.0000 - mae: 55980.6445 - val_loss: 4376642048.0000 - val_mae: 43634.8711\n",
            "Epoch 45/200\n",
            "\u001b[1m27/27\u001b[0m \u001b[32m━━━━━━━━━━━━━━━━━━━━\u001b[0m\u001b[37m\u001b[0m \u001b[1m0s\u001b[0m 6ms/step - loss: 5952676352.0000 - mae: 54135.1953 - val_loss: 4300325888.0000 - val_mae: 43254.7539\n",
            "Epoch 46/200\n",
            "\u001b[1m27/27\u001b[0m \u001b[32m━━━━━━━━━━━━━━━━━━━━\u001b[0m\u001b[37m\u001b[0m \u001b[1m0s\u001b[0m 5ms/step - loss: 6543179264.0000 - mae: 57009.1445 - val_loss: 4223367936.0000 - val_mae: 42944.1367\n",
            "Epoch 47/200\n",
            "\u001b[1m27/27\u001b[0m \u001b[32m━━━━━━━━━━━━━━━━━━━━\u001b[0m\u001b[37m\u001b[0m \u001b[1m0s\u001b[0m 6ms/step - loss: 4786931712.0000 - mae: 50964.3672 - val_loss: 4157316352.0000 - val_mae: 42748.7227\n",
            "Epoch 48/200\n",
            "\u001b[1m27/27\u001b[0m \u001b[32m━━━━━━━━━━━━━━━━━━━━\u001b[0m\u001b[37m\u001b[0m \u001b[1m0s\u001b[0m 5ms/step - loss: 6614878720.0000 - mae: 53619.7891 - val_loss: 4099141376.0000 - val_mae: 42296.6758\n",
            "Epoch 49/200\n",
            "\u001b[1m27/27\u001b[0m \u001b[32m━━━━━━━━━━━━━━━━━━━━\u001b[0m\u001b[37m\u001b[0m \u001b[1m0s\u001b[0m 5ms/step - loss: 5929355776.0000 - mae: 53833.3086 - val_loss: 4031593728.0000 - val_mae: 41937.1836\n",
            "Epoch 50/200\n",
            "\u001b[1m27/27\u001b[0m \u001b[32m━━━━━━━━━━━━━━━━━━━━\u001b[0m\u001b[37m\u001b[0m \u001b[1m0s\u001b[0m 5ms/step - loss: 5282455040.0000 - mae: 50691.6406 - val_loss: 3977446400.0000 - val_mae: 41572.5664\n",
            "Epoch 51/200\n",
            "\u001b[1m27/27\u001b[0m \u001b[32m━━━━━━━━━━━━━━━━━━━━\u001b[0m\u001b[37m\u001b[0m \u001b[1m0s\u001b[0m 6ms/step - loss: 4188338176.0000 - mae: 45995.0312 - val_loss: 3921582848.0000 - val_mae: 41378.5820\n",
            "Epoch 52/200\n",
            "\u001b[1m27/27\u001b[0m \u001b[32m━━━━━━━━━━━━━━━━━━━━\u001b[0m\u001b[37m\u001b[0m \u001b[1m0s\u001b[0m 5ms/step - loss: 4951840256.0000 - mae: 48472.7070 - val_loss: 3871931136.0000 - val_mae: 41102.4961\n",
            "Epoch 53/200\n",
            "\u001b[1m27/27\u001b[0m \u001b[32m━━━━━━━━━━━━━━━━━━━━\u001b[0m\u001b[37m\u001b[0m \u001b[1m0s\u001b[0m 5ms/step - loss: 5627045888.0000 - mae: 49160.8945 - val_loss: 3830290688.0000 - val_mae: 40774.2812\n",
            "Epoch 54/200\n",
            "\u001b[1m27/27\u001b[0m \u001b[32m━━━━━━━━━━━━━━━━━━━━\u001b[0m\u001b[37m\u001b[0m \u001b[1m0s\u001b[0m 7ms/step - loss: 4672488960.0000 - mae: 47630.7812 - val_loss: 3796227072.0000 - val_mae: 40822.5391\n",
            "Epoch 55/200\n",
            "\u001b[1m27/27\u001b[0m \u001b[32m━━━━━━━━━━━━━━━━━━━━\u001b[0m\u001b[37m\u001b[0m \u001b[1m0s\u001b[0m 4ms/step - loss: 4866589696.0000 - mae: 48048.0117 - val_loss: 3767161088.0000 - val_mae: 40867.5508\n",
            "Epoch 56/200\n",
            "\u001b[1m27/27\u001b[0m \u001b[32m━━━━━━━━━━━━━━━━━━━━\u001b[0m\u001b[37m\u001b[0m \u001b[1m0s\u001b[0m 6ms/step - loss: 4440584192.0000 - mae: 46764.1406 - val_loss: 3728084224.0000 - val_mae: 40867.1836\n",
            "Epoch 57/200\n",
            "\u001b[1m27/27\u001b[0m \u001b[32m━━━━━━━━━━━━━━━━━━━━\u001b[0m\u001b[37m\u001b[0m \u001b[1m0s\u001b[0m 5ms/step - loss: 4133655040.0000 - mae: 46457.9570 - val_loss: 3707207424.0000 - val_mae: 41160.7812\n",
            "Epoch 58/200\n",
            "\u001b[1m27/27\u001b[0m \u001b[32m━━━━━━━━━━━━━━━━━━━━\u001b[0m\u001b[37m\u001b[0m \u001b[1m0s\u001b[0m 5ms/step - loss: 5772595712.0000 - mae: 51813.3594 - val_loss: 3686309888.0000 - val_mae: 41151.2148\n",
            "Epoch 59/200\n",
            "\u001b[1m27/27\u001b[0m \u001b[32m━━━━━━━━━━━━━━━━━━━━\u001b[0m\u001b[37m\u001b[0m \u001b[1m0s\u001b[0m 6ms/step - loss: 4389623296.0000 - mae: 47059.5742 - val_loss: 3663230976.0000 - val_mae: 41109.8711\n",
            "Epoch 60/200\n",
            "\u001b[1m27/27\u001b[0m \u001b[32m━━━━━━━━━━━━━━━━━━━━\u001b[0m\u001b[37m\u001b[0m \u001b[1m0s\u001b[0m 5ms/step - loss: 4730586624.0000 - mae: 47744.2031 - val_loss: 3645912064.0000 - val_mae: 41306.4180\n",
            "Epoch 61/200\n",
            "\u001b[1m27/27\u001b[0m \u001b[32m━━━━━━━━━━━━━━━━━━━━\u001b[0m\u001b[37m\u001b[0m \u001b[1m0s\u001b[0m 5ms/step - loss: 4989425664.0000 - mae: 48595.3984 - val_loss: 3633175296.0000 - val_mae: 41661.8281\n",
            "Epoch 62/200\n",
            "\u001b[1m27/27\u001b[0m \u001b[32m━━━━━━━━━━━━━━━━━━━━\u001b[0m\u001b[37m\u001b[0m \u001b[1m0s\u001b[0m 4ms/step - loss: 5212788224.0000 - mae: 49771.8789 - val_loss: 3619622144.0000 - val_mae: 41422.8789\n",
            "Epoch 63/200\n",
            "\u001b[1m27/27\u001b[0m \u001b[32m━━━━━━━━━━━━━━━━━━━━\u001b[0m\u001b[37m\u001b[0m \u001b[1m0s\u001b[0m 5ms/step - loss: 4752478720.0000 - mae: 46615.5312 - val_loss: 3616143360.0000 - val_mae: 41819.8477\n",
            "Epoch 64/200\n",
            "\u001b[1m27/27\u001b[0m \u001b[32m━━━━━━━━━━━━━━━━━━━━\u001b[0m\u001b[37m\u001b[0m \u001b[1m0s\u001b[0m 5ms/step - loss: 4991958016.0000 - mae: 47757.1211 - val_loss: 3601214720.0000 - val_mae: 41725.7227\n",
            "Epoch 65/200\n",
            "\u001b[1m27/27\u001b[0m \u001b[32m━━━━━━━━━━━━━━━━━━━━\u001b[0m\u001b[37m\u001b[0m \u001b[1m0s\u001b[0m 5ms/step - loss: 4036188416.0000 - mae: 44096.9531 - val_loss: 3601433344.0000 - val_mae: 42185.2344\n",
            "Epoch 66/200\n",
            "\u001b[1m27/27\u001b[0m \u001b[32m━━━━━━━━━━━━━━━━━━━━\u001b[0m\u001b[37m\u001b[0m \u001b[1m0s\u001b[0m 8ms/step - loss: 4117941760.0000 - mae: 45831.1797 - val_loss: 3611191552.0000 - val_mae: 42494.6055\n",
            "Epoch 67/200\n",
            "\u001b[1m27/27\u001b[0m \u001b[32m━━━━━━━━━━━━━━━━━━━━\u001b[0m\u001b[37m\u001b[0m \u001b[1m0s\u001b[0m 13ms/step - loss: 3614842624.0000 - mae: 44436.2578 - val_loss: 3599643904.0000 - val_mae: 42684.6055\n",
            "Epoch 68/200\n",
            "\u001b[1m27/27\u001b[0m \u001b[32m━━━━━━━━━━━━━━━━━━━━\u001b[0m\u001b[37m\u001b[0m \u001b[1m1s\u001b[0m 34ms/step - loss: 4471992832.0000 - mae: 46814.6875 - val_loss: 3597023232.0000 - val_mae: 42972.7148\n",
            "Epoch 69/200\n",
            "\u001b[1m27/27\u001b[0m \u001b[32m━━━━━━━━━━━━━━━━━━━━\u001b[0m\u001b[37m\u001b[0m \u001b[1m1s\u001b[0m 30ms/step - loss: 4595885568.0000 - mae: 48164.7852 - val_loss: 3608317184.0000 - val_mae: 43424.4102\n",
            "Epoch 70/200\n",
            "\u001b[1m27/27\u001b[0m \u001b[32m━━━━━━━━━━━━━━━━━━━━\u001b[0m\u001b[37m\u001b[0m \u001b[1m1s\u001b[0m 30ms/step - loss: 4125365760.0000 - mae: 46038.1602 - val_loss: 3616100352.0000 - val_mae: 43494.1562\n",
            "Epoch 71/200\n",
            "\u001b[1m27/27\u001b[0m \u001b[32m━━━━━━━━━━━━━━━━━━━━\u001b[0m\u001b[37m\u001b[0m \u001b[1m1s\u001b[0m 18ms/step - loss: 3596842496.0000 - mae: 44860.8672 - val_loss: 3614571776.0000 - val_mae: 43606.5312\n",
            "Epoch 72/200\n",
            "\u001b[1m27/27\u001b[0m \u001b[32m━━━━━━━━━━━━━━━━━━━━\u001b[0m\u001b[37m\u001b[0m \u001b[1m1s\u001b[0m 14ms/step - loss: 3199948800.0000 - mae: 40621.1328 - val_loss: 3628590336.0000 - val_mae: 44175.3555\n",
            "Epoch 73/200\n",
            "\u001b[1m27/27\u001b[0m \u001b[32m━━━━━━━━━━━━━━━━━━━━\u001b[0m\u001b[37m\u001b[0m \u001b[1m1s\u001b[0m 20ms/step - loss: 5203490816.0000 - mae: 47045.0664 - val_loss: 3629925376.0000 - val_mae: 43995.3867\n",
            "Epoch 74/200\n",
            "\u001b[1m27/27\u001b[0m \u001b[32m━━━━━━━━━━━━━━━━━━━━\u001b[0m\u001b[37m\u001b[0m \u001b[1m0s\u001b[0m 13ms/step - loss: 3607172864.0000 - mae: 44540.5117 - val_loss: 3627901696.0000 - val_mae: 44495.5039\n",
            "Epoch 75/200\n",
            "\u001b[1m27/27\u001b[0m \u001b[32m━━━━━━━━━━━━━━━━━━━━\u001b[0m\u001b[37m\u001b[0m \u001b[1m1s\u001b[0m 12ms/step - loss: 3640624640.0000 - mae: 43551.3164 - val_loss: 3642710016.0000 - val_mae: 44709.2773\n",
            "Epoch 76/200\n",
            "\u001b[1m27/27\u001b[0m \u001b[32m━━━━━━━━━━━━━━━━━━━━\u001b[0m\u001b[37m\u001b[0m \u001b[1m1s\u001b[0m 12ms/step - loss: 3734759680.0000 - mae: 44547.7227 - val_loss: 3640084480.0000 - val_mae: 44612.5508\n",
            "Epoch 77/200\n",
            "\u001b[1m27/27\u001b[0m \u001b[32m━━━━━━━━━━━━━━━━━━━━\u001b[0m\u001b[37m\u001b[0m \u001b[1m1s\u001b[0m 15ms/step - loss: 3949338880.0000 - mae: 45113.6641 - val_loss: 3643592960.0000 - val_mae: 44684.5195\n",
            "Epoch 78/200\n",
            "\u001b[1m27/27\u001b[0m \u001b[32m━━━━━━━━━━━━━━━━━━━━\u001b[0m\u001b[37m\u001b[0m \u001b[1m0s\u001b[0m 5ms/step - loss: 3490945024.0000 - mae: 41901.5195 - val_loss: 3653593856.0000 - val_mae: 44877.5117\n",
            "Epoch 79/200\n",
            "\u001b[1m27/27\u001b[0m \u001b[32m━━━━━━━━━━━━━━━━━━━━\u001b[0m\u001b[37m\u001b[0m \u001b[1m0s\u001b[0m 5ms/step - loss: 3247457280.0000 - mae: 41328.5508 - val_loss: 3664123648.0000 - val_mae: 45162.4336\n",
            "Epoch 80/200\n",
            "\u001b[1m27/27\u001b[0m \u001b[32m━━━━━━━━━━━━━━━━━━━━\u001b[0m\u001b[37m\u001b[0m \u001b[1m0s\u001b[0m 5ms/step - loss: 3465613056.0000 - mae: 43622.6836 - val_loss: 3665369344.0000 - val_mae: 45429.4336\n",
            "Epoch 81/200\n",
            "\u001b[1m27/27\u001b[0m \u001b[32m━━━━━━━━━━━━━━━━━━━━\u001b[0m\u001b[37m\u001b[0m \u001b[1m0s\u001b[0m 5ms/step - loss: 3294283520.0000 - mae: 42348.4258 - val_loss: 3679763200.0000 - val_mae: 45471.1875\n",
            "Epoch 82/200\n",
            "\u001b[1m27/27\u001b[0m \u001b[32m━━━━━━━━━━━━━━━━━━━━\u001b[0m\u001b[37m\u001b[0m \u001b[1m0s\u001b[0m 5ms/step - loss: 3112039936.0000 - mae: 40977.4766 - val_loss: 3670160640.0000 - val_mae: 45354.0117\n",
            "Epoch 83/200\n",
            "\u001b[1m27/27\u001b[0m \u001b[32m━━━━━━━━━━━━━━━━━━━━\u001b[0m\u001b[37m\u001b[0m \u001b[1m0s\u001b[0m 6ms/step - loss: 3074064128.0000 - mae: 41412.1523 - val_loss: 3692052480.0000 - val_mae: 45743.0781\n",
            "Epoch 84/200\n",
            "\u001b[1m27/27\u001b[0m \u001b[32m━━━━━━━━━━━━━━━━━━━━\u001b[0m\u001b[37m\u001b[0m \u001b[1m0s\u001b[0m 5ms/step - loss: 3862741504.0000 - mae: 46477.3242 - val_loss: 3707295744.0000 - val_mae: 45565.0977\n",
            "Epoch 85/200\n",
            "\u001b[1m27/27\u001b[0m \u001b[32m━━━━━━━━━━━━━━━━━━━━\u001b[0m\u001b[37m\u001b[0m \u001b[1m0s\u001b[0m 8ms/step - loss: 3496179712.0000 - mae: 42738.3242 - val_loss: 3707769600.0000 - val_mae: 45907.0117\n",
            "Epoch 86/200\n",
            "\u001b[1m27/27\u001b[0m \u001b[32m━━━━━━━━━━━━━━━━━━━━\u001b[0m\u001b[37m\u001b[0m \u001b[1m0s\u001b[0m 7ms/step - loss: 4398237184.0000 - mae: 44231.8984 - val_loss: 3708390656.0000 - val_mae: 45827.1875\n",
            "Epoch 87/200\n",
            "\u001b[1m27/27\u001b[0m \u001b[32m━━━━━━━━━━━━━━━━━━━━\u001b[0m\u001b[37m\u001b[0m \u001b[1m0s\u001b[0m 5ms/step - loss: 3357038080.0000 - mae: 42264.4688 - val_loss: 3726844928.0000 - val_mae: 46331.3008\n",
            "Epoch 88/200\n",
            "\u001b[1m27/27\u001b[0m \u001b[32m━━━━━━━━━━━━━━━━━━━━\u001b[0m\u001b[37m\u001b[0m \u001b[1m0s\u001b[0m 6ms/step - loss: 3387001600.0000 - mae: 44071.9531 - val_loss: 3726334208.0000 - val_mae: 46007.0195\n",
            "Epoch 89/200\n",
            "\u001b[1m27/27\u001b[0m \u001b[32m━━━━━━━━━━━━━━━━━━━━\u001b[0m\u001b[37m\u001b[0m \u001b[1m0s\u001b[0m 6ms/step - loss: 3738289408.0000 - mae: 43782.6406 - val_loss: 3748399104.0000 - val_mae: 46338.5742\n",
            "Epoch 90/200\n",
            "\u001b[1m27/27\u001b[0m \u001b[32m━━━━━━━━━━━━━━━━━━━━\u001b[0m\u001b[37m\u001b[0m \u001b[1m0s\u001b[0m 7ms/step - loss: 3261791232.0000 - mae: 42507.1172 - val_loss: 3736982272.0000 - val_mae: 46145.0195\n",
            "Epoch 91/200\n",
            "\u001b[1m27/27\u001b[0m \u001b[32m━━━━━━━━━━━━━━━━━━━━\u001b[0m\u001b[37m\u001b[0m \u001b[1m0s\u001b[0m 5ms/step - loss: 3183291904.0000 - mae: 41212.7461 - val_loss: 3750475008.0000 - val_mae: 46326.7539\n",
            "Epoch 92/200\n",
            "\u001b[1m27/27\u001b[0m \u001b[32m━━━━━━━━━━━━━━━━━━━━\u001b[0m\u001b[37m\u001b[0m \u001b[1m0s\u001b[0m 6ms/step - loss: 2982726144.0000 - mae: 40518.5898 - val_loss: 3739454464.0000 - val_mae: 46366.8125\n",
            "Epoch 93/200\n",
            "\u001b[1m27/27\u001b[0m \u001b[32m━━━━━━━━━━━━━━━━━━━━\u001b[0m\u001b[37m\u001b[0m \u001b[1m0s\u001b[0m 5ms/step - loss: 4093719040.0000 - mae: 44879.5078 - val_loss: 3766359808.0000 - val_mae: 46857.3008\n",
            "Epoch 94/200\n",
            "\u001b[1m27/27\u001b[0m \u001b[32m━━━━━━━━━━━━━━━━━━━━\u001b[0m\u001b[37m\u001b[0m \u001b[1m1s\u001b[0m 14ms/step - loss: 3350350336.0000 - mae: 42836.3555 - val_loss: 3757137664.0000 - val_mae: 46261.8750\n",
            "Epoch 95/200\n",
            "\u001b[1m27/27\u001b[0m \u001b[32m━━━━━━━━━━━━━━━━━━━━\u001b[0m\u001b[37m\u001b[0m \u001b[1m0s\u001b[0m 5ms/step - loss: 3096884224.0000 - mae: 40926.2422 - val_loss: 3759125760.0000 - val_mae: 46552.0430\n",
            "Epoch 96/200\n",
            "\u001b[1m27/27\u001b[0m \u001b[32m━━━━━━━━━━━━━━━━━━━━\u001b[0m\u001b[37m\u001b[0m \u001b[1m0s\u001b[0m 5ms/step - loss: 3163842048.0000 - mae: 42239.0703 - val_loss: 3768451072.0000 - val_mae: 46818.0430\n",
            "Epoch 97/200\n",
            "\u001b[1m27/27\u001b[0m \u001b[32m━━━━━━━━━━━━━━━━━━━━\u001b[0m\u001b[37m\u001b[0m \u001b[1m0s\u001b[0m 5ms/step - loss: 3552833024.0000 - mae: 42313.0117 - val_loss: 3766537216.0000 - val_mae: 46694.6445\n",
            "Epoch 98/200\n",
            "\u001b[1m27/27\u001b[0m \u001b[32m━━━━━━━━━━━━━━━━━━━━\u001b[0m\u001b[37m\u001b[0m \u001b[1m0s\u001b[0m 5ms/step - loss: 3278768640.0000 - mae: 42676.3125 - val_loss: 3772757760.0000 - val_mae: 46770.9258\n",
            "Epoch 99/200\n",
            "\u001b[1m27/27\u001b[0m \u001b[32m━━━━━━━━━━━━━━━━━━━━\u001b[0m\u001b[37m\u001b[0m \u001b[1m0s\u001b[0m 8ms/step - loss: 3770627328.0000 - mae: 44210.2461 - val_loss: 3767425792.0000 - val_mae: 46574.0039\n",
            "Epoch 100/200\n",
            "\u001b[1m27/27\u001b[0m \u001b[32m━━━━━━━━━━━━━━━━━━━━\u001b[0m\u001b[37m\u001b[0m \u001b[1m0s\u001b[0m 11ms/step - loss: 4392062464.0000 - mae: 46974.7461 - val_loss: 3776841984.0000 - val_mae: 46872.3320\n",
            "Epoch 101/200\n",
            "\u001b[1m27/27\u001b[0m \u001b[32m━━━━━━━━━━━━━━━━━━━━\u001b[0m\u001b[37m\u001b[0m \u001b[1m1s\u001b[0m 9ms/step - loss: 4417584128.0000 - mae: 44801.8789 - val_loss: 3776644352.0000 - val_mae: 46550.8438\n",
            "Epoch 102/200\n",
            "\u001b[1m27/27\u001b[0m \u001b[32m━━━━━━━━━━━━━━━━━━━━\u001b[0m\u001b[37m\u001b[0m \u001b[1m1s\u001b[0m 20ms/step - loss: 3045172480.0000 - mae: 41504.8945 - val_loss: 3772302336.0000 - val_mae: 46695.6250\n",
            "Epoch 103/200\n",
            "\u001b[1m27/27\u001b[0m \u001b[32m━━━━━━━━━━━━━━━━━━━━\u001b[0m\u001b[37m\u001b[0m \u001b[1m1s\u001b[0m 20ms/step - loss: 4235051264.0000 - mae: 46843.3164 - val_loss: 3782767360.0000 - val_mae: 46870.8906\n",
            "Epoch 104/200\n",
            "\u001b[1m27/27\u001b[0m \u001b[32m━━━━━━━━━━━━━━━━━━━━\u001b[0m\u001b[37m\u001b[0m \u001b[1m0s\u001b[0m 7ms/step - loss: 3276647680.0000 - mae: 41772.9648 - val_loss: 3776532736.0000 - val_mae: 46755.0742\n",
            "Epoch 105/200\n",
            "\u001b[1m27/27\u001b[0m \u001b[32m━━━━━━━━━━━━━━━━━━━━\u001b[0m\u001b[37m\u001b[0m \u001b[1m0s\u001b[0m 9ms/step - loss: 3533567488.0000 - mae: 44068.0820 - val_loss: 3786188800.0000 - val_mae: 46785.1562\n",
            "Epoch 106/200\n",
            "\u001b[1m27/27\u001b[0m \u001b[32m━━━━━━━━━━━━━━━━━━━━\u001b[0m\u001b[37m\u001b[0m \u001b[1m0s\u001b[0m 11ms/step - loss: 2997557760.0000 - mae: 40675.7969 - val_loss: 3791139584.0000 - val_mae: 46969.2500\n",
            "Epoch 107/200\n",
            "\u001b[1m27/27\u001b[0m \u001b[32m━━━━━━━━━━━━━━━━━━━━\u001b[0m\u001b[37m\u001b[0m \u001b[1m1s\u001b[0m 10ms/step - loss: 3428461824.0000 - mae: 41959.7617 - val_loss: 3779850240.0000 - val_mae: 47010.2539\n",
            "Epoch 108/200\n",
            "\u001b[1m27/27\u001b[0m \u001b[32m━━━━━━━━━━━━━━━━━━━━\u001b[0m\u001b[37m\u001b[0m \u001b[1m0s\u001b[0m 15ms/step - loss: 4378030080.0000 - mae: 46669.2500 - val_loss: 3768043520.0000 - val_mae: 46890.9883\n",
            "Epoch 109/200\n",
            "\u001b[1m27/27\u001b[0m \u001b[32m━━━━━━━━━━━━━━━━━━━━\u001b[0m\u001b[37m\u001b[0m \u001b[1m0s\u001b[0m 10ms/step - loss: 3028985088.0000 - mae: 41317.5430 - val_loss: 3769774080.0000 - val_mae: 46616.1367\n",
            "Epoch 110/200\n",
            "\u001b[1m27/27\u001b[0m \u001b[32m━━━━━━━━━━━━━━━━━━━━\u001b[0m\u001b[37m\u001b[0m \u001b[1m0s\u001b[0m 7ms/step - loss: 2898839808.0000 - mae: 40501.2031 - val_loss: 3770619136.0000 - val_mae: 47120.6602\n",
            "Epoch 111/200\n",
            "\u001b[1m27/27\u001b[0m \u001b[32m━━━━━━━━━━━━━━━━━━━━\u001b[0m\u001b[37m\u001b[0m \u001b[1m0s\u001b[0m 5ms/step - loss: 3754471936.0000 - mae: 43080.1523 - val_loss: 3762665472.0000 - val_mae: 46957.9492\n",
            "Epoch 112/200\n",
            "\u001b[1m27/27\u001b[0m \u001b[32m━━━━━━━━━━━━━━━━━━━━\u001b[0m\u001b[37m\u001b[0m \u001b[1m0s\u001b[0m 5ms/step - loss: 3590413312.0000 - mae: 42512.1211 - val_loss: 3770415360.0000 - val_mae: 46929.9844\n",
            "Epoch 113/200\n",
            "\u001b[1m27/27\u001b[0m \u001b[32m━━━━━━━━━━━━━━━━━━━━\u001b[0m\u001b[37m\u001b[0m \u001b[1m0s\u001b[0m 5ms/step - loss: 4176988928.0000 - mae: 43557.2656 - val_loss: 3769543936.0000 - val_mae: 46550.6562\n",
            "Epoch 114/200\n",
            "\u001b[1m27/27\u001b[0m \u001b[32m━━━━━━━━━━━━━━━━━━━━\u001b[0m\u001b[37m\u001b[0m \u001b[1m0s\u001b[0m 6ms/step - loss: 3356227584.0000 - mae: 41545.1680 - val_loss: 3763013632.0000 - val_mae: 46765.7188\n",
            "Epoch 115/200\n",
            "\u001b[1m27/27\u001b[0m \u001b[32m━━━━━━━━━━━━━━━━━━━━\u001b[0m\u001b[37m\u001b[0m \u001b[1m0s\u001b[0m 6ms/step - loss: 3442917632.0000 - mae: 43306.3477 - val_loss: 3758515200.0000 - val_mae: 46662.4805\n",
            "Epoch 116/200\n",
            "\u001b[1m27/27\u001b[0m \u001b[32m━━━━━━━━━━━━━━━━━━━━\u001b[0m\u001b[37m\u001b[0m \u001b[1m0s\u001b[0m 6ms/step - loss: 4511278080.0000 - mae: 45881.0781 - val_loss: 3781465088.0000 - val_mae: 47082.5625\n",
            "Epoch 117/200\n",
            "\u001b[1m27/27\u001b[0m \u001b[32m━━━━━━━━━━━━━━━━━━━━\u001b[0m\u001b[37m\u001b[0m \u001b[1m0s\u001b[0m 7ms/step - loss: 3236453120.0000 - mae: 43060.0703 - val_loss: 3752072448.0000 - val_mae: 46870.3086\n",
            "Epoch 118/200\n",
            "\u001b[1m27/27\u001b[0m \u001b[32m━━━━━━━━━━━━━━━━━━━━\u001b[0m\u001b[37m\u001b[0m \u001b[1m0s\u001b[0m 6ms/step - loss: 3418010880.0000 - mae: 43536.4375 - val_loss: 3766640896.0000 - val_mae: 46591.6875\n",
            "Epoch 119/200\n",
            "\u001b[1m27/27\u001b[0m \u001b[32m━━━━━━━━━━━━━━━━━━━━\u001b[0m\u001b[37m\u001b[0m \u001b[1m0s\u001b[0m 7ms/step - loss: 3366288896.0000 - mae: 41920.6016 - val_loss: 3765363456.0000 - val_mae: 46815.8750\n",
            "Epoch 120/200\n",
            "\u001b[1m27/27\u001b[0m \u001b[32m━━━━━━━━━━━━━━━━━━━━\u001b[0m\u001b[37m\u001b[0m \u001b[1m0s\u001b[0m 6ms/step - loss: 2665718272.0000 - mae: 39119.7656 - val_loss: 3751425280.0000 - val_mae: 46739.6289\n",
            "Epoch 121/200\n",
            "\u001b[1m27/27\u001b[0m \u001b[32m━━━━━━━━━━━━━━━━━━━━\u001b[0m\u001b[37m\u001b[0m \u001b[1m0s\u001b[0m 5ms/step - loss: 3858593536.0000 - mae: 44520.6641 - val_loss: 3775478016.0000 - val_mae: 47298.9570\n",
            "Epoch 122/200\n",
            "\u001b[1m27/27\u001b[0m \u001b[32m━━━━━━━━━━━━━━━━━━━━\u001b[0m\u001b[37m\u001b[0m \u001b[1m0s\u001b[0m 6ms/step - loss: 3246164736.0000 - mae: 43228.4883 - val_loss: 3770584320.0000 - val_mae: 46751.4062\n",
            "Epoch 123/200\n",
            "\u001b[1m27/27\u001b[0m \u001b[32m━━━━━━━━━━━━━━━━━━━━\u001b[0m\u001b[37m\u001b[0m \u001b[1m0s\u001b[0m 6ms/step - loss: 3483758592.0000 - mae: 41979.4453 - val_loss: 3760781312.0000 - val_mae: 46978.5938\n",
            "Epoch 124/200\n",
            "\u001b[1m27/27\u001b[0m \u001b[32m━━━━━━━━━━━━━━━━━━━━\u001b[0m\u001b[37m\u001b[0m \u001b[1m0s\u001b[0m 5ms/step - loss: 3207514112.0000 - mae: 41580.1211 - val_loss: 3745835008.0000 - val_mae: 46568.0000\n",
            "Epoch 125/200\n",
            "\u001b[1m27/27\u001b[0m \u001b[32m━━━━━━━━━━━━━━━━━━━━\u001b[0m\u001b[37m\u001b[0m \u001b[1m0s\u001b[0m 5ms/step - loss: 3888667136.0000 - mae: 40257.7305 - val_loss: 3771451648.0000 - val_mae: 46945.3906\n",
            "Epoch 126/200\n",
            "\u001b[1m27/27\u001b[0m \u001b[32m━━━━━━━━━━━━━━━━━━━━\u001b[0m\u001b[37m\u001b[0m \u001b[1m0s\u001b[0m 6ms/step - loss: 3144387584.0000 - mae: 43074.4219 - val_loss: 3758550784.0000 - val_mae: 46624.4219\n",
            "Epoch 127/200\n",
            "\u001b[1m27/27\u001b[0m \u001b[32m━━━━━━━━━━━━━━━━━━━━\u001b[0m\u001b[37m\u001b[0m \u001b[1m0s\u001b[0m 6ms/step - loss: 3938919168.0000 - mae: 44426.5000 - val_loss: 3744879872.0000 - val_mae: 46965.2773\n",
            "Epoch 128/200\n",
            "\u001b[1m27/27\u001b[0m \u001b[32m━━━━━━━━━━━━━━━━━━━━\u001b[0m\u001b[37m\u001b[0m \u001b[1m0s\u001b[0m 5ms/step - loss: 3550306816.0000 - mae: 41246.6016 - val_loss: 3740156672.0000 - val_mae: 46903.3867\n",
            "Epoch 129/200\n",
            "\u001b[1m27/27\u001b[0m \u001b[32m━━━━━━━━━━━━━━━━━━━━\u001b[0m\u001b[37m\u001b[0m \u001b[1m0s\u001b[0m 5ms/step - loss: 3161910016.0000 - mae: 41101.3711 - val_loss: 3765474304.0000 - val_mae: 46775.5430\n",
            "Epoch 130/200\n",
            "\u001b[1m27/27\u001b[0m \u001b[32m━━━━━━━━━━━━━━━━━━━━\u001b[0m\u001b[37m\u001b[0m \u001b[1m0s\u001b[0m 5ms/step - loss: 3358393088.0000 - mae: 42135.6523 - val_loss: 3748136192.0000 - val_mae: 46893.6914\n",
            "Epoch 131/200\n",
            "\u001b[1m27/27\u001b[0m \u001b[32m━━━━━━━━━━━━━━━━━━━━\u001b[0m\u001b[37m\u001b[0m \u001b[1m0s\u001b[0m 7ms/step - loss: 3674826240.0000 - mae: 43124.7305 - val_loss: 3762835456.0000 - val_mae: 47026.0117\n",
            "Epoch 132/200\n",
            "\u001b[1m27/27\u001b[0m \u001b[32m━━━━━━━━━━━━━━━━━━━━\u001b[0m\u001b[37m\u001b[0m \u001b[1m0s\u001b[0m 6ms/step - loss: 3106550016.0000 - mae: 40835.9492 - val_loss: 3729398528.0000 - val_mae: 46624.4688\n",
            "Epoch 133/200\n",
            "\u001b[1m27/27\u001b[0m \u001b[32m━━━━━━━━━━━━━━━━━━━━\u001b[0m\u001b[37m\u001b[0m \u001b[1m0s\u001b[0m 5ms/step - loss: 4043297792.0000 - mae: 41998.1875 - val_loss: 3740639232.0000 - val_mae: 46876.6875\n",
            "Epoch 134/200\n",
            "\u001b[1m27/27\u001b[0m \u001b[32m━━━━━━━━━━━━━━━━━━━━\u001b[0m\u001b[37m\u001b[0m \u001b[1m0s\u001b[0m 7ms/step - loss: 3268874752.0000 - mae: 40183.0586 - val_loss: 3720701184.0000 - val_mae: 46643.5742\n",
            "Epoch 135/200\n",
            "\u001b[1m27/27\u001b[0m \u001b[32m━━━━━━━━━━━━━━━━━━━━\u001b[0m\u001b[37m\u001b[0m \u001b[1m0s\u001b[0m 7ms/step - loss: 3372366080.0000 - mae: 41277.1055 - val_loss: 3755471616.0000 - val_mae: 47269.4570\n",
            "Epoch 136/200\n",
            "\u001b[1m27/27\u001b[0m \u001b[32m━━━━━━━━━━━━━━━━━━━━\u001b[0m\u001b[37m\u001b[0m \u001b[1m0s\u001b[0m 5ms/step - loss: 3441710336.0000 - mae: 42292.9258 - val_loss: 3757965312.0000 - val_mae: 47188.8242\n",
            "Epoch 137/200\n",
            "\u001b[1m27/27\u001b[0m \u001b[32m━━━━━━━━━━━━━━━━━━━━\u001b[0m\u001b[37m\u001b[0m \u001b[1m0s\u001b[0m 6ms/step - loss: 3666985216.0000 - mae: 43804.0391 - val_loss: 3736630528.0000 - val_mae: 46722.1367\n",
            "Epoch 138/200\n",
            "\u001b[1m27/27\u001b[0m \u001b[32m━━━━━━━━━━━━━━━━━━━━\u001b[0m\u001b[37m\u001b[0m \u001b[1m0s\u001b[0m 6ms/step - loss: 3287103488.0000 - mae: 41047.4727 - val_loss: 3740556032.0000 - val_mae: 46723.7461\n",
            "Epoch 139/200\n",
            "\u001b[1m27/27\u001b[0m \u001b[32m━━━━━━━━━━━━━━━━━━━━\u001b[0m\u001b[37m\u001b[0m \u001b[1m0s\u001b[0m 7ms/step - loss: 3542542336.0000 - mae: 41430.7148 - val_loss: 3735122688.0000 - val_mae: 46737.2070\n",
            "Epoch 140/200\n",
            "\u001b[1m27/27\u001b[0m \u001b[32m━━━━━━━━━━━━━━━━━━━━\u001b[0m\u001b[37m\u001b[0m \u001b[1m0s\u001b[0m 5ms/step - loss: 3161605632.0000 - mae: 40968.8438 - val_loss: 3726809856.0000 - val_mae: 46897.6250\n",
            "Epoch 141/200\n",
            "\u001b[1m27/27\u001b[0m \u001b[32m━━━━━━━━━━━━━━━━━━━━\u001b[0m\u001b[37m\u001b[0m \u001b[1m0s\u001b[0m 5ms/step - loss: 3880596480.0000 - mae: 45495.9648 - val_loss: 3712260352.0000 - val_mae: 46802.1445\n",
            "Epoch 142/200\n",
            "\u001b[1m27/27\u001b[0m \u001b[32m━━━━━━━━━━━━━━━━━━━━\u001b[0m\u001b[37m\u001b[0m \u001b[1m0s\u001b[0m 7ms/step - loss: 3308594176.0000 - mae: 42728.2461 - val_loss: 3716353280.0000 - val_mae: 46904.4805\n",
            "Epoch 143/200\n",
            "\u001b[1m27/27\u001b[0m \u001b[32m━━━━━━━━━━━━━━━━━━━━\u001b[0m\u001b[37m\u001b[0m \u001b[1m0s\u001b[0m 11ms/step - loss: 3659658752.0000 - mae: 45058.3242 - val_loss: 3703195648.0000 - val_mae: 46950.9062\n",
            "Epoch 144/200\n",
            "\u001b[1m27/27\u001b[0m \u001b[32m━━━━━━━━━━━━━━━━━━━━\u001b[0m\u001b[37m\u001b[0m \u001b[1m1s\u001b[0m 9ms/step - loss: 4201773824.0000 - mae: 43250.4883 - val_loss: 3733625088.0000 - val_mae: 46828.0938\n",
            "Epoch 145/200\n",
            "\u001b[1m27/27\u001b[0m \u001b[32m━━━━━━━━━━━━━━━━━━━━\u001b[0m\u001b[37m\u001b[0m \u001b[1m0s\u001b[0m 11ms/step - loss: 3459988480.0000 - mae: 42405.3750 - val_loss: 3699463936.0000 - val_mae: 46574.1992\n",
            "Epoch 146/200\n",
            "\u001b[1m27/27\u001b[0m \u001b[32m━━━━━━━━━━━━━━━━━━━━\u001b[0m\u001b[37m\u001b[0m \u001b[1m1s\u001b[0m 9ms/step - loss: 2942834688.0000 - mae: 40640.2695 - val_loss: 3713037056.0000 - val_mae: 46964.1094\n",
            "Epoch 147/200\n",
            "\u001b[1m27/27\u001b[0m \u001b[32m━━━━━━━━━━━━━━━━━━━━\u001b[0m\u001b[37m\u001b[0m \u001b[1m0s\u001b[0m 13ms/step - loss: 3253726976.0000 - mae: 42051.5195 - val_loss: 3716031232.0000 - val_mae: 46747.8867\n",
            "Epoch 148/200\n",
            "\u001b[1m27/27\u001b[0m \u001b[32m━━━━━━━━━━━━━━━━━━━━\u001b[0m\u001b[37m\u001b[0m \u001b[1m1s\u001b[0m 15ms/step - loss: 3932663808.0000 - mae: 43355.8438 - val_loss: 3712843008.0000 - val_mae: 46891.6133\n",
            "Epoch 149/200\n",
            "\u001b[1m27/27\u001b[0m \u001b[32m━━━━━━━━━━━━━━━━━━━━\u001b[0m\u001b[37m\u001b[0m \u001b[1m0s\u001b[0m 6ms/step - loss: 3335339008.0000 - mae: 42439.7109 - val_loss: 3705820928.0000 - val_mae: 46512.8164\n",
            "Epoch 150/200\n",
            "\u001b[1m27/27\u001b[0m \u001b[32m━━━━━━━━━━━━━━━━━━━━\u001b[0m\u001b[37m\u001b[0m \u001b[1m0s\u001b[0m 6ms/step - loss: 2862598400.0000 - mae: 39241.8945 - val_loss: 3694508032.0000 - val_mae: 46813.3750\n",
            "Epoch 151/200\n",
            "\u001b[1m27/27\u001b[0m \u001b[32m━━━━━━━━━━━━━━━━━━━━\u001b[0m\u001b[37m\u001b[0m \u001b[1m0s\u001b[0m 6ms/step - loss: 3630425344.0000 - mae: 42667.5000 - val_loss: 3699012352.0000 - val_mae: 46745.7383\n",
            "Epoch 152/200\n",
            "\u001b[1m27/27\u001b[0m \u001b[32m━━━━━━━━━━━━━━━━━━━━\u001b[0m\u001b[37m\u001b[0m \u001b[1m0s\u001b[0m 6ms/step - loss: 2942584064.0000 - mae: 40780.7539 - val_loss: 3688149760.0000 - val_mae: 46530.4062\n",
            "Epoch 153/200\n",
            "\u001b[1m27/27\u001b[0m \u001b[32m━━━━━━━━━━━━━━━━━━━━\u001b[0m\u001b[37m\u001b[0m \u001b[1m0s\u001b[0m 7ms/step - loss: 2722531072.0000 - mae: 38846.8555 - val_loss: 3703097344.0000 - val_mae: 46690.1992\n",
            "Epoch 154/200\n",
            "\u001b[1m27/27\u001b[0m \u001b[32m━━━━━━━━━━━━━━━━━━━━\u001b[0m\u001b[37m\u001b[0m \u001b[1m0s\u001b[0m 7ms/step - loss: 3318833152.0000 - mae: 41401.8516 - val_loss: 3687535360.0000 - val_mae: 46779.7227\n",
            "Epoch 155/200\n",
            "\u001b[1m27/27\u001b[0m \u001b[32m━━━━━━━━━━━━━━━━━━━━\u001b[0m\u001b[37m\u001b[0m \u001b[1m0s\u001b[0m 6ms/step - loss: 3447799552.0000 - mae: 40380.4922 - val_loss: 3695766272.0000 - val_mae: 46866.8555\n",
            "Epoch 156/200\n",
            "\u001b[1m27/27\u001b[0m \u001b[32m━━━━━━━━━━━━━━━━━━━━\u001b[0m\u001b[37m\u001b[0m \u001b[1m0s\u001b[0m 5ms/step - loss: 2850192128.0000 - mae: 39371.5703 - val_loss: 3687314176.0000 - val_mae: 46640.8320\n",
            "Epoch 157/200\n",
            "\u001b[1m27/27\u001b[0m \u001b[32m━━━━━━━━━━━━━━━━━━━━\u001b[0m\u001b[37m\u001b[0m \u001b[1m0s\u001b[0m 8ms/step - loss: 3265932544.0000 - mae: 41832.1719 - val_loss: 3687962368.0000 - val_mae: 46775.1758\n",
            "Epoch 158/200\n",
            "\u001b[1m27/27\u001b[0m \u001b[32m━━━━━━━━━━━━━━━━━━━━\u001b[0m\u001b[37m\u001b[0m \u001b[1m0s\u001b[0m 7ms/step - loss: 2892543744.0000 - mae: 39872.4883 - val_loss: 3694822144.0000 - val_mae: 46835.2617\n",
            "Epoch 159/200\n",
            "\u001b[1m27/27\u001b[0m \u001b[32m━━━━━━━━━━━━━━━━━━━━\u001b[0m\u001b[37m\u001b[0m \u001b[1m0s\u001b[0m 6ms/step - loss: 3923000576.0000 - mae: 43944.9062 - val_loss: 3696005120.0000 - val_mae: 46756.0625\n",
            "Epoch 160/200\n",
            "\u001b[1m27/27\u001b[0m \u001b[32m━━━━━━━━━━━━━━━━━━━━\u001b[0m\u001b[37m\u001b[0m \u001b[1m0s\u001b[0m 6ms/step - loss: 3216349184.0000 - mae: 39799.2227 - val_loss: 3680907264.0000 - val_mae: 46849.2344\n",
            "Epoch 161/200\n",
            "\u001b[1m27/27\u001b[0m \u001b[32m━━━━━━━━━━━━━━━━━━━━\u001b[0m\u001b[37m\u001b[0m \u001b[1m0s\u001b[0m 8ms/step - loss: 2945140224.0000 - mae: 39559.4375 - val_loss: 3690567936.0000 - val_mae: 46555.6875\n",
            "Epoch 162/200\n",
            "\u001b[1m27/27\u001b[0m \u001b[32m━━━━━━━━━━━━━━━━━━━━\u001b[0m\u001b[37m\u001b[0m \u001b[1m0s\u001b[0m 6ms/step - loss: 2509994752.0000 - mae: 38359.5703 - val_loss: 3666290944.0000 - val_mae: 46545.5430\n",
            "Epoch 163/200\n",
            "\u001b[1m27/27\u001b[0m \u001b[32m━━━━━━━━━━━━━━━━━━━━\u001b[0m\u001b[37m\u001b[0m \u001b[1m0s\u001b[0m 6ms/step - loss: 3107343104.0000 - mae: 40861.2617 - val_loss: 3681092608.0000 - val_mae: 46444.5938\n",
            "Epoch 164/200\n",
            "\u001b[1m27/27\u001b[0m \u001b[32m━━━━━━━━━━━━━━━━━━━━\u001b[0m\u001b[37m\u001b[0m \u001b[1m0s\u001b[0m 6ms/step - loss: 3503295744.0000 - mae: 43403.8516 - val_loss: 3670568192.0000 - val_mae: 46938.9844\n",
            "Epoch 165/200\n",
            "\u001b[1m27/27\u001b[0m \u001b[32m━━━━━━━━━━━━━━━━━━━━\u001b[0m\u001b[37m\u001b[0m \u001b[1m0s\u001b[0m 7ms/step - loss: 2767405824.0000 - mae: 39670.6836 - val_loss: 3664200448.0000 - val_mae: 46869.2344\n",
            "Epoch 166/200\n",
            "\u001b[1m27/27\u001b[0m \u001b[32m━━━━━━━━━━━━━━━━━━━━\u001b[0m\u001b[37m\u001b[0m \u001b[1m0s\u001b[0m 6ms/step - loss: 2985930496.0000 - mae: 41217.6680 - val_loss: 3665612032.0000 - val_mae: 46608.7969\n",
            "Epoch 167/200\n",
            "\u001b[1m27/27\u001b[0m \u001b[32m━━━━━━━━━━━━━━━━━━━━\u001b[0m\u001b[37m\u001b[0m \u001b[1m0s\u001b[0m 5ms/step - loss: 3950697984.0000 - mae: 44085.6641 - val_loss: 3676957440.0000 - val_mae: 46677.3086\n",
            "Epoch 168/200\n",
            "\u001b[1m27/27\u001b[0m \u001b[32m━━━━━━━━━━━━━━━━━━━━\u001b[0m\u001b[37m\u001b[0m \u001b[1m0s\u001b[0m 5ms/step - loss: 3310171392.0000 - mae: 41663.5977 - val_loss: 3655576576.0000 - val_mae: 46244.3320\n",
            "Epoch 169/200\n",
            "\u001b[1m27/27\u001b[0m \u001b[32m━━━━━━━━━━━━━━━━━━━━\u001b[0m\u001b[37m\u001b[0m \u001b[1m0s\u001b[0m 5ms/step - loss: 2672697856.0000 - mae: 38863.1328 - val_loss: 3663470848.0000 - val_mae: 46759.4492\n",
            "Epoch 170/200\n",
            "\u001b[1m27/27\u001b[0m \u001b[32m━━━━━━━━━━━━━━━━━━━━\u001b[0m\u001b[37m\u001b[0m \u001b[1m0s\u001b[0m 6ms/step - loss: 2965465088.0000 - mae: 39837.8398 - val_loss: 3668992256.0000 - val_mae: 46682.3008\n",
            "Epoch 171/200\n",
            "\u001b[1m27/27\u001b[0m \u001b[32m━━━━━━━━━━━━━━━━━━━━\u001b[0m\u001b[37m\u001b[0m \u001b[1m0s\u001b[0m 5ms/step - loss: 3082955520.0000 - mae: 39717.0312 - val_loss: 3652573184.0000 - val_mae: 46754.0469\n",
            "Epoch 172/200\n",
            "\u001b[1m27/27\u001b[0m \u001b[32m━━━━━━━━━━━━━━━━━━━━\u001b[0m\u001b[37m\u001b[0m \u001b[1m0s\u001b[0m 5ms/step - loss: 2981729024.0000 - mae: 41366.6445 - val_loss: 3676672000.0000 - val_mae: 46645.8594\n",
            "Epoch 173/200\n",
            "\u001b[1m27/27\u001b[0m \u001b[32m━━━━━━━━━━━━━━━━━━━━\u001b[0m\u001b[37m\u001b[0m \u001b[1m0s\u001b[0m 5ms/step - loss: 3646604032.0000 - mae: 41208.0195 - val_loss: 3661004032.0000 - val_mae: 46374.1562\n",
            "Epoch 174/200\n",
            "\u001b[1m27/27\u001b[0m \u001b[32m━━━━━━━━━━━━━━━━━━━━\u001b[0m\u001b[37m\u001b[0m \u001b[1m0s\u001b[0m 5ms/step - loss: 3614944768.0000 - mae: 42193.4141 - val_loss: 3662507264.0000 - val_mae: 46757.7383\n",
            "Epoch 175/200\n",
            "\u001b[1m27/27\u001b[0m \u001b[32m━━━━━━━━━━━━━━━━━━━━\u001b[0m\u001b[37m\u001b[0m \u001b[1m1s\u001b[0m 20ms/step - loss: 4680137728.0000 - mae: 45137.2969 - val_loss: 3639990272.0000 - val_mae: 46458.9258\n",
            "Epoch 176/200\n",
            "\u001b[1m27/27\u001b[0m \u001b[32m━━━━━━━━━━━━━━━━━━━━\u001b[0m\u001b[37m\u001b[0m \u001b[1m0s\u001b[0m 8ms/step - loss: 3788530688.0000 - mae: 42816.6641 - val_loss: 3658738432.0000 - val_mae: 46608.1094\n",
            "Epoch 177/200\n",
            "\u001b[1m27/27\u001b[0m \u001b[32m━━━━━━━━━━━━━━━━━━━━\u001b[0m\u001b[37m\u001b[0m \u001b[1m0s\u001b[0m 8ms/step - loss: 2998832640.0000 - mae: 40112.7617 - val_loss: 3634712576.0000 - val_mae: 46517.9062\n",
            "Epoch 178/200\n",
            "\u001b[1m27/27\u001b[0m \u001b[32m━━━━━━━━━━━━━━━━━━━━\u001b[0m\u001b[37m\u001b[0m \u001b[1m0s\u001b[0m 7ms/step - loss: 3778027008.0000 - mae: 42766.2969 - val_loss: 3670779904.0000 - val_mae: 47000.8867\n",
            "Epoch 179/200\n",
            "\u001b[1m27/27\u001b[0m \u001b[32m━━━━━━━━━━━━━━━━━━━━\u001b[0m\u001b[37m\u001b[0m \u001b[1m0s\u001b[0m 8ms/step - loss: 3964378880.0000 - mae: 42883.5195 - val_loss: 3647443968.0000 - val_mae: 46900.0469\n",
            "Epoch 180/200\n",
            "\u001b[1m27/27\u001b[0m \u001b[32m━━━━━━━━━━━━━━━━━━━━\u001b[0m\u001b[37m\u001b[0m \u001b[1m0s\u001b[0m 6ms/step - loss: 3251896064.0000 - mae: 42782.3398 - val_loss: 3649862656.0000 - val_mae: 46344.6602\n",
            "Epoch 181/200\n",
            "\u001b[1m27/27\u001b[0m \u001b[32m━━━━━━━━━━━━━━━━━━━━\u001b[0m\u001b[37m\u001b[0m \u001b[1m0s\u001b[0m 6ms/step - loss: 3387404288.0000 - mae: 41517.0273 - val_loss: 3650231296.0000 - val_mae: 46663.0117\n",
            "Epoch 182/200\n",
            "\u001b[1m27/27\u001b[0m \u001b[32m━━━━━━━━━━━━━━━━━━━━\u001b[0m\u001b[37m\u001b[0m \u001b[1m0s\u001b[0m 10ms/step - loss: 3707309824.0000 - mae: 42700.4414 - val_loss: 3641724160.0000 - val_mae: 46528.8125\n",
            "Epoch 183/200\n",
            "\u001b[1m27/27\u001b[0m \u001b[32m━━━━━━━━━━━━━━━━━━━━\u001b[0m\u001b[37m\u001b[0m \u001b[1m0s\u001b[0m 15ms/step - loss: 3142015488.0000 - mae: 39508.5898 - val_loss: 3614728192.0000 - val_mae: 46503.6289\n",
            "Epoch 184/200\n",
            "\u001b[1m27/27\u001b[0m \u001b[32m━━━━━━━━━━━━━━━━━━━━\u001b[0m\u001b[37m\u001b[0m \u001b[1m1s\u001b[0m 14ms/step - loss: 3175213568.0000 - mae: 41207.9883 - val_loss: 3645199360.0000 - val_mae: 46828.5664\n",
            "Epoch 185/200\n",
            "\u001b[1m27/27\u001b[0m \u001b[32m━━━━━━━━━━━━━━━━━━━━\u001b[0m\u001b[37m\u001b[0m \u001b[1m0s\u001b[0m 12ms/step - loss: 3509041152.0000 - mae: 41203.5117 - val_loss: 3644043264.0000 - val_mae: 46732.5898\n",
            "Epoch 186/200\n",
            "\u001b[1m27/27\u001b[0m \u001b[32m━━━━━━━━━━━━━━━━━━━━\u001b[0m\u001b[37m\u001b[0m \u001b[1m0s\u001b[0m 10ms/step - loss: 3485947136.0000 - mae: 42878.3672 - val_loss: 3634670848.0000 - val_mae: 46462.1406\n",
            "Epoch 187/200\n",
            "\u001b[1m27/27\u001b[0m \u001b[32m━━━━━━━━━━━━━━━━━━━━\u001b[0m\u001b[37m\u001b[0m \u001b[1m0s\u001b[0m 11ms/step - loss: 3101040384.0000 - mae: 40275.2148 - val_loss: 3627159552.0000 - val_mae: 46527.1758\n",
            "Epoch 188/200\n",
            "\u001b[1m27/27\u001b[0m \u001b[32m━━━━━━━━━━━━━━━━━━━━\u001b[0m\u001b[37m\u001b[0m \u001b[1m0s\u001b[0m 10ms/step - loss: 3122392064.0000 - mae: 40778.6133 - val_loss: 3639832320.0000 - val_mae: 46645.5977\n",
            "Epoch 189/200\n",
            "\u001b[1m27/27\u001b[0m \u001b[32m━━━━━━━━━━━━━━━━━━━━\u001b[0m\u001b[37m\u001b[0m \u001b[1m0s\u001b[0m 17ms/step - loss: 3195176960.0000 - mae: 42703.7383 - val_loss: 3617507328.0000 - val_mae: 46300.6289\n",
            "Epoch 190/200\n",
            "\u001b[1m27/27\u001b[0m \u001b[32m━━━━━━━━━━━━━━━━━━━━\u001b[0m\u001b[37m\u001b[0m \u001b[1m0s\u001b[0m 12ms/step - loss: 2950428928.0000 - mae: 39836.4922 - val_loss: 3636865024.0000 - val_mae: 46484.0195\n",
            "Epoch 191/200\n",
            "\u001b[1m27/27\u001b[0m \u001b[32m━━━━━━━━━━━━━━━━━━━━\u001b[0m\u001b[37m\u001b[0m \u001b[1m1s\u001b[0m 13ms/step - loss: 3417924096.0000 - mae: 42121.5273 - val_loss: 3631759104.0000 - val_mae: 46730.4062\n",
            "Epoch 192/200\n",
            "\u001b[1m27/27\u001b[0m \u001b[32m━━━━━━━━━━━━━━━━━━━━\u001b[0m\u001b[37m\u001b[0m \u001b[1m0s\u001b[0m 8ms/step - loss: 3898611712.0000 - mae: 42806.5781 - val_loss: 3637191936.0000 - val_mae: 46572.6680\n",
            "Epoch 193/200\n",
            "\u001b[1m27/27\u001b[0m \u001b[32m━━━━━━━━━━━━━━━━━━━━\u001b[0m\u001b[37m\u001b[0m \u001b[1m0s\u001b[0m 8ms/step - loss: 2585097216.0000 - mae: 37240.1797 - val_loss: 3613985536.0000 - val_mae: 46346.8438\n",
            "Epoch 194/200\n",
            "\u001b[1m27/27\u001b[0m \u001b[32m━━━━━━━━━━━━━━━━━━━━\u001b[0m\u001b[37m\u001b[0m \u001b[1m0s\u001b[0m 7ms/step - loss: 3192771328.0000 - mae: 40177.0977 - val_loss: 3616756736.0000 - val_mae: 46277.0625\n",
            "Epoch 195/200\n",
            "\u001b[1m27/27\u001b[0m \u001b[32m━━━━━━━━━━━━━━━━━━━━\u001b[0m\u001b[37m\u001b[0m \u001b[1m0s\u001b[0m 9ms/step - loss: 2921705984.0000 - mae: 40120.7578 - val_loss: 3636039680.0000 - val_mae: 47057.1992\n",
            "Epoch 196/200\n",
            "\u001b[1m27/27\u001b[0m \u001b[32m━━━━━━━━━━━━━━━━━━━━\u001b[0m\u001b[37m\u001b[0m \u001b[1m0s\u001b[0m 9ms/step - loss: 3296398848.0000 - mae: 42571.8008 - val_loss: 3607810048.0000 - val_mae: 46441.4102\n",
            "Epoch 197/200\n",
            "\u001b[1m27/27\u001b[0m \u001b[32m━━━━━━━━━━━━━━━━━━━━\u001b[0m\u001b[37m\u001b[0m \u001b[1m0s\u001b[0m 9ms/step - loss: 3603332608.0000 - mae: 43528.4492 - val_loss: 3587489792.0000 - val_mae: 46436.0742\n",
            "Epoch 198/200\n",
            "\u001b[1m27/27\u001b[0m \u001b[32m━━━━━━━━━━━━━━━━━━━━\u001b[0m\u001b[37m\u001b[0m \u001b[1m1s\u001b[0m 9ms/step - loss: 3156850432.0000 - mae: 40090.2578 - val_loss: 3582214912.0000 - val_mae: 46440.8867\n",
            "Epoch 199/200\n",
            "\u001b[1m27/27\u001b[0m \u001b[32m━━━━━━━━━━━━━━━━━━━━\u001b[0m\u001b[37m\u001b[0m \u001b[1m0s\u001b[0m 6ms/step - loss: 3883970304.0000 - mae: 42639.5117 - val_loss: 3623172864.0000 - val_mae: 46556.2031\n",
            "Epoch 200/200\n",
            "\u001b[1m27/27\u001b[0m \u001b[32m━━━━━━━━━━━━━━━━━━━━\u001b[0m\u001b[37m\u001b[0m \u001b[1m0s\u001b[0m 6ms/step - loss: 2951715840.0000 - mae: 40473.2383 - val_loss: 3598215168.0000 - val_mae: 46457.5742\n"
          ]
        }
      ]
    },
    {
      "cell_type": "code",
      "source": [
        "plt.plot(history.history[\"mae\"], label='Train')\n",
        "plt.plot(history.history[\"val_mae\"], label='Validation')\n",
        "plt.xlabel(\"Epochs\")\n",
        "plt.ylabel(\"Validation MAE\")\n",
        "plt.legend()\n",
        "plt.show()"
      ],
      "metadata": {
        "colab": {
          "base_uri": "https://localhost:8080/",
          "height": 449
        },
        "id": "GqnRP3buwZkG",
        "outputId": "7758b5c6-39be-48cd-c17d-52f1af85449e"
      },
      "execution_count": null,
      "outputs": [
        {
          "output_type": "display_data",
          "data": {
            "text/plain": [
              "<Figure size 640x480 with 1 Axes>"
            ],
            "image/png": "[encoded data removed]"
          },
          "metadata": {}
        }
      ]
    },
    {
      "cell_type": "markdown",
      "source": [
        "## Evaluation"
      ],
      "metadata": {
        "id": "w91GLvKEwqfO"
      }
    },
    {
      "cell_type": "code",
      "source": [
        "x_test_1 = x_test[:, :3]\n",
        "x_test_2 = x_test[:, 3:]\n",
        "eval_results = model.evaluate([x_test_1, x_test_2], y_test)\n",
        "print(f'Validation MAE: {eval_results[1]} $')"
      ],
      "metadata": {
        "colab": {
          "base_uri": "https://localhost:8080/"
        },
        "id": "zvLj_c_CwqPP",
        "outputId": "438773c1-2e2c-4741-b678-4394ee56b30f"
      },
      "execution_count": null,
      "outputs": [
        {
          "output_type": "stream",
          "name": "stdout",
          "text": [
            "\u001b[1m4/4\u001b[0m \u001b[32m━━━━━━━━━━━━━━━━━━━━\u001b[0m\u001b[37m\u001b[0m \u001b[1m0s\u001b[0m 15ms/step - loss: 5623922688.0000 - mae: 44824.1094\n",
            "Validation MAE: 45138.54296875 $\n"
          ]
        }
      ]
    },
    {
      "cell_type": "markdown",
      "source": [
        "---"
      ],
      "metadata": {
        "id": "cQpCjm5txb_j"
      }
    },
    {
      "cell_type": "markdown",
      "source": [
        "### Two inputs / Two outputs"
      ],
      "metadata": {
        "id": "ykEZ-JPnxeVI"
      }
    },
    {
      "cell_type": "code",
      "source": [
        "inp1 = layers.Input(shape=(3,), name='input1')\n",
        "inp2 = layers.Input(shape=(5,), name='input2')\n",
        "\n",
        "L1 = layers.Dense(32, activation='relu', name='L1')(inp2)\n",
        "L2 = layers.Dense(32, activation='relu', name='L2')(L1)\n",
        "\n",
        "concat = layers.Concatenate()([inp1, L2])\n",
        "\n",
        "L3 = layers.Dense(16, activation='relu', name='L3')(concat)\n",
        "L4 = layers.Dense(8, activation='relu', name='L4')(L3)\n",
        "\n",
        "out1 = layers.Dense(1, name='out1')(L3)\n",
        "out2 = layers.Dense(1, name='out2')(L4)\n",
        "\n",
        "model2 = Model(inputs=[inp1, inp2], outputs=[out1, out2])\n",
        "\n",
        "plot_model(model2, 'model2.pdf', show_shapes=True, show_layer_names=True)"
      ],
      "metadata": {
        "id": "_BUmUktOxKyH"
      },
      "execution_count": null,
      "outputs": []
    },
    {
      "cell_type": "markdown",
      "source": [
        "## Training"
      ],
      "metadata": {
        "id": "91xQ_UUayh-r"
      }
    },
    {
      "cell_type": "code",
      "source": [
        "model2.compile(optimizer='adam', loss=['mse', 'mse'],\n",
        "               metrics=['mae', 'mae'])"
      ],
      "metadata": {
        "id": "vyn9-3gqyYSh"
      },
      "execution_count": null,
      "outputs": []
    },
    {
      "cell_type": "code",
      "source": [
        "history2 = model2.fit([x_train_1, x_train_2], [y_train, y_train],\n",
        "                      epochs=200, batch_size=16,\n",
        "                      validation_split=0.1)"
      ],
      "metadata": {
        "colab": {
          "base_uri": "https://localhost:8080/"
        },
        "id": "XlT2VUKby2So",
        "outputId": "4e09d446-4d22-4b24-885b-225fc70e0f40"
      },
      "execution_count": null,
      "outputs": [
        {
          "output_type": "stream",
          "name": "stdout",
          "text": [
            "Epoch 1/200\n",
            "\u001b[1m27/27\u001b[0m \u001b[32m━━━━━━━━━━━━━━━━━━━━\u001b[0m\u001b[37m\u001b[0m \u001b[1m3s\u001b[0m 30ms/step - loss: 107715510272.0000 - out1_loss: 53857677312.0000 - out1_mae: 208470.1875 - out2_loss: 53857824768.0000 - out2_mae: 208470.5312 - val_loss: 99457171456.0000 - val_out1_loss: 49728356352.0000 - val_out1_mae: 198327.9844 - val_out2_loss: 49728811008.0000 - val_out2_mae: 198329.1875\n",
            "Epoch 2/200\n",
            "\u001b[1m27/27\u001b[0m \u001b[32m━━━━━━━━━━━━━━━━━━━━\u001b[0m\u001b[37m\u001b[0m \u001b[1m1s\u001b[0m 13ms/step - loss: 98944131072.0000 - out1_loss: 49471782912.0000 - out1_mae: 199386.1250 - out2_loss: 49472356352.0000 - out2_mae: 199387.6719 - val_loss: 99455836160.0000 - val_out1_loss: 49727352832.0000 - val_out1_mae: 198325.3750 - val_out2_loss: 49728491520.0000 - val_out2_mae: 198328.3281\n",
            "Epoch 3/200\n",
            "\u001b[1m27/27\u001b[0m \u001b[32m━━━━━━━━━━━━━━━━━━━━\u001b[0m\u001b[37m\u001b[0m \u001b[1m0s\u001b[0m 12ms/step - loss: 97739816960.0000 - out1_loss: 48869273600.0000 - out1_mae: 198887.0156 - out2_loss: 48870535168.0000 - out2_mae: 198890.4531 - val_loss: 99451338752.0000 - val_out1_loss: 49724620800.0000 - val_out1_mae: 198318.2500 - val_out2_loss: 49726717952.0000 - val_out2_mae: 198323.7500\n",
            "Epoch 4/200\n",
            "\u001b[1m27/27\u001b[0m \u001b[32m━━━━━━━━━━━━━━━━━━━━\u001b[0m\u001b[37m\u001b[0m \u001b[1m0s\u001b[0m 6ms/step - loss: 100737769472.0000 - out1_loss: 50367807488.0000 - out1_mae: 199268.6719 - out2_loss: 50369974272.0000 - out2_mae: 199274.5625 - val_loss: 99435708416.0000 - val_out1_loss: 49716899840.0000 - val_out1_mae: 198298.3750 - val_out2_loss: 49718800384.0000 - val_out2_mae: 198303.4844\n",
            "Epoch 5/200\n",
            "\u001b[1m27/27\u001b[0m \u001b[32m━━━━━━━━━━━━━━━━━━━━\u001b[0m\u001b[37m\u001b[0m \u001b[1m0s\u001b[0m 6ms/step - loss: 108964536320.0000 - out1_loss: 54481653760.0000 - out1_mae: 209252.0625 - out2_loss: 54482886656.0000 - out2_mae: 209255.2500 - val_loss: 99392552960.0000 - val_out1_loss: 49698226176.0000 - val_out1_mae: 198251.0156 - val_out2_loss: 49694322688.0000 - val_out2_mae: 198241.3281\n",
            "Epoch 6/200\n",
            "\u001b[1m27/27\u001b[0m \u001b[32m━━━━━━━━━━━━━━━━━━━━\u001b[0m\u001b[37m\u001b[0m \u001b[1m0s\u001b[0m 5ms/step - loss: 100920213504.0000 - out1_loss: 50463604736.0000 - out1_mae: 202299.0938 - out2_loss: 50456616960.0000 - out2_mae: 202280.8750 - val_loss: 99291037696.0000 - val_out1_loss: 49659047936.0000 - val_out1_mae: 198153.2500 - val_out2_loss: 49631997952.0000 - val_out2_mae: 198085.4219\n",
            "Epoch 7/200\n",
            "\u001b[1m27/27\u001b[0m \u001b[32m━━━━━━━━━━━━━━━━━━━━\u001b[0m\u001b[37m\u001b[0m \u001b[1m0s\u001b[0m 5ms/step - loss: 106324983808.0000 - out1_loss: 53180780544.0000 - out1_mae: 205323.2969 - out2_loss: 53144203264.0000 - out2_mae: 205230.2812 - val_loss: 99090587648.0000 - val_out1_loss: 49589366784.0000 - val_out1_mae: 197980.5000 - val_out2_loss: 49501220864.0000 - val_out2_mae: 197760.2969\n",
            "Epoch 8/200\n",
            "\u001b[1m27/27\u001b[0m \u001b[32m━━━━━━━━━━━━━━━━━━━━\u001b[0m\u001b[37m\u001b[0m \u001b[1m0s\u001b[0m 6ms/step - loss: 103474855936.0000 - out1_loss: 51788996608.0000 - out1_mae: 202095.2188 - out2_loss: 51685863424.0000 - out2_mae: 201822.2969 - val_loss: 98720587776.0000 - val_out1_loss: 49472475136.0000 - val_out1_mae: 197692.6250 - val_out2_loss: 49248120832.0000 - val_out2_mae: 197134.1875\n",
            "Epoch 9/200\n",
            "\u001b[1m27/27\u001b[0m \u001b[32m━━━━━━━━━━━━━━━━━━━━\u001b[0m\u001b[37m\u001b[0m \u001b[1m0s\u001b[0m 7ms/step - loss: 105869475840.0000 - out1_loss: 53060407296.0000 - out1_mae: 205909.8750 - out2_loss: 52809060352.0000 - out2_mae: 205275.4219 - val_loss: 98094587904.0000 - val_out1_loss: 49290772480.0000 - val_out1_mae: 197249.2031 - val_out2_loss: 48803819520.0000 - val_out2_mae: 196041.2344\n",
            "Epoch 10/200\n",
            "\u001b[1m27/27\u001b[0m \u001b[32m━━━━━━━━━━━━━━━━━━━━\u001b[0m\u001b[37m\u001b[0m \u001b[1m0s\u001b[0m 6ms/step - loss: 111792316416.0000 - out1_loss: 56171614208.0000 - out1_mae: 209687.8125 - out2_loss: 55620722688.0000 - out2_mae: 208322.3750 - val_loss: 97107746816.0000 - val_out1_loss: 49025351680.0000 - val_out1_mae: 196601.3750 - val_out2_loss: 48082386944.0000 - val_out2_mae: 194257.7344\n",
            "Epoch 11/200\n",
            "\u001b[1m27/27\u001b[0m \u001b[32m━━━━━━━━━━━━━━━━━━━━\u001b[0m\u001b[37m\u001b[0m \u001b[1m0s\u001b[0m 6ms/step - loss: 101786370048.0000 - out1_loss: 51404677120.0000 - out1_mae: 206155.4531 - out2_loss: 50381697024.0000 - out2_mae: 203585.7031 - val_loss: 95607676928.0000 - val_out1_loss: 48647667712.0000 - val_out1_mae: 195685.3750 - val_out2_loss: 46960005120.0000 - val_out2_mae: 191473.2500\n",
            "Epoch 12/200\n",
            "\u001b[1m27/27\u001b[0m \u001b[32m━━━━━━━━━━━━━━━━━━━━\u001b[0m\u001b[37m\u001b[0m \u001b[1m0s\u001b[0m 6ms/step - loss: 108691554304.0000 - out1_loss: 55212621824.0000 - out1_mae: 210975.7031 - out2_loss: 53478936576.0000 - out2_mae: 206607.8906 - val_loss: 93443784704.0000 - val_out1_loss: 48133197824.0000 - val_out1_mae: 194440.5781 - val_out2_loss: 45310595072.0000 - val_out2_mae: 187329.2969\n",
            "Epoch 13/200\n",
            "\u001b[1m27/27\u001b[0m \u001b[32m━━━━━━━━━━━━━━━━━━━━\u001b[0m\u001b[37m\u001b[0m \u001b[1m0s\u001b[0m 6ms/step - loss: 97982308352.0000 - out1_loss: 50377367552.0000 - out1_mae: 199850.0625 - out2_loss: 47604940800.0000 - out2_mae: 192491.6094 - val_loss: 90536894464.0000 - val_out1_loss: 47472553984.0000 - val_out1_mae: 192833.9531 - val_out2_loss: 43064340480.0000 - val_out2_mae: 181530.1875\n",
            "Epoch 14/200\n",
            "\u001b[1m27/27\u001b[0m \u001b[32m━━━━━━━━━━━━━━━━━━━━\u001b[0m\u001b[37m\u001b[0m \u001b[1m0s\u001b[0m 7ms/step - loss: 87914455040.0000 - out1_loss: 46022045696.0000 - out1_mae: 190618.8438 - out2_loss: 41892413440.0000 - out2_mae: 178908.5312 - val_loss: 86776864768.0000 - val_out1_loss: 46643531776.0000 - val_out1_mae: 190804.7969 - val_out2_loss: 40133324800.0000 - val_out2_mae: 173657.5625\n",
            "Epoch 15/200\n",
            "\u001b[1m27/27\u001b[0m \u001b[32m━━━━━━━━━━━━━━━━━━━━\u001b[0m\u001b[37m\u001b[0m \u001b[1m0s\u001b[0m 5ms/step - loss: 90614521856.0000 - out1_loss: 48475926528.0000 - out1_mae: 196564.1875 - out2_loss: 42138591232.0000 - out2_mae: 179057.9688 - val_loss: 81994260480.0000 - val_out1_loss: 45601959936.0000 - val_out1_mae: 188249.7969 - val_out2_loss: 36392292352.0000 - val_out2_mae: 163080.2656\n",
            "Epoch 16/200\n",
            "\u001b[1m27/27\u001b[0m \u001b[32m━━━━━━━━━━━━━━━━━━━━\u001b[0m\u001b[37m\u001b[0m \u001b[1m0s\u001b[0m 7ms/step - loss: 84593926144.0000 - out1_loss: 46632411136.0000 - out1_mae: 190031.6719 - out2_loss: 37961519104.0000 - out2_mae: 164982.8125 - val_loss: 76458254336.0000 - val_out1_loss: 44382105600.0000 - val_out1_mae: 185204.3750 - val_out2_loss: 32076146688.0000 - val_out2_mae: 149768.2969\n",
            "Epoch 17/200\n",
            "\u001b[1m27/27\u001b[0m \u001b[32m━━━━━━━━━━━━━━━━━━━━\u001b[0m\u001b[37m\u001b[0m \u001b[1m0s\u001b[0m 6ms/step - loss: 82417311744.0000 - out1_loss: 47261810688.0000 - out1_mae: 192091.2656 - out2_loss: 35155501056.0000 - out2_mae: 156785.9219 - val_loss: 70176137216.0000 - val_out1_loss: 42939310080.0000 - val_out1_mae: 181570.3750 - val_out2_loss: 27236820992.0000 - val_out2_mae: 134750.1250\n",
            "Epoch 18/200\n",
            "\u001b[1m27/27\u001b[0m \u001b[32m━━━━━━━━━━━━━━━━━━━━\u001b[0m\u001b[37m\u001b[0m \u001b[1m0s\u001b[0m 6ms/step - loss: 85158723584.0000 - out1_loss: 50460946432.0000 - out1_mae: 198181.1719 - out2_loss: 34697777152.0000 - out2_mae: 154270.5781 - val_loss: 63845154816.0000 - val_out1_loss: 41368285184.0000 - val_out1_mae: 177555.4219 - val_out2_loss: 22476867584.0000 - val_out2_mae: 120735.8828\n",
            "Epoch 19/200\n",
            "\u001b[1m27/27\u001b[0m \u001b[32m━━━━━━━━━━━━━━━━━━━━\u001b[0m\u001b[37m\u001b[0m \u001b[1m0s\u001b[0m 6ms/step - loss: 74367311872.0000 - out1_loss: 46424498176.0000 - out1_mae: 188030.8281 - out2_loss: 27942817792.0000 - out2_mae: 134219.8125 - val_loss: 58053439488.0000 - val_out1_loss: 39733698560.0000 - val_out1_mae: 173295.0625 - val_out2_loss: 18319742976.0000 - val_out2_mae: 107014.6875\n",
            "Epoch 20/200\n",
            "\u001b[1m27/27\u001b[0m \u001b[32m━━━━━━━━━━━━━━━━━━━━\u001b[0m\u001b[37m\u001b[0m \u001b[1m0s\u001b[0m 7ms/step - loss: 65178963968.0000 - out1_loss: 42534760448.0000 - out1_mae: 180386.8906 - out2_loss: 22644203520.0000 - out2_mae: 120985.5391 - val_loss: 52990857216.0000 - val_out1_loss: 38035451904.0000 - val_out1_mae: 168823.5156 - val_out2_loss: 14955404288.0000 - val_out2_mae: 95143.0703\n",
            "Epoch 21/200\n",
            "\u001b[1m27/27\u001b[0m \u001b[32m━━━━━━━━━━━━━━━━━━━━\u001b[0m\u001b[37m\u001b[0m \u001b[1m0s\u001b[0m 6ms/step - loss: 65537941504.0000 - out1_loss: 44295757824.0000 - out1_mae: 183845.8281 - out2_loss: 21242177536.0000 - out2_mae: 119801.7812 - val_loss: 49117409280.0000 - val_out1_loss: 36413902848.0000 - val_out1_mae: 164480.4062 - val_out2_loss: 12703503360.0000 - val_out2_mae: 87607.1641\n",
            "Epoch 22/200\n",
            "\u001b[1m27/27\u001b[0m \u001b[32m━━━━━━━━━━━━━━━━━━━━\u001b[0m\u001b[37m\u001b[0m \u001b[1m0s\u001b[0m 7ms/step - loss: 56981389312.0000 - out1_loss: 39074873344.0000 - out1_mae: 169511.9844 - out2_loss: 17906507776.0000 - out2_mae: 106531.8281 - val_loss: 46674198528.0000 - val_out1_loss: 35095728128.0000 - val_out1_mae: 160897.2031 - val_out2_loss: 11578470400.0000 - val_out2_mae: 84393.8203\n",
            "Epoch 23/200\n",
            "\u001b[1m27/27\u001b[0m \u001b[32m━━━━━━━━━━━━━━━━━━━━\u001b[0m\u001b[37m\u001b[0m \u001b[1m0s\u001b[0m 6ms/step - loss: 56074915840.0000 - out1_loss: 39443357696.0000 - out1_mae: 171469.5469 - out2_loss: 16631561216.0000 - out2_mae: 103627.0703 - val_loss: 44613521408.0000 - val_out1_loss: 33794811904.0000 - val_out1_mae: 157344.1875 - val_out2_loss: 10818708480.0000 - val_out2_mae: 82150.0312\n",
            "Epoch 24/200\n",
            "\u001b[1m27/27\u001b[0m \u001b[32m━━━━━━━━━━━━━━━━━━━━\u001b[0m\u001b[37m\u001b[0m \u001b[1m0s\u001b[0m 7ms/step - loss: 51311706112.0000 - out1_loss: 36096212992.0000 - out1_mae: 162089.5156 - out2_loss: 15215492096.0000 - out2_mae: 97297.8281 - val_loss: 42999853056.0000 - val_out1_loss: 32721993728.0000 - val_out1_mae: 154467.8281 - val_out2_loss: 10277858304.0000 - val_out2_mae: 80018.7891\n",
            "Epoch 25/200\n",
            "\u001b[1m27/27\u001b[0m \u001b[32m━━━━━━━━━━━━━━━━━━━━\u001b[0m\u001b[37m\u001b[0m \u001b[1m0s\u001b[0m 6ms/step - loss: 51941093376.0000 - out1_loss: 37675876352.0000 - out1_mae: 167765.7500 - out2_loss: 14265217024.0000 - out2_mae: 96194.8203 - val_loss: 41336750080.0000 - val_out1_loss: 31534983168.0000 - val_out1_mae: 151296.1406 - val_out2_loss: 9801767936.0000 - val_out2_mae: 78858.8828\n",
            "Epoch 26/200\n",
            "\u001b[1m27/27\u001b[0m \u001b[32m━━━━━━━━━━━━━━━━━━━━\u001b[0m\u001b[37m\u001b[0m \u001b[1m0s\u001b[0m 6ms/step - loss: 52649418752.0000 - out1_loss: 34799017984.0000 - out1_mae: 156328.3438 - out2_loss: 17850398720.0000 - out2_mae: 100137.9219 - val_loss: 40127012864.0000 - val_out1_loss: 30769928192.0000 - val_out1_mae: 149239.4375 - val_out2_loss: 9357085696.0000 - val_out2_mae: 76489.5078\n",
            "Epoch 27/200\n",
            "\u001b[1m27/27\u001b[0m \u001b[32m━━━━━━━━━━━━━━━━━━━━\u001b[0m\u001b[37m\u001b[0m \u001b[1m0s\u001b[0m 7ms/step - loss: 48919052288.0000 - out1_loss: 34763001856.0000 - out1_mae: 159786.0156 - out2_loss: 14156055552.0000 - out2_mae: 91495.5391 - val_loss: 38782500864.0000 - val_out1_loss: 29793361920.0000 - val_out1_mae: 146571.1875 - val_out2_loss: 8989137920.0000 - val_out2_mae: 74814.8359\n",
            "Epoch 28/200\n",
            "\u001b[1m27/27\u001b[0m \u001b[32m━━━━━━━━━━━━━━━━━━━━\u001b[0m\u001b[37m\u001b[0m \u001b[1m0s\u001b[0m 6ms/step - loss: 46701932544.0000 - out1_loss: 32176582656.0000 - out1_mae: 152958.2500 - out2_loss: 14525347840.0000 - out2_mae: 89740.3125 - val_loss: 37487194112.0000 - val_out1_loss: 28893718528.0000 - val_out1_mae: 144129.8125 - val_out2_loss: 8593474560.0000 - val_out2_mae: 72751.1172\n",
            "Epoch 29/200\n",
            "\u001b[1m27/27\u001b[0m \u001b[32m━━━━━━━━━━━━━━━━━━━━\u001b[0m\u001b[37m\u001b[0m \u001b[1m0s\u001b[0m 7ms/step - loss: 40806809600.0000 - out1_loss: 28950732800.0000 - out1_mae: 143702.9531 - out2_loss: 11856076800.0000 - out2_mae: 83260.8828 - val_loss: 36225937408.0000 - val_out1_loss: 27971627008.0000 - val_out1_mae: 141566.5312 - val_out2_loss: 8254308864.0000 - val_out2_mae: 71073.7812\n",
            "Epoch 30/200\n",
            "\u001b[1m27/27\u001b[0m \u001b[32m━━━━━━━━━━━━━━━━━━━━\u001b[0m\u001b[37m\u001b[0m \u001b[1m0s\u001b[0m 6ms/step - loss: 42803400704.0000 - out1_loss: 30349944832.0000 - out1_mae: 148769.0781 - out2_loss: 12453455872.0000 - out2_mae: 80607.6406 - val_loss: 35024556032.0000 - val_out1_loss: 27113674752.0000 - val_out1_mae: 139142.1719 - val_out2_loss: 7910877696.0000 - val_out2_mae: 69116.2500\n",
            "Epoch 31/200\n",
            "\u001b[1m27/27\u001b[0m \u001b[32m━━━━━━━━━━━━━━━━━━━━\u001b[0m\u001b[37m\u001b[0m \u001b[1m0s\u001b[0m 5ms/step - loss: 38876336128.0000 - out1_loss: 28785516544.0000 - out1_mae: 145310.2500 - out2_loss: 10090818560.0000 - out2_mae: 78824.7188 - val_loss: 33815633920.0000 - val_out1_loss: 26171598848.0000 - val_out1_mae: 136436.9219 - val_out2_loss: 7644032512.0000 - val_out2_mae: 67669.6562\n",
            "Epoch 32/200\n",
            "\u001b[1m27/27\u001b[0m \u001b[32m━━━━━━━━━━━━━━━━━━━━\u001b[0m\u001b[37m\u001b[0m \u001b[1m0s\u001b[0m 7ms/step - loss: 38320607232.0000 - out1_loss: 28508852224.0000 - out1_mae: 143934.4688 - out2_loss: 9811760128.0000 - out2_mae: 74200.6094 - val_loss: 32618037248.0000 - val_out1_loss: 25293137920.0000 - val_out1_mae: 133900.1875 - val_out2_loss: 7324899840.0000 - val_out2_mae: 65694.7500\n",
            "Epoch 33/200\n",
            "\u001b[1m27/27\u001b[0m \u001b[32m━━━━━━━━━━━━━━━━━━━━\u001b[0m\u001b[37m\u001b[0m \u001b[1m0s\u001b[0m 5ms/step - loss: 41237749760.0000 - out1_loss: 28507383808.0000 - out1_mae: 142722.8125 - out2_loss: 12730365952.0000 - out2_mae: 82267.6484 - val_loss: 31487563776.0000 - val_out1_loss: 24459913216.0000 - val_out1_mae: 131409.4531 - val_out2_loss: 7027650560.0000 - val_out2_mae: 63641.6562\n",
            "Epoch 34/200\n",
            "\u001b[1m27/27\u001b[0m \u001b[32m━━━━━━━━━━━━━━━━━━━━\u001b[0m\u001b[37m\u001b[0m \u001b[1m0s\u001b[0m 6ms/step - loss: 37324832768.0000 - out1_loss: 27749390336.0000 - out1_mae: 140728.1562 - out2_loss: 9575441408.0000 - out2_mae: 70605.7812 - val_loss: 30331150336.0000 - val_out1_loss: 23525353472.0000 - val_out1_mae: 128765.4453 - val_out2_loss: 6805797376.0000 - val_out2_mae: 62222.4492\n",
            "Epoch 35/200\n",
            "\u001b[1m27/27\u001b[0m \u001b[32m━━━━━━━━━━━━━━━━━━━━\u001b[0m\u001b[37m\u001b[0m \u001b[1m0s\u001b[0m 5ms/step - loss: 36400328704.0000 - out1_loss: 27399929856.0000 - out1_mae: 140404.6406 - out2_loss: 9000396800.0000 - out2_mae: 67128.8047 - val_loss: 29222676480.0000 - val_out1_loss: 22666070016.0000 - val_out1_mae: 126313.6875 - val_out2_loss: 6556609024.0000 - val_out2_mae: 60484.1680\n",
            "Epoch 36/200\n",
            "\u001b[1m27/27\u001b[0m \u001b[32m━━━━━━━━━━━━━━━━━━━━\u001b[0m\u001b[37m\u001b[0m \u001b[1m0s\u001b[0m 5ms/step - loss: 34238720000.0000 - out1_loss: 24877500416.0000 - out1_mae: 131800.7344 - out2_loss: 9361215488.0000 - out2_mae: 72223.8516 - val_loss: 28117616640.0000 - val_out1_loss: 21791016960.0000 - val_out1_mae: 123766.4141 - val_out2_loss: 6326599168.0000 - val_out2_mae: 58921.1992\n",
            "Epoch 37/200\n",
            "\u001b[1m27/27\u001b[0m \u001b[32m━━━━━━━━━━━━━━━━━━━━\u001b[0m\u001b[37m\u001b[0m \u001b[1m0s\u001b[0m 6ms/step - loss: 31628660736.0000 - out1_loss: 23299401728.0000 - out1_mae: 126759.5938 - out2_loss: 8329263616.0000 - out2_mae: 69665.2031 - val_loss: 27017414656.0000 - val_out1_loss: 20849031168.0000 - val_out1_mae: 120946.3125 - val_out2_loss: 6168384000.0000 - val_out2_mae: 58107.0273\n",
            "Epoch 38/200\n",
            "\u001b[1m27/27\u001b[0m \u001b[32m━━━━━━━━━━━━━━━━━━━━\u001b[0m\u001b[37m\u001b[0m \u001b[1m0s\u001b[0m 6ms/step - loss: 30078894080.0000 - out1_loss: 22788546560.0000 - out1_mae: 126020.0000 - out2_loss: 7290347008.0000 - out2_mae: 65920.4375 - val_loss: 25912522752.0000 - val_out1_loss: 19938232320.0000 - val_out1_mae: 118124.2422 - val_out2_loss: 5974288896.0000 - val_out2_mae: 57050.6875\n",
            "Epoch 39/200\n",
            "\u001b[1m27/27\u001b[0m \u001b[32m━━━━━━━━━━━━━━━━━━━━\u001b[0m\u001b[37m\u001b[0m \u001b[1m0s\u001b[0m 6ms/step - loss: 31559503872.0000 - out1_loss: 23380361216.0000 - out1_mae: 129157.9531 - out2_loss: 8179142144.0000 - out2_mae: 65364.1602 - val_loss: 24895186944.0000 - val_out1_loss: 19050242048.0000 - val_out1_mae: 115245.9688 - val_out2_loss: 5844944896.0000 - val_out2_mae: 56225.8633\n",
            "Epoch 40/200\n",
            "\u001b[1m27/27\u001b[0m \u001b[32m━━━━━━━━━━━━━━━━━━━━\u001b[0m\u001b[37m\u001b[0m \u001b[1m0s\u001b[0m 7ms/step - loss: 28723705856.0000 - out1_loss: 20895592448.0000 - out1_mae: 119968.1953 - out2_loss: 7828114432.0000 - out2_mae: 64013.9453 - val_loss: 23805888512.0000 - val_out1_loss: 18192386048.0000 - val_out1_mae: 112537.8359 - val_out2_loss: 5613500928.0000 - val_out2_mae: 54701.7852\n",
            "Epoch 41/200\n",
            "\u001b[1m27/27\u001b[0m \u001b[32m━━━━━━━━━━━━━━━━━━━━\u001b[0m\u001b[37m\u001b[0m \u001b[1m0s\u001b[0m 6ms/step - loss: 27821133824.0000 - out1_loss: 20026994688.0000 - out1_mae: 118630.4844 - out2_loss: 7794138624.0000 - out2_mae: 62878.6133 - val_loss: 22830669824.0000 - val_out1_loss: 17402746880.0000 - val_out1_mae: 109928.5938 - val_out2_loss: 5427922944.0000 - val_out2_mae: 53199.1367\n",
            "Epoch 42/200\n",
            "\u001b[1m27/27\u001b[0m \u001b[32m━━━━━━━━━━━━━━━━━━━━\u001b[0m\u001b[37m\u001b[0m \u001b[1m0s\u001b[0m 6ms/step - loss: 29406060544.0000 - out1_loss: 20309471232.0000 - out1_mae: 119601.2422 - out2_loss: 9096589312.0000 - out2_mae: 67291.8828 - val_loss: 21808867328.0000 - val_out1_loss: 16499032064.0000 - val_out1_mae: 106835.0625 - val_out2_loss: 5309835776.0000 - val_out2_mae: 52492.9336\n",
            "Epoch 43/200\n",
            "\u001b[1m27/27\u001b[0m \u001b[32m━━━━━━━━━━━━━━━━━━━━\u001b[0m\u001b[37m\u001b[0m \u001b[1m0s\u001b[0m 8ms/step - loss: 26628571136.0000 - out1_loss: 17921511424.0000 - out1_mae: 111953.3203 - out2_loss: 8707059712.0000 - out2_mae: 64442.3320 - val_loss: 20814256128.0000 - val_out1_loss: 15641439232.0000 - val_out1_mae: 103805.4375 - val_out2_loss: 5172817408.0000 - val_out2_mae: 51712.2617\n",
            "Epoch 44/200\n",
            "\u001b[1m27/27\u001b[0m \u001b[32m━━━━━━━━━━━━━━━━━━━━\u001b[0m\u001b[37m\u001b[0m \u001b[1m0s\u001b[0m 14ms/step - loss: 23122827264.0000 - out1_loss: 16827738112.0000 - out1_mae: 108759.1641 - out2_loss: 6295088128.0000 - out2_mae: 57314.4297 - val_loss: 19832371200.0000 - val_out1_loss: 14696152064.0000 - val_out1_mae: 100300.9141 - val_out2_loss: 5136219648.0000 - val_out2_mae: 51893.6562\n",
            "Epoch 45/200\n",
            "\u001b[1m27/27\u001b[0m \u001b[32m━━━━━━━━━━━━━━━━━━━━\u001b[0m\u001b[37m\u001b[0m \u001b[1m1s\u001b[0m 11ms/step - loss: 25637902336.0000 - out1_loss: 16523202560.0000 - out1_mae: 107286.1328 - out2_loss: 9114700800.0000 - out2_mae: 64449.3516 - val_loss: 18889768960.0000 - val_out1_loss: 13970366464.0000 - val_out1_mae: 97546.5234 - val_out2_loss: 4919403008.0000 - val_out2_mae: 49796.8906\n",
            "Epoch 46/200\n",
            "\u001b[1m27/27\u001b[0m \u001b[32m━━━━━━━━━━━━━━━━━━━━\u001b[0m\u001b[37m\u001b[0m \u001b[1m1s\u001b[0m 10ms/step - loss: 22943148032.0000 - out1_loss: 15851533312.0000 - out1_mae: 103309.8203 - out2_loss: 7091615232.0000 - out2_mae: 57527.7773 - val_loss: 17982142464.0000 - val_out1_loss: 13146059776.0000 - val_out1_mae: 94290.7109 - val_out2_loss: 4836082176.0000 - val_out2_mae: 49362.4805\n",
            "Epoch 47/200\n",
            "\u001b[1m27/27\u001b[0m \u001b[32m━━━━━━━━━━━━━━━━━━━━\u001b[0m\u001b[37m\u001b[0m \u001b[1m1s\u001b[0m 8ms/step - loss: 23662082048.0000 - out1_loss: 16579388416.0000 - out1_mae: 105864.8828 - out2_loss: 7082694144.0000 - out2_mae: 58991.0977 - val_loss: 17070379008.0000 - val_out1_loss: 12325580800.0000 - val_out1_mae: 90968.8438 - val_out2_loss: 4744798208.0000 - val_out2_mae: 48687.7617\n",
            "Epoch 48/200\n",
            "\u001b[1m27/27\u001b[0m \u001b[32m━━━━━━━━━━━━━━━━━━━━\u001b[0m\u001b[37m\u001b[0m \u001b[1m0s\u001b[0m 6ms/step - loss: 23055702016.0000 - out1_loss: 15173215232.0000 - out1_mae: 100745.1797 - out2_loss: 7882485248.0000 - out2_mae: 60777.7461 - val_loss: 16219249664.0000 - val_out1_loss: 11599052800.0000 - val_out1_mae: 87892.4688 - val_out2_loss: 4620196352.0000 - val_out2_mae: 47382.6055\n",
            "Epoch 49/200\n",
            "\u001b[1m27/27\u001b[0m \u001b[32m━━━━━━━━━━━━━━━━━━━━\u001b[0m\u001b[37m\u001b[0m \u001b[1m0s\u001b[0m 5ms/step - loss: 21129050112.0000 - out1_loss: 14290288640.0000 - out1_mae: 96918.7422 - out2_loss: 6838760960.0000 - out2_mae: 59171.4062 - val_loss: 15379906560.0000 - val_out1_loss: 10863300608.0000 - val_out1_mae: 84603.1641 - val_out2_loss: 4516605952.0000 - val_out2_mae: 46570.1523\n",
            "Epoch 50/200\n",
            "\u001b[1m27/27\u001b[0m \u001b[32m━━━━━━━━━━━━━━━━━━━━\u001b[0m\u001b[37m\u001b[0m \u001b[1m0s\u001b[0m 6ms/step - loss: 20376100864.0000 - out1_loss: 13820855296.0000 - out1_mae: 92912.7500 - out2_loss: 6555243520.0000 - out2_mae: 56592.1797 - val_loss: 14542086144.0000 - val_out1_loss: 10105848832.0000 - val_out1_mae: 81024.7266 - val_out2_loss: 4436237824.0000 - val_out2_mae: 46154.8438\n",
            "Epoch 51/200\n",
            "\u001b[1m27/27\u001b[0m \u001b[32m━━━━━━━━━━━━━━━━━━━━\u001b[0m\u001b[37m\u001b[0m \u001b[1m0s\u001b[0m 7ms/step - loss: 18222600192.0000 - out1_loss: 11871325184.0000 - out1_mae: 86463.9453 - out2_loss: 6351276032.0000 - out2_mae: 53348.2891 - val_loss: 13864501248.0000 - val_out1_loss: 9520706560.0000 - val_out1_mae: 78212.1797 - val_out2_loss: 4343795200.0000 - val_out2_mae: 45196.5469\n",
            "Epoch 52/200\n",
            "\u001b[1m27/27\u001b[0m \u001b[32m━━━━━━━━━━━━━━━━━━━━\u001b[0m\u001b[37m\u001b[0m \u001b[1m0s\u001b[0m 6ms/step - loss: 19552782336.0000 - out1_loss: 11874610176.0000 - out1_mae: 84547.1953 - out2_loss: 7678170624.0000 - out2_mae: 59015.7109 - val_loss: 13129206784.0000 - val_out1_loss: 8832269312.0000 - val_out1_mae: 74785.0391 - val_out2_loss: 4296937472.0000 - val_out2_mae: 45017.8398\n",
            "Epoch 53/200\n",
            "\u001b[1m27/27\u001b[0m \u001b[32m━━━━━━━━━━━━━━━━━━━━\u001b[0m\u001b[37m\u001b[0m \u001b[1m0s\u001b[0m 6ms/step - loss: 15428128768.0000 - out1_loss: 10422879232.0000 - out1_mae: 82108.8516 - out2_loss: 5005248512.0000 - out2_mae: 52119.0469 - val_loss: 12472923136.0000 - val_out1_loss: 8261191168.0000 - val_out1_mae: 71795.1562 - val_out2_loss: 4211733248.0000 - val_out2_mae: 44417.0000\n",
            "Epoch 54/200\n",
            "\u001b[1m27/27\u001b[0m \u001b[32m━━━━━━━━━━━━━━━━━━━━\u001b[0m\u001b[37m\u001b[0m \u001b[1m0s\u001b[0m 6ms/step - loss: 15650142208.0000 - out1_loss: 9278402560.0000 - out1_mae: 75703.0547 - out2_loss: 6371740160.0000 - out2_mae: 55441.6992 - val_loss: 11879310336.0000 - val_out1_loss: 7761305600.0000 - val_out1_mae: 69014.2734 - val_out2_loss: 4118005504.0000 - val_out2_mae: 43772.7148\n",
            "Epoch 55/200\n",
            "\u001b[1m27/27\u001b[0m \u001b[32m━━━━━━━━━━━━━━━━━━━━\u001b[0m\u001b[37m\u001b[0m \u001b[1m0s\u001b[0m 8ms/step - loss: 13979265024.0000 - out1_loss: 9036999680.0000 - out1_mae: 72950.3984 - out2_loss: 4942265344.0000 - out2_mae: 50329.0938 - val_loss: 11282121728.0000 - val_out1_loss: 7200339968.0000 - val_out1_mae: 65690.8672 - val_out2_loss: 4081781504.0000 - val_out2_mae: 43921.7500\n",
            "Epoch 56/200\n",
            "\u001b[1m27/27\u001b[0m \u001b[32m━━━━━━━━━━━━━━━━━━━━\u001b[0m\u001b[37m\u001b[0m \u001b[1m0s\u001b[0m 8ms/step - loss: 12048012288.0000 - out1_loss: 7419099648.0000 - out1_mae: 68566.0469 - out2_loss: 4628912128.0000 - out2_mae: 48451.7109 - val_loss: 10781665280.0000 - val_out1_loss: 6751737344.0000 - val_out1_mae: 62811.1680 - val_out2_loss: 4029928192.0000 - val_out2_mae: 43870.7930\n",
            "Epoch 57/200\n",
            "\u001b[1m27/27\u001b[0m \u001b[32m━━━━━━━━━━━━━━━━━━━━\u001b[0m\u001b[37m\u001b[0m \u001b[1m0s\u001b[0m 8ms/step - loss: 13418673152.0000 - out1_loss: 7927812608.0000 - out1_mae: 69415.6172 - out2_loss: 5490861056.0000 - out2_mae: 51019.6133 - val_loss: 10290611200.0000 - val_out1_loss: 6313740288.0000 - val_out1_mae: 59758.2305 - val_out2_loss: 3976870656.0000 - val_out2_mae: 43923.2344\n",
            "Epoch 58/200\n",
            "\u001b[1m27/27\u001b[0m \u001b[32m━━━━━━━━━━━━━━━━━━━━\u001b[0m\u001b[37m\u001b[0m \u001b[1m0s\u001b[0m 8ms/step - loss: 12434071552.0000 - out1_loss: 7317048320.0000 - out1_mae: 65447.2031 - out2_loss: 5117023232.0000 - out2_mae: 49977.4141 - val_loss: 9879437312.0000 - val_out1_loss: 5948653568.0000 - val_out1_mae: 57056.7695 - val_out2_loss: 3930784000.0000 - val_out2_mae: 43847.7930\n",
            "Epoch 59/200\n",
            "\u001b[1m27/27\u001b[0m \u001b[32m━━━━━━━━━━━━━━━━━━━━\u001b[0m\u001b[37m\u001b[0m \u001b[1m0s\u001b[0m 6ms/step - loss: 12885523456.0000 - out1_loss: 7216924672.0000 - out1_mae: 65050.4648 - out2_loss: 5668600832.0000 - out2_mae: 52123.9102 - val_loss: 9486789632.0000 - val_out1_loss: 5576412672.0000 - val_out1_mae: 54214.8008 - val_out2_loss: 3910376704.0000 - val_out2_mae: 44207.0742\n",
            "Epoch 60/200\n",
            "\u001b[1m27/27\u001b[0m \u001b[32m━━━━━━━━━━━━━━━━━━━━\u001b[0m\u001b[37m\u001b[0m \u001b[1m0s\u001b[0m 6ms/step - loss: 10954296320.0000 - out1_loss: 5974122496.0000 - out1_mae: 58475.7578 - out2_loss: 4980172800.0000 - out2_mae: 47383.7539 - val_loss: 9164510208.0000 - val_out1_loss: 5276054528.0000 - val_out1_mae: 51699.0430 - val_out2_loss: 3888455424.0000 - val_out2_mae: 44288.6367\n",
            "Epoch 61/200\n",
            "\u001b[1m27/27\u001b[0m \u001b[32m━━━━━━━━━━━━━━━━━━━━\u001b[0m\u001b[37m\u001b[0m \u001b[1m0s\u001b[0m 8ms/step - loss: 9827456000.0000 - out1_loss: 5688254976.0000 - out1_mae: 55726.6328 - out2_loss: 4139201280.0000 - out2_mae: 44496.6055 - val_loss: 8856757248.0000 - val_out1_loss: 5005713920.0000 - val_out1_mae: 49389.9258 - val_out2_loss: 3851042816.0000 - val_out2_mae: 44217.5430\n",
            "Epoch 62/200\n",
            "\u001b[1m27/27\u001b[0m \u001b[32m━━━━━━━━━━━━━━━━━━━━\u001b[0m\u001b[37m\u001b[0m \u001b[1m0s\u001b[0m 7ms/step - loss: 9047797760.0000 - out1_loss: 5298616320.0000 - out1_mae: 55393.5391 - out2_loss: 3749180928.0000 - out2_mae: 44102.7695 - val_loss: 8573294080.0000 - val_out1_loss: 4758902784.0000 - val_out1_mae: 47056.4492 - val_out2_loss: 3814390784.0000 - val_out2_mae: 44157.5273\n",
            "Epoch 63/200\n",
            "\u001b[1m27/27\u001b[0m \u001b[32m━━━━━━━━━━━━━━━━━━━━\u001b[0m\u001b[37m\u001b[0m \u001b[1m0s\u001b[0m 8ms/step - loss: 9046628352.0000 - out1_loss: 4815686144.0000 - out1_mae: 52314.4297 - out2_loss: 4230942720.0000 - out2_mae: 45994.1133 - val_loss: 8406360064.0000 - val_out1_loss: 4616111616.0000 - val_out1_mae: 45826.1992 - val_out2_loss: 3790247936.0000 - val_out2_mae: 43721.2812\n",
            "Epoch 64/200\n",
            "\u001b[1m27/27\u001b[0m \u001b[32m━━━━━━━━━━━━━━━━━━━━\u001b[0m\u001b[37m\u001b[0m \u001b[1m0s\u001b[0m 6ms/step - loss: 10719622144.0000 - out1_loss: 5438846464.0000 - out1_mae: 52961.7930 - out2_loss: 5280775680.0000 - out2_mae: 48922.0742 - val_loss: 8194258432.0000 - val_out1_loss: 4422972416.0000 - val_out1_mae: 44502.7383 - val_out2_loss: 3771285248.0000 - val_out2_mae: 43913.5039\n",
            "Epoch 65/200\n",
            "\u001b[1m27/27\u001b[0m \u001b[32m━━━━━━━━━━━━━━━━━━━━\u001b[0m\u001b[37m\u001b[0m \u001b[1m0s\u001b[0m 7ms/step - loss: 8467454976.0000 - out1_loss: 4374162944.0000 - out1_mae: 48371.3008 - out2_loss: 4093291520.0000 - out2_mae: 45345.3203 - val_loss: 8037677056.0000 - val_out1_loss: 4274999552.0000 - val_out1_mae: 43482.4219 - val_out2_loss: 3762677760.0000 - val_out2_mae: 43972.7188\n",
            "Epoch 66/200\n",
            "\u001b[1m27/27\u001b[0m \u001b[32m━━━━━━━━━━━━━━━━━━━━\u001b[0m\u001b[37m\u001b[0m \u001b[1m0s\u001b[0m 7ms/step - loss: 11332158464.0000 - out1_loss: 5942588928.0000 - out1_mae: 53701.1211 - out2_loss: 5389570048.0000 - out2_mae: 50937.3281 - val_loss: 7912829440.0000 - val_out1_loss: 4143648768.0000 - val_out1_mae: 42754.8555 - val_out2_loss: 3769181184.0000 - val_out2_mae: 44452.6523\n",
            "Epoch 67/200\n",
            "\u001b[1m27/27\u001b[0m \u001b[32m━━━━━━━━━━━━━━━━━━━━\u001b[0m\u001b[37m\u001b[0m \u001b[1m0s\u001b[0m 6ms/step - loss: 8997429248.0000 - out1_loss: 4724364800.0000 - out1_mae: 49769.5312 - out2_loss: 4273064704.0000 - out2_mae: 46665.1016 - val_loss: 7794913280.0000 - val_out1_loss: 4050207488.0000 - val_out1_mae: 42264.7148 - val_out2_loss: 3744705792.0000 - val_out2_mae: 44270.1836\n",
            "Epoch 68/200\n",
            "\u001b[1m27/27\u001b[0m \u001b[32m━━━━━━━━━━━━━━━━━━━━\u001b[0m\u001b[37m\u001b[0m \u001b[1m0s\u001b[0m 7ms/step - loss: 9368398848.0000 - out1_loss: 4794899456.0000 - out1_mae: 49074.2227 - out2_loss: 4573499392.0000 - out2_mae: 46670.6484 - val_loss: 7713510912.0000 - val_out1_loss: 3976488704.0000 - val_out1_mae: 42075.4727 - val_out2_loss: 3737022208.0000 - val_out2_mae: 44382.8555\n",
            "Epoch 69/200\n",
            "\u001b[1m27/27\u001b[0m \u001b[32m━━━━━━━━━━━━━━━━━━━━\u001b[0m\u001b[37m\u001b[0m \u001b[1m0s\u001b[0m 7ms/step - loss: 8453391872.0000 - out1_loss: 4232998400.0000 - out1_mae: 48621.8633 - out2_loss: 4220392960.0000 - out2_mae: 47995.1875 - val_loss: 7643095040.0000 - val_out1_loss: 3920402688.0000 - val_out1_mae: 41927.8789 - val_out2_loss: 3722692608.0000 - val_out2_mae: 44245.2188\n",
            "Epoch 70/200\n",
            "\u001b[1m27/27\u001b[0m \u001b[32m━━━━━━━━━━━━━━━━━━━━\u001b[0m\u001b[37m\u001b[0m \u001b[1m0s\u001b[0m 7ms/step - loss: 8650955776.0000 - out1_loss: 4354200576.0000 - out1_mae: 47695.9648 - out2_loss: 4296755712.0000 - out2_mae: 47089.1406 - val_loss: 7584937472.0000 - val_out1_loss: 3860883456.0000 - val_out1_mae: 41977.8164 - val_out2_loss: 3724053248.0000 - val_out2_mae: 44590.4375\n",
            "Epoch 71/200\n",
            "\u001b[1m27/27\u001b[0m \u001b[32m━━━━━━━━━━━━━━━━━━━━\u001b[0m\u001b[37m\u001b[0m \u001b[1m0s\u001b[0m 6ms/step - loss: 9325244416.0000 - out1_loss: 4604876288.0000 - out1_mae: 47729.7227 - out2_loss: 4720369152.0000 - out2_mae: 47062.2227 - val_loss: 7543486976.0000 - val_out1_loss: 3824350976.0000 - val_out1_mae: 42050.4570 - val_out2_loss: 3719136256.0000 - val_out2_mae: 44618.4805\n",
            "Epoch 72/200\n",
            "\u001b[1m27/27\u001b[0m \u001b[32m━━━━━━━━━━━━━━━━━━━━\u001b[0m\u001b[37m\u001b[0m \u001b[1m0s\u001b[0m 6ms/step - loss: 8174863872.0000 - out1_loss: 4127250432.0000 - out1_mae: 45462.0273 - out2_loss: 4047614208.0000 - out2_mae: 44695.8125 - val_loss: 7488091648.0000 - val_out1_loss: 3774456576.0000 - val_out1_mae: 42116.4648 - val_out2_loss: 3713635072.0000 - val_out2_mae: 44879.4570\n",
            "Epoch 73/200\n",
            "\u001b[1m27/27\u001b[0m \u001b[32m━━━━━━━━━━━━━━━━━━━━\u001b[0m\u001b[37m\u001b[0m \u001b[1m0s\u001b[0m 6ms/step - loss: 7534398976.0000 - out1_loss: 3853442304.0000 - out1_mae: 44456.3281 - out2_loss: 3680956416.0000 - out2_mae: 43516.4375 - val_loss: 7442593280.0000 - val_out1_loss: 3746797568.0000 - val_out1_mae: 42190.7852 - val_out2_loss: 3695796224.0000 - val_out2_mae: 44631.4883\n",
            "Epoch 74/200\n",
            "\u001b[1m27/27\u001b[0m \u001b[32m━━━━━━━━━━━━━━━━━━━━\u001b[0m\u001b[37m\u001b[0m \u001b[1m0s\u001b[0m 6ms/step - loss: 8568762880.0000 - out1_loss: 4287683840.0000 - out1_mae: 45493.2422 - out2_loss: 4281078784.0000 - out2_mae: 45674.6562 - val_loss: 7424569856.0000 - val_out1_loss: 3730417920.0000 - val_out1_mae: 42499.0195 - val_out2_loss: 3694151936.0000 - val_out2_mae: 44713.2852\n",
            "Epoch 75/200\n",
            "\u001b[1m27/27\u001b[0m \u001b[32m━━━━━━━━━━━━━━━━━━━━\u001b[0m\u001b[37m\u001b[0m \u001b[1m0s\u001b[0m 6ms/step - loss: 8912899072.0000 - out1_loss: 4427659264.0000 - out1_mae: 46352.4141 - out2_loss: 4485239296.0000 - out2_mae: 46817.8047 - val_loss: 7458560512.0000 - val_out1_loss: 3745912064.0000 - val_out1_mae: 43050.3242 - val_out2_loss: 3712649216.0000 - val_out2_mae: 44732.3711\n",
            "Epoch 76/200\n",
            "\u001b[1m27/27\u001b[0m \u001b[32m━━━━━━━━━━━━━━━━━━━━\u001b[0m\u001b[37m\u001b[0m \u001b[1m0s\u001b[0m 6ms/step - loss: 6948591104.0000 - out1_loss: 3496572928.0000 - out1_mae: 41688.7109 - out2_loss: 3452017920.0000 - out2_mae: 41105.1016 - val_loss: 7421040640.0000 - val_out1_loss: 3717214208.0000 - val_out1_mae: 43141.7148 - val_out2_loss: 3703826432.0000 - val_out2_mae: 44967.3633\n",
            "Epoch 77/200\n",
            "\u001b[1m27/27\u001b[0m \u001b[32m━━━━━━━━━━━━━━━━━━━━\u001b[0m\u001b[37m\u001b[0m \u001b[1m0s\u001b[0m 7ms/step - loss: 7634357248.0000 - out1_loss: 3839425024.0000 - out1_mae: 45584.3906 - out2_loss: 3794932224.0000 - out2_mae: 45221.2305 - val_loss: 7388609024.0000 - val_out1_loss: 3700352256.0000 - val_out1_mae: 43273.7930 - val_out2_loss: 3688257280.0000 - val_out2_mae: 44784.5469\n",
            "Epoch 78/200\n",
            "\u001b[1m27/27\u001b[0m \u001b[32m━━━━━━━━━━━━━━━━━━━━\u001b[0m\u001b[37m\u001b[0m \u001b[1m0s\u001b[0m 6ms/step - loss: 9818003456.0000 - out1_loss: 4879283200.0000 - out1_mae: 46192.6953 - out2_loss: 4938719744.0000 - out2_mae: 46443.5430 - val_loss: 7399950848.0000 - val_out1_loss: 3704981504.0000 - val_out1_mae: 43566.8711 - val_out2_loss: 3694970112.0000 - val_out2_mae: 44813.9883\n",
            "Epoch 79/200\n",
            "\u001b[1m27/27\u001b[0m \u001b[32m━━━━━━━━━━━━━━━━━━━━\u001b[0m\u001b[37m\u001b[0m \u001b[1m0s\u001b[0m 7ms/step - loss: 7111009792.0000 - out1_loss: 3580774400.0000 - out1_mae: 43820.5859 - out2_loss: 3530235136.0000 - out2_mae: 43760.1094 - val_loss: 7395554816.0000 - val_out1_loss: 3697848320.0000 - val_out1_mae: 43920.2695 - val_out2_loss: 3697705984.0000 - val_out2_mae: 45162.2812\n",
            "Epoch 80/200\n",
            "\u001b[1m27/27\u001b[0m \u001b[32m━━━━━━━━━━━━━━━━━━━━\u001b[0m\u001b[37m\u001b[0m \u001b[1m0s\u001b[0m 8ms/step - loss: 6992217088.0000 - out1_loss: 3492386560.0000 - out1_mae: 43786.5586 - out2_loss: 3499830528.0000 - out2_mae: 44036.8555 - val_loss: 7401755136.0000 - val_out1_loss: 3700931840.0000 - val_out1_mae: 44155.7188 - val_out2_loss: 3700823296.0000 - val_out2_mae: 45185.8125\n",
            "Epoch 81/200\n",
            "\u001b[1m27/27\u001b[0m \u001b[32m━━━━━━━━━━━━━━━━━━━━\u001b[0m\u001b[37m\u001b[0m \u001b[1m0s\u001b[0m 6ms/step - loss: 9608617984.0000 - out1_loss: 4792823808.0000 - out1_mae: 46333.9453 - out2_loss: 4815794176.0000 - out2_mae: 46496.6719 - val_loss: 7424227840.0000 - val_out1_loss: 3712924928.0000 - val_out1_mae: 44405.7227 - val_out2_loss: 3711302912.0000 - val_out2_mae: 45208.0273\n",
            "Epoch 82/200\n",
            "\u001b[1m27/27\u001b[0m \u001b[32m━━━━━━━━━━━━━━━━━━━━\u001b[0m\u001b[37m\u001b[0m \u001b[1m0s\u001b[0m 6ms/step - loss: 6709480960.0000 - out1_loss: 3349403136.0000 - out1_mae: 40813.8633 - out2_loss: 3360077568.0000 - out2_mae: 40807.3477 - val_loss: 7439915008.0000 - val_out1_loss: 3720985344.0000 - val_out1_mae: 44616.0430 - val_out2_loss: 3718929664.0000 - val_out2_mae: 45235.9531\n",
            "Epoch 83/200\n",
            "\u001b[1m27/27\u001b[0m \u001b[32m━━━━━━━━━━━━━━━━━━━━\u001b[0m\u001b[37m\u001b[0m \u001b[1m0s\u001b[0m 6ms/step - loss: 7782934528.0000 - out1_loss: 3890009600.0000 - out1_mae: 44070.9453 - out2_loss: 3892924416.0000 - out2_mae: 44079.0547 - val_loss: 7435272192.0000 - val_out1_loss: 3717657856.0000 - val_out1_mae: 44797.2305 - val_out2_loss: 3717613568.0000 - val_out2_mae: 45385.4570\n",
            "Epoch 84/200\n",
            "\u001b[1m27/27\u001b[0m \u001b[32m━━━━━━━━━━━━━━━━━━━━\u001b[0m\u001b[37m\u001b[0m \u001b[1m0s\u001b[0m 6ms/step - loss: 6435094528.0000 - out1_loss: 3213617664.0000 - out1_mae: 41017.0938 - out2_loss: 3221476864.0000 - out2_mae: 41108.1445 - val_loss: 7440125952.0000 - val_out1_loss: 3718171648.0000 - val_out1_mae: 45015.9844 - val_out2_loss: 3721954048.0000 - val_out2_mae: 45640.8594\n",
            "Epoch 85/200\n",
            "\u001b[1m27/27\u001b[0m \u001b[32m━━━━━━━━━━━━━━━━━━━━\u001b[0m\u001b[37m\u001b[0m \u001b[1m0s\u001b[0m 11ms/step - loss: 6664263680.0000 - out1_loss: 3329853184.0000 - out1_mae: 42220.5625 - out2_loss: 3334410752.0000 - out2_mae: 42297.6094 - val_loss: 7445386752.0000 - val_out1_loss: 3721819392.0000 - val_out1_mae: 45151.7773 - val_out2_loss: 3723567872.0000 - val_out2_mae: 45617.1055\n",
            "Epoch 86/200\n",
            "\u001b[1m27/27\u001b[0m \u001b[32m━━━━━━━━━━━━━━━━━━━━\u001b[0m\u001b[37m\u001b[0m \u001b[1m1s\u001b[0m 10ms/step - loss: 7810701824.0000 - out1_loss: 3893177600.0000 - out1_mae: 45173.6758 - out2_loss: 3917524224.0000 - out2_mae: 45324.4531 - val_loss: 7457485312.0000 - val_out1_loss: 3728443392.0000 - val_out1_mae: 45261.8633 - val_out2_loss: 3729042176.0000 - val_out2_mae: 45594.0742\n",
            "Epoch 87/200\n",
            "\u001b[1m27/27\u001b[0m \u001b[32m━━━━━━━━━━━━━━━━━━━━\u001b[0m\u001b[37m\u001b[0m \u001b[1m1s\u001b[0m 12ms/step - loss: 6214377472.0000 - out1_loss: 3099655424.0000 - out1_mae: 42386.8945 - out2_loss: 3114722560.0000 - out2_mae: 42491.2188 - val_loss: 7463995392.0000 - val_out1_loss: 3732023040.0000 - val_out1_mae: 45306.1758 - val_out2_loss: 3731972352.0000 - val_out2_mae: 45529.1094\n",
            "Epoch 88/200\n",
            "\u001b[1m27/27\u001b[0m \u001b[32m━━━━━━━━━━━━━━━━━━━━\u001b[0m\u001b[37m\u001b[0m \u001b[1m1s\u001b[0m 11ms/step - loss: 6073140736.0000 - out1_loss: 3033661696.0000 - out1_mae: 42426.9844 - out2_loss: 3039479808.0000 - out2_mae: 42480.0195 - val_loss: 7467841024.0000 - val_out1_loss: 3733008640.0000 - val_out1_mae: 45528.3555 - val_out2_loss: 3734832384.0000 - val_out2_mae: 45851.9219\n",
            "Epoch 89/200\n",
            "\u001b[1m27/27\u001b[0m \u001b[32m━━━━━━━━━━━━━━━━━━━━\u001b[0m\u001b[37m\u001b[0m \u001b[1m0s\u001b[0m 6ms/step - loss: 7854222848.0000 - out1_loss: 3925140224.0000 - out1_mae: 44322.9219 - out2_loss: 3929082880.0000 - out2_mae: 44343.5781 - val_loss: 7487479808.0000 - val_out1_loss: 3742291200.0000 - val_out1_mae: 45734.8164 - val_out2_loss: 3745188864.0000 - val_out2_mae: 46069.8789\n",
            "Epoch 90/200\n",
            "\u001b[1m27/27\u001b[0m \u001b[32m━━━━━━━━━━━━━━━━━━━━\u001b[0m\u001b[37m\u001b[0m \u001b[1m0s\u001b[0m 6ms/step - loss: 6977924096.0000 - out1_loss: 3482685440.0000 - out1_mae: 43771.7812 - out2_loss: 3495238144.0000 - out2_mae: 43780.1992 - val_loss: 7475603968.0000 - val_out1_loss: 3737500416.0000 - val_out1_mae: 45680.9688 - val_out2_loss: 3738103808.0000 - val_out2_mae: 45832.3164\n",
            "Epoch 91/200\n",
            "\u001b[1m27/27\u001b[0m \u001b[32m━━━━━━━━━━━━━━━━━━━━\u001b[0m\u001b[37m\u001b[0m \u001b[1m0s\u001b[0m 6ms/step - loss: 8210530816.0000 - out1_loss: 4104332032.0000 - out1_mae: 44819.5430 - out2_loss: 4106199040.0000 - out2_mae: 44849.7852 - val_loss: 7508534784.0000 - val_out1_loss: 3753766912.0000 - val_out1_mae: 45919.7188 - val_out2_loss: 3754767616.0000 - val_out2_mae: 46086.3945\n",
            "Epoch 92/200\n",
            "\u001b[1m27/27\u001b[0m \u001b[32m━━━━━━━━━━━━━━━━━━━━\u001b[0m\u001b[37m\u001b[0m \u001b[1m0s\u001b[0m 6ms/step - loss: 7662711296.0000 - out1_loss: 3831703552.0000 - out1_mae: 44606.0117 - out2_loss: 3831007488.0000 - out2_mae: 44593.6016 - val_loss: 7493259264.0000 - val_out1_loss: 3746197504.0000 - val_out1_mae: 45934.5938 - val_out2_loss: 3747062016.0000 - val_out2_mae: 46064.8477\n",
            "Epoch 93/200\n",
            "\u001b[1m27/27\u001b[0m \u001b[32m━━━━━━━━━━━━━━━━━━━━\u001b[0m\u001b[37m\u001b[0m \u001b[1m0s\u001b[0m 7ms/step - loss: 6017753600.0000 - out1_loss: 3007551232.0000 - out1_mae: 40935.7461 - out2_loss: 3010202112.0000 - out2_mae: 40947.9258 - val_loss: 7469479424.0000 - val_out1_loss: 3734633728.0000 - val_out1_mae: 45854.0977 - val_out2_loss: 3734845440.0000 - val_out2_mae: 45910.7695\n",
            "Epoch 94/200\n",
            "\u001b[1m27/27\u001b[0m \u001b[32m━━━━━━━━━━━━━━━━━━━━\u001b[0m\u001b[37m\u001b[0m \u001b[1m0s\u001b[0m 7ms/step - loss: 9240050688.0000 - out1_loss: 4618917376.0000 - out1_mae: 46816.5508 - out2_loss: 4621132800.0000 - out2_mae: 46817.0234 - val_loss: 7516719616.0000 - val_out1_loss: 3758339328.0000 - val_out1_mae: 46067.1875 - val_out2_loss: 3758379776.0000 - val_out2_mae: 46104.3711\n",
            "Epoch 95/200\n",
            "\u001b[1m27/27\u001b[0m \u001b[32m━━━━━━━━━━━━━━━━━━━━\u001b[0m\u001b[37m\u001b[0m \u001b[1m0s\u001b[0m 6ms/step - loss: 7363720704.0000 - out1_loss: 3680592128.0000 - out1_mae: 45712.5430 - out2_loss: 3683128576.0000 - out2_mae: 45730.5664 - val_loss: 7523075584.0000 - val_out1_loss: 3760851968.0000 - val_out1_mae: 46240.1914 - val_out2_loss: 3762223360.0000 - val_out2_mae: 46384.8164\n",
            "Epoch 96/200\n",
            "\u001b[1m27/27\u001b[0m \u001b[32m━━━━━━━━━━━━━━━━━━━━\u001b[0m\u001b[37m\u001b[0m \u001b[1m0s\u001b[0m 6ms/step - loss: 6033981952.0000 - out1_loss: 3013846784.0000 - out1_mae: 41504.4492 - out2_loss: 3020135168.0000 - out2_mae: 41558.6641 - val_loss: 7510362112.0000 - val_out1_loss: 3755353344.0000 - val_out1_mae: 46071.1406 - val_out2_loss: 3755008768.0000 - val_out2_mae: 46033.4648\n",
            "Epoch 97/200\n",
            "\u001b[1m27/27\u001b[0m \u001b[32m━━━━━━━━━━━━━━━━━━━━\u001b[0m\u001b[37m\u001b[0m \u001b[1m0s\u001b[0m 8ms/step - loss: 7426818048.0000 - out1_loss: 3712136192.0000 - out1_mae: 44328.7109 - out2_loss: 3714681856.0000 - out2_mae: 44348.7930 - val_loss: 7531536896.0000 - val_out1_loss: 3765060352.0000 - val_out1_mae: 46325.9062 - val_out2_loss: 3766476544.0000 - val_out2_mae: 46465.1992\n",
            "Epoch 98/200\n",
            "\u001b[1m27/27\u001b[0m \u001b[32m━━━━━━━━━━━━━━━━━━━━\u001b[0m\u001b[37m\u001b[0m \u001b[1m0s\u001b[0m 7ms/step - loss: 7081715712.0000 - out1_loss: 3538256128.0000 - out1_mae: 44216.1211 - out2_loss: 3543460352.0000 - out2_mae: 44244.2930 - val_loss: 7521300480.0000 - val_out1_loss: 3760120576.0000 - val_out1_mae: 46337.8398 - val_out2_loss: 3761179648.0000 - val_out2_mae: 46440.7656\n",
            "Epoch 99/200\n",
            "\u001b[1m27/27\u001b[0m \u001b[32m━━━━━━━━━━━━━━━━━━━━\u001b[0m\u001b[37m\u001b[0m \u001b[1m0s\u001b[0m 6ms/step - loss: 7212359168.0000 - out1_loss: 3604633600.0000 - out1_mae: 42820.6211 - out2_loss: 3607725568.0000 - out2_mae: 42848.5898 - val_loss: 7539350016.0000 - val_out1_loss: 3769626624.0000 - val_out1_mae: 46378.5938 - val_out2_loss: 3769723904.0000 - val_out2_mae: 46407.7227\n",
            "Epoch 100/200\n",
            "\u001b[1m27/27\u001b[0m \u001b[32m━━━━━━━━━━━━━━━━━━━━\u001b[0m\u001b[37m\u001b[0m \u001b[1m0s\u001b[0m 6ms/step - loss: 7725328896.0000 - out1_loss: 3861920768.0000 - out1_mae: 44466.3750 - out2_loss: 3863408384.0000 - out2_mae: 44497.8516 - val_loss: 7552610816.0000 - val_out1_loss: 3775977216.0000 - val_out1_mae: 46520.7305 - val_out2_loss: 3776634112.0000 - val_out2_mae: 46595.1133\n",
            "Epoch 101/200\n",
            "\u001b[1m27/27\u001b[0m \u001b[32m━━━━━━━━━━━━━━━━━━━━\u001b[0m\u001b[37m\u001b[0m \u001b[1m0s\u001b[0m 7ms/step - loss: 6618527232.0000 - out1_loss: 3308869120.0000 - out1_mae: 40578.5273 - out2_loss: 3309658368.0000 - out2_mae: 40593.1562 - val_loss: 7528644608.0000 - val_out1_loss: 3764293888.0000 - val_out1_mae: 46452.7695 - val_out2_loss: 3764350976.0000 - val_out2_mae: 46473.1445\n",
            "Epoch 102/200\n",
            "\u001b[1m27/27\u001b[0m \u001b[32m━━━━━━━━━━━━━━━━━━━━\u001b[0m\u001b[37m\u001b[0m \u001b[1m0s\u001b[0m 7ms/step - loss: 6311097856.0000 - out1_loss: 3155052544.0000 - out1_mae: 41475.3945 - out2_loss: 3156045568.0000 - out2_mae: 41491.9492 - val_loss: 7570550784.0000 - val_out1_loss: 3785340928.0000 - val_out1_mae: 46626.2227 - val_out2_loss: 3785209856.0000 - val_out2_mae: 46629.1562\n",
            "Epoch 103/200\n",
            "\u001b[1m27/27\u001b[0m \u001b[32m━━━━━━━━━━━━━━━━━━━━\u001b[0m\u001b[37m\u001b[0m \u001b[1m0s\u001b[0m 7ms/step - loss: 6634458112.0000 - out1_loss: 3315756800.0000 - out1_mae: 43127.5039 - out2_loss: 3318700800.0000 - out2_mae: 43143.9688 - val_loss: 7567546880.0000 - val_out1_loss: 3783820544.0000 - val_out1_mae: 46644.7148 - val_out2_loss: 3783726336.0000 - val_out2_mae: 46651.0117\n",
            "Epoch 104/200\n",
            "\u001b[1m27/27\u001b[0m \u001b[32m━━━━━━━━━━━━━━━━━━━━\u001b[0m\u001b[37m\u001b[0m \u001b[1m0s\u001b[0m 6ms/step - loss: 6866179072.0000 - out1_loss: 3432551168.0000 - out1_mae: 44058.5625 - out2_loss: 3433627392.0000 - out2_mae: 44060.8516 - val_loss: 7540011008.0000 - val_out1_loss: 3770303232.0000 - val_out1_mae: 46515.1445 - val_out2_loss: 3769707520.0000 - val_out2_mae: 46466.3594\n",
            "Epoch 105/200\n",
            "\u001b[1m27/27\u001b[0m \u001b[32m━━━━━━━━━━━━━━━━━━━━\u001b[0m\u001b[37m\u001b[0m \u001b[1m0s\u001b[0m 6ms/step - loss: 6996964352.0000 - out1_loss: 3498185472.0000 - out1_mae: 43372.0117 - out2_loss: 3498778880.0000 - out2_mae: 43354.1797 - val_loss: 7580784128.0000 - val_out1_loss: 3789955840.0000 - val_out1_mae: 46759.0664 - val_out2_loss: 3790828544.0000 - val_out2_mae: 46844.9258\n",
            "Epoch 106/200\n",
            "\u001b[1m27/27\u001b[0m \u001b[32m━━━━━━━━━━━━━━━━━━━━\u001b[0m\u001b[37m\u001b[0m \u001b[1m0s\u001b[0m 8ms/step - loss: 6201518592.0000 - out1_loss: 3100160768.0000 - out1_mae: 40690.4062 - out2_loss: 3101357568.0000 - out2_mae: 40709.8203 - val_loss: 7554555904.0000 - val_out1_loss: 3777590272.0000 - val_out1_mae: 46576.3867 - val_out2_loss: 3776965376.0000 - val_out2_mae: 46512.8281\n",
            "Epoch 107/200\n",
            "\u001b[1m27/27\u001b[0m \u001b[32m━━━━━━━━━━━━━━━━━━━━\u001b[0m\u001b[37m\u001b[0m \u001b[1m0s\u001b[0m 6ms/step - loss: 7770752000.0000 - out1_loss: 3884908544.0000 - out1_mae: 45077.8008 - out2_loss: 3885843456.0000 - out2_mae: 45081.0234 - val_loss: 7602279936.0000 - val_out1_loss: 3800284416.0000 - val_out1_mae: 46887.7773 - val_out2_loss: 3801995520.0000 - val_out2_mae: 47029.5938\n",
            "Epoch 108/200\n",
            "\u001b[1m27/27\u001b[0m \u001b[32m━━━━━━━━━━━━━━━━━━━━\u001b[0m\u001b[37m\u001b[0m \u001b[1m0s\u001b[0m 7ms/step - loss: 6470540288.0000 - out1_loss: 3233577728.0000 - out1_mae: 41243.5977 - out2_loss: 3236962816.0000 - out2_mae: 41271.4922 - val_loss: 7540655616.0000 - val_out1_loss: 3770280192.0000 - val_out1_mae: 46610.7695 - val_out2_loss: 3770375424.0000 - val_out2_mae: 46633.2344\n",
            "Epoch 109/200\n",
            "\u001b[1m27/27\u001b[0m \u001b[32m━━━━━━━━━━━━━━━━━━━━\u001b[0m\u001b[37m\u001b[0m \u001b[1m0s\u001b[0m 6ms/step - loss: 5888206336.0000 - out1_loss: 2943417088.0000 - out1_mae: 40026.9531 - out2_loss: 2944788992.0000 - out2_mae: 40037.3555 - val_loss: 7579852288.0000 - val_out1_loss: 3789480704.0000 - val_out1_mae: 46804.8945 - val_out2_loss: 3790371584.0000 - val_out2_mae: 46891.7539\n",
            "Epoch 110/200\n",
            "\u001b[1m27/27\u001b[0m \u001b[32m━━━━━━━━━━━━━━━━━━━━\u001b[0m\u001b[37m\u001b[0m \u001b[1m0s\u001b[0m 7ms/step - loss: 6704425472.0000 - out1_loss: 3351002624.0000 - out1_mae: 42713.7539 - out2_loss: 3353422848.0000 - out2_mae: 42717.8125 - val_loss: 7552550400.0000 - val_out1_loss: 3776291584.0000 - val_out1_mae: 46676.2500 - val_out2_loss: 3776258816.0000 - val_out2_mae: 46688.0273\n",
            "Epoch 111/200\n",
            "\u001b[1m27/27\u001b[0m \u001b[32m━━━━━━━━━━━━━━━━━━━━\u001b[0m\u001b[37m\u001b[0m \u001b[1m0s\u001b[0m 6ms/step - loss: 6196661760.0000 - out1_loss: 3098139648.0000 - out1_mae: 41063.3047 - out2_loss: 3098522112.0000 - out2_mae: 41066.1484 - val_loss: 7569040896.0000 - val_out1_loss: 3784054784.0000 - val_out1_mae: 46803.0586 - val_out2_loss: 3784985856.0000 - val_out2_mae: 46888.8906\n",
            "Epoch 112/200\n",
            "\u001b[1m27/27\u001b[0m \u001b[32m━━━━━━━━━━━━━━━━━━━━\u001b[0m\u001b[37m\u001b[0m \u001b[1m0s\u001b[0m 7ms/step - loss: 8714324992.0000 - out1_loss: 4355617792.0000 - out1_mae: 44090.9883 - out2_loss: 4358707200.0000 - out2_mae: 44125.5547 - val_loss: 7556273664.0000 - val_out1_loss: 3778494464.0000 - val_out1_mae: 46557.9883 - val_out2_loss: 3777779456.0000 - val_out2_mae: 46399.4180\n",
            "Epoch 113/200\n",
            "\u001b[1m27/27\u001b[0m \u001b[32m━━━━━━━━━━━━━━━━━━━━\u001b[0m\u001b[37m\u001b[0m \u001b[1m0s\u001b[0m 6ms/step - loss: 7193487360.0000 - out1_loss: 3597793536.0000 - out1_mae: 43027.5703 - out2_loss: 3595694080.0000 - out2_mae: 43021.1133 - val_loss: 7546257408.0000 - val_out1_loss: 3771494400.0000 - val_out1_mae: 46812.5898 - val_out2_loss: 3774763008.0000 - val_out2_mae: 47021.2852\n",
            "Epoch 114/200\n",
            "\u001b[1m27/27\u001b[0m \u001b[32m━━━━━━━━━━━━━━━━━━━━\u001b[0m\u001b[37m\u001b[0m \u001b[1m0s\u001b[0m 7ms/step - loss: 6092870656.0000 - out1_loss: 3043890944.0000 - out1_mae: 42092.5703 - out2_loss: 3048979968.0000 - out2_mae: 42169.8438 - val_loss: 7527389184.0000 - val_out1_loss: 3763796224.0000 - val_out1_mae: 46609.0156 - val_out2_loss: 3763593216.0000 - val_out2_mae: 46603.8867\n",
            "Epoch 115/200\n",
            "\u001b[1m27/27\u001b[0m \u001b[32m━━━━━━━━━━━━━━━━━━━━\u001b[0m\u001b[37m\u001b[0m \u001b[1m0s\u001b[0m 6ms/step - loss: 7440654336.0000 - out1_loss: 3719735296.0000 - out1_mae: 42074.0156 - out2_loss: 3720919552.0000 - out2_mae: 42081.7070 - val_loss: 7563694592.0000 - val_out1_loss: 3781869568.0000 - val_out1_mae: 46758.9258 - val_out2_loss: 3781825280.0000 - val_out2_mae: 46771.2461\n",
            "Epoch 116/200\n",
            "\u001b[1m27/27\u001b[0m \u001b[32m━━━━━━━━━━━━━━━━━━━━\u001b[0m\u001b[37m\u001b[0m \u001b[1m0s\u001b[0m 6ms/step - loss: 6401801216.0000 - out1_loss: 3200013312.0000 - out1_mae: 42978.1562 - out2_loss: 3201787648.0000 - out2_mae: 42990.2969 - val_loss: 7530413568.0000 - val_out1_loss: 3764898560.0000 - val_out1_mae: 46704.1562 - val_out2_loss: 3765515008.0000 - val_out2_mae: 46767.0430\n",
            "Epoch 117/200\n",
            "\u001b[1m27/27\u001b[0m \u001b[32m━━━━━━━━━━━━━━━━━━━━\u001b[0m\u001b[37m\u001b[0m \u001b[1m0s\u001b[0m 6ms/step - loss: 7370822656.0000 - out1_loss: 3684932608.0000 - out1_mae: 43470.3789 - out2_loss: 3685890304.0000 - out2_mae: 43487.6953 - val_loss: 7553399296.0000 - val_out1_loss: 3776657408.0000 - val_out1_mae: 46800.4883 - val_out2_loss: 3776742144.0000 - val_out2_mae: 46822.5820\n",
            "Epoch 118/200\n",
            "\u001b[1m27/27\u001b[0m \u001b[32m━━━━━━━━━━━━━━━━━━━━\u001b[0m\u001b[37m\u001b[0m \u001b[1m0s\u001b[0m 7ms/step - loss: 7965197824.0000 - out1_loss: 3981248256.0000 - out1_mae: 43908.3242 - out2_loss: 3983950336.0000 - out2_mae: 43901.0781 - val_loss: 7518971392.0000 - val_out1_loss: 3759731968.0000 - val_out1_mae: 46621.2070 - val_out2_loss: 3759239168.0000 - val_out2_mae: 46583.6562\n",
            "Epoch 119/200\n",
            "\u001b[1m27/27\u001b[0m \u001b[32m━━━━━━━━━━━━━━━━━━━━\u001b[0m\u001b[37m\u001b[0m \u001b[1m0s\u001b[0m 7ms/step - loss: 6961160192.0000 - out1_loss: 3480729600.0000 - out1_mae: 41987.9844 - out2_loss: 3480431104.0000 - out2_mae: 41993.8164 - val_loss: 7520131584.0000 - val_out1_loss: 3759259904.0000 - val_out1_mae: 46746.3867 - val_out2_loss: 3760871424.0000 - val_out2_mae: 46869.0820\n",
            "Epoch 120/200\n",
            "\u001b[1m27/27\u001b[0m \u001b[32m━━━━━━━━━━━━━━━━━━━━\u001b[0m\u001b[37m\u001b[0m \u001b[1m0s\u001b[0m 7ms/step - loss: 6193396224.0000 - out1_loss: 3095977216.0000 - out1_mae: 41923.3828 - out2_loss: 3097418496.0000 - out2_mae: 41935.0117 - val_loss: 7537690112.0000 - val_out1_loss: 3768940544.0000 - val_out1_mae: 46713.0000 - val_out2_loss: 3768749312.0000 - val_out2_mae: 46709.4805\n",
            "Epoch 121/200\n",
            "\u001b[1m27/27\u001b[0m \u001b[32m━━━━━━━━━━━━━━━━━━━━\u001b[0m\u001b[37m\u001b[0m \u001b[1m0s\u001b[0m 6ms/step - loss: 7956113408.0000 - out1_loss: 3977201152.0000 - out1_mae: 42156.9453 - out2_loss: 3978912768.0000 - out2_mae: 42162.8672 - val_loss: 7507030016.0000 - val_out1_loss: 3753172224.0000 - val_out1_mae: 46699.2383 - val_out2_loss: 3753857792.0000 - val_out2_mae: 46765.3008\n",
            "Epoch 122/200\n",
            "\u001b[1m27/27\u001b[0m \u001b[32m━━━━━━━━━━━━━━━━━━━━\u001b[0m\u001b[37m\u001b[0m \u001b[1m0s\u001b[0m 7ms/step - loss: 6428873216.0000 - out1_loss: 3213993984.0000 - out1_mae: 41637.0469 - out2_loss: 3214878976.0000 - out2_mae: 41655.3125 - val_loss: 7509266944.0000 - val_out1_loss: 3754614016.0000 - val_out1_mae: 46658.5664 - val_out2_loss: 3754653696.0000 - val_out2_mae: 46676.2695\n",
            "Epoch 123/200\n",
            "\u001b[1m27/27\u001b[0m \u001b[32m━━━━━━━━━━━━━━━━━━━━\u001b[0m\u001b[37m\u001b[0m \u001b[1m0s\u001b[0m 6ms/step - loss: 7083619328.0000 - out1_loss: 3541735168.0000 - out1_mae: 42042.5273 - out2_loss: 3541884416.0000 - out2_mae: 42052.9805 - val_loss: 7507130880.0000 - val_out1_loss: 3753035008.0000 - val_out1_mae: 46718.6367 - val_out2_loss: 3754095360.0000 - val_out2_mae: 46807.4492\n",
            "Epoch 124/200\n",
            "\u001b[1m27/27\u001b[0m \u001b[32m━━━━━━━━━━━━━━━━━━━━\u001b[0m\u001b[37m\u001b[0m \u001b[1m0s\u001b[0m 8ms/step - loss: 6228668416.0000 - out1_loss: 3112604928.0000 - out1_mae: 40730.6250 - out2_loss: 3116062976.0000 - out2_mae: 40744.8633 - val_loss: 7509743104.0000 - val_out1_loss: 3755235584.0000 - val_out1_mae: 46581.8320 - val_out2_loss: 3754507520.0000 - val_out2_mae: 46493.4492\n",
            "Epoch 125/200\n",
            "\u001b[1m27/27\u001b[0m \u001b[32m━━━━━━━━━━━━━━━━━━━━\u001b[0m\u001b[37m\u001b[0m \u001b[1m0s\u001b[0m 12ms/step - loss: 7016461824.0000 - out1_loss: 3507479040.0000 - out1_mae: 43470.6328 - out2_loss: 3508982272.0000 - out2_mae: 43465.6367 - val_loss: 7476821504.0000 - val_out1_loss: 3737931776.0000 - val_out1_mae: 46584.4414 - val_out2_loss: 3738889472.0000 - val_out2_mae: 46673.3242\n",
            "Epoch 126/200\n",
            "\u001b[1m27/27\u001b[0m \u001b[32m━━━━━━━━━━━━━━━━━━━━\u001b[0m\u001b[37m\u001b[0m \u001b[1m1s\u001b[0m 13ms/step - loss: 5834897408.0000 - out1_loss: 2916879872.0000 - out1_mae: 40654.6797 - out2_loss: 2918017536.0000 - out2_mae: 40668.0508 - val_loss: 7516028928.0000 - val_out1_loss: 3757486080.0000 - val_out1_mae: 46729.3789 - val_out2_loss: 3758542848.0000 - val_out2_mae: 46831.1055\n",
            "Epoch 127/200\n",
            "\u001b[1m27/27\u001b[0m \u001b[32m━━━━━━━━━━━━━━━━━━━━\u001b[0m\u001b[37m\u001b[0m \u001b[1m1s\u001b[0m 10ms/step - loss: 6010960384.0000 - out1_loss: 3004507904.0000 - out1_mae: 41610.8047 - out2_loss: 3006452480.0000 - out2_mae: 41632.4062 - val_loss: 7513034752.0000 - val_out1_loss: 3756563712.0000 - val_out1_mae: 46673.2500 - val_out2_loss: 3756470272.0000 - val_out2_mae: 46680.7812\n",
            "Epoch 128/200\n",
            "\u001b[1m27/27\u001b[0m \u001b[32m━━━━━━━━━━━━━━━━━━━━\u001b[0m\u001b[37m\u001b[0m \u001b[1m0s\u001b[0m 10ms/step - loss: 7307637248.0000 - out1_loss: 3653336064.0000 - out1_mae: 42252.3203 - out2_loss: 3654301184.0000 - out2_mae: 42257.5508 - val_loss: 7506145792.0000 - val_out1_loss: 3752661760.0000 - val_out1_mae: 46712.7188 - val_out2_loss: 3753484288.0000 - val_out2_mae: 46797.7305\n",
            "Epoch 129/200\n",
            "\u001b[1m27/27\u001b[0m \u001b[32m━━━━━━━━━━━━━━━━━━━━\u001b[0m\u001b[37m\u001b[0m \u001b[1m1s\u001b[0m 7ms/step - loss: 8614868992.0000 - out1_loss: 4307015168.0000 - out1_mae: 44349.8203 - out2_loss: 4307853824.0000 - out2_mae: 44387.1133 - val_loss: 7482677248.0000 - val_out1_loss: 3740501248.0000 - val_out1_mae: 46701.2617 - val_out2_loss: 3742176000.0000 - val_out2_mae: 46827.9062\n",
            "Epoch 130/200\n",
            "\u001b[1m27/27\u001b[0m \u001b[32m━━━━━━━━━━━━━━━━━━━━\u001b[0m\u001b[37m\u001b[0m \u001b[1m0s\u001b[0m 7ms/step - loss: 6077677568.0000 - out1_loss: 3037495808.0000 - out1_mae: 41672.5312 - out2_loss: 3040182272.0000 - out2_mae: 41699.5820 - val_loss: 7507401216.0000 - val_out1_loss: 3754040576.0000 - val_out1_mae: 46521.5820 - val_out2_loss: 3753361152.0000 - val_out2_mae: 46354.4961\n",
            "Epoch 131/200\n",
            "\u001b[1m27/27\u001b[0m \u001b[32m━━━━━━━━━━━━━━━━━━━━\u001b[0m\u001b[37m\u001b[0m \u001b[1m0s\u001b[0m 7ms/step - loss: 6156033024.0000 - out1_loss: 3078574848.0000 - out1_mae: 39964.6211 - out2_loss: 3077457920.0000 - out2_mae: 39939.5977 - val_loss: 7455014912.0000 - val_out1_loss: 3727181824.0000 - val_out1_mae: 46532.1406 - val_out2_loss: 3727833088.0000 - val_out2_mae: 46604.4805\n",
            "Epoch 132/200\n",
            "\u001b[1m27/27\u001b[0m \u001b[32m━━━━━━━━━━━━━━━━━━━━\u001b[0m\u001b[37m\u001b[0m \u001b[1m0s\u001b[0m 7ms/step - loss: 6434973696.0000 - out1_loss: 3216961536.0000 - out1_mae: 41885.3398 - out2_loss: 3218012672.0000 - out2_mae: 41904.6953 - val_loss: 7475372032.0000 - val_out1_loss: 3736770560.0000 - val_out1_mae: 46662.4570 - val_out2_loss: 3738601472.0000 - val_out2_mae: 46811.3867\n",
            "Epoch 133/200\n",
            "\u001b[1m27/27\u001b[0m \u001b[32m━━━━━━━━━━━━━━━━━━━━\u001b[0m\u001b[37m\u001b[0m \u001b[1m0s\u001b[0m 7ms/step - loss: 7504563200.0000 - out1_loss: 3752919040.0000 - out1_mae: 41730.1133 - out2_loss: 3751643904.0000 - out2_mae: 41734.3672 - val_loss: 7459760128.0000 - val_out1_loss: 3728308224.0000 - val_out1_mae: 46690.6406 - val_out2_loss: 3731451904.0000 - val_out2_mae: 46887.0195\n",
            "Epoch 134/200\n",
            "\u001b[1m27/27\u001b[0m \u001b[32m━━━━━━━━━━━━━━━━━━━━\u001b[0m\u001b[37m\u001b[0m \u001b[1m0s\u001b[0m 8ms/step - loss: 7065302016.0000 - out1_loss: 3534180608.0000 - out1_mae: 43405.5781 - out2_loss: 3531121408.0000 - out2_mae: 43391.9922 - val_loss: 7468018176.0000 - val_out1_loss: 3734365952.0000 - val_out1_mae: 46458.7695 - val_out2_loss: 3733652224.0000 - val_out2_mae: 46291.6445\n",
            "Epoch 135/200\n",
            "\u001b[1m27/27\u001b[0m \u001b[32m━━━━━━━━━━━━━━━━━━━━\u001b[0m\u001b[37m\u001b[0m \u001b[1m0s\u001b[0m 7ms/step - loss: 8001518592.0000 - out1_loss: 4001225472.0000 - out1_mae: 44919.7266 - out2_loss: 4000292864.0000 - out2_mae: 44894.9922 - val_loss: 7459344896.0000 - val_out1_loss: 3729505024.0000 - val_out1_mae: 46585.4375 - val_out2_loss: 3729839360.0000 - val_out2_mae: 46634.5469\n",
            "Epoch 136/200\n",
            "\u001b[1m27/27\u001b[0m \u001b[32m━━━━━━━━━━━━━━━━━━━━\u001b[0m\u001b[37m\u001b[0m \u001b[1m0s\u001b[0m 8ms/step - loss: 6884509184.0000 - out1_loss: 3442363648.0000 - out1_mae: 43186.5391 - out2_loss: 3442146048.0000 - out2_mae: 43199.2344 - val_loss: 7453982720.0000 - val_out1_loss: 3725772800.0000 - val_out1_mae: 46658.5000 - val_out2_loss: 3728209152.0000 - val_out2_mae: 46834.9688\n",
            "Epoch 137/200\n",
            "\u001b[1m27/27\u001b[0m \u001b[32m━━━━━━━━━━━━━━━━━━━━\u001b[0m\u001b[37m\u001b[0m \u001b[1m0s\u001b[0m 6ms/step - loss: 6125109248.0000 - out1_loss: 3063695360.0000 - out1_mae: 40284.6055 - out2_loss: 3061413120.0000 - out2_mae: 40292.3398 - val_loss: 7440255488.0000 - val_out1_loss: 3720134656.0000 - val_out1_mae: 46528.8008 - val_out2_loss: 3720120576.0000 - val_out2_mae: 46543.5820\n",
            "Epoch 138/200\n",
            "\u001b[1m27/27\u001b[0m \u001b[32m━━━━━━━━━━━━━━━━━━━━\u001b[0m\u001b[37m\u001b[0m \u001b[1m0s\u001b[0m 8ms/step - loss: 6619232256.0000 - out1_loss: 3308999168.0000 - out1_mae: 42651.6719 - out2_loss: 3310232832.0000 - out2_mae: 42660.2461 - val_loss: 7457500672.0000 - val_out1_loss: 3728971776.0000 - val_out1_mae: 46526.2773 - val_out2_loss: 3728528640.0000 - val_out2_mae: 46484.5586\n",
            "Epoch 139/200\n",
            "\u001b[1m27/27\u001b[0m \u001b[32m━━━━━━━━━━━━━━━━━━━━\u001b[0m\u001b[37m\u001b[0m \u001b[1m0s\u001b[0m 6ms/step - loss: 5893914112.0000 - out1_loss: 2946393856.0000 - out1_mae: 40467.8125 - out2_loss: 2947520512.0000 - out2_mae: 40466.4492 - val_loss: 7423429120.0000 - val_out1_loss: 3711636224.0000 - val_out1_mae: 46461.5039 - val_out2_loss: 3711793152.0000 - val_out2_mae: 46494.9883\n",
            "Epoch 140/200\n",
            "\u001b[1m27/27\u001b[0m \u001b[32m━━━━━━━━━━━━━━━━━━━━\u001b[0m\u001b[37m\u001b[0m \u001b[1m0s\u001b[0m 6ms/step - loss: 9452269568.0000 - out1_loss: 4724836864.0000 - out1_mae: 45499.1055 - out2_loss: 4727432704.0000 - out2_mae: 45536.3125 - val_loss: 7445628416.0000 - val_out1_loss: 3723055872.0000 - val_out1_mae: 46460.5508 - val_out2_loss: 3722572032.0000 - val_out2_mae: 46398.0156\n",
            "Epoch 141/200\n",
            "\u001b[1m27/27\u001b[0m \u001b[32m━━━━━━━━━━━━━━━━━━━━\u001b[0m\u001b[37m\u001b[0m \u001b[1m0s\u001b[0m 7ms/step - loss: 6143372288.0000 - out1_loss: 3070556672.0000 - out1_mae: 39988.1133 - out2_loss: 3072815872.0000 - out2_mae: 40004.0781 - val_loss: 7433836032.0000 - val_out1_loss: 3716549376.0000 - val_out1_mae: 46544.5273 - val_out2_loss: 3717286144.0000 - val_out2_mae: 46630.8633\n",
            "Epoch 142/200\n",
            "\u001b[1m27/27\u001b[0m \u001b[32m━━━━━━━━━━━━━━━━━━━━\u001b[0m\u001b[37m\u001b[0m \u001b[1m0s\u001b[0m 7ms/step - loss: 8372761088.0000 - out1_loss: 4186143744.0000 - out1_mae: 46477.2852 - out2_loss: 4186616832.0000 - out2_mae: 46495.6562 - val_loss: 7437144064.0000 - val_out1_loss: 3717045504.0000 - val_out1_mae: 46689.8320 - val_out2_loss: 3720098560.0000 - val_out2_mae: 46897.4727\n",
            "Epoch 143/200\n",
            "\u001b[1m27/27\u001b[0m \u001b[32m━━━━━━━━━━━━━━━━━━━━\u001b[0m\u001b[37m\u001b[0m \u001b[1m0s\u001b[0m 6ms/step - loss: 6971313152.0000 - out1_loss: 3486373632.0000 - out1_mae: 43185.3633 - out2_loss: 3484940288.0000 - out2_mae: 43207.9258 - val_loss: 7417607680.0000 - val_out1_loss: 3707852800.0000 - val_out1_mae: 46617.8945 - val_out2_loss: 3709754368.0000 - val_out2_mae: 46757.0625\n",
            "Epoch 144/200\n",
            "\u001b[1m27/27\u001b[0m \u001b[32m━━━━━━━━━━━━━━━━━━━━\u001b[0m\u001b[37m\u001b[0m \u001b[1m0s\u001b[0m 6ms/step - loss: 6518774784.0000 - out1_loss: 3258862592.0000 - out1_mae: 42611.5156 - out2_loss: 3259911936.0000 - out2_mae: 42616.1797 - val_loss: 7432624640.0000 - val_out1_loss: 3716628480.0000 - val_out1_mae: 46511.4219 - val_out2_loss: 3715996416.0000 - val_out2_mae: 46437.4570\n",
            "Epoch 145/200\n",
            "\u001b[1m27/27\u001b[0m \u001b[32m━━━━━━━━━━━━━━━━━━━━\u001b[0m\u001b[37m\u001b[0m \u001b[1m0s\u001b[0m 7ms/step - loss: 6845763072.0000 - out1_loss: 3421651968.0000 - out1_mae: 42918.7656 - out2_loss: 3424110592.0000 - out2_mae: 42951.2461 - val_loss: 7421212160.0000 - val_out1_loss: 3709825792.0000 - val_out1_mae: 46645.7617 - val_out2_loss: 3711386880.0000 - val_out2_mae: 46769.4375\n",
            "Epoch 146/200\n",
            "\u001b[1m27/27\u001b[0m \u001b[32m━━━━━━━━━━━━━━━━━━━━\u001b[0m\u001b[37m\u001b[0m \u001b[1m0s\u001b[0m 6ms/step - loss: 7387320320.0000 - out1_loss: 3694313728.0000 - out1_mae: 42769.5352 - out2_loss: 3693006592.0000 - out2_mae: 42774.6719 - val_loss: 7431192576.0000 - val_out1_loss: 3715926784.0000 - val_out1_mae: 46573.0664 - val_out2_loss: 3715265280.0000 - val_out2_mae: 46509.7031\n",
            "Epoch 147/200\n",
            "\u001b[1m27/27\u001b[0m \u001b[32m━━━━━━━━━━━━━━━━━━━━\u001b[0m\u001b[37m\u001b[0m \u001b[1m0s\u001b[0m 8ms/step - loss: 7454005248.0000 - out1_loss: 3725865984.0000 - out1_mae: 44229.8086 - out2_loss: 3728139264.0000 - out2_mae: 44216.4062 - val_loss: 7404349440.0000 - val_out1_loss: 3702489856.0000 - val_out1_mae: 46463.9375 - val_out2_loss: 3701859584.0000 - val_out2_mae: 46399.2305\n",
            "Epoch 148/200\n",
            "\u001b[1m27/27\u001b[0m \u001b[32m━━━━━━━━━━━━━━━━━━━━\u001b[0m\u001b[37m\u001b[0m \u001b[1m0s\u001b[0m 6ms/step - loss: 8414538752.0000 - out1_loss: 4205719808.0000 - out1_mae: 42713.1992 - out2_loss: 4208818432.0000 - out2_mae: 42729.2461 - val_loss: 7367604224.0000 - val_out1_loss: 3683865344.0000 - val_out1_mae: 46376.5586 - val_out2_loss: 3683738624.0000 - val_out2_mae: 46379.9102\n",
            "Epoch 149/200\n",
            "\u001b[1m27/27\u001b[0m \u001b[32m━━━━━━━━━━━━━━━━━━━━\u001b[0m\u001b[37m\u001b[0m \u001b[1m0s\u001b[0m 6ms/step - loss: 7765094912.0000 - out1_loss: 3880864512.0000 - out1_mae: 43364.6680 - out2_loss: 3884230912.0000 - out2_mae: 43387.7344 - val_loss: 7411437056.0000 - val_out1_loss: 3705072640.0000 - val_out1_mae: 46597.6406 - val_out2_loss: 3706364672.0000 - val_out2_mae: 46717.1875\n",
            "Epoch 150/200\n",
            "\u001b[1m27/27\u001b[0m \u001b[32m━━━━━━━━━━━━━━━━━━━━\u001b[0m\u001b[37m\u001b[0m \u001b[1m0s\u001b[0m 7ms/step - loss: 7095163392.0000 - out1_loss: 3547764992.0000 - out1_mae: 42732.6211 - out2_loss: 3547397888.0000 - out2_mae: 42736.6953 - val_loss: 7427238400.0000 - val_out1_loss: 3712807680.0000 - val_out1_mae: 46668.8242 - val_out2_loss: 3714430976.0000 - val_out2_mae: 46809.9492\n",
            "Epoch 151/200\n",
            "\u001b[1m27/27\u001b[0m \u001b[32m━━━━━━━━━━━━━━━━━━━━\u001b[0m\u001b[37m\u001b[0m \u001b[1m0s\u001b[0m 6ms/step - loss: 5937849856.0000 - out1_loss: 2968418816.0000 - out1_mae: 39625.2539 - out2_loss: 2969431552.0000 - out2_mae: 39651.6641 - val_loss: 7398687232.0000 - val_out1_loss: 3698931456.0000 - val_out1_mae: 46553.9102 - val_out2_loss: 3699755776.0000 - val_out2_mae: 46641.6562\n",
            "Epoch 152/200\n",
            "\u001b[1m27/27\u001b[0m \u001b[32m━━━━━━━━━━━━━━━━━━━━\u001b[0m\u001b[37m\u001b[0m \u001b[1m0s\u001b[0m 7ms/step - loss: 7367598080.0000 - out1_loss: 3684294912.0000 - out1_mae: 44216.5508 - out2_loss: 3683303680.0000 - out2_mae: 44236.3516 - val_loss: 7390126080.0000 - val_out1_loss: 3695307520.0000 - val_out1_mae: 46462.4531 - val_out2_loss: 3694818560.0000 - val_out2_mae: 46417.5586\n",
            "Epoch 153/200\n",
            "\u001b[1m27/27\u001b[0m \u001b[32m━━━━━━━━━━━━━━━━━━━━\u001b[0m\u001b[37m\u001b[0m \u001b[1m0s\u001b[0m 7ms/step - loss: 5374470144.0000 - out1_loss: 2687220224.0000 - out1_mae: 39512.0117 - out2_loss: 2687250176.0000 - out2_mae: 39497.3633 - val_loss: 7390023680.0000 - val_out1_loss: 3695279104.0000 - val_out1_mae: 46380.8320 - val_out2_loss: 3694744832.0000 - val_out2_mae: 46299.8594\n",
            "Epoch 154/200\n",
            "\u001b[1m27/27\u001b[0m \u001b[32m━━━━━━━━━━━━━━━━━━━━\u001b[0m\u001b[37m\u001b[0m \u001b[1m0s\u001b[0m 7ms/step - loss: 5492914688.0000 - out1_loss: 2746075136.0000 - out1_mae: 38329.7578 - out2_loss: 2746838528.0000 - out2_mae: 38328.0742 - val_loss: 7384540672.0000 - val_out1_loss: 3690948608.0000 - val_out1_mae: 46593.9688 - val_out2_loss: 3693591808.0000 - val_out2_mae: 46786.8555\n",
            "Epoch 155/200\n",
            "\u001b[1m27/27\u001b[0m \u001b[32m━━━━━━━━━━━━━━━━━━━━\u001b[0m\u001b[37m\u001b[0m \u001b[1m0s\u001b[0m 7ms/step - loss: 6844616704.0000 - out1_loss: 3417048064.0000 - out1_mae: 43613.3125 - out2_loss: 3427569664.0000 - out2_mae: 43668.1797 - val_loss: 7365660672.0000 - val_out1_loss: 3682878720.0000 - val_out1_mae: 46390.4375 - val_out2_loss: 3682781440.0000 - val_out2_mae: 46399.8438\n",
            "Epoch 156/200\n",
            "\u001b[1m27/27\u001b[0m \u001b[32m━━━━━━━━━━━━━━━━━━━━\u001b[0m\u001b[37m\u001b[0m \u001b[1m0s\u001b[0m 7ms/step - loss: 7048307200.0000 - out1_loss: 3524234496.0000 - out1_mae: 41098.8242 - out2_loss: 3524072704.0000 - out2_mae: 41129.9727 - val_loss: 7385918976.0000 - val_out1_loss: 3690674432.0000 - val_out1_mae: 46712.7656 - val_out2_loss: 3695244032.0000 - val_out2_mae: 46980.0938\n",
            "Epoch 157/200\n",
            "\u001b[1m27/27\u001b[0m \u001b[32m━━━━━━━━━━━━━━━━━━━━\u001b[0m\u001b[37m\u001b[0m \u001b[1m0s\u001b[0m 6ms/step - loss: 7230361600.0000 - out1_loss: 3614266368.0000 - out1_mae: 43249.2734 - out2_loss: 3616094720.0000 - out2_mae: 43291.1953 - val_loss: 7360711168.0000 - val_out1_loss: 3680167680.0000 - val_out1_mae: 46521.6406 - val_out2_loss: 3680544000.0000 - val_out2_mae: 46569.6758\n",
            "Epoch 158/200\n",
            "\u001b[1m27/27\u001b[0m \u001b[32m━━━━━━━━━━━━━━━━━━━━\u001b[0m\u001b[37m\u001b[0m \u001b[1m0s\u001b[0m 6ms/step - loss: 6990811648.0000 - out1_loss: 3491770880.0000 - out1_mae: 42391.4297 - out2_loss: 3499040256.0000 - out2_mae: 42423.3789 - val_loss: 7391160832.0000 - val_out1_loss: 3695075328.0000 - val_out1_mae: 46631.2930 - val_out2_loss: 3696085760.0000 - val_out2_mae: 46732.4258\n",
            "Epoch 159/200\n",
            "\u001b[1m27/27\u001b[0m \u001b[32m━━━━━━━━━━━━━━━━━━━━\u001b[0m\u001b[37m\u001b[0m \u001b[1m0s\u001b[0m 7ms/step - loss: 6429254144.0000 - out1_loss: 3215041536.0000 - out1_mae: 40844.7852 - out2_loss: 3214212608.0000 - out2_mae: 40858.5898 - val_loss: 7340275200.0000 - val_out1_loss: 3669800192.0000 - val_out1_mae: 46468.8789 - val_out2_loss: 3670474752.0000 - val_out2_mae: 46539.3398\n",
            "Epoch 160/200\n",
            "\u001b[1m27/27\u001b[0m \u001b[32m━━━━━━━━━━━━━━━━━━━━\u001b[0m\u001b[37m\u001b[0m \u001b[1m0s\u001b[0m 6ms/step - loss: 5778457600.0000 - out1_loss: 2889485824.0000 - out1_mae: 39865.0078 - out2_loss: 2888972544.0000 - out2_mae: 39877.4453 - val_loss: 7357505024.0000 - val_out1_loss: 3678399744.0000 - val_out1_mae: 46544.6367 - val_out2_loss: 3679105280.0000 - val_out2_mae: 46616.7617\n",
            "Epoch 161/200\n",
            "\u001b[1m27/27\u001b[0m \u001b[32m━━━━━━━━━━━━━━━━━━━━\u001b[0m\u001b[37m\u001b[0m \u001b[1m0s\u001b[0m 6ms/step - loss: 5970499072.0000 - out1_loss: 2983240192.0000 - out1_mae: 40149.9336 - out2_loss: 2987258880.0000 - out2_mae: 40165.6133 - val_loss: 7318721024.0000 - val_out1_loss: 3659239168.0000 - val_out1_mae: 46394.6367 - val_out2_loss: 3659482112.0000 - val_out2_mae: 46430.2617\n",
            "Epoch 162/200\n",
            "\u001b[1m27/27\u001b[0m \u001b[32m━━━━━━━━━━━━━━━━━━━━\u001b[0m\u001b[37m\u001b[0m \u001b[1m0s\u001b[0m 6ms/step - loss: 6460084224.0000 - out1_loss: 3228339712.0000 - out1_mae: 42222.0977 - out2_loss: 3231745024.0000 - out2_mae: 42240.8086 - val_loss: 7378309120.0000 - val_out1_loss: 3689377024.0000 - val_out1_mae: 46435.5820 - val_out2_loss: 3688932096.0000 - val_out2_mae: 46361.8125\n",
            "Epoch 163/200\n",
            "\u001b[1m27/27\u001b[0m \u001b[32m━━━━━━━━━━━━━━━━━━━━\u001b[0m\u001b[37m\u001b[0m \u001b[1m0s\u001b[0m 6ms/step - loss: 8078244352.0000 - out1_loss: 4039822848.0000 - out1_mae: 43579.1133 - out2_loss: 4038421760.0000 - out2_mae: 43560.6406 - val_loss: 7400777216.0000 - val_out1_loss: 3699367168.0000 - val_out1_mae: 46690.3125 - val_out2_loss: 3701410560.0000 - val_out2_mae: 46873.8320\n",
            "Epoch 164/200\n",
            "\u001b[1m27/27\u001b[0m \u001b[32m━━━━━━━━━━━━━━━━━━━━\u001b[0m\u001b[37m\u001b[0m \u001b[1m0s\u001b[0m 6ms/step - loss: 8005889536.0000 - out1_loss: 4001927680.0000 - out1_mae: 45177.5234 - out2_loss: 4003961344.0000 - out2_mae: 45215.7812 - val_loss: 7361208320.0000 - val_out1_loss: 3678638848.0000 - val_out1_mae: 46690.2500 - val_out2_loss: 3682569472.0000 - val_out2_mae: 46936.9688\n",
            "Epoch 165/200\n",
            "\u001b[1m27/27\u001b[0m \u001b[32m━━━━━━━━━━━━━━━━━━━━\u001b[0m\u001b[37m\u001b[0m \u001b[1m0s\u001b[0m 8ms/step - loss: 5822779392.0000 - out1_loss: 2911669760.0000 - out1_mae: 39836.6992 - out2_loss: 2911109376.0000 - out2_mae: 39900.2344 - val_loss: 7366989312.0000 - val_out1_loss: 3682945792.0000 - val_out1_mae: 46656.4492 - val_out2_loss: 3684043008.0000 - val_out2_mae: 46755.4023\n",
            "Epoch 166/200\n",
            "\u001b[1m27/27\u001b[0m \u001b[32m━━━━━━━━━━━━━━━━━━━━\u001b[0m\u001b[37m\u001b[0m \u001b[1m0s\u001b[0m 11ms/step - loss: 6142291456.0000 - out1_loss: 3069138176.0000 - out1_mae: 41957.8164 - out2_loss: 3073153024.0000 - out2_mae: 41955.1367 - val_loss: 7335966208.0000 - val_out1_loss: 3668266240.0000 - val_out1_mae: 46318.3633 - val_out2_loss: 3667699712.0000 - val_out2_mae: 46158.8164\n",
            "Epoch 167/200\n",
            "\u001b[1m27/27\u001b[0m \u001b[32m━━━━━━━━━━━━━━━━━━━━\u001b[0m\u001b[37m\u001b[0m \u001b[1m0s\u001b[0m 12ms/step - loss: 6059465728.0000 - out1_loss: 3030620416.0000 - out1_mae: 41139.1016 - out2_loss: 3028845312.0000 - out2_mae: 41113.9922 - val_loss: 7382814720.0000 - val_out1_loss: 3688337408.0000 - val_out1_mae: 46829.6680 - val_out2_loss: 3694477312.0000 - val_out2_mae: 47169.0508\n",
            "Epoch 168/200\n",
            "\u001b[1m27/27\u001b[0m \u001b[32m━━━━━━━━━━━━━━━━━━━━\u001b[0m\u001b[37m\u001b[0m \u001b[1m1s\u001b[0m 9ms/step - loss: 8112383488.0000 - out1_loss: 4058907648.0000 - out1_mae: 42882.4531 - out2_loss: 4053475840.0000 - out2_mae: 42935.5117 - val_loss: 7349611008.0000 - val_out1_loss: 3674602752.0000 - val_out1_mae: 46607.7148 - val_out2_loss: 3675007744.0000 - val_out2_mae: 46657.3477\n",
            "Epoch 169/200\n",
            "\u001b[1m27/27\u001b[0m \u001b[32m━━━━━━━━━━━━━━━━━━━━\u001b[0m\u001b[37m\u001b[0m \u001b[1m1s\u001b[0m 9ms/step - loss: 5543825920.0000 - out1_loss: 2771272960.0000 - out1_mae: 40212.4570 - out2_loss: 2772552960.0000 - out2_mae: 40215.4375 - val_loss: 7345809408.0000 - val_out1_loss: 3672879872.0000 - val_out1_mae: 46576.6445 - val_out2_loss: 3672929536.0000 - val_out2_mae: 46598.3555\n",
            "Epoch 170/200\n",
            "\u001b[1m27/27\u001b[0m \u001b[32m━━━━━━━━━━━━━━━━━━━━\u001b[0m\u001b[37m\u001b[0m \u001b[1m0s\u001b[0m 10ms/step - loss: 6509098496.0000 - out1_loss: 3254124544.0000 - out1_mae: 41016.9102 - out2_loss: 3254973952.0000 - out2_mae: 41026.0820 - val_loss: 7329821184.0000 - val_out1_loss: 3664464640.0000 - val_out1_mae: 46586.5781 - val_out2_loss: 3665356800.0000 - val_out2_mae: 46672.6992\n",
            "Epoch 171/200\n",
            "\u001b[1m27/27\u001b[0m \u001b[32m━━━━━━━━━━━━━━━━━━━━\u001b[0m\u001b[37m\u001b[0m \u001b[1m1s\u001b[0m 6ms/step - loss: 8440179200.0000 - out1_loss: 4220229120.0000 - out1_mae: 43117.7500 - out2_loss: 4219950336.0000 - out2_mae: 43134.4180 - val_loss: 7334594048.0000 - val_out1_loss: 3667473664.0000 - val_out1_mae: 46499.3125 - val_out2_loss: 3667119872.0000 - val_out2_mae: 46476.4805\n",
            "Epoch 172/200\n",
            "\u001b[1m27/27\u001b[0m \u001b[32m━━━━━━━━━━━━━━━━━━━━\u001b[0m\u001b[37m\u001b[0m \u001b[1m0s\u001b[0m 6ms/step - loss: 9559934976.0000 - out1_loss: 4779417600.0000 - out1_mae: 46872.2852 - out2_loss: 4780516352.0000 - out2_mae: 46873.3164 - val_loss: 7317393408.0000 - val_out1_loss: 3658652416.0000 - val_out1_mae: 46489.4688 - val_out2_loss: 3658740992.0000 - val_out2_mae: 46517.0000\n",
            "Epoch 173/200\n",
            "\u001b[1m27/27\u001b[0m \u001b[32m━━━━━━━━━━━━━━━━━━━━\u001b[0m\u001b[37m\u001b[0m \u001b[1m0s\u001b[0m 6ms/step - loss: 7191207936.0000 - out1_loss: 3595209216.0000 - out1_mae: 43173.3945 - out2_loss: 3595998464.0000 - out2_mae: 43192.4414 - val_loss: 7344702976.0000 - val_out1_loss: 3671261184.0000 - val_out1_mae: 46690.4180 - val_out2_loss: 3673441536.0000 - val_out2_mae: 46856.2383\n",
            "Epoch 174/200\n",
            "\u001b[1m27/27\u001b[0m \u001b[32m━━━━━━━━━━━━━━━━━━━━\u001b[0m\u001b[37m\u001b[0m \u001b[1m0s\u001b[0m 6ms/step - loss: 6427446784.0000 - out1_loss: 3208248064.0000 - out1_mae: 41112.5156 - out2_loss: 3219198464.0000 - out2_mae: 41218.9609 - val_loss: 7309403648.0000 - val_out1_loss: 3653874432.0000 - val_out1_mae: 46565.3320 - val_out2_loss: 3655529728.0000 - val_out2_mae: 46701.4727\n",
            "Epoch 175/200\n",
            "\u001b[1m27/27\u001b[0m \u001b[32m━━━━━━━━━━━━━━━━━━━━\u001b[0m\u001b[37m\u001b[0m \u001b[1m0s\u001b[0m 7ms/step - loss: 9536110592.0000 - out1_loss: 4764920832.0000 - out1_mae: 45138.3477 - out2_loss: 4771190784.0000 - out2_mae: 45182.3555 - val_loss: 7284658176.0000 - val_out1_loss: 3642360576.0000 - val_out1_mae: 46397.8555 - val_out2_loss: 3642297600.0000 - val_out2_mae: 46409.6406\n",
            "Epoch 176/200\n",
            "\u001b[1m27/27\u001b[0m \u001b[32m━━━━━━━━━━━━━━━━━━━━\u001b[0m\u001b[37m\u001b[0m \u001b[1m0s\u001b[0m 6ms/step - loss: 5730761216.0000 - out1_loss: 2863557376.0000 - out1_mae: 39014.2109 - out2_loss: 2867204096.0000 - out2_mae: 39095.8242 - val_loss: 7308898816.0000 - val_out1_loss: 3653562368.0000 - val_out1_mae: 46591.2812 - val_out2_loss: 3655336704.0000 - val_out2_mae: 46732.5664\n",
            "Epoch 177/200\n",
            "\u001b[1m27/27\u001b[0m \u001b[32m━━━━━━━━━━━━━━━━━━━━\u001b[0m\u001b[37m\u001b[0m \u001b[1m0s\u001b[0m 7ms/step - loss: 6193955840.0000 - out1_loss: 3095308288.0000 - out1_mae: 41797.9961 - out2_loss: 3098647296.0000 - out2_mae: 41796.7422 - val_loss: 7286321152.0000 - val_out1_loss: 3643350784.0000 - val_out1_mae: 46381.9062 - val_out2_loss: 3642970112.0000 - val_out2_mae: 46354.4375\n",
            "Epoch 178/200\n",
            "\u001b[1m27/27\u001b[0m \u001b[32m━━━━━━━━━━━━━━━━━━━━\u001b[0m\u001b[37m\u001b[0m \u001b[1m0s\u001b[0m 6ms/step - loss: 6605139456.0000 - out1_loss: 3302901504.0000 - out1_mae: 42639.8633 - out2_loss: 3302238720.0000 - out2_mae: 42649.5742 - val_loss: 7328456704.0000 - val_out1_loss: 3662642432.0000 - val_out1_mae: 46715.8555 - val_out2_loss: 3665814272.0000 - val_out2_mae: 46931.4023\n",
            "Epoch 179/200\n",
            "\u001b[1m27/27\u001b[0m \u001b[32m━━━━━━━━━━━━━━━━━━━━\u001b[0m\u001b[37m\u001b[0m \u001b[1m0s\u001b[0m 6ms/step - loss: 5411522560.0000 - out1_loss: 2701797632.0000 - out1_mae: 40283.3477 - out2_loss: 2709724672.0000 - out2_mae: 40386.9727 - val_loss: 7288115200.0000 - val_out1_loss: 3642852096.0000 - val_out1_mae: 46591.7070 - val_out2_loss: 3645262592.0000 - val_out2_mae: 46758.9883\n",
            "Epoch 180/200\n",
            "\u001b[1m27/27\u001b[0m \u001b[32m━━━━━━━━━━━━━━━━━━━━\u001b[0m\u001b[37m\u001b[0m \u001b[1m0s\u001b[0m 8ms/step - loss: 5083644928.0000 - out1_loss: 2538666752.0000 - out1_mae: 37892.5859 - out2_loss: 2544977920.0000 - out2_mae: 37937.4688 - val_loss: 7288249856.0000 - val_out1_loss: 3644308736.0000 - val_out1_mae: 46398.5898 - val_out2_loss: 3643940864.0000 - val_out2_mae: 46369.9961\n",
            "Epoch 181/200\n",
            "\u001b[1m27/27\u001b[0m \u001b[32m━━━━━━━━━━━━━━━━━━━━\u001b[0m\u001b[37m\u001b[0m \u001b[1m0s\u001b[0m 7ms/step - loss: 5903372288.0000 - out1_loss: 2949235456.0000 - out1_mae: 40763.6914 - out2_loss: 2954137088.0000 - out2_mae: 40796.7383 - val_loss: 7292197376.0000 - val_out1_loss: 3645216768.0000 - val_out1_mae: 46582.2695 - val_out2_loss: 3646980864.0000 - val_out2_mae: 46724.6250\n",
            "Epoch 182/200\n",
            "\u001b[1m27/27\u001b[0m \u001b[32m━━━━━━━━━━━━━━━━━━━━\u001b[0m\u001b[37m\u001b[0m \u001b[1m0s\u001b[0m 7ms/step - loss: 5815772672.0000 - out1_loss: 2906447360.0000 - out1_mae: 39229.4375 - out2_loss: 2909325568.0000 - out2_mae: 39252.6367 - val_loss: 7292275200.0000 - val_out1_loss: 3644589312.0000 - val_out1_mae: 46658.8164 - val_out2_loss: 3647685888.0000 - val_out2_mae: 46859.0938\n",
            "Epoch 183/200\n",
            "\u001b[1m27/27\u001b[0m \u001b[32m━━━━━━━━━━━━━━━━━━━━\u001b[0m\u001b[37m\u001b[0m \u001b[1m0s\u001b[0m 6ms/step - loss: 7401719808.0000 - out1_loss: 3700484864.0000 - out1_mae: 42107.4414 - out2_loss: 3701235200.0000 - out2_mae: 42128.0781 - val_loss: 7273453056.0000 - val_out1_loss: 3636870400.0000 - val_out1_mae: 46486.7930 - val_out2_loss: 3636583168.0000 - val_out2_mae: 46474.0898\n",
            "Epoch 184/200\n",
            "\u001b[1m27/27\u001b[0m \u001b[32m━━━━━━━━━━━━━━━━━━━━\u001b[0m\u001b[37m\u001b[0m \u001b[1m0s\u001b[0m 8ms/step - loss: 9222277120.0000 - out1_loss: 4610601984.0000 - out1_mae: 45069.6836 - out2_loss: 4611675648.0000 - out2_mae: 45083.1523 - val_loss: 7301284352.0000 - val_out1_loss: 3650322688.0000 - val_out1_mae: 46650.5000 - val_out2_loss: 3650962176.0000 - val_out2_mae: 46716.9883\n",
            "Epoch 185/200\n",
            "\u001b[1m27/27\u001b[0m \u001b[32m━━━━━━━━━━━━━━━━━━━━\u001b[0m\u001b[37m\u001b[0m \u001b[1m0s\u001b[0m 6ms/step - loss: 6166001664.0000 - out1_loss: 3082867712.0000 - out1_mae: 39827.2969 - out2_loss: 3083134208.0000 - out2_mae: 39839.4062 - val_loss: 7293027840.0000 - val_out1_loss: 3646345216.0000 - val_out1_mae: 46613.9180 - val_out2_loss: 3646682368.0000 - val_out2_mae: 46657.9375\n",
            "Epoch 186/200\n",
            "\u001b[1m27/27\u001b[0m \u001b[32m━━━━━━━━━━━━━━━━━━━━\u001b[0m\u001b[37m\u001b[0m \u001b[1m0s\u001b[0m 6ms/step - loss: 6481378304.0000 - out1_loss: 3240236032.0000 - out1_mae: 39443.6523 - out2_loss: 3241142528.0000 - out2_mae: 39462.9922 - val_loss: 7308300288.0000 - val_out1_loss: 3654296832.0000 - val_out1_mae: 46638.3008 - val_out2_loss: 3654002944.0000 - val_out2_mae: 46625.0156\n",
            "Epoch 187/200\n",
            "\u001b[1m27/27\u001b[0m \u001b[32m━━━━━━━━━━━━━━━━━━━━\u001b[0m\u001b[37m\u001b[0m \u001b[1m0s\u001b[0m 6ms/step - loss: 5784322560.0000 - out1_loss: 2891497472.0000 - out1_mae: 40311.5117 - out2_loss: 2892825088.0000 - out2_mae: 40307.7695 - val_loss: 7239788032.0000 - val_out1_loss: 3620069376.0000 - val_out1_mae: 46368.2930 - val_out2_loss: 3619718400.0000 - val_out2_mae: 46347.4648\n",
            "Epoch 188/200\n",
            "\u001b[1m27/27\u001b[0m \u001b[32m━━━━━━━━━━━━━━━━━━━━\u001b[0m\u001b[37m\u001b[0m \u001b[1m0s\u001b[0m 8ms/step - loss: 6374085120.0000 - out1_loss: 3186964736.0000 - out1_mae: 41602.7266 - out2_loss: 3187120128.0000 - out2_mae: 41602.1953 - val_loss: 7285789184.0000 - val_out1_loss: 3641780992.0000 - val_out1_mae: 46642.2227 - val_out2_loss: 3644008448.0000 - val_out2_mae: 46813.4727\n",
            "Epoch 189/200\n",
            "\u001b[1m27/27\u001b[0m \u001b[32m━━━━━━━━━━━━━━━━━━━━\u001b[0m\u001b[37m\u001b[0m \u001b[1m0s\u001b[0m 7ms/step - loss: 6480764928.0000 - out1_loss: 3238891520.0000 - out1_mae: 39579.0039 - out2_loss: 3241873408.0000 - out2_mae: 39542.1172 - val_loss: 7269307904.0000 - val_out1_loss: 3634699520.0000 - val_out1_mae: 46477.5781 - val_out2_loss: 3634607360.0000 - val_out2_mae: 46486.9219\n",
            "Epoch 190/200\n",
            "\u001b[1m27/27\u001b[0m \u001b[32m━━━━━━━━━━━━━━━━━━━━\u001b[0m\u001b[37m\u001b[0m \u001b[1m0s\u001b[0m 7ms/step - loss: 7274211328.0000 - out1_loss: 3636960512.0000 - out1_mae: 44445.1797 - out2_loss: 3637250560.0000 - out2_mae: 44449.0547 - val_loss: 7256005120.0000 - val_out1_loss: 3627376640.0000 - val_out1_mae: 46511.2617 - val_out2_loss: 3628628224.0000 - val_out2_mae: 46626.2695\n",
            "Epoch 191/200\n",
            "\u001b[1m27/27\u001b[0m \u001b[32m━━━━━━━━━━━━━━━━━━━━\u001b[0m\u001b[37m\u001b[0m \u001b[1m0s\u001b[0m 8ms/step - loss: 5807091200.0000 - out1_loss: 2903251712.0000 - out1_mae: 39445.4609 - out2_loss: 2903839232.0000 - out2_mae: 39475.5664 - val_loss: 7268044800.0000 - val_out1_loss: 3632961280.0000 - val_out1_mae: 46630.1094 - val_out2_loss: 3635084032.0000 - val_out2_mae: 46787.0039\n",
            "Epoch 192/200\n",
            "\u001b[1m27/27\u001b[0m \u001b[32m━━━━━━━━━━━━━━━━━━━━\u001b[0m\u001b[37m\u001b[0m \u001b[1m0s\u001b[0m 12ms/step - loss: 5983061504.0000 - out1_loss: 2989564928.0000 - out1_mae: 41765.0547 - out2_loss: 2993495808.0000 - out2_mae: 41822.9609 - val_loss: 7232931328.0000 - val_out1_loss: 3615963136.0000 - val_out1_mae: 46496.5742 - val_out2_loss: 3616967424.0000 - val_out2_mae: 46585.2930\n",
            "Epoch 193/200\n",
            "\u001b[1m27/27\u001b[0m \u001b[32m━━━━━━━━━━━━━━━━━━━━\u001b[0m\u001b[37m\u001b[0m \u001b[1m0s\u001b[0m 11ms/step - loss: 6974984192.0000 - out1_loss: 3487627264.0000 - out1_mae: 41526.6836 - out2_loss: 3487356672.0000 - out2_mae: 41525.4883 - val_loss: 7228627456.0000 - val_out1_loss: 3614137088.0000 - val_out1_mae: 46471.2305 - val_out2_loss: 3614490624.0000 - val_out2_mae: 46515.5938\n",
            "Epoch 194/200\n",
            "\u001b[1m27/27\u001b[0m \u001b[32m━━━━━━━━━━━━━━━━━━━━\u001b[0m\u001b[37m\u001b[0m \u001b[1m1s\u001b[0m 11ms/step - loss: 5969113600.0000 - out1_loss: 2984062208.0000 - out1_mae: 41581.8203 - out2_loss: 2985051392.0000 - out2_mae: 41589.5391 - val_loss: 7271289344.0000 - val_out1_loss: 3635906560.0000 - val_out1_mae: 46442.3789 - val_out2_loss: 3635383040.0000 - val_out2_mae: 46379.3125\n",
            "Epoch 195/200\n",
            "\u001b[1m27/27\u001b[0m \u001b[32m━━━━━━━━━━━━━━━━━━━━\u001b[0m\u001b[37m\u001b[0m \u001b[1m1s\u001b[0m 10ms/step - loss: 6767869952.0000 - out1_loss: 3382636288.0000 - out1_mae: 42779.9492 - out2_loss: 3385234176.0000 - out2_mae: 42806.6445 - val_loss: 7268572672.0000 - val_out1_loss: 3633575168.0000 - val_out1_mae: 46595.5820 - val_out2_loss: 3634997248.0000 - val_out2_mae: 46723.3086\n",
            "Epoch 196/200\n",
            "\u001b[1m27/27\u001b[0m \u001b[32m━━━━━━━━━━━━━━━━━━━━\u001b[0m\u001b[37m\u001b[0m \u001b[1m1s\u001b[0m 8ms/step - loss: 6582406656.0000 - out1_loss: 3291612672.0000 - out1_mae: 41734.8516 - out2_loss: 3290793984.0000 - out2_mae: 41768.0000 - val_loss: 7264284672.0000 - val_out1_loss: 3631710464.0000 - val_out1_mae: 46637.9375 - val_out2_loss: 3632574464.0000 - val_out2_mae: 46718.1680\n",
            "Epoch 197/200\n",
            "\u001b[1m27/27\u001b[0m \u001b[32m━━━━━━━━━━━━━━━━━━━━\u001b[0m\u001b[37m\u001b[0m \u001b[1m0s\u001b[0m 6ms/step - loss: 6894415360.0000 - out1_loss: 3447528448.0000 - out1_mae: 41349.6445 - out2_loss: 3446887168.0000 - out2_mae: 41344.4688 - val_loss: 7246585344.0000 - val_out1_loss: 3623590912.0000 - val_out1_mae: 46501.0625 - val_out2_loss: 3622993920.0000 - val_out2_mae: 46449.7812\n",
            "Epoch 198/200\n",
            "\u001b[1m27/27\u001b[0m \u001b[32m━━━━━━━━━━━━━━━━━━━━\u001b[0m\u001b[37m\u001b[0m \u001b[1m0s\u001b[0m 8ms/step - loss: 6573045760.0000 - out1_loss: 3285945088.0000 - out1_mae: 40985.7148 - out2_loss: 3287100160.0000 - out2_mae: 40979.9336 - val_loss: 7204562432.0000 - val_out1_loss: 3601999104.0000 - val_out1_mae: 46412.9336 - val_out2_loss: 3602563840.0000 - val_out2_mae: 46473.9805\n",
            "Epoch 199/200\n",
            "\u001b[1m27/27\u001b[0m \u001b[32m━━━━━━━━━━━━━━━━━━━━\u001b[0m\u001b[37m\u001b[0m \u001b[1m0s\u001b[0m 7ms/step - loss: 5070668800.0000 - out1_loss: 2533132032.0000 - out1_mae: 38448.6016 - out2_loss: 2537536512.0000 - out2_mae: 38457.4023 - val_loss: 7279057408.0000 - val_out1_loss: 3638812928.0000 - val_out1_mae: 46643.1719 - val_out2_loss: 3640244992.0000 - val_out2_mae: 46778.8086\n",
            "Epoch 200/200\n",
            "\u001b[1m27/27\u001b[0m \u001b[32m━━━━━━━━━━━━━━━━━━━━\u001b[0m\u001b[37m\u001b[0m \u001b[1m0s\u001b[0m 7ms/step - loss: 6001718272.0000 - out1_loss: 2996789248.0000 - out1_mae: 40107.3164 - out2_loss: 3004928256.0000 - out2_mae: 40161.2031 - val_loss: 7220689408.0000 - val_out1_loss: 3608952576.0000 - val_out1_mae: 46520.9180 - val_out2_loss: 3611736832.0000 - val_out2_mae: 46717.8242\n"
          ]
        }
      ]
    },
    {
      "cell_type": "code",
      "source": [
        "plt.figure(figsize=(4,4))\n",
        "plt.plot(history2.history[\"out1_mae\"], label='Train')\n",
        "plt.plot(history2.history[\"val_out1_mae\"], label='Validation')\n",
        "plt.title('Output 1')\n",
        "plt.xlabel(\"Epochs\")\n",
        "plt.ylabel(\"Validation MAE\")\n",
        "plt.legend()\n",
        "\n",
        "plt.figure(figsize=(4,4))\n",
        "plt.plot(history2.history[\"out2_mae\"], label='Train')\n",
        "plt.plot(history2.history[\"val_out2_mae\"], label='Validation')\n",
        "plt.title('Output 2')\n",
        "plt.xlabel(\"Epochs\")\n",
        "plt.ylabel(\"Validation MAE\")\n",
        "plt.legend()\n",
        "plt.show()"
      ],
      "metadata": {
        "colab": {
          "base_uri": "https://localhost:8080/",
          "height": 803
        },
        "id": "kzpNUdIA0ASl",
        "outputId": "04fa21f4-a2d0-4dbd-c411-3d323f9c85c3"
      },
      "execution_count": null,
      "outputs": [
        {
          "output_type": "display_data",
          "data": {
            "text/plain": [
              "<Figure size 400x400 with 1 Axes>"
            ],
            "image/png": "[encoded data removed]"
          },
          "metadata": {}
        },
        {
          "output_type": "display_data",
          "data": {
            "text/plain": [
              "<Figure size 400x400 with 1 Axes>"
            ],
            "image/png": "[encoded data removed]"
          },
          "metadata": {}
        }
      ]
    },
    {
      "cell_type": "markdown",
      "source": [
        "## Evaluation"
      ],
      "metadata": {
        "id": "yePvJ5Zz0h-L"
      }
    },
    {
      "cell_type": "code",
      "source": [
        "x_test_1 = x_test[:, :3]\n",
        "x_test_2 = x_test[:, 3:]\n",
        "eval_results = model2.evaluate([x_test_1, x_test_2], [y_test, y_test])\n",
        "print(f'Validation MAE for output 1: {eval_results[3]} $')\n",
        "print(f'Validation MAE for output 2: {eval_results[4]} $')"
      ],
      "metadata": {
        "colab": {
          "base_uri": "https://localhost:8080/"
        },
        "id": "gcwS6Jq90hxP",
        "outputId": "e7795c1c-2764-4ccd-8446-7ae4cf762f88"
      },
      "execution_count": null,
      "outputs": [
        {
          "output_type": "stream",
          "name": "stdout",
          "text": [
            "\u001b[1m4/4\u001b[0m \u001b[32m━━━━━━━━━━━━━━━━━━━━\u001b[0m\u001b[37m\u001b[0m \u001b[1m0s\u001b[0m 11ms/step - loss: 11200812032.0000 - out1_loss: 5566511104.0000 - out1_mae: 44395.7773 - out2_loss: 5569907200.0000 - out2_mae: 44468.3477\n",
            "Validation MAE for output 1: 44951.07421875 $\n",
            "Validation MAE for output 2: 44989.625 $\n"
          ]
        }
      ]
    },
    {
      "cell_type": "markdown",
      "source": [
        "## Using Keras Callbacks"
      ],
      "metadata": {
        "id": "7X62wLaL6B7G"
      }
    },
    {
      "cell_type": "code",
      "source": [
        "(x_train, y_train), (x_test, y_test) = datasets.california_housing.load_data(version='large')"
      ],
      "metadata": {
        "id": "M-oqRFOG6Eqr"
      },
      "execution_count": null,
      "outputs": []
    },
    {
      "cell_type": "code",
      "source": [
        "print(f'Train data shape: {x_train.shape}')\n",
        "print(f'Test data shape: {x_test.shape}')"
      ],
      "metadata": {
        "colab": {
          "base_uri": "https://localhost:8080/"
        },
        "id": "PxPEVHf96ZqQ",
        "outputId": "295faf82-7de0-44d8-d389-0800fbe578d7"
      },
      "execution_count": null,
      "outputs": [
        {
          "output_type": "stream",
          "name": "stdout",
          "text": [
            "Train data shape: (16512, 8)\n",
            "Test data shape: (4128, 8)\n"
          ]
        }
      ]
    },
    {
      "cell_type": "code",
      "source": [
        "# Normalization\n",
        "mean = x_train.mean(axis=0)\n",
        "std = x_train.std(axis=0)\n",
        "\n",
        "x_train -= mean\n",
        "x_train /= std\n",
        "\n",
        "x_test -= mean\n",
        "x_test /= std"
      ],
      "metadata": {
        "id": "1xmj3eKQ6XSI"
      },
      "execution_count": null,
      "outputs": []
    },
    {
      "cell_type": "code",
      "source": [
        "x_train_1 = x_train[:, :3]\n",
        "x_train_2 = x_train[:, 3:]"
      ],
      "metadata": {
        "id": "5Fiy9k6b6n_y"
      },
      "execution_count": null,
      "outputs": []
    },
    {
      "cell_type": "code",
      "source": [
        "inp1 = layers.Input(shape=(3,))\n",
        "inp2 = layers.Input(shape=(5,))\n",
        "\n",
        "L1 = layers.Dense(64, activation='relu', name='L1')(inp2)\n",
        "L2 = layers.Dense(64, activation='relu', name='L2')(L1)\n",
        "\n",
        "concat = layers.Concatenate()([inp1, L2])\n",
        "\n",
        "L3 = layers.Dense(32, activation='relu', name='L3')(concat)\n",
        "L4 = layers.Dense(16, activation='relu', name='L4')(L3)\n",
        "\n",
        "out = layers.Dense(1)(L4)\n",
        "\n",
        "model = Model(inputs=[inp1, inp2], outputs=out)"
      ],
      "metadata": {
        "id": "DW4MDzDk6ou5"
      },
      "execution_count": null,
      "outputs": []
    },
    {
      "cell_type": "markdown",
      "source": [
        "### Define callbacks"
      ],
      "metadata": {
        "id": "mAxj0PUm6yLj"
      }
    },
    {
      "cell_type": "code",
      "source": [
        "from keras import callbacks"
      ],
      "metadata": {
        "id": "qvwaKV2u6x6u"
      },
      "execution_count": null,
      "outputs": []
    },
    {
      "cell_type": "code",
      "source": [
        "checkpoint = callbacks.ModelCheckpoint('drive/MyDrive/model_checkpoint.h5',\n",
        "                                       monitor='val_mae',\n",
        "                                       save_best_only=True)\n",
        "early_stopping = callbacks.EarlyStopping(monitor='val_loss', patience=10)\n",
        "logger = callbacks.CSVLogger('drive/MyDrive/log.csv')\n",
        "rlrop = callbacks.ReduceLROnPlateau(monitor='val_mae', patience=5)\n",
        "\n",
        "my_callbacks = [checkpoint, early_stopping, logger, rlrop]"
      ],
      "metadata": {
        "id": "e0hQThF66w3M"
      },
      "execution_count": null,
      "outputs": []
    },
    {
      "cell_type": "code",
      "source": [
        "# define a custom loss\n",
        "import tensorflow as tf\n",
        "from keras.saving import register_keras_serializable\n",
        "\n",
        "@register_keras_serializable()\n",
        "def custom_loss_function(y_true, y_pred):\n",
        "    return tf.reduce_mean(tf.square(y_true - y_pred))"
      ],
      "metadata": {
        "id": "akS9uu1ZBS_A"
      },
      "execution_count": null,
      "outputs": []
    },
    {
      "cell_type": "code",
      "source": [
        "model.compile(optimizer='adam', loss=custom_loss_function, metrics=['mae'])"
      ],
      "metadata": {
        "id": "V5FEeU_7_5ay"
      },
      "execution_count": null,
      "outputs": []
    },
    {
      "cell_type": "code",
      "source": [
        "history = model.fit([x_train_1, x_train_2], y_train,\n",
        "                    epochs=150, batch_size=128,\n",
        "                    validation_split=0.2,\n",
        "                    callbacks=my_callbacks)"
      ],
      "metadata": {
        "colab": {
          "base_uri": "https://localhost:8080/",
          "height": 734
        },
        "id": "ms6C4G4N8Uxp",
        "outputId": "a126c816-1c13-43b7-9548-ee16c8bfccbb"
      },
      "execution_count": null,
      "outputs": [
        {
          "output_type": "stream",
          "name": "stdout",
          "text": [
            "Epoch 1/150\n",
            "\u001b[1m101/104\u001b[0m \u001b[32m━━━━━━━━━━━━━━━━━━━\u001b[0m\u001b[37m━\u001b[0m \u001b[1m0s\u001b[0m 6ms/step - loss: 5823984128.0000 - mae: 56249.9922"
          ]
        },
        {
          "output_type": "stream",
          "name": "stderr",
          "text": [
            "WARNING:absl:You are saving your model as an HDF5 file via `model.save()` or `keras.saving.save_model(model)`. This file format is considered legacy. We recommend using instead the native Keras format, e.g. `model.save('my_model.keras')` or `keras.saving.save_model(model, 'my_model.keras')`. \n"
          ]
        },
        {
          "output_type": "stream",
          "name": "stdout",
          "text": [
            "\b\b\b\b\b\b\b\b\b\b\b\b\b\b\b\b\b\b\b\b\b\b\b\b\b\b\b\b\b\b\b\b\b\b\b\b\b\b\b\b\b\b\b\b\b\b\b\b\b\b\b\b\b\b\b\b\b\b\b\b\b\b\b\b\b\b\b\b\b\b\b\b\b\b\b\b\b\b\b\b\b\b\r\u001b[1m104/104\u001b[0m \u001b[32m━━━━━━━━━━━━━━━━━━━━\u001b[0m\u001b[37m\u001b[0m \u001b[1m5s\u001b[0m 12ms/step - loss: 5827509248.0000 - mae: 56264.5352 - val_loss: 5736382976.0000 - val_mae: 56019.5039 - learning_rate: 0.0010\n",
            "Epoch 2/150\n",
            "\u001b[1m104/104\u001b[0m \u001b[32m━━━━━━━━━━━━━━━━━━━━\u001b[0m\u001b[37m\u001b[0m \u001b[1m2s\u001b[0m 4ms/step - loss: 5991928832.0000 - mae: 57241.7070 - val_loss: 5720632320.0000 - val_mae: 56396.5078 - learning_rate: 0.0010\n",
            "Epoch 3/150\n",
            "\u001b[1m104/104\u001b[0m \u001b[32m━━━━━━━━━━━━━━━━━━━━\u001b[0m\u001b[37m\u001b[0m \u001b[1m0s\u001b[0m 4ms/step - loss: 5836249600.0000 - mae: 56557.2656 - val_loss: 5720311296.0000 - val_mae: 56135.6445 - learning_rate: 0.0010\n",
            "Epoch 4/150\n",
            "\u001b[1m 95/104\u001b[0m \u001b[32m━━━━━━━━━━━━━━━━━━\u001b[0m\u001b[37m━━\u001b[0m \u001b[1m0s\u001b[0m 3ms/step - loss: 5843513344.0000 - mae: 56831.0117"
          ]
        },
        {
          "output_type": "stream",
          "name": "stderr",
          "text": [
            "WARNING:absl:You are saving your model as an HDF5 file via `model.save()` or `keras.saving.save_model(model)`. This file format is considered legacy. We recommend using instead the native Keras format, e.g. `model.save('my_model.keras')` or `keras.saving.save_model(model, 'my_model.keras')`. \n"
          ]
        },
        {
          "output_type": "stream",
          "name": "stdout",
          "text": [
            "\b\b\b\b\b\b\b\b\b\b\b\b\b\b\b\b\b\b\b\b\b\b\b\b\b\b\b\b\b\b\b\b\b\b\b\b\b\b\b\b\b\b\b\b\b\b\b\b\b\b\b\b\b\b\b\b\b\b\b\b\b\b\b\b\b\b\b\b\b\b\b\b\b\b\b\b\b\b\b\b\b\b\r\u001b[1m104/104\u001b[0m \u001b[32m━━━━━━━━━━━━━━━━━━━━\u001b[0m\u001b[37m\u001b[0m \u001b[1m1s\u001b[0m 5ms/step - loss: 5847164928.0000 - mae: 56812.2891 - val_loss: 5712016896.0000 - val_mae: 55934.7734 - learning_rate: 0.0010\n",
            "Epoch 5/150\n",
            "\u001b[1m104/104\u001b[0m \u001b[32m━━━━━━━━━━━━━━━━━━━━\u001b[0m\u001b[37m\u001b[0m \u001b[1m0s\u001b[0m 3ms/step - loss: 5867728896.0000 - mae: 56860.0820"
          ]
        },
        {
          "output_type": "stream",
          "name": "stderr",
          "text": [
            "WARNING:absl:You are saving your model as an HDF5 file via `model.save()` or `keras.saving.save_model(model)`. This file format is considered legacy. We recommend using instead the native Keras format, e.g. `model.save('my_model.keras')` or `keras.saving.save_model(model, 'my_model.keras')`. \n"
          ]
        },
        {
          "output_type": "stream",
          "name": "stdout",
          "text": [
            "\b\b\b\b\b\b\b\b\b\b\b\b\b\b\b\b\b\b\b\b\b\b\b\b\b\b\b\b\b\b\b\b\b\b\b\b\b\b\b\b\b\b\b\b\b\b\b\b\b\b\b\b\b\b\b\b\b\b\b\b\b\b\b\b\b\b\b\b\b\b\b\b\b\b\b\b\b\b\b\b\b\b\r\u001b[1m104/104\u001b[0m \u001b[32m━━━━━━━━━━━━━━━━━━━━\u001b[0m\u001b[37m\u001b[0m \u001b[1m1s\u001b[0m 5ms/step - loss: 5867933696.0000 - mae: 56858.5039 - val_loss: 5732481536.0000 - val_mae: 55884.8281 - learning_rate: 0.0010\n",
            "Epoch 6/150\n",
            "\u001b[1m 95/104\u001b[0m \u001b[32m━━━━━━━━━━━━━━━━━━\u001b[0m\u001b[37m━━\u001b[0m \u001b[1m0s\u001b[0m 3ms/step - loss: 5889968640.0000 - mae: 56174.6523"
          ]
        },
        {
          "output_type": "stream",
          "name": "stderr",
          "text": [
            "WARNING:absl:You are saving your model as an HDF5 file via `model.save()` or `keras.saving.save_model(model)`. This file format is considered legacy. We recommend using instead the native Keras format, e.g. `model.save('my_model.keras')` or `keras.saving.save_model(model, 'my_model.keras')`. \n"
          ]
        },
        {
          "output_type": "stream",
          "name": "stdout",
          "text": [
            "\b\b\b\b\b\b\b\b\b\b\b\b\b\b\b\b\b\b\b\b\b\b\b\b\b\b\b\b\b\b\b\b\b\b\b\b\b\b\b\b\b\b\b\b\b\b\b\b\b\b\b\b\b\b\b\b\b\b\b\b\b\b\b\b\b\b\b\b\b\b\b\b\b\b\b\b\b\b\b\b\b\b\r\u001b[1m104/104\u001b[0m \u001b[32m━━━━━━━━━━━━━━━━━━━━\u001b[0m\u001b[37m\u001b[0m \u001b[1m1s\u001b[0m 5ms/step - loss: 5889745920.0000 - mae: 56212.5664 - val_loss: 5717897728.0000 - val_mae: 55585.9375 - learning_rate: 0.0010\n",
            "Epoch 7/150\n",
            "\u001b[1m104/104\u001b[0m \u001b[32m━━━━━━━━━━━━━━━━━━━━\u001b[0m\u001b[37m\u001b[0m \u001b[1m1s\u001b[0m 5ms/step - loss: 5894066688.0000 - mae: 56426.0352 - val_loss: 5696140288.0000 - val_mae: 56087.2656 - learning_rate: 0.0010\n",
            "Epoch 8/150\n",
            "\u001b[1m 48/104\u001b[0m \u001b[32m━━━━━━━━━\u001b[0m\u001b[37m━━━━━━━━━━━\u001b[0m \u001b[1m0s\u001b[0m 3ms/step - loss: 6187146240.0000 - mae: 57988.1250"
          ]
        },
        {
          "output_type": "error",
          "ename": "KeyboardInterrupt",
          "evalue": "",
          "traceback": [
            "\u001b[0;31m---------------------------------------------------------------------------\u001b[0m",
            "\u001b[0;31mKeyboardInterrupt\u001b[0m                         Traceback (most recent call last)",
            "\u001b[0;32m<ipython-input-101-bc1b25ea725d>\u001b[0m in \u001b[0;36m<cell line: 0>\u001b[0;34m()\u001b[0m\n\u001b[0;32m----> 1\u001b[0;31m history = model.fit([x_train_1, x_train_2], y_train,\n\u001b[0m\u001b[1;32m      2\u001b[0m                     \u001b[0mepochs\u001b[0m\u001b[0;34m=\u001b[0m\u001b[0;36m150\u001b[0m\u001b[0;34m,\u001b[0m \u001b[0mbatch_size\u001b[0m\u001b[0;34m=\u001b[0m\u001b[0;36m128\u001b[0m\u001b[0;34m,\u001b[0m\u001b[0;34m\u001b[0m\u001b[0;34m\u001b[0m\u001b[0m\n\u001b[1;32m      3\u001b[0m                     \u001b[0mvalidation_split\u001b[0m\u001b[0;34m=\u001b[0m\u001b[0;36m0.2\u001b[0m\u001b[0;34m,\u001b[0m\u001b[0;34m\u001b[0m\u001b[0;34m\u001b[0m\u001b[0m\n\u001b[1;32m      4\u001b[0m                     callbacks=my_callbacks)\n",
            "\u001b[0;32m/usr/local/lib/python3.11/dist-packages/keras/src/utils/traceback_utils.py\u001b[0m in \u001b[0;36merror_handler\u001b[0;34m(*args, **kwargs)\u001b[0m\n\u001b[1;32m    115\u001b[0m         \u001b[0mfiltered_tb\u001b[0m \u001b[0;34m=\u001b[0m \u001b[0;32mNone\u001b[0m\u001b[0;34m\u001b[0m\u001b[0;34m\u001b[0m\u001b[0m\n\u001b[1;32m    116\u001b[0m         \u001b[0;32mtry\u001b[0m\u001b[0;34m:\u001b[0m\u001b[0;34m\u001b[0m\u001b[0;34m\u001b[0m\u001b[0m\n\u001b[0;32m--> 117\u001b[0;31m             \u001b[0;32mreturn\u001b[0m \u001b[0mfn\u001b[0m\u001b[0;34m(\u001b[0m\u001b[0;34m*\u001b[0m\u001b[0margs\u001b[0m\u001b[0;34m,\u001b[0m \u001b[0;34m**\u001b[0m\u001b[0mkwargs\u001b[0m\u001b[0;34m)\u001b[0m\u001b[0;34m\u001b[0m\u001b[0;34m\u001b[0m\u001b[0m\n\u001b[0m\u001b[1;32m    118\u001b[0m         \u001b[0;32mexcept\u001b[0m \u001b[0mException\u001b[0m \u001b[0;32mas\u001b[0m \u001b[0me\u001b[0m\u001b[0;34m:\u001b[0m\u001b[0;34m\u001b[0m\u001b[0;34m\u001b[0m\u001b[0m\n\u001b[1;32m    119\u001b[0m             \u001b[0mfiltered_tb\u001b[0m \u001b[0;34m=\u001b[0m \u001b[0m_process_traceback_frames\u001b[0m\u001b[0;34m(\u001b[0m\u001b[0me\u001b[0m\u001b[0;34m.\u001b[0m\u001b[0m__traceback__\u001b[0m\u001b[0;34m)\u001b[0m\u001b[0;34m\u001b[0m\u001b[0;34m\u001b[0m\u001b[0m\n",
            "\u001b[0;32m/usr/local/lib/python3.11/dist-packages/keras/src/backend/tensorflow/trainer.py\u001b[0m in \u001b[0;36mfit\u001b[0;34m(self, x, y, batch_size, epochs, verbose, callbacks, validation_split, validation_data, shuffle, class_weight, sample_weight, initial_epoch, steps_per_epoch, validation_steps, validation_batch_size, validation_freq)\u001b[0m\n\u001b[1;32m    369\u001b[0m                 \u001b[0;32mfor\u001b[0m \u001b[0mstep\u001b[0m\u001b[0;34m,\u001b[0m \u001b[0miterator\u001b[0m \u001b[0;32min\u001b[0m \u001b[0mepoch_iterator\u001b[0m\u001b[0;34m:\u001b[0m\u001b[0;34m\u001b[0m\u001b[0;34m\u001b[0m\u001b[0m\n\u001b[1;32m    370\u001b[0m                     \u001b[0mcallbacks\u001b[0m\u001b[0;34m.\u001b[0m\u001b[0mon_train_batch_begin\u001b[0m\u001b[0;34m(\u001b[0m\u001b[0mstep\u001b[0m\u001b[0;34m)\u001b[0m\u001b[0;34m\u001b[0m\u001b[0;34m\u001b[0m\u001b[0m\n\u001b[0;32m--> 371\u001b[0;31m                     \u001b[0mlogs\u001b[0m \u001b[0;34m=\u001b[0m \u001b[0mself\u001b[0m\u001b[0;34m.\u001b[0m\u001b[0mtrain_function\u001b[0m\u001b[0;34m(\u001b[0m\u001b[0miterator\u001b[0m\u001b[0;34m)\u001b[0m\u001b[0;34m\u001b[0m\u001b[0;34m\u001b[0m\u001b[0m\n\u001b[0m\u001b[1;32m    372\u001b[0m                     \u001b[0mcallbacks\u001b[0m\u001b[0;34m.\u001b[0m\u001b[0mon_train_batch_end\u001b[0m\u001b[0;34m(\u001b[0m\u001b[0mstep\u001b[0m\u001b[0;34m,\u001b[0m \u001b[0mlogs\u001b[0m\u001b[0;34m)\u001b[0m\u001b[0;34m\u001b[0m\u001b[0;34m\u001b[0m\u001b[0m\n\u001b[1;32m    373\u001b[0m                     \u001b[0;32mif\u001b[0m \u001b[0mself\u001b[0m\u001b[0;34m.\u001b[0m\u001b[0mstop_training\u001b[0m\u001b[0;34m:\u001b[0m\u001b[0;34m\u001b[0m\u001b[0;34m\u001b[0m\u001b[0m\n",
            "\u001b[0;32m/usr/local/lib/python3.11/dist-packages/keras/src/backend/tensorflow/trainer.py\u001b[0m in \u001b[0;36mfunction\u001b[0;34m(iterator)\u001b[0m\n\u001b[1;32m    217\u001b[0m                 \u001b[0miterator\u001b[0m\u001b[0;34m,\u001b[0m \u001b[0;34m(\u001b[0m\u001b[0mtf\u001b[0m\u001b[0;34m.\u001b[0m\u001b[0mdata\u001b[0m\u001b[0;34m.\u001b[0m\u001b[0mIterator\u001b[0m\u001b[0;34m,\u001b[0m \u001b[0mtf\u001b[0m\u001b[0;34m.\u001b[0m\u001b[0mdistribute\u001b[0m\u001b[0;34m.\u001b[0m\u001b[0mDistributedIterator\u001b[0m\u001b[0;34m)\u001b[0m\u001b[0;34m\u001b[0m\u001b[0;34m\u001b[0m\u001b[0m\n\u001b[1;32m    218\u001b[0m             ):\n\u001b[0;32m--> 219\u001b[0;31m                 \u001b[0mopt_outputs\u001b[0m \u001b[0;34m=\u001b[0m \u001b[0mmulti_step_on_iterator\u001b[0m\u001b[0;34m(\u001b[0m\u001b[0miterator\u001b[0m\u001b[0;34m)\u001b[0m\u001b[0;34m\u001b[0m\u001b[0;34m\u001b[0m\u001b[0m\n\u001b[0m\u001b[1;32m    220\u001b[0m                 \u001b[0;32mif\u001b[0m \u001b[0;32mnot\u001b[0m \u001b[0mopt_outputs\u001b[0m\u001b[0;34m.\u001b[0m\u001b[0mhas_value\u001b[0m\u001b[0;34m(\u001b[0m\u001b[0;34m)\u001b[0m\u001b[0;34m:\u001b[0m\u001b[0;34m\u001b[0m\u001b[0;34m\u001b[0m\u001b[0m\n\u001b[1;32m    221\u001b[0m                     \u001b[0;32mraise\u001b[0m \u001b[0mStopIteration\u001b[0m\u001b[0;34m\u001b[0m\u001b[0;34m\u001b[0m\u001b[0m\n",
            "\u001b[0;32m/usr/local/lib/python3.11/dist-packages/tensorflow/python/util/traceback_utils.py\u001b[0m in \u001b[0;36merror_handler\u001b[0;34m(*args, **kwargs)\u001b[0m\n\u001b[1;32m    148\u001b[0m     \u001b[0mfiltered_tb\u001b[0m \u001b[0;34m=\u001b[0m \u001b[0;32mNone\u001b[0m\u001b[0;34m\u001b[0m\u001b[0;34m\u001b[0m\u001b[0m\n\u001b[1;32m    149\u001b[0m     \u001b[0;32mtry\u001b[0m\u001b[0;34m:\u001b[0m\u001b[0;34m\u001b[0m\u001b[0;34m\u001b[0m\u001b[0m\n\u001b[0;32m--> 150\u001b[0;31m       \u001b[0;32mreturn\u001b[0m \u001b[0mfn\u001b[0m\u001b[0;34m(\u001b[0m\u001b[0;34m*\u001b[0m\u001b[0margs\u001b[0m\u001b[0;34m,\u001b[0m \u001b[0;34m**\u001b[0m\u001b[0mkwargs\u001b[0m\u001b[0;34m)\u001b[0m\u001b[0;34m\u001b[0m\u001b[0;34m\u001b[0m\u001b[0m\n\u001b[0m\u001b[1;32m    151\u001b[0m     \u001b[0;32mexcept\u001b[0m \u001b[0mException\u001b[0m \u001b[0;32mas\u001b[0m \u001b[0me\u001b[0m\u001b[0;34m:\u001b[0m\u001b[0;34m\u001b[0m\u001b[0;34m\u001b[0m\u001b[0m\n\u001b[1;32m    152\u001b[0m       \u001b[0mfiltered_tb\u001b[0m \u001b[0;34m=\u001b[0m \u001b[0m_process_traceback_frames\u001b[0m\u001b[0;34m(\u001b[0m\u001b[0me\u001b[0m\u001b[0;34m.\u001b[0m\u001b[0m__traceback__\u001b[0m\u001b[0;34m)\u001b[0m\u001b[0;34m\u001b[0m\u001b[0;34m\u001b[0m\u001b[0m\n",
            "\u001b[0;32m/usr/local/lib/python3.11/dist-packages/tensorflow/python/eager/polymorphic_function/polymorphic_function.py\u001b[0m in \u001b[0;36m__call__\u001b[0;34m(self, *args, **kwds)\u001b[0m\n\u001b[1;32m    831\u001b[0m \u001b[0;34m\u001b[0m\u001b[0m\n\u001b[1;32m    832\u001b[0m       \u001b[0;32mwith\u001b[0m \u001b[0mOptionalXlaContext\u001b[0m\u001b[0;34m(\u001b[0m\u001b[0mself\u001b[0m\u001b[0;34m.\u001b[0m\u001b[0m_jit_compile\u001b[0m\u001b[0;34m)\u001b[0m\u001b[0;34m:\u001b[0m\u001b[0;34m\u001b[0m\u001b[0;34m\u001b[0m\u001b[0m\n\u001b[0;32m--> 833\u001b[0;31m         \u001b[0mresult\u001b[0m \u001b[0;34m=\u001b[0m \u001b[0mself\u001b[0m\u001b[0;34m.\u001b[0m\u001b[0m_call\u001b[0m\u001b[0;34m(\u001b[0m\u001b[0;34m*\u001b[0m\u001b[0margs\u001b[0m\u001b[0;34m,\u001b[0m \u001b[0;34m**\u001b[0m\u001b[0mkwds\u001b[0m\u001b[0;34m)\u001b[0m\u001b[0;34m\u001b[0m\u001b[0;34m\u001b[0m\u001b[0m\n\u001b[0m\u001b[1;32m    834\u001b[0m \u001b[0;34m\u001b[0m\u001b[0m\n\u001b[1;32m    835\u001b[0m       \u001b[0mnew_tracing_count\u001b[0m \u001b[0;34m=\u001b[0m \u001b[0mself\u001b[0m\u001b[0;34m.\u001b[0m\u001b[0mexperimental_get_tracing_count\u001b[0m\u001b[0;34m(\u001b[0m\u001b[0;34m)\u001b[0m\u001b[0;34m\u001b[0m\u001b[0;34m\u001b[0m\u001b[0m\n",
            "\u001b[0;32m/usr/local/lib/python3.11/dist-packages/tensorflow/python/eager/polymorphic_function/polymorphic_function.py\u001b[0m in \u001b[0;36m_call\u001b[0;34m(self, *args, **kwds)\u001b[0m\n\u001b[1;32m    876\u001b[0m       \u001b[0;31m# In this case we have not created variables on the first call. So we can\u001b[0m\u001b[0;34m\u001b[0m\u001b[0;34m\u001b[0m\u001b[0m\n\u001b[1;32m    877\u001b[0m       \u001b[0;31m# run the first trace but we should fail if variables are created.\u001b[0m\u001b[0;34m\u001b[0m\u001b[0;34m\u001b[0m\u001b[0m\n\u001b[0;32m--> 878\u001b[0;31m       results = tracing_compilation.call_function(\n\u001b[0m\u001b[1;32m    879\u001b[0m           \u001b[0margs\u001b[0m\u001b[0;34m,\u001b[0m \u001b[0mkwds\u001b[0m\u001b[0;34m,\u001b[0m \u001b[0mself\u001b[0m\u001b[0;34m.\u001b[0m\u001b[0m_variable_creation_config\u001b[0m\u001b[0;34m\u001b[0m\u001b[0;34m\u001b[0m\u001b[0m\n\u001b[1;32m    880\u001b[0m       )\n",
            "\u001b[0;32m/usr/local/lib/python3.11/dist-packages/tensorflow/python/eager/polymorphic_function/tracing_compilation.py\u001b[0m in \u001b[0;36mcall_function\u001b[0;34m(args, kwargs, tracing_options)\u001b[0m\n\u001b[1;32m    137\u001b[0m   \u001b[0mbound_args\u001b[0m \u001b[0;34m=\u001b[0m \u001b[0mfunction\u001b[0m\u001b[0;34m.\u001b[0m\u001b[0mfunction_type\u001b[0m\u001b[0;34m.\u001b[0m\u001b[0mbind\u001b[0m\u001b[0;34m(\u001b[0m\u001b[0;34m*\u001b[0m\u001b[0margs\u001b[0m\u001b[0;34m,\u001b[0m \u001b[0;34m**\u001b[0m\u001b[0mkwargs\u001b[0m\u001b[0;34m)\u001b[0m\u001b[0;34m\u001b[0m\u001b[0;34m\u001b[0m\u001b[0m\n\u001b[1;32m    138\u001b[0m   \u001b[0mflat_inputs\u001b[0m \u001b[0;34m=\u001b[0m \u001b[0mfunction\u001b[0m\u001b[0;34m.\u001b[0m\u001b[0mfunction_type\u001b[0m\u001b[0;34m.\u001b[0m\u001b[0munpack_inputs\u001b[0m\u001b[0;34m(\u001b[0m\u001b[0mbound_args\u001b[0m\u001b[0;34m)\u001b[0m\u001b[0;34m\u001b[0m\u001b[0;34m\u001b[0m\u001b[0m\n\u001b[0;32m--> 139\u001b[0;31m   return function._call_flat(  # pylint: disable=protected-access\n\u001b[0m\u001b[1;32m    140\u001b[0m       \u001b[0mflat_inputs\u001b[0m\u001b[0;34m,\u001b[0m \u001b[0mcaptured_inputs\u001b[0m\u001b[0;34m=\u001b[0m\u001b[0mfunction\u001b[0m\u001b[0;34m.\u001b[0m\u001b[0mcaptured_inputs\u001b[0m\u001b[0;34m\u001b[0m\u001b[0;34m\u001b[0m\u001b[0m\n\u001b[1;32m    141\u001b[0m   )\n",
            "\u001b[0;32m/usr/local/lib/python3.11/dist-packages/tensorflow/python/eager/polymorphic_function/concrete_function.py\u001b[0m in \u001b[0;36m_call_flat\u001b[0;34m(self, tensor_inputs, captured_inputs)\u001b[0m\n\u001b[1;32m   1320\u001b[0m         and executing_eagerly):\n\u001b[1;32m   1321\u001b[0m       \u001b[0;31m# No tape is watching; skip to running the function.\u001b[0m\u001b[0;34m\u001b[0m\u001b[0;34m\u001b[0m\u001b[0m\n\u001b[0;32m-> 1322\u001b[0;31m       \u001b[0;32mreturn\u001b[0m \u001b[0mself\u001b[0m\u001b[0;34m.\u001b[0m\u001b[0m_inference_function\u001b[0m\u001b[0;34m.\u001b[0m\u001b[0mcall_preflattened\u001b[0m\u001b[0;34m(\u001b[0m\u001b[0margs\u001b[0m\u001b[0;34m)\u001b[0m\u001b[0;34m\u001b[0m\u001b[0;34m\u001b[0m\u001b[0m\n\u001b[0m\u001b[1;32m   1323\u001b[0m     forward_backward = self._select_forward_and_backward_functions(\n\u001b[1;32m   1324\u001b[0m         \u001b[0margs\u001b[0m\u001b[0;34m,\u001b[0m\u001b[0;34m\u001b[0m\u001b[0;34m\u001b[0m\u001b[0m\n",
            "\u001b[0;32m/usr/local/lib/python3.11/dist-packages/tensorflow/python/eager/polymorphic_function/atomic_function.py\u001b[0m in \u001b[0;36mcall_preflattened\u001b[0;34m(self, args)\u001b[0m\n\u001b[1;32m    214\u001b[0m   \u001b[0;32mdef\u001b[0m \u001b[0mcall_preflattened\u001b[0m\u001b[0;34m(\u001b[0m\u001b[0mself\u001b[0m\u001b[0;34m,\u001b[0m \u001b[0margs\u001b[0m\u001b[0;34m:\u001b[0m \u001b[0mSequence\u001b[0m\u001b[0;34m[\u001b[0m\u001b[0mcore\u001b[0m\u001b[0;34m.\u001b[0m\u001b[0mTensor\u001b[0m\u001b[0;34m]\u001b[0m\u001b[0;34m)\u001b[0m \u001b[0;34m->\u001b[0m \u001b[0mAny\u001b[0m\u001b[0;34m:\u001b[0m\u001b[0;34m\u001b[0m\u001b[0;34m\u001b[0m\u001b[0m\n\u001b[1;32m    215\u001b[0m     \u001b[0;34m\"\"\"Calls with flattened tensor inputs and returns the structured output.\"\"\"\u001b[0m\u001b[0;34m\u001b[0m\u001b[0;34m\u001b[0m\u001b[0m\n\u001b[0;32m--> 216\u001b[0;31m     \u001b[0mflat_outputs\u001b[0m \u001b[0;34m=\u001b[0m \u001b[0mself\u001b[0m\u001b[0;34m.\u001b[0m\u001b[0mcall_flat\u001b[0m\u001b[0;34m(\u001b[0m\u001b[0;34m*\u001b[0m\u001b[0margs\u001b[0m\u001b[0;34m)\u001b[0m\u001b[0;34m\u001b[0m\u001b[0;34m\u001b[0m\u001b[0m\n\u001b[0m\u001b[1;32m    217\u001b[0m     \u001b[0;32mreturn\u001b[0m \u001b[0mself\u001b[0m\u001b[0;34m.\u001b[0m\u001b[0mfunction_type\u001b[0m\u001b[0;34m.\u001b[0m\u001b[0mpack_output\u001b[0m\u001b[0;34m(\u001b[0m\u001b[0mflat_outputs\u001b[0m\u001b[0;34m)\u001b[0m\u001b[0;34m\u001b[0m\u001b[0;34m\u001b[0m\u001b[0m\n\u001b[1;32m    218\u001b[0m \u001b[0;34m\u001b[0m\u001b[0m\n",
            "\u001b[0;32m/usr/local/lib/python3.11/dist-packages/tensorflow/python/eager/polymorphic_function/atomic_function.py\u001b[0m in \u001b[0;36mcall_flat\u001b[0;34m(self, *args)\u001b[0m\n\u001b[1;32m    241\u001b[0m \u001b[0;34m\u001b[0m\u001b[0m\n\u001b[1;32m    242\u001b[0m     \u001b[0;32mwith\u001b[0m \u001b[0mInterpolateRuntimeError\u001b[0m\u001b[0;34m(\u001b[0m\u001b[0mself\u001b[0m\u001b[0;34m)\u001b[0m\u001b[0;34m:\u001b[0m\u001b[0;34m\u001b[0m\u001b[0;34m\u001b[0m\u001b[0m\n\u001b[0;32m--> 243\u001b[0;31m       \u001b[0;32mwith\u001b[0m \u001b[0mops\u001b[0m\u001b[0;34m.\u001b[0m\u001b[0mcontrol_dependencies\u001b[0m\u001b[0;34m(\u001b[0m\u001b[0mself\u001b[0m\u001b[0;34m.\u001b[0m\u001b[0m_call_options\u001b[0m\u001b[0;34m.\u001b[0m\u001b[0mcontrol_captures\u001b[0m\u001b[0;34m)\u001b[0m\u001b[0;34m:\u001b[0m\u001b[0;34m\u001b[0m\u001b[0;34m\u001b[0m\u001b[0m\n\u001b[0m\u001b[1;32m    244\u001b[0m         \u001b[0;31m# The caller must use record_operation to record this operation in the\u001b[0m\u001b[0;34m\u001b[0m\u001b[0;34m\u001b[0m\u001b[0m\n\u001b[1;32m    245\u001b[0m         \u001b[0;31m# eager case, so we enforce the same requirement for the non-eager\u001b[0m\u001b[0;34m\u001b[0m\u001b[0;34m\u001b[0m\u001b[0m\n",
            "\u001b[0;32m/usr/local/lib/python3.11/dist-packages/tensorflow/python/framework/ops.py\u001b[0m in \u001b[0;36mcontrol_dependencies\u001b[0;34m(control_inputs)\u001b[0m\n\u001b[1;32m   4597\u001b[0m         \u001b[0;32mif\u001b[0m \u001b[0mcallable\u001b[0m\u001b[0;34m(\u001b[0m\u001b[0mcontrol\u001b[0m\u001b[0;34m)\u001b[0m\u001b[0;34m:\u001b[0m\u001b[0;34m\u001b[0m\u001b[0;34m\u001b[0m\u001b[0m\n\u001b[1;32m   4598\u001b[0m           \u001b[0mcontrol\u001b[0m\u001b[0;34m(\u001b[0m\u001b[0;34m)\u001b[0m\u001b[0;34m\u001b[0m\u001b[0;34m\u001b[0m\u001b[0m\n\u001b[0;32m-> 4599\u001b[0;31m     \u001b[0;32mreturn\u001b[0m \u001b[0mNullContextmanager\u001b[0m\u001b[0;34m(\u001b[0m\u001b[0;34m)\u001b[0m\u001b[0;34m\u001b[0m\u001b[0;34m\u001b[0m\u001b[0m\n\u001b[0m\u001b[1;32m   4600\u001b[0m   \u001b[0;32melse\u001b[0m\u001b[0;34m:\u001b[0m\u001b[0;34m\u001b[0m\u001b[0;34m\u001b[0m\u001b[0m\n\u001b[1;32m   4601\u001b[0m     \u001b[0;32mreturn\u001b[0m \u001b[0mget_default_graph\u001b[0m\u001b[0;34m(\u001b[0m\u001b[0;34m)\u001b[0m\u001b[0;34m.\u001b[0m\u001b[0mcontrol_dependencies\u001b[0m\u001b[0;34m(\u001b[0m\u001b[0mcontrol_inputs\u001b[0m\u001b[0;34m)\u001b[0m\u001b[0;34m\u001b[0m\u001b[0;34m\u001b[0m\u001b[0m\n",
            "\u001b[0;32m/usr/local/lib/python3.11/dist-packages/tensorflow/python/framework/ops.py\u001b[0m in \u001b[0;36m__init__\u001b[0;34m(self, *args, **kwargs)\u001b[0m\n\u001b[1;32m    174\u001b[0m \u001b[0;32mclass\u001b[0m \u001b[0mNullContextmanager\u001b[0m\u001b[0;34m(\u001b[0m\u001b[0mcontextlib\u001b[0m\u001b[0;34m.\u001b[0m\u001b[0mAbstractContextManager\u001b[0m\u001b[0;34m[\u001b[0m\u001b[0;32mNone\u001b[0m\u001b[0;34m]\u001b[0m\u001b[0;34m)\u001b[0m\u001b[0;34m:\u001b[0m\u001b[0;34m\u001b[0m\u001b[0;34m\u001b[0m\u001b[0m\n\u001b[1;32m    175\u001b[0m \u001b[0;34m\u001b[0m\u001b[0m\n\u001b[0;32m--> 176\u001b[0;31m   \u001b[0;32mdef\u001b[0m \u001b[0m__init__\u001b[0m\u001b[0;34m(\u001b[0m\u001b[0mself\u001b[0m\u001b[0;34m,\u001b[0m \u001b[0;34m*\u001b[0m\u001b[0margs\u001b[0m\u001b[0;34m,\u001b[0m \u001b[0;34m**\u001b[0m\u001b[0mkwargs\u001b[0m\u001b[0;34m)\u001b[0m \u001b[0;34m->\u001b[0m \u001b[0;32mNone\u001b[0m\u001b[0;34m:\u001b[0m\u001b[0;34m\u001b[0m\u001b[0;34m\u001b[0m\u001b[0m\n\u001b[0m\u001b[1;32m    177\u001b[0m     \u001b[0;32mpass\u001b[0m\u001b[0;34m\u001b[0m\u001b[0;34m\u001b[0m\u001b[0m\n\u001b[1;32m    178\u001b[0m \u001b[0;34m\u001b[0m\u001b[0m\n",
            "\u001b[0;31mKeyboardInterrupt\u001b[0m: "
          ]
        }
      ]
    },
    {
      "cell_type": "code",
      "source": [
        "plt.plot(history.history[\"mae\"][5:], label='Train')\n",
        "plt.plot(history.history[\"val_mae\"][5:], label='Validation')\n",
        "plt.xlabel(\"Epochs\")\n",
        "plt.ylabel(\"Validation MAE\")\n",
        "plt.legend()"
      ],
      "metadata": {
        "colab": {
          "base_uri": "https://localhost:8080/",
          "height": 467
        },
        "id": "4frFBRKM9rRT",
        "outputId": "0057adbe-7a7b-4b76-8b9e-19df3b0935e6"
      },
      "execution_count": null,
      "outputs": [
        {
          "output_type": "execute_result",
          "data": {
            "text/plain": [
              "<matplotlib.legend.Legend at 0x7acca97a2210>"
            ]
          },
          "metadata": {},
          "execution_count": 84
        },
        {
          "output_type": "display_data",
          "data": {
            "text/plain": [
              "<Figure size 640x480 with 1 Axes>"
            ],
            "image/png": "[encoded data removed]"
          },
          "metadata": {}
        }
      ]
    },
    {
      "cell_type": "markdown",
      "source": [
        "## Deploy"
      ],
      "metadata": {
        "id": "Xgcx4gFz_YUz"
      }
    },
    {
      "cell_type": "code",
      "source": [
        "from keras.models import load_model\n",
        "\n",
        "loaded_model = load_model('drive/MyDrive/model_checkpoint.h5')\n",
        "loaded_model.summary()"
      ],
      "metadata": {
        "colab": {
          "base_uri": "https://localhost:8080/",
          "height": 487
        },
        "id": "0cnrItJJ_aKd",
        "outputId": "931b5e98-e65c-43b5-e1cc-b21455db4e8e"
      },
      "execution_count": null,
      "outputs": [
        {
          "output_type": "stream",
          "name": "stderr",
          "text": [
            "WARNING:absl:Compiled the loaded model, but the compiled metrics have yet to be built. `model.compile_metrics` will be empty until you train or evaluate the model.\n"
          ]
        },
        {
          "output_type": "display_data",
          "data": {
            "text/plain": [
              "\u001b[1mModel: \"functional_13\"\u001b[0m\n"
            ],
            "text/html": [
              "<pre style=\"white-space:pre;overflow-x:auto;line-height:normal;font-family:Menlo,'DejaVu Sans Mono',consolas,'Courier New',monospace\"><span style=\"font-weight: bold\">Model: \"functional_13\"</span>\n",
              "</pre>\n"
            ]
          },
          "metadata": {}
        },
        {
          "output_type": "display_data",
          "data": {
            "text/plain": [
              "┏━━━━━━━━━━━━━━━━━━━━━━━━━━━┳━━━━━━━━━━━━━━━━━━━━━━━━┳━━━━━━━━━━━━━━━━┳━━━━━━━━━━━━━━━━━━━━━━━━┓\n",
              "┃\u001b[1m \u001b[0m\u001b[1mLayer (type)             \u001b[0m\u001b[1m \u001b[0m┃\u001b[1m \u001b[0m\u001b[1mOutput Shape          \u001b[0m\u001b[1m \u001b[0m┃\u001b[1m \u001b[0m\u001b[1m       Param #\u001b[0m\u001b[1m \u001b[0m┃\u001b[1m \u001b[0m\u001b[1mConnected to          \u001b[0m\u001b[1m \u001b[0m┃\n",
              "┡━━━━━━━━━━━━━━━━━━━━━━━━━━━╇━━━━━━━━━━━━━━━━━━━━━━━━╇━━━━━━━━━━━━━━━━╇━━━━━━━━━━━━━━━━━━━━━━━━┩\n",
              "│ input_layer_23            │ (\u001b[38;5;45mNone\u001b[0m, \u001b[38;5;34m5\u001b[0m)              │              \u001b[38;5;34m0\u001b[0m │ -                      │\n",
              "│ (\u001b[38;5;33mInputLayer\u001b[0m)              │                        │                │                        │\n",
              "├───────────────────────────┼────────────────────────┼────────────────┼────────────────────────┤\n",
              "│ L1 (\u001b[38;5;33mDense\u001b[0m)                │ (\u001b[38;5;45mNone\u001b[0m, \u001b[38;5;34m64\u001b[0m)             │            \u001b[38;5;34m384\u001b[0m │ input_layer_23[\u001b[38;5;34m0\u001b[0m][\u001b[38;5;34m0\u001b[0m]   │\n",
              "├───────────────────────────┼────────────────────────┼────────────────┼────────────────────────┤\n",
              "│ input_layer_22            │ (\u001b[38;5;45mNone\u001b[0m, \u001b[38;5;34m3\u001b[0m)              │              \u001b[38;5;34m0\u001b[0m │ -                      │\n",
              "│ (\u001b[38;5;33mInputLayer\u001b[0m)              │                        │                │                        │\n",
              "├───────────────────────────┼────────────────────────┼────────────────┼────────────────────────┤\n",
              "│ L2 (\u001b[38;5;33mDense\u001b[0m)                │ (\u001b[38;5;45mNone\u001b[0m, \u001b[38;5;34m64\u001b[0m)             │          \u001b[38;5;34m4,160\u001b[0m │ L1[\u001b[38;5;34m0\u001b[0m][\u001b[38;5;34m0\u001b[0m]               │\n",
              "├───────────────────────────┼────────────────────────┼────────────────┼────────────────────────┤\n",
              "│ concatenate_13            │ (\u001b[38;5;45mNone\u001b[0m, \u001b[38;5;34m67\u001b[0m)             │              \u001b[38;5;34m0\u001b[0m │ input_layer_22[\u001b[38;5;34m0\u001b[0m][\u001b[38;5;34m0\u001b[0m],  │\n",
              "│ (\u001b[38;5;33mConcatenate\u001b[0m)             │                        │                │ L2[\u001b[38;5;34m0\u001b[0m][\u001b[38;5;34m0\u001b[0m]               │\n",
              "├───────────────────────────┼────────────────────────┼────────────────┼────────────────────────┤\n",
              "│ L3 (\u001b[38;5;33mDense\u001b[0m)                │ (\u001b[38;5;45mNone\u001b[0m, \u001b[38;5;34m32\u001b[0m)             │          \u001b[38;5;34m2,176\u001b[0m │ concatenate_13[\u001b[38;5;34m0\u001b[0m][\u001b[38;5;34m0\u001b[0m]   │\n",
              "├───────────────────────────┼────────────────────────┼────────────────┼────────────────────────┤\n",
              "│ L4 (\u001b[38;5;33mDense\u001b[0m)                │ (\u001b[38;5;45mNone\u001b[0m, \u001b[38;5;34m16\u001b[0m)             │            \u001b[38;5;34m528\u001b[0m │ L3[\u001b[38;5;34m0\u001b[0m][\u001b[38;5;34m0\u001b[0m]               │\n",
              "├───────────────────────────┼────────────────────────┼────────────────┼────────────────────────┤\n",
              "│ dense_18 (\u001b[38;5;33mDense\u001b[0m)          │ (\u001b[38;5;45mNone\u001b[0m, \u001b[38;5;34m1\u001b[0m)              │             \u001b[38;5;34m17\u001b[0m │ L4[\u001b[38;5;34m0\u001b[0m][\u001b[38;5;34m0\u001b[0m]               │\n",
              "└───────────────────────────┴────────────────────────┴────────────────┴────────────────────────┘\n"
            ],
            "text/html": [
              "<pre style=\"white-space:pre;overflow-x:auto;line-height:normal;font-family:Menlo,'DejaVu Sans Mono',consolas,'Courier New',monospace\">┏━━━━━━━━━━━━━━━━━━━━━━━━━━━┳━━━━━━━━━━━━━━━━━━━━━━━━┳━━━━━━━━━━━━━━━━┳━━━━━━━━━━━━━━━━━━━━━━━━┓\n",
              "┃<span style=\"font-weight: bold\"> Layer (type)              </span>┃<span style=\"font-weight: bold\"> Output Shape           </span>┃<span style=\"font-weight: bold\">        Param # </span>┃<span style=\"font-weight: bold\"> Connected to           </span>┃\n",
              "┡━━━━━━━━━━━━━━━━━━━━━━━━━━━╇━━━━━━━━━━━━━━━━━━━━━━━━╇━━━━━━━━━━━━━━━━╇━━━━━━━━━━━━━━━━━━━━━━━━┩\n",
              "│ input_layer_23            │ (<span style=\"color: #00d7ff; text-decoration-color: #00d7ff\">None</span>, <span style=\"color: #00af00; text-decoration-color: #00af00\">5</span>)              │              <span style=\"color: #00af00; text-decoration-color: #00af00\">0</span> │ -                      │\n",
              "│ (<span style=\"color: #0087ff; text-decoration-color: #0087ff\">InputLayer</span>)              │                        │                │                        │\n",
              "├───────────────────────────┼────────────────────────┼────────────────┼────────────────────────┤\n",
              "│ L1 (<span style=\"color: #0087ff; text-decoration-color: #0087ff\">Dense</span>)                │ (<span style=\"color: #00d7ff; text-decoration-color: #00d7ff\">None</span>, <span style=\"color: #00af00; text-decoration-color: #00af00\">64</span>)             │            <span style=\"color: #00af00; text-decoration-color: #00af00\">384</span> │ input_layer_23[<span style=\"color: #00af00; text-decoration-color: #00af00\">0</span>][<span style=\"color: #00af00; text-decoration-color: #00af00\">0</span>]   │\n",
              "├───────────────────────────┼────────────────────────┼────────────────┼────────────────────────┤\n",
              "│ input_layer_22            │ (<span style=\"color: #00d7ff; text-decoration-color: #00d7ff\">None</span>, <span style=\"color: #00af00; text-decoration-color: #00af00\">3</span>)              │              <span style=\"color: #00af00; text-decoration-color: #00af00\">0</span> │ -                      │\n",
              "│ (<span style=\"color: #0087ff; text-decoration-color: #0087ff\">InputLayer</span>)              │                        │                │                        │\n",
              "├───────────────────────────┼────────────────────────┼────────────────┼────────────────────────┤\n",
              "│ L2 (<span style=\"color: #0087ff; text-decoration-color: #0087ff\">Dense</span>)                │ (<span style=\"color: #00d7ff; text-decoration-color: #00d7ff\">None</span>, <span style=\"color: #00af00; text-decoration-color: #00af00\">64</span>)             │          <span style=\"color: #00af00; text-decoration-color: #00af00\">4,160</span> │ L1[<span style=\"color: #00af00; text-decoration-color: #00af00\">0</span>][<span style=\"color: #00af00; text-decoration-color: #00af00\">0</span>]               │\n",
              "├───────────────────────────┼────────────────────────┼────────────────┼────────────────────────┤\n",
              "│ concatenate_13            │ (<span style=\"color: #00d7ff; text-decoration-color: #00d7ff\">None</span>, <span style=\"color: #00af00; text-decoration-color: #00af00\">67</span>)             │              <span style=\"color: #00af00; text-decoration-color: #00af00\">0</span> │ input_layer_22[<span style=\"color: #00af00; text-decoration-color: #00af00\">0</span>][<span style=\"color: #00af00; text-decoration-color: #00af00\">0</span>],  │\n",
              "│ (<span style=\"color: #0087ff; text-decoration-color: #0087ff\">Concatenate</span>)             │                        │                │ L2[<span style=\"color: #00af00; text-decoration-color: #00af00\">0</span>][<span style=\"color: #00af00; text-decoration-color: #00af00\">0</span>]               │\n",
              "├───────────────────────────┼────────────────────────┼────────────────┼────────────────────────┤\n",
              "│ L3 (<span style=\"color: #0087ff; text-decoration-color: #0087ff\">Dense</span>)                │ (<span style=\"color: #00d7ff; text-decoration-color: #00d7ff\">None</span>, <span style=\"color: #00af00; text-decoration-color: #00af00\">32</span>)             │          <span style=\"color: #00af00; text-decoration-color: #00af00\">2,176</span> │ concatenate_13[<span style=\"color: #00af00; text-decoration-color: #00af00\">0</span>][<span style=\"color: #00af00; text-decoration-color: #00af00\">0</span>]   │\n",
              "├───────────────────────────┼────────────────────────┼────────────────┼────────────────────────┤\n",
              "│ L4 (<span style=\"color: #0087ff; text-decoration-color: #0087ff\">Dense</span>)                │ (<span style=\"color: #00d7ff; text-decoration-color: #00d7ff\">None</span>, <span style=\"color: #00af00; text-decoration-color: #00af00\">16</span>)             │            <span style=\"color: #00af00; text-decoration-color: #00af00\">528</span> │ L3[<span style=\"color: #00af00; text-decoration-color: #00af00\">0</span>][<span style=\"color: #00af00; text-decoration-color: #00af00\">0</span>]               │\n",
              "├───────────────────────────┼────────────────────────┼────────────────┼────────────────────────┤\n",
              "│ dense_18 (<span style=\"color: #0087ff; text-decoration-color: #0087ff\">Dense</span>)          │ (<span style=\"color: #00d7ff; text-decoration-color: #00d7ff\">None</span>, <span style=\"color: #00af00; text-decoration-color: #00af00\">1</span>)              │             <span style=\"color: #00af00; text-decoration-color: #00af00\">17</span> │ L4[<span style=\"color: #00af00; text-decoration-color: #00af00\">0</span>][<span style=\"color: #00af00; text-decoration-color: #00af00\">0</span>]               │\n",
              "└───────────────────────────┴────────────────────────┴────────────────┴────────────────────────┘\n",
              "</pre>\n"
            ]
          },
          "metadata": {}
        },
        {
          "output_type": "display_data",
          "data": {
            "text/plain": [
              "\u001b[1m Total params: \u001b[0m\u001b[38;5;34m7,267\u001b[0m (28.39 KB)\n"
            ],
            "text/html": [
              "<pre style=\"white-space:pre;overflow-x:auto;line-height:normal;font-family:Menlo,'DejaVu Sans Mono',consolas,'Courier New',monospace\"><span style=\"font-weight: bold\"> Total params: </span><span style=\"color: #00af00; text-decoration-color: #00af00\">7,267</span> (28.39 KB)\n",
              "</pre>\n"
            ]
          },
          "metadata": {}
        },
        {
          "output_type": "display_data",
          "data": {
            "text/plain": [
              "\u001b[1m Trainable params: \u001b[0m\u001b[38;5;34m7,265\u001b[0m (28.38 KB)\n"
            ],
            "text/html": [
              "<pre style=\"white-space:pre;overflow-x:auto;line-height:normal;font-family:Menlo,'DejaVu Sans Mono',consolas,'Courier New',monospace\"><span style=\"font-weight: bold\"> Trainable params: </span><span style=\"color: #00af00; text-decoration-color: #00af00\">7,265</span> (28.38 KB)\n",
              "</pre>\n"
            ]
          },
          "metadata": {}
        },
        {
          "output_type": "display_data",
          "data": {
            "text/plain": [
              "\u001b[1m Non-trainable params: \u001b[0m\u001b[38;5;34m0\u001b[0m (0.00 B)\n"
            ],
            "text/html": [
              "<pre style=\"white-space:pre;overflow-x:auto;line-height:normal;font-family:Menlo,'DejaVu Sans Mono',consolas,'Courier New',monospace\"><span style=\"font-weight: bold\"> Non-trainable params: </span><span style=\"color: #00af00; text-decoration-color: #00af00\">0</span> (0.00 B)\n",
              "</pre>\n"
            ]
          },
          "metadata": {}
        },
        {
          "output_type": "display_data",
          "data": {
            "text/plain": [
              "\u001b[1m Optimizer params: \u001b[0m\u001b[38;5;34m2\u001b[0m (12.00 B)\n"
            ],
            "text/html": [
              "<pre style=\"white-space:pre;overflow-x:auto;line-height:normal;font-family:Menlo,'DejaVu Sans Mono',consolas,'Courier New',monospace\"><span style=\"font-weight: bold\"> Optimizer params: </span><span style=\"color: #00af00; text-decoration-color: #00af00\">2</span> (12.00 B)\n",
              "</pre>\n"
            ]
          },
          "metadata": {}
        }
      ]
    },
    {
      "cell_type": "code",
      "source": [],
      "metadata": {
        "id": "vvUxkLRA_mee"
      },
      "execution_count": null,
      "outputs": []
    }
  ]
}