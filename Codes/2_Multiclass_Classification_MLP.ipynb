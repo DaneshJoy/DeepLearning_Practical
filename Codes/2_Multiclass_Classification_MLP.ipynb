{
  "nbformat": 4,
  "nbformat_minor": 0,
  "metadata": {
    "colab": {
      "name": "2_Multiclass_Classification_MLP.ipynb",
      "provenance": [],
      "collapsed_sections": []
    },
    "kernelspec": {
      "name": "python3",
      "display_name": "Python 3"
    },
    "language_info": {
      "name": "python"
    }
  },
  "cells": [
    {
      "cell_type": "code",
      "execution_count": null,
      "metadata": {
        "id": "citxPKUBNGXG"
      },
      "outputs": [],
      "source": [
        "from tensorflow.keras import Sequential, layers\n",
        "from tensorflow.keras.datasets import fashion_mnist"
      ]
    },
    {
      "cell_type": "markdown",
      "source": [
        "## Data Preparation"
      ],
      "metadata": {
        "id": "4oFXkWt4NZqQ"
      }
    },
    {
      "cell_type": "code",
      "source": [
        "%%capture\n",
        "(train_data, train_labels), (test_data, test_labels) = fashion_mnist.load_data()"
      ],
      "metadata": {
        "id": "PFHU7FX2Nbmz"
      },
      "execution_count": null,
      "outputs": []
    },
    {
      "cell_type": "code",
      "source": [
        "import matplotlib.pyplot as plt\n",
        "\n",
        "fig, axes = plt.subplots(1, 10, figsize=(20, 2))\n",
        "for i, ax in enumerate(axes):\n",
        "    ax.imshow(train_data[i], cmap='gray')\n",
        "    ax.set_axis_off()\n",
        "    ax.set_title(train_labels[i])"
      ],
      "metadata": {
        "colab": {
          "base_uri": "https://localhost:8080/",
          "height": 141
        },
        "id": "l3X6zbtfODXJ",
        "outputId": "aeafd3ed-0752-4f8d-acd3-0c785356ed7f"
      },
      "execution_count": null,
      "outputs": [
        {
          "output_type": "display_data",
          "data": {
            "text/plain": [
              "<Figure size 1440x144 with 10 Axes>"
            ],
            "image/png": "[encoded data removed]"
          },
          "metadata": {
            "needs_background": "light"
          }
        }
      ]
    },
    {
      "cell_type": "code",
      "source": [
        "# Normalization\n",
        "train_data = train_data / 255.0\n",
        "test_data = test_data / 255.0"
      ],
      "metadata": {
        "id": "-ABGDBo-PP1t"
      },
      "execution_count": null,
      "outputs": []
    },
    {
      "cell_type": "code",
      "source": [
        "train_data_v = train_data.reshape(len(train_data), 784)\n",
        "test_data_v = test_data.reshape(len(test_data), 784)"
      ],
      "metadata": {
        "id": "d0zfqGT-Xx9J"
      },
      "execution_count": null,
      "outputs": []
    },
    {
      "cell_type": "code",
      "source": [
        "train_data_v.shape"
      ],
      "metadata": {
        "colab": {
          "base_uri": "https://localhost:8080/"
        },
        "id": "sgle00zCYhaR",
        "outputId": "5e0e016c-17df-4c45-e882-c44b2f3ab1cf"
      },
      "execution_count": null,
      "outputs": [
        {
          "output_type": "execute_result",
          "data": {
            "text/plain": [
              "(60000, 784)"
            ]
          },
          "metadata": {},
          "execution_count": 21
        }
      ]
    },
    {
      "cell_type": "markdown",
      "source": [
        "## Model Design"
      ],
      "metadata": {
        "id": "myHqnXInNb_V"
      }
    },
    {
      "cell_type": "code",
      "source": [
        "model = Sequential(\n",
        "    [\n",
        "     layers.Input(shape=(784,)),\n",
        "     layers.Dense(128, activation='relu'),\n",
        "     layers.Dense(10, activation='softmax')\n",
        "    ]\n",
        ")\n",
        "\n",
        "model.summary()"
      ],
      "metadata": {
        "colab": {
          "base_uri": "https://localhost:8080/"
        },
        "id": "03xD7VEmNdzk",
        "outputId": "69eae953-7550-4af1-e18f-6781ff0b0960"
      },
      "execution_count": null,
      "outputs": [
        {
          "output_type": "stream",
          "name": "stdout",
          "text": [
            "Model: \"sequential_2\"\n",
            "_________________________________________________________________\n",
            " Layer (type)                Output Shape              Param #   \n",
            "=================================================================\n",
            " dense_4 (Dense)             (None, 128)               100480    \n",
            "                                                                 \n",
            " dense_5 (Dense)             (None, 10)                1290      \n",
            "                                                                 \n",
            "=================================================================\n",
            "Total params: 101,770\n",
            "Trainable params: 101,770\n",
            "Non-trainable params: 0\n",
            "_________________________________________________________________\n"
          ]
        }
      ]
    },
    {
      "cell_type": "markdown",
      "source": [
        "## Training"
      ],
      "metadata": {
        "id": "Qj5wHoUYNeON"
      }
    },
    {
      "cell_type": "code",
      "source": [
        "from tensorflow.keras import losses, optimizers\n",
        "\n",
        "model.compile(loss=losses.sparse_categorical_crossentropy,\n",
        "              optimizer=optimizers.Adam(),\n",
        "              metrics=['accuracy'])"
      ],
      "metadata": {
        "id": "DjA3Pad0NfsG"
      },
      "execution_count": null,
      "outputs": []
    },
    {
      "cell_type": "markdown",
      "source": [
        "## Callbacks"
      ],
      "metadata": {
        "id": "tS07agdtLD8d"
      }
    },
    {
      "cell_type": "code",
      "source": [
        "from tensorflow.keras import callbacks\n",
        "\n",
        "checkpoint = callbacks.ModelCheckpoint('model_checkpoint.keras',\n",
        "                                       monitor='val_loss',\n",
        "                                       save_best_only=True)\n",
        "logger = callbacks.CSVLogger('log.csv')\n",
        "\n",
        "callbacks = [checkpoint, logger]"
      ],
      "metadata": {
        "id": "USpeuf4TLDjN"
      },
      "execution_count": null,
      "outputs": []
    },
    {
      "cell_type": "code",
      "source": [
        "history = model.fit(train_data_v, train_labels,\n",
        "                    epochs=100,\n",
        "                    batch_size=128,\n",
        "                    validation_split=0.2,\n",
        "                    callbacks=callbacks)\n"
      ],
      "metadata": {
        "id": "T_wj1jLlT_tb"
      },
      "execution_count": null,
      "outputs": []
    },
    {
      "cell_type": "code",
      "source": [
        "model.save('model.keras')"
      ],
      "metadata": {
        "id": "LLnJPrAcJ9Tc"
      },
      "execution_count": null,
      "outputs": []
    },
    {
      "cell_type": "code",
      "source": [
        "from tensorflow.keras.models import load_model\n",
        "\n",
        "model2 = load_model('model.keras')"
      ],
      "metadata": {
        "id": "AYHJuuCfKNEC"
      },
      "execution_count": null,
      "outputs": []
    },
    {
      "cell_type": "markdown",
      "source": [
        "## Evaluation"
      ],
      "metadata": {
        "id": "jwdh_yBwNgJd"
      }
    },
    {
      "cell_type": "code",
      "source": [
        "plt.plot(history.history['loss'][1:], label='Train Loss')\n",
        "plt.plot(history.history['val_loss'][1:], label='Valid Loss')\n",
        "plt.legend()"
      ],
      "metadata": {
        "colab": {
          "base_uri": "https://localhost:8080/",
          "height": 282
        },
        "id": "DSbXJtC6NhpG",
        "outputId": "2fccee6c-df85-4c36-f45a-e2e0fc4be072"
      },
      "execution_count": null,
      "outputs": [
        {
          "output_type": "execute_result",
          "data": {
            "text/plain": [
              "<matplotlib.legend.Legend at 0x7f2f558033d0>"
            ]
          },
          "metadata": {},
          "execution_count": 44
        },
        {
          "output_type": "display_data",
          "data": {
            "text/plain": [
              "<Figure size 432x288 with 1 Axes>"
            ],
            "image/png": "[encoded data removed]"
          },
          "metadata": {
            "needs_background": "light"
          }
        }
      ]
    },
    {
      "cell_type": "code",
      "source": [
        "plt.plot(history.history['accuracy'][1:], label='Train accuracy')\n",
        "plt.plot(history.history['val_accuracy'][1:], label='Valid accuracy')\n",
        "plt.legend()"
      ],
      "metadata": {
        "colab": {
          "base_uri": "https://localhost:8080/",
          "height": 282
        },
        "id": "ekIdslfaVJZq",
        "outputId": "08a6406a-feb7-4a93-e0cf-06717c5a4983"
      },
      "execution_count": null,
      "outputs": [
        {
          "output_type": "execute_result",
          "data": {
            "text/plain": [
              "<matplotlib.legend.Legend at 0x7f2f5592c250>"
            ]
          },
          "metadata": {},
          "execution_count": 26
        },
        {
          "output_type": "display_data",
          "data": {
            "text/plain": [
              "<Figure size 432x288 with 1 Axes>"
            ],
            "image/png": "[encoded data removed]"
          },
          "metadata": {
            "needs_background": "light"
          }
        }
      ]
    },
    {
      "cell_type": "code",
      "source": [
        "model2.evaluate(test_data_v, test_labels)"
      ],
      "metadata": {
        "colab": {
          "base_uri": "https://localhost:8080/"
        },
        "id": "X3OD0aQCVX_K",
        "outputId": "d5a77a1e-1aac-40e8-c81e-13f28336e786"
      },
      "execution_count": null,
      "outputs": [
        {
          "output_type": "stream",
          "name": "stdout",
          "text": [
            "313/313 [==============================] - 1s 2ms/step - loss: 0.3410 - accuracy: 0.8847\n"
          ]
        },
        {
          "output_type": "execute_result",
          "data": {
            "text/plain": [
              "[0.341020792722702, 0.8847000002861023]"
            ]
          },
          "metadata": {},
          "execution_count": 39
        }
      ]
    },
    {
      "cell_type": "code",
      "source": [
        "preds = model.predict(test_data_v)"
      ],
      "metadata": {
        "id": "hHygVL3MVpS_"
      },
      "execution_count": null,
      "outputs": []
    },
    {
      "cell_type": "code",
      "source": [
        "class_names = {0: 'T-shirt/top',\n",
        "               1: 'Trouser',\n",
        "               2: 'Pullover',\n",
        "               3: 'Dress',\n",
        "               4: 'Coat',\n",
        "               5: 'Sandal',\n",
        "               6: 'Shirt',\n",
        "               7: 'Sneaker'}"
      ],
      "metadata": {
        "id": "oqSg8z7prmJ7"
      },
      "execution_count": null,
      "outputs": []
    },
    {
      "cell_type": "code",
      "source": [
        "import numpy as np\n",
        "\n",
        "img_id = 40\n",
        "print(f'Predicted label: {class_names[np.argmax(preds[img_id])]}')\n",
        "print(f'True label: {class_names[test_labels[img_id]]}')\n",
        "\n",
        "plt.imshow(test_data[img_id], cmap='gray')\n",
        "plt.axis('off')"
      ],
      "metadata": {
        "colab": {
          "base_uri": "https://localhost:8080/",
          "height": 300
        },
        "id": "MeyCvnU4VwVS",
        "outputId": "bc570948-856d-4f5e-9640-1831536f6697"
      },
      "execution_count": null,
      "outputs": [
        {
          "output_type": "stream",
          "name": "stdout",
          "text": [
            "Predicted label: T-shirt/top\n",
            "True label: Shirt\n"
          ]
        },
        {
          "output_type": "execute_result",
          "data": {
            "text/plain": [
              "(-0.5, 27.5, 27.5, -0.5)"
            ]
          },
          "metadata": {},
          "execution_count": 36
        },
        {
          "output_type": "display_data",
          "data": {
            "text/plain": [
              "<Figure size 432x288 with 1 Axes>"
            ],
            "image/png": "[encoded data removed]"
          },
          "metadata": {
            "needs_background": "light"
          }
        }
      ]
    }
  ]
}