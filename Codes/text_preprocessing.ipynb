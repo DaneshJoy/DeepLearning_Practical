{
  "nbformat": 4,
  "nbformat_minor": 0,
  "metadata": {
    "colab": {
      "name": "text_preprocessing.ipynb",
      "provenance": [],
      "collapsed_sections": []
    },
    "kernelspec": {
      "name": "python3",
      "display_name": "Python 3"
    },
    "language_info": {
      "name": "python"
    }
  },
  "cells": [
    {
      "cell_type": "code",
      "source": [
        "import numpy as np\n",
        "from tensorflow.keras.preprocessing.text import Tokenizer\n",
        "from tensorflow.keras.preprocessing.sequence import pad_sequences"
      ],
      "metadata": {
        "id": "HuKvLwUTJ3aj"
      },
      "execution_count": 25,
      "outputs": []
    },
    {
      "cell_type": "code",
      "execution_count": 1,
      "metadata": {
        "id": "brbeE0PiBma4"
      },
      "outputs": [],
      "source": [
        "text = \"I like my brother. Go home!. Do you like my brother?\""
      ]
    },
    {
      "cell_type": "markdown",
      "source": [
        "## 1- Manual Method"
      ],
      "metadata": {
        "id": "-ZdVaDXVJDVi"
      }
    },
    {
      "cell_type": "markdown",
      "source": [
        "### 1-1- Standardization"
      ],
      "metadata": {
        "id": "NQV2jqHXJHfM"
      }
    },
    {
      "cell_type": "code",
      "source": [
        "text_standard = text.lower()\n",
        "sentences = text_standard.split('. ')\n",
        "print(sentences)"
      ],
      "metadata": {
        "colab": {
          "base_uri": "https://localhost:8080/"
        },
        "id": "q4hJs94BJK4V",
        "outputId": "72dfb981-441f-4827-c770-c5d7908d2ff3"
      },
      "execution_count": 2,
      "outputs": [
        {
          "output_type": "stream",
          "name": "stdout",
          "text": [
            "['i like my brother', 'go home!', 'do you like my brother?']\n"
          ]
        }
      ]
    },
    {
      "cell_type": "markdown",
      "source": [
        "### 1-2- Tokenization + Indexing"
      ],
      "metadata": {
        "id": "SY_V66UmJthd"
      }
    },
    {
      "cell_type": "code",
      "source": [
        "tokenizer = Tokenizer(num_words=100, oov_token=\"<OOV>\")\n",
        "tokenizer.fit_on_texts(sentences)\n",
        "\n",
        "print(tokenizer.word_index)\n",
        "\n",
        "word_index_inverse = dict([(v, k) for k, v in tokenizer.word_index.items()])\n",
        "print(word_index_inverse)"
      ],
      "metadata": {
        "colab": {
          "base_uri": "https://localhost:8080/"
        },
        "id": "i8g97OCyKEYV",
        "outputId": "5a47ea34-ee07-4f77-d21b-b21cdf1d7ed1"
      },
      "execution_count": 22,
      "outputs": [
        {
          "output_type": "stream",
          "name": "stdout",
          "text": [
            "{'<OOV>': 1, 'like': 2, 'my': 3, 'brother': 4, 'i': 5, 'go': 6, 'home': 7, 'do': 8, 'you': 9}\n",
            "{1: '<OOV>', 2: 'like', 3: 'my', 4: 'brother', 5: 'i', 6: 'go', 7: 'home', 8: 'do', 9: 'you'}\n"
          ]
        }
      ]
    },
    {
      "cell_type": "markdown",
      "source": [
        "### 1-3- Sequencing"
      ],
      "metadata": {
        "id": "ORdCnRZhKrr6"
      }
    },
    {
      "cell_type": "code",
      "source": [
        "sequences = tokenizer.texts_to_sequences(sentences)\n",
        "print(sequences)"
      ],
      "metadata": {
        "colab": {
          "base_uri": "https://localhost:8080/"
        },
        "id": "1-tkSFDtKvDD",
        "outputId": "b6ef4169-7843-4f56-a3bf-bf938769f603"
      },
      "execution_count": 16,
      "outputs": [
        {
          "output_type": "stream",
          "name": "stdout",
          "text": [
            "[[5, 2, 3, 4], [6, 7], [8, 9, 2, 3, 4]]\n"
          ]
        }
      ]
    },
    {
      "cell_type": "code",
      "source": [
        "lenghts = [len(s) for s in sequences]\n",
        "print(lenghts)"
      ],
      "metadata": {
        "colab": {
          "base_uri": "https://localhost:8080/"
        },
        "id": "E79rGApPWtLv",
        "outputId": "ee78c9b5-de7a-4c35-f770-e46530221952"
      },
      "execution_count": 35,
      "outputs": [
        {
          "output_type": "stream",
          "name": "stdout",
          "text": [
            "[4, 2, 5]\n"
          ]
        }
      ]
    },
    {
      "cell_type": "markdown",
      "source": [
        "#### 1-3-1- Out-of-Vocabulary Words"
      ],
      "metadata": {
        "id": "luxCq-yWL_fO"
      }
    },
    {
      "cell_type": "code",
      "source": [
        "new_sentence = [\"I like my sister\"]\n",
        "new_sequence = tokenizer.texts_to_sequences(new_sentence)\n",
        "print(new_sequence)\n",
        "\n",
        "print(tokenizer.sequences_to_texts(new_sequence))"
      ],
      "metadata": {
        "colab": {
          "base_uri": "https://localhost:8080/"
        },
        "id": "xdTYs7H-MG2n",
        "outputId": "2111744d-376d-432a-a8d0-c13b8fc958a4"
      },
      "execution_count": 18,
      "outputs": [
        {
          "output_type": "stream",
          "name": "stdout",
          "text": [
            "[[5, 2, 3, 1]]\n",
            "['i like my <OOV>']\n"
          ]
        }
      ]
    },
    {
      "cell_type": "markdown",
      "source": [
        "### 1-4- Padding"
      ],
      "metadata": {
        "id": "3Fkq6zKrOSRa"
      }
    },
    {
      "cell_type": "code",
      "source": [
        "padded_sequences = pad_sequences(sequences, padding='post', maxlen=max(lenghts))\n",
        "\n",
        "\n",
        "input_data = np.array(padded_sequences, dtype=\"int32\")\n",
        "print(input_data)"
      ],
      "metadata": {
        "colab": {
          "base_uri": "https://localhost:8080/"
        },
        "id": "JQyr3MO8OV2x",
        "outputId": "a6ce0007-c19b-4126-e284-9d51121a794d"
      },
      "execution_count": 36,
      "outputs": [
        {
          "output_type": "stream",
          "name": "stdout",
          "text": [
            "[[5 2 3 4 0]\n",
            " [6 7 0 0 0]\n",
            " [8 9 2 3 4]]\n"
          ]
        }
      ]
    },
    {
      "cell_type": "markdown",
      "source": [
        "## 2- Using TextVectorization Layer"
      ],
      "metadata": {
        "id": "uyVsp2geVIgs"
      }
    },
    {
      "cell_type": "code",
      "source": [
        "from tensorflow.keras.layers import TextVectorization"
      ],
      "metadata": {
        "id": "aWvWX4MyVMUv"
      },
      "execution_count": 28,
      "outputs": []
    },
    {
      "cell_type": "code",
      "source": [
        "sentences = text.split('. ')\n",
        "print(sentences)"
      ],
      "metadata": {
        "colab": {
          "base_uri": "https://localhost:8080/"
        },
        "id": "AKiA7KqrVXGB",
        "outputId": "adc83767-0d8c-4809-e50f-f1466c9902a2"
      },
      "execution_count": 29,
      "outputs": [
        {
          "output_type": "stream",
          "name": "stdout",
          "text": [
            "['I like my brother', 'Go home!', 'Do you like my brother?']\n"
          ]
        }
      ]
    },
    {
      "cell_type": "code",
      "source": [
        "text_vectorization = TextVectorization()\n",
        "text_vectorization.adapt(sentences)"
      ],
      "metadata": {
        "id": "vG3rQMkBViIT"
      },
      "execution_count": 30,
      "outputs": []
    },
    {
      "cell_type": "code",
      "source": [
        "vocab = text_vectorization.get_vocabulary()\n",
        "print(vocab)\n",
        "\n",
        "vocab_inverse = dict(enumerate(vocab))\n",
        "print(vocab_inverse)"
      ],
      "metadata": {
        "colab": {
          "base_uri": "https://localhost:8080/"
        },
        "id": "ukzfNY_pVyS0",
        "outputId": "3e04002d-e5c5-4977-af6f-ba453141e08f"
      },
      "execution_count": 33,
      "outputs": [
        {
          "output_type": "stream",
          "name": "stdout",
          "text": [
            "['', '[UNK]', 'my', 'like', 'brother', 'you', 'i', 'home', 'go', 'do']\n",
            "{0: '', 1: '[UNK]', 2: 'my', 3: 'like', 4: 'brother', 5: 'you', 6: 'i', 7: 'home', 8: 'go', 9: 'do'}\n"
          ]
        }
      ]
    },
    {
      "cell_type": "code",
      "source": [
        "encoded_sentences = text_vectorization(sentences)\n",
        "print(encoded_sentences)"
      ],
      "metadata": {
        "colab": {
          "base_uri": "https://localhost:8080/"
        },
        "id": "2whLjjpJWXom",
        "outputId": "5f51dfd2-4c66-4ea5-8f5c-5a9b5aa4bf92"
      },
      "execution_count": 34,
      "outputs": [
        {
          "output_type": "stream",
          "name": "stdout",
          "text": [
            "tf.Tensor(\n",
            "[[6 3 2 4 0]\n",
            " [8 7 0 0 0]\n",
            " [9 5 3 2 4]], shape=(3, 5), dtype=int64)\n"
          ]
        }
      ]
    }
  ]
}