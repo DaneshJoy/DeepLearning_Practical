{
  "nbformat": 4,
  "nbformat_minor": 0,
  "metadata": {
    "colab": {
      "provenance": []
    },
    "kernelspec": {
      "name": "python3",
      "display_name": "Python 3"
    },
    "language_info": {
      "name": "python"
    },
    "accelerator": "GPU",
    "gpuClass": "standard"
  },
  "cells": [
    {
      "cell_type": "markdown",
      "source": [
        "# Compare MLP and CNN in FashionMNIST dataset"
      ],
      "metadata": {
        "id": "UA7ZsNDTglbW"
      }
    },
    {
      "cell_type": "code",
      "execution_count": 1,
      "metadata": {
        "id": "nYb_q3WlbRcg"
      },
      "outputs": [],
      "source": [
        "from tensorflow.keras import datasets\n",
        "from tensorflow.keras import layers, Model\n",
        "from tensorflow.keras import Input\n",
        "import matplotlib.pyplot as plt"
      ]
    },
    {
      "cell_type": "code",
      "source": [
        "%%capture\n",
        "(train_images, train_labels), (test_images, test_labels) = datasets.fashion_mnist.load_data()"
      ],
      "metadata": {
        "id": "AKjscKsNb9q3"
      },
      "execution_count": 2,
      "outputs": []
    },
    {
      "cell_type": "code",
      "source": [
        "train_images.shape"
      ],
      "metadata": {
        "colab": {
          "base_uri": "https://localhost:8080/"
        },
        "id": "nSqN_PNlcaPY",
        "outputId": "18edc4cf-fd13-4bbb-91c9-9f5cdfd7f724"
      },
      "execution_count": 3,
      "outputs": [
        {
          "output_type": "execute_result",
          "data": {
            "text/plain": [
              "(60000, 28, 28)"
            ]
          },
          "metadata": {},
          "execution_count": 3
        }
      ]
    },
    {
      "cell_type": "markdown",
      "source": [
        "## FashionMNIST with MLP"
      ],
      "metadata": {
        "id": "5PtKfcZAcA-A"
      }
    },
    {
      "cell_type": "markdown",
      "source": [
        "### Prepare Data "
      ],
      "metadata": {
        "id": "NRH9VZrUb-G2"
      }
    },
    {
      "cell_type": "code",
      "source": [
        "X_train1 = train_images.reshape(60000, 28*28)\n",
        "X_test1 = test_images.reshape(10000, 28*28)\n",
        "X_train1 = X_train1.astype('float32') / 255.\n",
        "X_test1 = X_test1.astype('float32') / 255."
      ],
      "metadata": {
        "id": "m0OAFe-ZcV53"
      },
      "execution_count": 13,
      "outputs": []
    },
    {
      "cell_type": "code",
      "source": [
        "class_names = {0: 'T-shirt/top',\n",
        "               1: 'Trouser',\n",
        "               2: 'Pullover',\n",
        "               3: 'Dress',\n",
        "               4: 'Coat',\n",
        "               5: 'Sandal',\n",
        "               6: 'Shirt',\n",
        "               7: 'Sneaker',\n",
        "               8: 'Bag',\n",
        "               9: 'Ankle boot'}\n",
        "\n",
        "fig, axes = plt.subplots(1, 10, figsize=(20,2))\n",
        "for i in range(len(axes)):\n",
        "  axes[i].imshow(train_images[i], cmap='gray')\n",
        "  axes[i].set_axis_off()\n",
        "  axes[i].set_title(class_names[train_labels[i]])"
      ],
      "metadata": {
        "colab": {
          "base_uri": "https://localhost:8080/",
          "height": 141
        },
        "id": "45HYHvTFcsrt",
        "outputId": "7f2eb829-7dd2-4931-af1c-128dd9dd4a6b"
      },
      "execution_count": 14,
      "outputs": [
        {
          "output_type": "display_data",
          "data": {
            "text/plain": [
              "<Figure size 1440x144 with 10 Axes>"
            ],
            "image/png": "[encoded data removed]"
          },
          "metadata": {
            "needs_background": "light"
          }
        }
      ]
    },
    {
      "cell_type": "markdown",
      "source": [
        "### MLP Model"
      ],
      "metadata": {
        "id": "COoNX7eeemXX"
      }
    },
    {
      "cell_type": "code",
      "source": [
        "inp = Input(shape=(784,))\n",
        "x = layers.Dense(64, activation='relu')(inp)\n",
        "x = layers.Dense(32, activation='relu')(x)\n",
        "out = layers.Dense(10, activation='softmax')(x)\n",
        "\n",
        "model_mlp = Model(inputs=inp, outputs=out)\n",
        "model_mlp.summary()"
      ],
      "metadata": {
        "colab": {
          "base_uri": "https://localhost:8080/"
        },
        "id": "6obBXoPBeoJb",
        "outputId": "d1ee7eae-0de2-4bd6-f9ce-645190fb4c05"
      },
      "execution_count": 15,
      "outputs": [
        {
          "output_type": "stream",
          "name": "stdout",
          "text": [
            "Model: \"model_3\"\n",
            "_________________________________________________________________\n",
            " Layer (type)                Output Shape              Param #   \n",
            "=================================================================\n",
            " input_4 (InputLayer)        [(None, 784)]             0         \n",
            "                                                                 \n",
            " dense_5 (Dense)             (None, 64)                50240     \n",
            "                                                                 \n",
            " dense_6 (Dense)             (None, 32)                2080      \n",
            "                                                                 \n",
            " dense_7 (Dense)             (None, 10)                330       \n",
            "                                                                 \n",
            "=================================================================\n",
            "Total params: 52,650\n",
            "Trainable params: 52,650\n",
            "Non-trainable params: 0\n",
            "_________________________________________________________________\n"
          ]
        }
      ]
    },
    {
      "cell_type": "markdown",
      "source": [
        "### Train MLP model"
      ],
      "metadata": {
        "id": "Qx4FZeKzfdfM"
      }
    },
    {
      "cell_type": "code",
      "source": [
        "model_mlp.compile(optimizer='adam', loss='sparse_categorical_crossentropy')\n",
        "history1 = model_mlp.fit(X_train1, train_labels,\n",
        "                         epochs=50, batch_size=512,\n",
        "                         validation_data=(X_test1, test_labels))"
      ],
      "metadata": {
        "colab": {
          "base_uri": "https://localhost:8080/"
        },
        "id": "kjuUVuKoffVV",
        "outputId": "fd3e3cf6-0e35-4bb7-d1fc-e00f46ba138b"
      },
      "execution_count": 16,
      "outputs": [
        {
          "output_type": "stream",
          "name": "stdout",
          "text": [
            "Epoch 1/50\n",
            "118/118 [==============================] - 1s 5ms/step - loss: 0.8689 - val_loss: 0.5595\n",
            "Epoch 2/50\n",
            "118/118 [==============================] - 0s 4ms/step - loss: 0.4832 - val_loss: 0.5036\n",
            "Epoch 3/50\n",
            "118/118 [==============================] - 0s 4ms/step - loss: 0.4318 - val_loss: 0.4516\n",
            "Epoch 4/50\n",
            "118/118 [==============================] - 0s 4ms/step - loss: 0.4054 - val_loss: 0.4418\n",
            "Epoch 5/50\n",
            "118/118 [==============================] - 0s 4ms/step - loss: 0.3826 - val_loss: 0.4262\n",
            "Epoch 6/50\n",
            "118/118 [==============================] - 0s 4ms/step - loss: 0.3680 - val_loss: 0.4155\n",
            "Epoch 7/50\n",
            "118/118 [==============================] - 0s 3ms/step - loss: 0.3582 - val_loss: 0.4026\n",
            "Epoch 8/50\n",
            "118/118 [==============================] - 0s 3ms/step - loss: 0.3445 - val_loss: 0.4115\n",
            "Epoch 9/50\n",
            "118/118 [==============================] - 0s 4ms/step - loss: 0.3362 - val_loss: 0.3863\n",
            "Epoch 10/50\n",
            "118/118 [==============================] - 0s 4ms/step - loss: 0.3274 - val_loss: 0.3868\n",
            "Epoch 11/50\n",
            "118/118 [==============================] - 0s 4ms/step - loss: 0.3221 - val_loss: 0.3808\n",
            "Epoch 12/50\n",
            "118/118 [==============================] - 0s 4ms/step - loss: 0.3091 - val_loss: 0.3741\n",
            "Epoch 13/50\n",
            "118/118 [==============================] - 0s 4ms/step - loss: 0.3041 - val_loss: 0.3749\n",
            "Epoch 14/50\n",
            "118/118 [==============================] - 0s 3ms/step - loss: 0.2973 - val_loss: 0.3692\n",
            "Epoch 15/50\n",
            "118/118 [==============================] - 0s 3ms/step - loss: 0.2927 - val_loss: 0.3600\n",
            "Epoch 16/50\n",
            "118/118 [==============================] - 0s 3ms/step - loss: 0.2846 - val_loss: 0.3633\n",
            "Epoch 17/50\n",
            "118/118 [==============================] - 0s 4ms/step - loss: 0.2832 - val_loss: 0.3674\n",
            "Epoch 18/50\n",
            "118/118 [==============================] - 0s 4ms/step - loss: 0.2775 - val_loss: 0.3539\n",
            "Epoch 19/50\n",
            "118/118 [==============================] - 0s 3ms/step - loss: 0.2719 - val_loss: 0.3586\n",
            "Epoch 20/50\n",
            "118/118 [==============================] - 0s 4ms/step - loss: 0.2716 - val_loss: 0.3565\n",
            "Epoch 21/50\n",
            "118/118 [==============================] - 0s 3ms/step - loss: 0.2631 - val_loss: 0.3502\n",
            "Epoch 22/50\n",
            "118/118 [==============================] - 0s 4ms/step - loss: 0.2608 - val_loss: 0.3624\n",
            "Epoch 23/50\n",
            "118/118 [==============================] - 0s 4ms/step - loss: 0.2603 - val_loss: 0.3499\n",
            "Epoch 24/50\n",
            "118/118 [==============================] - 0s 4ms/step - loss: 0.2561 - val_loss: 0.3664\n",
            "Epoch 25/50\n",
            "118/118 [==============================] - 0s 4ms/step - loss: 0.2507 - val_loss: 0.3508\n",
            "Epoch 26/50\n",
            "118/118 [==============================] - 0s 4ms/step - loss: 0.2457 - val_loss: 0.3498\n",
            "Epoch 27/50\n",
            "118/118 [==============================] - 0s 4ms/step - loss: 0.2435 - val_loss: 0.3622\n",
            "Epoch 28/50\n",
            "118/118 [==============================] - 0s 3ms/step - loss: 0.2426 - val_loss: 0.3553\n",
            "Epoch 29/50\n",
            "118/118 [==============================] - 0s 4ms/step - loss: 0.2410 - val_loss: 0.4011\n",
            "Epoch 30/50\n",
            "118/118 [==============================] - 0s 3ms/step - loss: 0.2345 - val_loss: 0.3469\n",
            "Epoch 31/50\n",
            "118/118 [==============================] - 0s 3ms/step - loss: 0.2349 - val_loss: 0.3639\n",
            "Epoch 32/50\n",
            "118/118 [==============================] - 0s 3ms/step - loss: 0.2302 - val_loss: 0.3415\n",
            "Epoch 33/50\n",
            "118/118 [==============================] - 0s 3ms/step - loss: 0.2277 - val_loss: 0.3509\n",
            "Epoch 34/50\n",
            "118/118 [==============================] - 0s 4ms/step - loss: 0.2226 - val_loss: 0.3427\n",
            "Epoch 35/50\n",
            "118/118 [==============================] - 0s 3ms/step - loss: 0.2196 - val_loss: 0.3479\n",
            "Epoch 36/50\n",
            "118/118 [==============================] - 0s 3ms/step - loss: 0.2194 - val_loss: 0.3732\n",
            "Epoch 37/50\n",
            "118/118 [==============================] - 0s 3ms/step - loss: 0.2198 - val_loss: 0.3578\n",
            "Epoch 38/50\n",
            "118/118 [==============================] - 0s 3ms/step - loss: 0.2129 - val_loss: 0.3488\n",
            "Epoch 39/50\n",
            "118/118 [==============================] - 0s 4ms/step - loss: 0.2100 - val_loss: 0.3432\n",
            "Epoch 40/50\n",
            "118/118 [==============================] - 0s 4ms/step - loss: 0.2067 - val_loss: 0.3549\n",
            "Epoch 41/50\n",
            "118/118 [==============================] - 0s 4ms/step - loss: 0.2088 - val_loss: 0.3611\n",
            "Epoch 42/50\n",
            "118/118 [==============================] - 0s 3ms/step - loss: 0.2020 - val_loss: 0.3493\n",
            "Epoch 43/50\n",
            "118/118 [==============================] - 0s 3ms/step - loss: 0.2041 - val_loss: 0.3617\n",
            "Epoch 44/50\n",
            "118/118 [==============================] - 1s 6ms/step - loss: 0.1992 - val_loss: 0.3564\n",
            "Epoch 45/50\n",
            "118/118 [==============================] - 0s 3ms/step - loss: 0.1982 - val_loss: 0.3609\n",
            "Epoch 46/50\n",
            "118/118 [==============================] - 0s 4ms/step - loss: 0.1975 - val_loss: 0.3478\n",
            "Epoch 47/50\n",
            "118/118 [==============================] - 0s 4ms/step - loss: 0.1958 - val_loss: 0.3689\n",
            "Epoch 48/50\n",
            "118/118 [==============================] - 0s 3ms/step - loss: 0.1924 - val_loss: 0.3570\n",
            "Epoch 49/50\n",
            "118/118 [==============================] - 0s 3ms/step - loss: 0.1904 - val_loss: 0.3821\n",
            "Epoch 50/50\n",
            "118/118 [==============================] - 0s 4ms/step - loss: 0.1898 - val_loss: 0.3755\n"
          ]
        }
      ]
    },
    {
      "cell_type": "markdown",
      "source": [
        "### Evaluation of MLP model"
      ],
      "metadata": {
        "id": "l2CTuXKtgRBg"
      }
    },
    {
      "cell_type": "code",
      "source": [
        "plt.plot(history1.history['loss'][1:], label='Train Loss')\n",
        "plt.plot(history1.history['val_loss'][1:], label='Valid Loss')\n",
        "plt.legend()"
      ],
      "metadata": {
        "colab": {
          "base_uri": "https://localhost:8080/",
          "height": 283
        },
        "id": "KYCh1FuzgQpL",
        "outputId": "df420418-04de-490c-f0eb-3c2743192171"
      },
      "execution_count": 18,
      "outputs": [
        {
          "output_type": "execute_result",
          "data": {
            "text/plain": [
              "<matplotlib.legend.Legend at 0x7fc0024058e0>"
            ]
          },
          "metadata": {},
          "execution_count": 18
        },
        {
          "output_type": "display_data",
          "data": {
            "text/plain": [
              "<Figure size 432x288 with 1 Axes>"
            ],
            "image/png": "[encoded data removed]"
          },
          "metadata": {
            "needs_background": "light"
          }
        }
      ]
    },
    {
      "cell_type": "markdown",
      "source": [
        "----------"
      ],
      "metadata": {
        "id": "OdwZ76sTggac"
      }
    },
    {
      "cell_type": "markdown",
      "source": [
        "## FashionMNIST with CNN"
      ],
      "metadata": {
        "id": "VVCvl6ZZghTO"
      }
    },
    {
      "cell_type": "markdown",
      "source": [
        "### Data Preparation"
      ],
      "metadata": {
        "id": "jz0Fz6LuhIP7"
      }
    },
    {
      "cell_type": "code",
      "source": [
        "X_train2 = train_images.astype('float32') / 255.\n",
        "X_test2 = test_images.astype('float32') / 255.\n",
        "X_train2.shape"
      ],
      "metadata": {
        "colab": {
          "base_uri": "https://localhost:8080/"
        },
        "id": "rb_UPwScgwoy",
        "outputId": "035c3a1f-bd56-43b6-f285-1ab750466759"
      },
      "execution_count": 4,
      "outputs": [
        {
          "output_type": "execute_result",
          "data": {
            "text/plain": [
              "(60000, 28, 28)"
            ]
          },
          "metadata": {},
          "execution_count": 4
        }
      ]
    },
    {
      "cell_type": "markdown",
      "source": [
        "### Model Design"
      ],
      "metadata": {
        "id": "LTpbaeBohKXh"
      }
    },
    {
      "cell_type": "code",
      "source": [
        "inp = Input(shape=(28, 28, 1))\n",
        "x = layers.Conv2D(16, 3, activation='relu', padding='same')(inp)\n",
        "x = layers.MaxPool2D()(x)\n",
        "x = layers.Conv2D(9, 3, activation='relu', padding='same')(x)\n",
        "x = layers.MaxPool2D()(x)\n",
        "x = layers.Flatten()(x)\n",
        "x = layers.Dense(110, activation='relu')(x)\n",
        "out = layers.Dense(10, activation='softmax')(x)\n",
        "\n",
        "model_cnn = Model(inputs=inp, outputs=out)\n",
        "model_cnn.summary()"
      ],
      "metadata": {
        "colab": {
          "base_uri": "https://localhost:8080/"
        },
        "id": "xXnwiRuGhMAq",
        "outputId": "79da6731-a339-4bd7-850d-056128929774"
      },
      "execution_count": 23,
      "outputs": [
        {
          "output_type": "stream",
          "name": "stdout",
          "text": [
            "Model: \"model_8\"\n",
            "_________________________________________________________________\n",
            " Layer (type)                Output Shape              Param #   \n",
            "=================================================================\n",
            " input_9 (InputLayer)        [(None, 28, 28, 1)]       0         \n",
            "                                                                 \n",
            " conv2d_10 (Conv2D)          (None, 28, 28, 16)        160       \n",
            "                                                                 \n",
            " max_pooling2d_10 (MaxPoolin  (None, 14, 14, 16)       0         \n",
            " g2D)                                                            \n",
            "                                                                 \n",
            " conv2d_11 (Conv2D)          (None, 14, 14, 9)         1305      \n",
            "                                                                 \n",
            " max_pooling2d_11 (MaxPoolin  (None, 7, 7, 9)          0         \n",
            " g2D)                                                            \n",
            "                                                                 \n",
            " flatten_6 (Flatten)         (None, 441)               0         \n",
            "                                                                 \n",
            " dense_15 (Dense)            (None, 110)               48620     \n",
            "                                                                 \n",
            " dense_16 (Dense)            (None, 10)                1110      \n",
            "                                                                 \n",
            "=================================================================\n",
            "Total params: 51,195\n",
            "Trainable params: 51,195\n",
            "Non-trainable params: 0\n",
            "_________________________________________________________________\n"
          ]
        }
      ]
    },
    {
      "cell_type": "markdown",
      "source": [
        "### Train CNN model"
      ],
      "metadata": {
        "id": "FfdyNMQWjpx9"
      }
    },
    {
      "cell_type": "code",
      "source": [
        "model_cnn.compile(optimizer='adam', loss='sparse_categorical_crossentropy')\n",
        "history2 = model_cnn.fit(X_train2, train_labels,\n",
        "                         epochs=50, batch_size=512,\n",
        "                         validation_data=(X_test2, test_labels))"
      ],
      "metadata": {
        "colab": {
          "base_uri": "https://localhost:8080/"
        },
        "id": "O6aHMq6kj4X3",
        "outputId": "e4e4cddc-0ad0-4079-d964-886792b94e52"
      },
      "execution_count": 24,
      "outputs": [
        {
          "output_type": "stream",
          "name": "stdout",
          "text": [
            "Epoch 1/50\n",
            "118/118 [==============================] - 2s 9ms/step - loss: 0.8853 - val_loss: 0.5331\n",
            "Epoch 2/50\n",
            "118/118 [==============================] - 1s 7ms/step - loss: 0.4635 - val_loss: 0.4361\n",
            "Epoch 3/50\n",
            "118/118 [==============================] - 1s 7ms/step - loss: 0.3991 - val_loss: 0.4053\n",
            "Epoch 4/50\n",
            "118/118 [==============================] - 1s 7ms/step - loss: 0.3705 - val_loss: 0.3740\n",
            "Epoch 5/50\n",
            "118/118 [==============================] - 1s 7ms/step - loss: 0.3462 - val_loss: 0.3570\n",
            "Epoch 6/50\n",
            "118/118 [==============================] - 1s 7ms/step - loss: 0.3290 - val_loss: 0.3548\n",
            "Epoch 7/50\n",
            "118/118 [==============================] - 1s 7ms/step - loss: 0.3180 - val_loss: 0.3382\n",
            "Epoch 8/50\n",
            "118/118 [==============================] - 1s 7ms/step - loss: 0.3075 - val_loss: 0.3367\n",
            "Epoch 9/50\n",
            "118/118 [==============================] - 1s 7ms/step - loss: 0.2959 - val_loss: 0.3246\n",
            "Epoch 10/50\n",
            "118/118 [==============================] - 1s 7ms/step - loss: 0.2865 - val_loss: 0.3163\n",
            "Epoch 11/50\n",
            "118/118 [==============================] - 1s 7ms/step - loss: 0.2785 - val_loss: 0.3106\n",
            "Epoch 12/50\n",
            "118/118 [==============================] - 1s 8ms/step - loss: 0.2748 - val_loss: 0.3100\n",
            "Epoch 13/50\n",
            "118/118 [==============================] - 1s 7ms/step - loss: 0.2647 - val_loss: 0.3065\n",
            "Epoch 14/50\n",
            "118/118 [==============================] - 1s 8ms/step - loss: 0.2640 - val_loss: 0.2933\n",
            "Epoch 15/50\n",
            "118/118 [==============================] - 1s 7ms/step - loss: 0.2530 - val_loss: 0.2994\n",
            "Epoch 16/50\n",
            "118/118 [==============================] - 1s 7ms/step - loss: 0.2469 - val_loss: 0.3063\n",
            "Epoch 17/50\n",
            "118/118 [==============================] - 1s 7ms/step - loss: 0.2443 - val_loss: 0.2934\n",
            "Epoch 18/50\n",
            "118/118 [==============================] - 1s 7ms/step - loss: 0.2438 - val_loss: 0.2845\n",
            "Epoch 19/50\n",
            "118/118 [==============================] - 1s 7ms/step - loss: 0.2355 - val_loss: 0.2772\n",
            "Epoch 20/50\n",
            "118/118 [==============================] - 1s 8ms/step - loss: 0.2318 - val_loss: 0.2811\n",
            "Epoch 21/50\n",
            "118/118 [==============================] - 1s 7ms/step - loss: 0.2257 - val_loss: 0.2837\n",
            "Epoch 22/50\n",
            "118/118 [==============================] - 1s 7ms/step - loss: 0.2229 - val_loss: 0.2826\n",
            "Epoch 23/50\n",
            "118/118 [==============================] - 1s 7ms/step - loss: 0.2170 - val_loss: 0.2741\n",
            "Epoch 24/50\n",
            "118/118 [==============================] - 1s 7ms/step - loss: 0.2160 - val_loss: 0.2720\n",
            "Epoch 25/50\n",
            "118/118 [==============================] - 1s 9ms/step - loss: 0.2110 - val_loss: 0.2725\n",
            "Epoch 26/50\n",
            "118/118 [==============================] - 1s 8ms/step - loss: 0.2076 - val_loss: 0.2669\n",
            "Epoch 27/50\n",
            "118/118 [==============================] - 1s 9ms/step - loss: 0.2058 - val_loss: 0.2839\n",
            "Epoch 28/50\n",
            "118/118 [==============================] - 1s 7ms/step - loss: 0.2025 - val_loss: 0.2600\n",
            "Epoch 29/50\n",
            "118/118 [==============================] - 1s 7ms/step - loss: 0.2019 - val_loss: 0.2701\n",
            "Epoch 30/50\n",
            "118/118 [==============================] - 1s 7ms/step - loss: 0.1954 - val_loss: 0.2680\n",
            "Epoch 31/50\n",
            "118/118 [==============================] - 1s 7ms/step - loss: 0.1909 - val_loss: 0.2645\n",
            "Epoch 32/50\n",
            "118/118 [==============================] - 1s 7ms/step - loss: 0.1897 - val_loss: 0.2669\n",
            "Epoch 33/50\n",
            "118/118 [==============================] - 1s 7ms/step - loss: 0.1885 - val_loss: 0.2638\n",
            "Epoch 34/50\n",
            "118/118 [==============================] - 1s 7ms/step - loss: 0.1858 - val_loss: 0.2811\n",
            "Epoch 35/50\n",
            "118/118 [==============================] - 1s 7ms/step - loss: 0.1849 - val_loss: 0.2599\n",
            "Epoch 36/50\n",
            "118/118 [==============================] - 1s 7ms/step - loss: 0.1838 - val_loss: 0.2598\n",
            "Epoch 37/50\n",
            "118/118 [==============================] - 1s 7ms/step - loss: 0.1787 - val_loss: 0.2627\n",
            "Epoch 38/50\n",
            "118/118 [==============================] - 1s 7ms/step - loss: 0.1738 - val_loss: 0.2602\n",
            "Epoch 39/50\n",
            "118/118 [==============================] - 1s 11ms/step - loss: 0.1725 - val_loss: 0.2611\n",
            "Epoch 40/50\n",
            "118/118 [==============================] - 1s 11ms/step - loss: 0.1713 - val_loss: 0.2579\n",
            "Epoch 41/50\n",
            "118/118 [==============================] - 1s 11ms/step - loss: 0.1693 - val_loss: 0.2553\n",
            "Epoch 42/50\n",
            "118/118 [==============================] - 1s 9ms/step - loss: 0.1677 - val_loss: 0.2649\n",
            "Epoch 43/50\n",
            "118/118 [==============================] - 1s 10ms/step - loss: 0.1657 - val_loss: 0.2608\n",
            "Epoch 44/50\n",
            "118/118 [==============================] - 1s 7ms/step - loss: 0.1639 - val_loss: 0.2604\n",
            "Epoch 45/50\n",
            "118/118 [==============================] - 1s 7ms/step - loss: 0.1569 - val_loss: 0.2726\n",
            "Epoch 46/50\n",
            "118/118 [==============================] - 1s 7ms/step - loss: 0.1569 - val_loss: 0.2550\n",
            "Epoch 47/50\n",
            "118/118 [==============================] - 1s 8ms/step - loss: 0.1537 - val_loss: 0.2648\n",
            "Epoch 48/50\n",
            "118/118 [==============================] - 1s 8ms/step - loss: 0.1556 - val_loss: 0.2559\n",
            "Epoch 49/50\n",
            "118/118 [==============================] - 1s 7ms/step - loss: 0.1523 - val_loss: 0.2622\n",
            "Epoch 50/50\n",
            "118/118 [==============================] - 1s 7ms/step - loss: 0.1471 - val_loss: 0.2590\n"
          ]
        }
      ]
    },
    {
      "cell_type": "markdown",
      "source": [
        "### Evaluation of CNN model"
      ],
      "metadata": {
        "id": "MtkL_AlFlU9l"
      }
    },
    {
      "cell_type": "code",
      "source": [
        "plt.plot(history2.history['loss'][1:], label='Train Loss')\n",
        "plt.plot(history2.history['val_loss'][1:], label='Valid Loss')\n",
        "plt.legend()"
      ],
      "metadata": {
        "colab": {
          "base_uri": "https://localhost:8080/",
          "height": 283
        },
        "id": "4MVj3DEElaak",
        "outputId": "2cdcbe6f-d361-4b64-c513-35aa2c76df2b"
      },
      "execution_count": 25,
      "outputs": [
        {
          "output_type": "execute_result",
          "data": {
            "text/plain": [
              "<matplotlib.legend.Legend at 0x7fc0024d5340>"
            ]
          },
          "metadata": {},
          "execution_count": 25
        },
        {
          "output_type": "display_data",
          "data": {
            "text/plain": [
              "<Figure size 432x288 with 1 Axes>"
            ],
            "image/png": "[encoded data removed]"
          },
          "metadata": {
            "needs_background": "light"
          }
        }
      ]
    },
    {
      "cell_type": "markdown",
      "source": [
        "## Prediction"
      ],
      "metadata": {
        "id": "d21zZP8snuUy"
      }
    },
    {
      "cell_type": "code",
      "source": [
        "pred_mlp = model_mlp.predict(X_test1)\n",
        "pred_cnn = model_cnn.predict(X_test2)"
      ],
      "metadata": {
        "colab": {
          "base_uri": "https://localhost:8080/"
        },
        "id": "BMFSeEZDnwg1",
        "outputId": "a6c376a3-131f-4092-8373-e47d69a1b019"
      },
      "execution_count": 26,
      "outputs": [
        {
          "output_type": "stream",
          "name": "stdout",
          "text": [
            "313/313 [==============================] - 0s 1ms/step\n",
            "313/313 [==============================] - 1s 2ms/step\n"
          ]
        }
      ]
    },
    {
      "cell_type": "code",
      "source": [
        "import numpy as np\n",
        "\n",
        "fig, axes = plt.subplots(1, 7, figsize=(25,2))\n",
        "for i in range(len(axes)):\n",
        "  axes[i].imshow(test_images[i], cmap='gray')\n",
        "  axes[i].set_axis_off()\n",
        "\n",
        "  title = f'True: {test_labels[i]} | P_mlp: {np.argmax(pred_mlp[i])} | P_cnn: {np.argmax(pred_cnn[i])}'\n",
        "  axes[i].set_title(title)"
      ],
      "metadata": {
        "colab": {
          "base_uri": "https://localhost:8080/",
          "height": 133
        },
        "id": "Jdx4do-loCmW",
        "outputId": "189b5ccb-6a47-4c43-cb1c-7f8e09385960"
      },
      "execution_count": 36,
      "outputs": [
        {
          "output_type": "display_data",
          "data": {
            "text/plain": [
              "<Figure size 1800x144 with 7 Axes>"
            ],
            "image/png": "[encoded data removed]"
          },
          "metadata": {
            "needs_background": "light"
          }
        }
      ]
    }
  ]
}