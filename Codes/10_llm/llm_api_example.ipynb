{
 "cells": [
  {
   "cell_type": "code",
   "execution_count": 1,
   "id": "71c25421-b591-4128-a566-32c694c00aed",
   "metadata": {},
   "outputs": [],
   "source": [
    "# !pip install openai python-dotenv langchain-openai"
   ]
  },
  {
   "cell_type": "code",
   "execution_count": 4,
   "id": "539d9268-7b00-4da9-9097-a583ff903ffd",
   "metadata": {},
   "outputs": [],
   "source": [
    "import os\n",
    "from openai import OpenAI\n",
    "from dotenv import load_dotenv"
   ]
  },
  {
   "cell_type": "code",
   "execution_count": 5,
   "id": "11c9c32a-c72a-4eef-ac64-f059b0d5861c",
   "metadata": {},
   "outputs": [
    {
     "data": {
      "text/plain": [
       "True"
      ]
     },
     "execution_count": 5,
     "metadata": {},
     "output_type": "execute_result"
    }
   ],
   "source": [
    "load_dotenv()"
   ]
  },
  {
   "cell_type": "code",
   "execution_count": 6,
   "id": "b6e38bf3-44f7-4d62-a973-ecd15c28b795",
   "metadata": {},
   "outputs": [
    {
     "data": {
      "text/plain": [
       "'http://localhost:1234/v1'"
      ]
     },
     "execution_count": 6,
     "metadata": {},
     "output_type": "execute_result"
    }
   ],
   "source": [
    "os.getenv(\"BASE_URL\")"
   ]
  },
  {
   "cell_type": "code",
   "execution_count": 7,
   "id": "7e56892d-7db6-431f-b2ee-a91e02eb0893",
   "metadata": {},
   "outputs": [],
   "source": [
    "client = OpenAI(api_key=os.getenv(\"OPENAI_API_KEY\"),\n",
    "                base_url=os.getenv(\"BASE_URL\"))"
   ]
  },
  {
   "cell_type": "code",
   "execution_count": 8,
   "id": "802b6ee8-e8bb-4276-b00f-59247fd7f893",
   "metadata": {},
   "outputs": [],
   "source": [
    "response = client.chat.completions.create(\n",
    "    model=os.getenv(\"LLM\"),\n",
    "    messages=[{\"role\": \"user\", \"content\": \"Who are you?\"}]\n",
    ")"
   ]
  },
  {
   "cell_type": "code",
   "execution_count": 9,
   "id": "c89a4008-4ec2-4484-aecb-4ec290bdb6d3",
   "metadata": {},
   "outputs": [
    {
     "data": {
      "text/plain": [
       "\"Hello! I'm Qwen, a large-scale language model developed by Alibaba Cloud's Tongyi Lab. I can assist you with a wide range of tasks, such as answering questions, writing stories, creating documents, coding, and more. How can I help you today? 😊\""
      ]
     },
     "execution_count": 9,
     "metadata": {},
     "output_type": "execute_result"
    }
   ],
   "source": [
    "response.choices[0].message.content"
   ]
  },
  {
   "cell_type": "markdown",
   "id": "59cc6df9-d39f-450e-8b06-97b08eb0b88f",
   "metadata": {},
   "source": [
    "## Using LangChain"
   ]
  },
  {
   "cell_type": "code",
   "execution_count": 10,
   "id": "e2bfb2cf-d6ae-43ea-8a00-9fcf52b0e02b",
   "metadata": {},
   "outputs": [],
   "source": [
    "from langchain_openai import ChatOpenAI\n",
    "from langchain.chat_models import init_chat_model"
   ]
  },
  {
   "cell_type": "code",
   "execution_count": 11,
   "id": "949630c6-b2a8-4567-aa6e-8d1668ee0dbb",
   "metadata": {},
   "outputs": [],
   "source": [
    "# Initialize ChatOpenAI with LM Studio base URL\n",
    "llm = ChatOpenAI(\n",
    "    base_url=\"http://localhost:1234/v1\",\n",
    "    api_key=\"lm-studio\",  # any non-empty string works\n",
    "    model=\"qwen/qwen3-4b-2507\",  # your loaded model name\n",
    "    temperature=0.7,\n",
    ")"
   ]
  },
  {
   "cell_type": "code",
   "execution_count": 12,
   "id": "828bdd46-6e23-4d6c-a395-7b3162390c71",
   "metadata": {},
   "outputs": [],
   "source": [
    "model = init_chat_model(\n",
    "        model=\"openai:qwen/qwen3-4b-2507\",\n",
    "        base_url=\"http://localhost:1234/v1\",\n",
    "        api_key=\"lm-studio\")"
   ]
  },
  {
   "cell_type": "code",
   "execution_count": 13,
   "id": "b48c363a-8652-4e4b-9972-3c11d5bbccb7",
   "metadata": {},
   "outputs": [],
   "source": [
    "response1 = llm.invoke(\"Who are you?\")"
   ]
  },
  {
   "cell_type": "code",
   "execution_count": 14,
   "id": "f3f3d2dd-e49e-4d55-a842-d68c744a218a",
   "metadata": {},
   "outputs": [],
   "source": [
    "response2 = model.invoke(\"Who are you?\")"
   ]
  },
  {
   "cell_type": "code",
   "execution_count": 16,
   "id": "a5fb1d35-62c5-4412-99e0-c90835558307",
   "metadata": {},
   "outputs": [
    {
     "data": {
      "text/plain": [
       "\"Hello! I'm Qwen, a large-scale language model independently developed by the Tongyi Lab under Alibaba Group. I'm capable of answering questions, creating text such as stories, official documents, emails, scripts, and more, as well as logical reasoning, programming, and other tasks. I can also express opinions and play games. I'm here to assist you with whatever you need! 😊\""
      ]
     },
     "execution_count": 16,
     "metadata": {},
     "output_type": "execute_result"
    }
   ],
   "source": [
    "response1.content"
   ]
  },
  {
   "cell_type": "code",
   "execution_count": 17,
   "id": "cc110c4c-f637-4828-a634-997a024211bc",
   "metadata": {},
   "outputs": [
    {
     "data": {
      "text/plain": [
       "\"Hello! I'm Qwen, a large-scale language model independently developed by the Tongyi Lab under Alibaba Group. I can assist you with answering questions, writing stories, creating documents, coding, and more. How can I help you today? 😊\""
      ]
     },
     "execution_count": 17,
     "metadata": {},
     "output_type": "execute_result"
    }
   ],
   "source": [
    "response2.content"
   ]
  },
  {
   "cell_type": "code",
   "execution_count": null,
   "id": "5be20527-d0fb-427b-a08d-8a350347d438",
   "metadata": {},
   "outputs": [],
   "source": []
  }
 ],
 "metadata": {
  "kernelspec": {
   "display_name": "Python 3 (ipykernel)",
   "language": "python",
   "name": "python3"
  },
  "language_info": {
   "codemirror_mode": {
    "name": "ipython",
    "version": 3
   },
   "file_extension": ".py",
   "mimetype": "text/x-python",
   "name": "python",
   "nbconvert_exporter": "python",
   "pygments_lexer": "ipython3",
   "version": "3.12.12"
  }
 },
 "nbformat": 4,
 "nbformat_minor": 5
}
