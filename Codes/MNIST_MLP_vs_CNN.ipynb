{
  "nbformat": 4,
  "nbformat_minor": 0,
  "metadata": {
    "colab": {
      "name": "Untitled2.ipynb",
      "provenance": [],
      "collapsed_sections": []
    },
    "kernelspec": {
      "name": "python3",
      "display_name": "Python 3"
    },
    "language_info": {
      "name": "python"
    },
    "accelerator": "GPU"
  },
  "cells": [
    {
      "cell_type": "code",
      "execution_count": 29,
      "metadata": {
        "id": "GPleeD6U3-Ur"
      },
      "outputs": [],
      "source": [
        "from tensorflow import keras\n",
        "from tensorflow.keras import layers\n",
        "from tensorflow.keras import regularizers\n",
        "from tensorflow.keras.datasets import mnist"
      ]
    },
    {
      "cell_type": "markdown",
      "source": [
        "## Pepare Dataset"
      ],
      "metadata": {
        "id": "Dp3Z1-p06H7U"
      }
    },
    {
      "cell_type": "code",
      "source": [
        "(train_images, train_labels), (test_images, test_labels) = mnist.load_data()\n",
        "\n",
        "train_images = train_images.astype('float32') / 255\n",
        "test_images = test_images.astype('float32') / 255\n",
        "\n",
        "train_images_mlp = train_images.reshape((60000, 28*28))\n",
        "test_images_mlp = test_images.reshape((10000, 28*28))"
      ],
      "metadata": {
        "id": "RtzOppNp5X9p"
      },
      "execution_count": 4,
      "outputs": []
    },
    {
      "cell_type": "markdown",
      "source": [
        "## MLP Model"
      ],
      "metadata": {
        "id": "htSAOnW56F5F"
      }
    },
    {
      "cell_type": "code",
      "source": [
        "# Base model\n",
        "inputs = layers.Input(shape=(784,))\n",
        "x = layers.Dense(128, activation='relu')(inputs)\n",
        "x = layers.Dense(64, activation='relu')(x)\n",
        "x = layers.Dense(32, activation='relu')(x)\n",
        "outputs = layers.Dense(10, activation='softmax')(x)\n",
        "\n",
        "model_mlp = keras.Model(inputs=inputs, outputs=outputs)\n",
        "model_mlp.compile(optimizer=\"rmsprop\",\n",
        "                  loss=\"sparse_categorical_crossentropy\",\n",
        "                  metrics=[\"accuracy\"])\n",
        "\n",
        "model_mlp.summary()"
      ],
      "metadata": {
        "id": "lFl9kl1YM1vg"
      },
      "execution_count": null,
      "outputs": []
    },
    {
      "cell_type": "code",
      "source": [
        "# Smaller model\n",
        "# Added L2 regularizer\n",
        "# Added Dropout layers\n",
        "from tensorflow.keras import optimizers\n",
        "\n",
        "inputs = layers.Input(shape=(784,))\n",
        "x = layers.Dense(110, activation='relu', kernel_regularizer=regularizers.l2(0.002))(inputs)\n",
        "x = layers.Dropout(0.2)(x)\n",
        "x = layers.Dense(64, activation='relu', kernel_regularizer=regularizers.l2(0.002))(x)\n",
        "x = layers.Dropout(0.2)(x)\n",
        "x = layers.Dense(32, activation='relu', kernel_regularizer=regularizers.l2(0.002))(x)\n",
        "x = layers.Dropout(0.2)(x)\n",
        "outputs = layers.Dense(10, activation='softmax')(x)\n",
        "\n",
        "model_mlp_2= keras.Model(inputs=inputs, outputs=outputs)\n",
        "model_mlp_2.compile(optimizer=optimizers.RMSprop(learning_rate=0.01),\n",
        "                  loss=\"sparse_categorical_crossentropy\",\n",
        "                  metrics=[\"accuracy\"])\n",
        "\n",
        "model_mlp.summary()"
      ],
      "metadata": {
        "colab": {
          "base_uri": "https://localhost:8080/"
        },
        "id": "_fgaK8GY6FnZ",
        "outputId": "f8453ba0-29fd-4170-f842-dafb276520e3"
      },
      "execution_count": 40,
      "outputs": [
        {
          "output_type": "stream",
          "name": "stdout",
          "text": [
            "Model: \"model_8\"\n",
            "_________________________________________________________________\n",
            " Layer (type)                Output Shape              Param #   \n",
            "=================================================================\n",
            " input_9 (InputLayer)        [(None, 784)]             0         \n",
            "                                                                 \n",
            " dense_26 (Dense)            (None, 110)               86350     \n",
            "                                                                 \n",
            " dropout_3 (Dropout)         (None, 110)               0         \n",
            "                                                                 \n",
            " dense_27 (Dense)            (None, 60)                6660      \n",
            "                                                                 \n",
            " dropout_4 (Dropout)         (None, 60)                0         \n",
            "                                                                 \n",
            " dense_28 (Dense)            (None, 30)                1830      \n",
            "                                                                 \n",
            " dropout_5 (Dropout)         (None, 30)                0         \n",
            "                                                                 \n",
            " dense_29 (Dense)            (None, 10)                310       \n",
            "                                                                 \n",
            "=================================================================\n",
            "Total params: 95,150\n",
            "Trainable params: 95,150\n",
            "Non-trainable params: 0\n",
            "_________________________________________________________________\n"
          ]
        }
      ]
    },
    {
      "cell_type": "code",
      "source": [
        "keras.utils.plot_model(model_mlp, \"model_mlp.png\", show_shapes=True)"
      ],
      "metadata": {
        "id": "Gwp9-OeQ-PpJ"
      },
      "execution_count": null,
      "outputs": []
    },
    {
      "cell_type": "code",
      "source": [
        "model_mlp.save(\"model_mlp.keras\")"
      ],
      "metadata": {
        "id": "dIqT8PjJ-31s"
      },
      "execution_count": 10,
      "outputs": []
    },
    {
      "cell_type": "markdown",
      "source": [
        "## CNN Model"
      ],
      "metadata": {
        "id": "O-FdMPGj8Kbh"
      }
    },
    {
      "cell_type": "code",
      "source": [
        "inputs = keras.Input(shape=(28, 28, 1))\n",
        "x = layers.Conv2D(filters=32, kernel_size=3, activation='relu')(inputs)\n",
        "x = layers.MaxPooling2D()(x)\n",
        "x = layers.Conv2D(filters=64, kernel_size=3, activation='relu')(x)\n",
        "x = layers.MaxPooling2D()(x)\n",
        "x = layers.Conv2D(filters=128, kernel_size=3, activation='relu')(x)\n",
        "x = layers.Flatten()(x)\n",
        "outputs = layers.Dense(10, activation=\"softmax\")(x)\n",
        "\n",
        "model_cnn = keras.Model(inputs=inputs, outputs=outputs)\n",
        "model_cnn.compile(optimizer=\"rmsprop\",\n",
        "                  loss=\"sparse_categorical_crossentropy\",\n",
        "                  metrics=[\"accuracy\"])\n",
        "\n",
        "model_cnn.summary()"
      ],
      "metadata": {
        "colab": {
          "base_uri": "https://localhost:8080/"
        },
        "id": "A7cwowFA8MGi",
        "outputId": "12f3c095-79e2-4893-965b-5a4563d4160e"
      },
      "execution_count": 20,
      "outputs": [
        {
          "output_type": "stream",
          "name": "stdout",
          "text": [
            "Model: \"model_2\"\n",
            "_________________________________________________________________\n",
            " Layer (type)                Output Shape              Param #   \n",
            "=================================================================\n",
            " input_3 (InputLayer)        [(None, 28, 28, 1)]       0         \n",
            "                                                                 \n",
            " conv2d_3 (Conv2D)           (None, 26, 26, 32)        320       \n",
            "                                                                 \n",
            " max_pooling2d_2 (MaxPooling  (None, 13, 13, 32)       0         \n",
            " 2D)                                                             \n",
            "                                                                 \n",
            " conv2d_4 (Conv2D)           (None, 11, 11, 64)        18496     \n",
            "                                                                 \n",
            " max_pooling2d_3 (MaxPooling  (None, 5, 5, 64)         0         \n",
            " 2D)                                                             \n",
            "                                                                 \n",
            " conv2d_5 (Conv2D)           (None, 3, 3, 128)         73856     \n",
            "                                                                 \n",
            " flatten_1 (Flatten)         (None, 1152)              0         \n",
            "                                                                 \n",
            " dense_5 (Dense)             (None, 10)                11530     \n",
            "                                                                 \n",
            "=================================================================\n",
            "Total params: 104,202\n",
            "Trainable params: 104,202\n",
            "Non-trainable params: 0\n",
            "_________________________________________________________________\n"
          ]
        }
      ]
    },
    {
      "cell_type": "code",
      "source": [
        "keras.utils.plot_model(model_cnn, \"model_cnn.png\", show_shapes=True)"
      ],
      "metadata": {
        "id": "aKMfD44l-jdL"
      },
      "execution_count": null,
      "outputs": []
    },
    {
      "cell_type": "code",
      "source": [
        "model_cnn.save(\"model_cnn.keras\")"
      ],
      "metadata": {
        "id": "864MWMZk_HSH"
      },
      "execution_count": 11,
      "outputs": []
    },
    {
      "cell_type": "markdown",
      "source": [
        "## Train MLP Model"
      ],
      "metadata": {
        "id": "udGusgR_AAV8"
      }
    },
    {
      "cell_type": "code",
      "source": [
        "history_mlp = model_mlp_2.fit(train_images_mlp, train_labels,\n",
        "                                     epochs=15, batch_size=128,\n",
        "                                     validation_data=(test_images_mlp, test_labels))"
      ],
      "metadata": {
        "colab": {
          "base_uri": "https://localhost:8080/"
        },
        "id": "h_o6s4jOAD69",
        "outputId": "93f0c7e3-594a-4af5-bf05-cd68344d756b"
      },
      "execution_count": 41,
      "outputs": [
        {
          "output_type": "stream",
          "name": "stdout",
          "text": [
            "Epoch 1/15\n",
            "469/469 [==============================] - 4s 6ms/step - loss: 0.9687 - accuracy: 0.8066 - val_loss: 0.6785 - val_accuracy: 0.8847\n",
            "Epoch 2/15\n",
            "469/469 [==============================] - 3s 6ms/step - loss: 0.8083 - accuracy: 0.8569 - val_loss: 0.6010 - val_accuracy: 0.9126\n",
            "Epoch 3/15\n",
            "469/469 [==============================] - 3s 6ms/step - loss: 0.7917 - accuracy: 0.8625 - val_loss: 0.7344 - val_accuracy: 0.8656\n",
            "Epoch 4/15\n",
            "469/469 [==============================] - 3s 6ms/step - loss: 0.7803 - accuracy: 0.8630 - val_loss: 0.7326 - val_accuracy: 0.8689\n",
            "Epoch 5/15\n",
            "469/469 [==============================] - 3s 6ms/step - loss: 0.7816 - accuracy: 0.8623 - val_loss: 0.6942 - val_accuracy: 0.8880\n",
            "Epoch 6/15\n",
            "469/469 [==============================] - 3s 6ms/step - loss: 0.7773 - accuracy: 0.8651 - val_loss: 0.6096 - val_accuracy: 0.9047\n",
            "Epoch 7/15\n",
            "469/469 [==============================] - 3s 6ms/step - loss: 0.7708 - accuracy: 0.8649 - val_loss: 0.6234 - val_accuracy: 0.9021\n",
            "Epoch 8/15\n",
            "469/469 [==============================] - 3s 6ms/step - loss: 0.7808 - accuracy: 0.8622 - val_loss: 0.5335 - val_accuracy: 0.9309\n",
            "Epoch 9/15\n",
            "469/469 [==============================] - 3s 6ms/step - loss: 0.7738 - accuracy: 0.8628 - val_loss: 0.5614 - val_accuracy: 0.9207\n",
            "Epoch 10/15\n",
            "469/469 [==============================] - 3s 5ms/step - loss: 0.7741 - accuracy: 0.8620 - val_loss: 0.7410 - val_accuracy: 0.8763\n",
            "Epoch 11/15\n",
            "469/469 [==============================] - 3s 6ms/step - loss: 0.7717 - accuracy: 0.8636 - val_loss: 0.5363 - val_accuracy: 0.9253\n",
            "Epoch 12/15\n",
            "469/469 [==============================] - 3s 6ms/step - loss: 0.7776 - accuracy: 0.8626 - val_loss: 0.5462 - val_accuracy: 0.9202\n",
            "Epoch 13/15\n",
            "469/469 [==============================] - 3s 6ms/step - loss: 0.7635 - accuracy: 0.8661 - val_loss: 0.6276 - val_accuracy: 0.8990\n",
            "Epoch 14/15\n",
            "469/469 [==============================] - 3s 6ms/step - loss: 0.7710 - accuracy: 0.8604 - val_loss: 0.9272 - val_accuracy: 0.8270\n",
            "Epoch 15/15\n",
            "469/469 [==============================] - 3s 6ms/step - loss: 0.7747 - accuracy: 0.8612 - val_loss: 0.5968 - val_accuracy: 0.9053\n"
          ]
        }
      ]
    },
    {
      "cell_type": "markdown",
      "source": [
        "## Train CNN Model"
      ],
      "metadata": {
        "id": "7Trm4oHuAlvk"
      }
    },
    {
      "cell_type": "code",
      "source": [
        "history_cnn = model_cnn.fit(train_images, train_labels,\n",
        "                            epochs=15, batch_size=128,\n",
        "                            validation_data=(test_images, test_labels))"
      ],
      "metadata": {
        "colab": {
          "base_uri": "https://localhost:8080/"
        },
        "id": "Rv762wmkAj3O",
        "outputId": "9d7ffccb-cbcb-4750-8f8a-a9dda1b6b01c"
      },
      "execution_count": 21,
      "outputs": [
        {
          "output_type": "stream",
          "name": "stdout",
          "text": [
            "Epoch 1/15\n",
            "469/469 [==============================] - 7s 13ms/step - loss: 0.2139 - accuracy: 0.9343 - val_loss: 0.0545 - val_accuracy: 0.9815\n",
            "Epoch 2/15\n",
            "469/469 [==============================] - 6s 12ms/step - loss: 0.0518 - accuracy: 0.9837 - val_loss: 0.0457 - val_accuracy: 0.9862\n",
            "Epoch 3/15\n",
            "469/469 [==============================] - 6s 12ms/step - loss: 0.0350 - accuracy: 0.9886 - val_loss: 0.0301 - val_accuracy: 0.9896\n",
            "Epoch 4/15\n",
            "469/469 [==============================] - 6s 13ms/step - loss: 0.0267 - accuracy: 0.9919 - val_loss: 0.0301 - val_accuracy: 0.9909\n",
            "Epoch 5/15\n",
            "469/469 [==============================] - 6s 12ms/step - loss: 0.0201 - accuracy: 0.9936 - val_loss: 0.0274 - val_accuracy: 0.9908\n",
            "Epoch 6/15\n",
            "469/469 [==============================] - 6s 12ms/step - loss: 0.0163 - accuracy: 0.9950 - val_loss: 0.0247 - val_accuracy: 0.9921\n",
            "Epoch 7/15\n",
            "469/469 [==============================] - 6s 12ms/step - loss: 0.0126 - accuracy: 0.9961 - val_loss: 0.0279 - val_accuracy: 0.9916\n",
            "Epoch 8/15\n",
            "469/469 [==============================] - 5s 11ms/step - loss: 0.0101 - accuracy: 0.9967 - val_loss: 0.0312 - val_accuracy: 0.9908\n",
            "Epoch 9/15\n",
            "469/469 [==============================] - 5s 12ms/step - loss: 0.0085 - accuracy: 0.9976 - val_loss: 0.0283 - val_accuracy: 0.9926\n",
            "Epoch 10/15\n",
            "469/469 [==============================] - 6s 12ms/step - loss: 0.0074 - accuracy: 0.9977 - val_loss: 0.0304 - val_accuracy: 0.9919\n",
            "Epoch 11/15\n",
            "469/469 [==============================] - 6s 12ms/step - loss: 0.0059 - accuracy: 0.9982 - val_loss: 0.0317 - val_accuracy: 0.9925\n",
            "Epoch 12/15\n",
            "469/469 [==============================] - 6s 12ms/step - loss: 0.0045 - accuracy: 0.9985 - val_loss: 0.0354 - val_accuracy: 0.9931\n",
            "Epoch 13/15\n",
            "469/469 [==============================] - 6s 12ms/step - loss: 0.0037 - accuracy: 0.9988 - val_loss: 0.0354 - val_accuracy: 0.9925\n",
            "Epoch 14/15\n",
            "469/469 [==============================] - 5s 11ms/step - loss: 0.0035 - accuracy: 0.9989 - val_loss: 0.0346 - val_accuracy: 0.9930\n",
            "Epoch 15/15\n",
            "469/469 [==============================] - 6s 12ms/step - loss: 0.0029 - accuracy: 0.9992 - val_loss: 0.0351 - val_accuracy: 0.9931\n"
          ]
        }
      ]
    },
    {
      "cell_type": "code",
      "source": [
        "model_mlp.evaluate(test_images_mlp, test_labels)"
      ],
      "metadata": {
        "colab": {
          "base_uri": "https://localhost:8080/"
        },
        "id": "YMtnLsn7C7Ct",
        "outputId": "f5e4d808-f281-4bf5-db79-97472705235b"
      },
      "execution_count": 14,
      "outputs": [
        {
          "output_type": "stream",
          "name": "stdout",
          "text": [
            "313/313 [==============================] - 1s 3ms/step - loss: 0.0961 - accuracy: 0.0979\n"
          ]
        },
        {
          "output_type": "execute_result",
          "data": {
            "text/plain": [
              "[0.09611277282238007, 0.09790000319480896]"
            ]
          },
          "metadata": {},
          "execution_count": 14
        }
      ]
    },
    {
      "cell_type": "code",
      "source": [
        "model_cnn.evaluate(test_images, test_labels)"
      ],
      "metadata": {
        "colab": {
          "base_uri": "https://localhost:8080/"
        },
        "id": "SE2_izEvDA1N",
        "outputId": "26f35aac-412c-473b-8656-520e4803f1b4"
      },
      "execution_count": 15,
      "outputs": [
        {
          "output_type": "stream",
          "name": "stdout",
          "text": [
            "313/313 [==============================] - 1s 4ms/step - loss: 0.0287 - accuracy: 0.0981\n"
          ]
        },
        {
          "output_type": "execute_result",
          "data": {
            "text/plain": [
              "[0.0286877378821373, 0.09809999912977219]"
            ]
          },
          "metadata": {},
          "execution_count": 15
        }
      ]
    },
    {
      "cell_type": "code",
      "source": [
        "import matplotlib.pyplot as plt\n",
        "\n",
        "fig, ax = plt.subplots(1,2,figsize=(10,3))\n",
        "\n",
        "ax[0].plot(history_mlp.history['accuracy'], label=\"MLP accuracy\")\n",
        "ax[0].plot(history_cnn.history['accuracy'], label=\"CNN accuracy\")\n",
        "ax[0].legend()\n",
        "\n",
        "ax[1].plot(history_mlp.history['val_accuracy'], label=\"MLP val accuracy\")\n",
        "ax[1].plot(history_cnn.history['val_accuracy'], label=\"CNN val accuracy\")\n",
        "ax[1].legend()"
      ],
      "metadata": {
        "colab": {
          "base_uri": "https://localhost:8080/",
          "height": 231
        },
        "id": "qzkCOpJ6DLVX",
        "outputId": "51fbae66-7098-421d-b797-b2a1773819ef"
      },
      "execution_count": 38,
      "outputs": [
        {
          "output_type": "execute_result",
          "data": {
            "text/plain": [
              "<matplotlib.legend.Legend at 0x7f8e9340c650>"
            ]
          },
          "metadata": {},
          "execution_count": 38
        },
        {
          "output_type": "display_data",
          "data": {
            "text/plain": [
              "<Figure size 720x216 with 2 Axes>"
            ],
            "image/png": "[encoded data removed]"
          },
          "metadata": {
            "needs_background": "light"
          }
        }
      ]
    },
    {
      "cell_type": "code",
      "source": [
        "fig, ax = plt.subplots(1,2,figsize=(10,3))\n",
        "\n",
        "ax[0].plot(history_mlp.history['loss'], label=\"MLP loss\")\n",
        "# ax[0].plot(history_cnn.history['loss'], label=\"CNN loss\")\n",
        "ax[0].legend()\n",
        "\n",
        "ax[1].plot(history_mlp.history['val_loss'], label=\"MLP val loss\")\n",
        "# ax[1].plot(history_cnn.history['val_loss'], label=\"CNN val loss\")\n",
        "ax[1].legend()"
      ],
      "metadata": {
        "colab": {
          "base_uri": "https://localhost:8080/",
          "height": 228
        },
        "id": "PDlIW9U8FrQK",
        "outputId": "c256325c-65d6-4c3d-d3ea-d351717d93e9"
      },
      "execution_count": 39,
      "outputs": [
        {
          "output_type": "execute_result",
          "data": {
            "text/plain": [
              "<matplotlib.legend.Legend at 0x7f8f0813de50>"
            ]
          },
          "metadata": {},
          "execution_count": 39
        },
        {
          "output_type": "display_data",
          "data": {
            "text/plain": [
              "<Figure size 720x216 with 2 Axes>"
            ],
            "image/png": "[encoded data removed]"
          },
          "metadata": {
            "needs_background": "light"
          }
        }
      ]
    }
  ]
}